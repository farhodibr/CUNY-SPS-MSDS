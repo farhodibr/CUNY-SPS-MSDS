{
 "cells": [
  {
   "cell_type": "markdown",
   "id": "63844bfd",
   "metadata": {},
   "source": [
    "## DATA 608 Project 1 Infrastructure Investment & Jobs Act Funding Allocation\n",
    "#### Author: Farhod Ibragimov\n",
    "\n",
    "In this project I analyze the allocation of the Infrastructure Investment and Jobs Act funding by State and Territory.\n",
    "\n",
    "The main goal to answer the following questions:\n",
    "\n",
    "Is the allocation equitable based on the population of each of the States and Territories, or is bias apparent?\n",
    "\n",
    "Does the allocation favor the political interests of the Biden administration?"
   ]
  },
  {
   "cell_type": "code",
   "execution_count": 153,
   "id": "09e44a40",
   "metadata": {},
   "outputs": [],
   "source": [
    "import pandas as pd\n",
    "import numpy as np\n",
    "import seaborn as sns\n",
    "import matplotlib.pyplot as plt\n",
    "import plotly.express as px\n",
    "import plotly.graph_objects as go\n",
    "import plotly.io as pio\n",
    "from matplotlib.ticker import FuncFormatter \n",
    "import pandas as pd\n",
    "import matplotlib.pyplot as plt\n",
    "from matplotlib.ticker import FuncFormatter\n",
    "from matplotlib.offsetbox import AnchoredText\n",
    "import matplotlib as mpl \n",
    "from matplotlib.patches import Patch\n",
    "from matplotlib.lines import Line2D\n",
    "pio.renderers.default = \"vscode\"\n",
    "\n",
    "\n",
    "from IPython.display import display\n",
    "\n"
   ]
  },
  {
   "cell_type": "code",
   "execution_count": 46,
   "id": "cfbb5e25",
   "metadata": {},
   "outputs": [
    {
     "data": {
      "text/html": [
       "<div>\n",
       "<style scoped>\n",
       "    .dataframe tbody tr th:only-of-type {\n",
       "        vertical-align: middle;\n",
       "    }\n",
       "\n",
       "    .dataframe tbody tr th {\n",
       "        vertical-align: top;\n",
       "    }\n",
       "\n",
       "    .dataframe thead th {\n",
       "        text-align: right;\n",
       "    }\n",
       "</style>\n",
       "<table border=\"1\" class=\"dataframe\">\n",
       "  <thead>\n",
       "    <tr style=\"text-align: right;\">\n",
       "      <th></th>\n",
       "      <th>entity</th>\n",
       "      <th>total_billions</th>\n",
       "      <th>total_usd</th>\n",
       "      <th>population_2020</th>\n",
       "      <th>per_capita_usd</th>\n",
       "      <th>is_state_like</th>\n",
       "      <th>biden_win_2020</th>\n",
       "    </tr>\n",
       "  </thead>\n",
       "  <tbody>\n",
       "    <tr>\n",
       "      <th>0</th>\n",
       "      <td>ALASKA</td>\n",
       "      <td>3.7000</td>\n",
       "      <td>3.700000e+09</td>\n",
       "      <td>733391.0</td>\n",
       "      <td>5045.057820</td>\n",
       "      <td>True</td>\n",
       "      <td>False</td>\n",
       "    </tr>\n",
       "    <tr>\n",
       "      <th>1</th>\n",
       "      <td>WYOMING</td>\n",
       "      <td>2.3000</td>\n",
       "      <td>2.300000e+09</td>\n",
       "      <td>576851.0</td>\n",
       "      <td>3987.164796</td>\n",
       "      <td>True</td>\n",
       "      <td>False</td>\n",
       "    </tr>\n",
       "    <tr>\n",
       "      <th>2</th>\n",
       "      <td>MONTANA</td>\n",
       "      <td>3.3000</td>\n",
       "      <td>3.300000e+09</td>\n",
       "      <td>1084225.0</td>\n",
       "      <td>3043.648689</td>\n",
       "      <td>True</td>\n",
       "      <td>False</td>\n",
       "    </tr>\n",
       "    <tr>\n",
       "      <th>3</th>\n",
       "      <td>NORTH DAKOTA</td>\n",
       "      <td>1.8000</td>\n",
       "      <td>1.800000e+09</td>\n",
       "      <td>779094.0</td>\n",
       "      <td>2310.375898</td>\n",
       "      <td>True</td>\n",
       "      <td>False</td>\n",
       "    </tr>\n",
       "    <tr>\n",
       "      <th>4</th>\n",
       "      <td>NORTHERN MARIANA ISLANDS</td>\n",
       "      <td>0.0833</td>\n",
       "      <td>8.330000e+07</td>\n",
       "      <td>47329.0</td>\n",
       "      <td>1760.020284</td>\n",
       "      <td>False</td>\n",
       "      <td>NaN</td>\n",
       "    </tr>\n",
       "  </tbody>\n",
       "</table>\n",
       "</div>"
      ],
      "text/plain": [
       "                     entity  total_billions     total_usd  population_2020  \\\n",
       "0                    ALASKA          3.7000  3.700000e+09         733391.0   \n",
       "1                   WYOMING          2.3000  2.300000e+09         576851.0   \n",
       "2                   MONTANA          3.3000  3.300000e+09        1084225.0   \n",
       "3              NORTH DAKOTA          1.8000  1.800000e+09         779094.0   \n",
       "4  NORTHERN MARIANA ISLANDS          0.0833  8.330000e+07          47329.0   \n",
       "\n",
       "   per_capita_usd  is_state_like biden_win_2020  \n",
       "0     5045.057820           True          False  \n",
       "1     3987.164796           True          False  \n",
       "2     3043.648689           True          False  \n",
       "3     2310.375898           True          False  \n",
       "4     1760.020284          False            NaN  "
      ]
     },
     "metadata": {},
     "output_type": "display_data"
    },
    {
     "name": "stdout",
     "output_type": "stream",
     "text": [
      "<class 'pandas.core.frame.DataFrame'>\n",
      "RangeIndex: 57 entries, 0 to 56\n",
      "Data columns (total 7 columns):\n",
      " #   Column           Non-Null Count  Dtype  \n",
      "---  ------           --------------  -----  \n",
      " 0   entity           57 non-null     object \n",
      " 1   total_billions   57 non-null     float64\n",
      " 2   total_usd        57 non-null     float64\n",
      " 3   population_2020  56 non-null     float64\n",
      " 4   per_capita_usd   56 non-null     float64\n",
      " 5   is_state_like    57 non-null     bool   \n",
      " 6   biden_win_2020   51 non-null     object \n",
      "dtypes: bool(1), float64(4), object(2)\n",
      "memory usage: 2.9+ KB\n"
     ]
    }
   ],
   "source": [
    "path = \"https://raw.githubusercontent.com/farhodibr/CUNY-SPS-MSDS/refs/heads/main/DATA608/PROJECT1/iija_per_capita_analysis.csv\"\n",
    "iija_df = pd.read_csv(path)\n",
    "display(iija_df.head())\n",
    "iija_df.info()"
   ]
  },
  {
   "cell_type": "code",
   "execution_count": 17,
   "id": "649b5b67",
   "metadata": {},
   "outputs": [
    {
     "data": {
      "text/plain": [
       "total_usd          0\n",
       "population_2020    1\n",
       "per_capita_usd     1\n",
       "dtype: int64"
      ]
     },
     "metadata": {},
     "output_type": "display_data"
    }
   ],
   "source": [
    "#checking for numeric data\n",
    "num_cols = [\"total_usd\",\"population_2020\",\"per_capita_usd\"]\n",
    "for col in num_cols:\n",
    "    iija_df[col] = pd.to_numeric(iija_df[col], errors=\"coerce\")\n",
    "\n",
    "#checking for NaN values\n",
    "nan_counts = iija_df[num_cols].isna().sum()\n",
    "display(nan_counts)"
   ]
  },
  {
   "cell_type": "markdown",
   "id": "bd2514b1",
   "metadata": {},
   "source": [
    "We will drop NAN rows"
   ]
  },
  {
   "cell_type": "code",
   "execution_count": 18,
   "id": "fa8e16b4",
   "metadata": {},
   "outputs": [
    {
     "data": {
      "text/plain": [
       "(56, 7)"
      ]
     },
     "execution_count": 18,
     "metadata": {},
     "output_type": "execute_result"
    }
   ],
   "source": [
    "units = iija_df.dropna(subset=num_cols).copy()\n",
    "units.shape"
   ]
  },
  {
   "cell_type": "markdown",
   "id": "fbad6234",
   "metadata": {},
   "source": [
    "## Population-proportional baseline\n",
    "\n",
    "Idea: If funding was perfectly proportional to population, every unit gets:\n",
    "\n",
    "### expected = national per-capita × population\n"
   ]
  },
  {
   "cell_type": "code",
   "execution_count": 19,
   "id": "d525872d",
   "metadata": {},
   "outputs": [
    {
     "data": {
      "text/plain": [
       "(193032400000.0, 335073176.0, 576.0902806496215)"
      ]
     },
     "execution_count": 19,
     "metadata": {},
     "output_type": "execute_result"
    }
   ],
   "source": [
    "national_total = float(units[\"total_usd\"].sum())\n",
    "national_pop   = float(units[\"population_2020\"].sum())\n",
    "national_pc    = national_total / national_pop\n",
    "national_total, national_pop, national_pc"
   ]
  },
  {
   "cell_type": "code",
   "execution_count": 20,
   "id": "ab6e0ffe",
   "metadata": {},
   "outputs": [
    {
     "data": {
      "text/html": [
       "<div>\n",
       "<style scoped>\n",
       "    .dataframe tbody tr th:only-of-type {\n",
       "        vertical-align: middle;\n",
       "    }\n",
       "\n",
       "    .dataframe tbody tr th {\n",
       "        vertical-align: top;\n",
       "    }\n",
       "\n",
       "    .dataframe thead th {\n",
       "        text-align: right;\n",
       "    }\n",
       "</style>\n",
       "<table border=\"1\" class=\"dataframe\">\n",
       "  <thead>\n",
       "    <tr style=\"text-align: right;\">\n",
       "      <th></th>\n",
       "      <th>entity</th>\n",
       "      <th>population_2020</th>\n",
       "      <th>total_usd</th>\n",
       "      <th>expected_total_usd</th>\n",
       "      <th>ratio_actual_expected</th>\n",
       "      <th>deviation_pct</th>\n",
       "    </tr>\n",
       "  </thead>\n",
       "  <tbody>\n",
       "    <tr>\n",
       "      <th>0</th>\n",
       "      <td>ALASKA</td>\n",
       "      <td>733391.0</td>\n",
       "      <td>3.700000e+09</td>\n",
       "      <td>4.224994e+08</td>\n",
       "      <td>8.757408</td>\n",
       "      <td>775.740833</td>\n",
       "    </tr>\n",
       "    <tr>\n",
       "      <th>1</th>\n",
       "      <td>WYOMING</td>\n",
       "      <td>576851.0</td>\n",
       "      <td>2.300000e+09</td>\n",
       "      <td>3.323183e+08</td>\n",
       "      <td>6.921076</td>\n",
       "      <td>592.107631</td>\n",
       "    </tr>\n",
       "    <tr>\n",
       "      <th>2</th>\n",
       "      <td>MONTANA</td>\n",
       "      <td>1084225.0</td>\n",
       "      <td>3.300000e+09</td>\n",
       "      <td>6.246115e+08</td>\n",
       "      <td>5.283284</td>\n",
       "      <td>428.328422</td>\n",
       "    </tr>\n",
       "    <tr>\n",
       "      <th>3</th>\n",
       "      <td>NORTH DAKOTA</td>\n",
       "      <td>779094.0</td>\n",
       "      <td>1.800000e+09</td>\n",
       "      <td>4.488285e+08</td>\n",
       "      <td>4.010441</td>\n",
       "      <td>301.044068</td>\n",
       "    </tr>\n",
       "    <tr>\n",
       "      <th>4</th>\n",
       "      <td>NORTHERN MARIANA ISLANDS</td>\n",
       "      <td>47329.0</td>\n",
       "      <td>8.330000e+07</td>\n",
       "      <td>2.726578e+07</td>\n",
       "      <td>3.055112</td>\n",
       "      <td>205.511192</td>\n",
       "    </tr>\n",
       "    <tr>\n",
       "      <th>5</th>\n",
       "      <td>U.S. VIRGIN ISLANDS</td>\n",
       "      <td>87146.0</td>\n",
       "      <td>1.483000e+08</td>\n",
       "      <td>5.020396e+07</td>\n",
       "      <td>2.953950</td>\n",
       "      <td>195.395003</td>\n",
       "    </tr>\n",
       "    <tr>\n",
       "      <th>6</th>\n",
       "      <td>DISTRICT OF COLUMBIA</td>\n",
       "      <td>689545.0</td>\n",
       "      <td>1.100000e+09</td>\n",
       "      <td>3.972402e+08</td>\n",
       "      <td>2.769106</td>\n",
       "      <td>176.910563</td>\n",
       "    </tr>\n",
       "    <tr>\n",
       "      <th>7</th>\n",
       "      <td>SOUTH DAKOTA</td>\n",
       "      <td>886667.0</td>\n",
       "      <td>1.300000e+09</td>\n",
       "      <td>5.108002e+08</td>\n",
       "      <td>2.545026</td>\n",
       "      <td>154.502621</td>\n",
       "    </tr>\n",
       "  </tbody>\n",
       "</table>\n",
       "</div>"
      ],
      "text/plain": [
       "                     entity  population_2020     total_usd  \\\n",
       "0                    ALASKA         733391.0  3.700000e+09   \n",
       "1                   WYOMING         576851.0  2.300000e+09   \n",
       "2                   MONTANA        1084225.0  3.300000e+09   \n",
       "3              NORTH DAKOTA         779094.0  1.800000e+09   \n",
       "4  NORTHERN MARIANA ISLANDS          47329.0  8.330000e+07   \n",
       "5       U.S. VIRGIN ISLANDS          87146.0  1.483000e+08   \n",
       "6      DISTRICT OF COLUMBIA         689545.0  1.100000e+09   \n",
       "7              SOUTH DAKOTA         886667.0  1.300000e+09   \n",
       "\n",
       "   expected_total_usd  ratio_actual_expected  deviation_pct  \n",
       "0        4.224994e+08               8.757408     775.740833  \n",
       "1        3.323183e+08               6.921076     592.107631  \n",
       "2        6.246115e+08               5.283284     428.328422  \n",
       "3        4.488285e+08               4.010441     301.044068  \n",
       "4        2.726578e+07               3.055112     205.511192  \n",
       "5        5.020396e+07               2.953950     195.395003  \n",
       "6        3.972402e+08               2.769106     176.910563  \n",
       "7        5.108002e+08               2.545026     154.502621  "
      ]
     },
     "metadata": {},
     "output_type": "display_data"
    }
   ],
   "source": [
    "units[\"expected_total_usd\"]    = national_pc * units[\"population_2020\"]\n",
    "units[\"ratio_actual_expected\"] = units[\"total_usd\"] / units[\"expected_total_usd\"]\n",
    "\n",
    "#missing deviation columns\n",
    "units[\"deviation_usd\"] = units[\"total_usd\"] - units[\"expected_total_usd\"]\n",
    "units[\"deviation_pct\"] = 100.0 * units[\"deviation_usd\"] / units[\"expected_total_usd\"]\n",
    "\n",
    "\n",
    "units[\"type\"] = np.where(units[\"is_state_like\"], \"State/DC\", \"Territory\")\n",
    "units[\"above_baseline\"] = np.where(units[\"ratio_actual_expected\"] >= 1, \"Above 1.0\", \"Below 1.0\")\n",
    "\n",
    "# formatting strings for tooltips\n",
    "units[\"population_fmt\"] = units[\"population_2020\"].map(lambda x: f\"{int(x):,}\")\n",
    "units[\"total_fmt\"]      = units[\"total_usd\"].map(lambda x: f\"${x:,.0f}\")\n",
    "units[\"expected_fmt\"]   = units[\"expected_total_usd\"].map(lambda x: f\"${x:,.0f}\")\n",
    "units[\"ratio_fmt\"]      = units[\"ratio_actual_expected\"].map(lambda x: f\"{x:.2f}×\")\n",
    "\n",
    "display(\n",
    "    units[[\"entity\",\"population_2020\",\"total_usd\",\"expected_total_usd\",\n",
    "           \"ratio_actual_expected\",\"deviation_pct\"]].head(8)\n",
    ")"
   ]
  },
  {
   "cell_type": "code",
   "execution_count": 21,
   "id": "a683a6b2",
   "metadata": {},
   "outputs": [
    {
     "data": {
      "text/html": [
       "<div>\n",
       "<style scoped>\n",
       "    .dataframe tbody tr th:only-of-type {\n",
       "        vertical-align: middle;\n",
       "    }\n",
       "\n",
       "    .dataframe tbody tr th {\n",
       "        vertical-align: top;\n",
       "    }\n",
       "\n",
       "    .dataframe thead th {\n",
       "        text-align: right;\n",
       "    }\n",
       "</style>\n",
       "<table border=\"1\" class=\"dataframe\">\n",
       "  <thead>\n",
       "    <tr style=\"text-align: right;\">\n",
       "      <th></th>\n",
       "      <th>entity</th>\n",
       "      <th>population_2020</th>\n",
       "      <th>total_usd</th>\n",
       "      <th>expected_total_usd</th>\n",
       "      <th>ratio_actual_expected</th>\n",
       "      <th>deviation_pct</th>\n",
       "    </tr>\n",
       "  </thead>\n",
       "  <tbody>\n",
       "    <tr>\n",
       "      <th>0</th>\n",
       "      <td>ALASKA</td>\n",
       "      <td>733391.0</td>\n",
       "      <td>3.700000e+09</td>\n",
       "      <td>4.224994e+08</td>\n",
       "      <td>8.757408</td>\n",
       "      <td>775.740833</td>\n",
       "    </tr>\n",
       "    <tr>\n",
       "      <th>1</th>\n",
       "      <td>WYOMING</td>\n",
       "      <td>576851.0</td>\n",
       "      <td>2.300000e+09</td>\n",
       "      <td>3.323183e+08</td>\n",
       "      <td>6.921076</td>\n",
       "      <td>592.107631</td>\n",
       "    </tr>\n",
       "    <tr>\n",
       "      <th>2</th>\n",
       "      <td>MONTANA</td>\n",
       "      <td>1084225.0</td>\n",
       "      <td>3.300000e+09</td>\n",
       "      <td>6.246115e+08</td>\n",
       "      <td>5.283284</td>\n",
       "      <td>428.328422</td>\n",
       "    </tr>\n",
       "    <tr>\n",
       "      <th>3</th>\n",
       "      <td>NORTH DAKOTA</td>\n",
       "      <td>779094.0</td>\n",
       "      <td>1.800000e+09</td>\n",
       "      <td>4.488285e+08</td>\n",
       "      <td>4.010441</td>\n",
       "      <td>301.044068</td>\n",
       "    </tr>\n",
       "    <tr>\n",
       "      <th>4</th>\n",
       "      <td>NORTHERN MARIANA ISLANDS</td>\n",
       "      <td>47329.0</td>\n",
       "      <td>8.330000e+07</td>\n",
       "      <td>2.726578e+07</td>\n",
       "      <td>3.055112</td>\n",
       "      <td>205.511192</td>\n",
       "    </tr>\n",
       "    <tr>\n",
       "      <th>5</th>\n",
       "      <td>U.S. VIRGIN ISLANDS</td>\n",
       "      <td>87146.0</td>\n",
       "      <td>1.483000e+08</td>\n",
       "      <td>5.020396e+07</td>\n",
       "      <td>2.953950</td>\n",
       "      <td>195.395003</td>\n",
       "    </tr>\n",
       "    <tr>\n",
       "      <th>6</th>\n",
       "      <td>DISTRICT OF COLUMBIA</td>\n",
       "      <td>689545.0</td>\n",
       "      <td>1.100000e+09</td>\n",
       "      <td>3.972402e+08</td>\n",
       "      <td>2.769106</td>\n",
       "      <td>176.910563</td>\n",
       "    </tr>\n",
       "    <tr>\n",
       "      <th>7</th>\n",
       "      <td>SOUTH DAKOTA</td>\n",
       "      <td>886667.0</td>\n",
       "      <td>1.300000e+09</td>\n",
       "      <td>5.108002e+08</td>\n",
       "      <td>2.545026</td>\n",
       "      <td>154.502621</td>\n",
       "    </tr>\n",
       "    <tr>\n",
       "      <th>8</th>\n",
       "      <td>AMERICAN SAMOA</td>\n",
       "      <td>49710.0</td>\n",
       "      <td>6.860000e+07</td>\n",
       "      <td>2.863745e+07</td>\n",
       "      <td>2.395465</td>\n",
       "      <td>139.546486</td>\n",
       "    </tr>\n",
       "    <tr>\n",
       "      <th>9</th>\n",
       "      <td>VERMONT</td>\n",
       "      <td>643077.0</td>\n",
       "      <td>8.521000e+08</td>\n",
       "      <td>3.704704e+08</td>\n",
       "      <td>2.300049</td>\n",
       "      <td>130.004874</td>\n",
       "    </tr>\n",
       "  </tbody>\n",
       "</table>\n",
       "</div>"
      ],
      "text/plain": [
       "                     entity  population_2020     total_usd  \\\n",
       "0                    ALASKA         733391.0  3.700000e+09   \n",
       "1                   WYOMING         576851.0  2.300000e+09   \n",
       "2                   MONTANA        1084225.0  3.300000e+09   \n",
       "3              NORTH DAKOTA         779094.0  1.800000e+09   \n",
       "4  NORTHERN MARIANA ISLANDS          47329.0  8.330000e+07   \n",
       "5       U.S. VIRGIN ISLANDS          87146.0  1.483000e+08   \n",
       "6      DISTRICT OF COLUMBIA         689545.0  1.100000e+09   \n",
       "7              SOUTH DAKOTA         886667.0  1.300000e+09   \n",
       "8            AMERICAN SAMOA          49710.0  6.860000e+07   \n",
       "9                   VERMONT         643077.0  8.521000e+08   \n",
       "\n",
       "   expected_total_usd  ratio_actual_expected  deviation_pct  \n",
       "0        4.224994e+08               8.757408     775.740833  \n",
       "1        3.323183e+08               6.921076     592.107631  \n",
       "2        6.246115e+08               5.283284     428.328422  \n",
       "3        4.488285e+08               4.010441     301.044068  \n",
       "4        2.726578e+07               3.055112     205.511192  \n",
       "5        5.020396e+07               2.953950     195.395003  \n",
       "6        3.972402e+08               2.769106     176.910563  \n",
       "7        5.108002e+08               2.545026     154.502621  \n",
       "8        2.863745e+07               2.395465     139.546486  \n",
       "9        3.704704e+08               2.300049     130.004874  "
      ]
     },
     "metadata": {},
     "output_type": "display_data"
    },
    {
     "data": {
      "text/html": [
       "<div>\n",
       "<style scoped>\n",
       "    .dataframe tbody tr th:only-of-type {\n",
       "        vertical-align: middle;\n",
       "    }\n",
       "\n",
       "    .dataframe tbody tr th {\n",
       "        vertical-align: top;\n",
       "    }\n",
       "\n",
       "    .dataframe thead th {\n",
       "        text-align: right;\n",
       "    }\n",
       "</style>\n",
       "<table border=\"1\" class=\"dataframe\">\n",
       "  <thead>\n",
       "    <tr style=\"text-align: right;\">\n",
       "      <th></th>\n",
       "      <th>entity</th>\n",
       "      <th>population_2020</th>\n",
       "      <th>total_usd</th>\n",
       "      <th>expected_total_usd</th>\n",
       "      <th>ratio_actual_expected</th>\n",
       "      <th>deviation_pct</th>\n",
       "    </tr>\n",
       "  </thead>\n",
       "  <tbody>\n",
       "    <tr>\n",
       "      <th>55</th>\n",
       "      <td>PUERTO RICO</td>\n",
       "      <td>3285874.0</td>\n",
       "      <td>9.937000e+08</td>\n",
       "      <td>1.892960e+09</td>\n",
       "      <td>0.524945</td>\n",
       "      <td>-47.505496</td>\n",
       "    </tr>\n",
       "    <tr>\n",
       "      <th>54</th>\n",
       "      <td>FLORIDA</td>\n",
       "      <td>21538187.0</td>\n",
       "      <td>8.200000e+09</td>\n",
       "      <td>1.240794e+10</td>\n",
       "      <td>0.660867</td>\n",
       "      <td>-33.913286</td>\n",
       "    </tr>\n",
       "    <tr>\n",
       "      <th>53</th>\n",
       "      <td>NORTH CAROLINA</td>\n",
       "      <td>10439388.0</td>\n",
       "      <td>4.500000e+09</td>\n",
       "      <td>6.014030e+09</td>\n",
       "      <td>0.748250</td>\n",
       "      <td>-25.174965</td>\n",
       "    </tr>\n",
       "    <tr>\n",
       "      <th>52</th>\n",
       "      <td>MARYLAND</td>\n",
       "      <td>6177224.0</td>\n",
       "      <td>2.700000e+09</td>\n",
       "      <td>3.558639e+09</td>\n",
       "      <td>0.758717</td>\n",
       "      <td>-24.128291</td>\n",
       "    </tr>\n",
       "    <tr>\n",
       "      <th>51</th>\n",
       "      <td>SOUTH CAROLINA</td>\n",
       "      <td>5118425.0</td>\n",
       "      <td>2.300000e+09</td>\n",
       "      <td>2.948675e+09</td>\n",
       "      <td>0.780011</td>\n",
       "      <td>-21.998861</td>\n",
       "    </tr>\n",
       "    <tr>\n",
       "      <th>50</th>\n",
       "      <td>CALIFORNIA</td>\n",
       "      <td>39538223.0</td>\n",
       "      <td>1.840000e+10</td>\n",
       "      <td>2.277759e+10</td>\n",
       "      <td>0.807812</td>\n",
       "      <td>-19.218832</td>\n",
       "    </tr>\n",
       "    <tr>\n",
       "      <th>49</th>\n",
       "      <td>GEORGIA</td>\n",
       "      <td>10711908.0</td>\n",
       "      <td>5.000000e+09</td>\n",
       "      <td>6.171026e+09</td>\n",
       "      <td>0.810238</td>\n",
       "      <td>-18.976197</td>\n",
       "    </tr>\n",
       "    <tr>\n",
       "      <th>48</th>\n",
       "      <td>MINNESOTA</td>\n",
       "      <td>5706494.0</td>\n",
       "      <td>2.700000e+09</td>\n",
       "      <td>3.287456e+09</td>\n",
       "      <td>0.821304</td>\n",
       "      <td>-17.869616</td>\n",
       "    </tr>\n",
       "    <tr>\n",
       "      <th>47</th>\n",
       "      <td>WISCONSIN</td>\n",
       "      <td>5893718.0</td>\n",
       "      <td>2.800000e+09</td>\n",
       "      <td>3.395314e+09</td>\n",
       "      <td>0.824666</td>\n",
       "      <td>-17.533392</td>\n",
       "    </tr>\n",
       "    <tr>\n",
       "      <th>46</th>\n",
       "      <td>TEXAS</td>\n",
       "      <td>29145505.0</td>\n",
       "      <td>1.420000e+10</td>\n",
       "      <td>1.679044e+10</td>\n",
       "      <td>0.845719</td>\n",
       "      <td>-15.428076</td>\n",
       "    </tr>\n",
       "  </tbody>\n",
       "</table>\n",
       "</div>"
      ],
      "text/plain": [
       "            entity  population_2020     total_usd  expected_total_usd  \\\n",
       "55     PUERTO RICO        3285874.0  9.937000e+08        1.892960e+09   \n",
       "54         FLORIDA       21538187.0  8.200000e+09        1.240794e+10   \n",
       "53  NORTH CAROLINA       10439388.0  4.500000e+09        6.014030e+09   \n",
       "52        MARYLAND        6177224.0  2.700000e+09        3.558639e+09   \n",
       "51  SOUTH CAROLINA        5118425.0  2.300000e+09        2.948675e+09   \n",
       "50      CALIFORNIA       39538223.0  1.840000e+10        2.277759e+10   \n",
       "49         GEORGIA       10711908.0  5.000000e+09        6.171026e+09   \n",
       "48       MINNESOTA        5706494.0  2.700000e+09        3.287456e+09   \n",
       "47       WISCONSIN        5893718.0  2.800000e+09        3.395314e+09   \n",
       "46           TEXAS       29145505.0  1.420000e+10        1.679044e+10   \n",
       "\n",
       "    ratio_actual_expected  deviation_pct  \n",
       "55               0.524945     -47.505496  \n",
       "54               0.660867     -33.913286  \n",
       "53               0.748250     -25.174965  \n",
       "52               0.758717     -24.128291  \n",
       "51               0.780011     -21.998861  \n",
       "50               0.807812     -19.218832  \n",
       "49               0.810238     -18.976197  \n",
       "48               0.821304     -17.869616  \n",
       "47               0.824666     -17.533392  \n",
       "46               0.845719     -15.428076  "
      ]
     },
     "metadata": {},
     "output_type": "display_data"
    }
   ],
   "source": [
    "winners = (units.sort_values(\"ratio_actual_expected\", ascending=False)\n",
    "                [[\"entity\",\"population_2020\",\"total_usd\",\"expected_total_usd\",\n",
    "                  \"ratio_actual_expected\",\"deviation_pct\"]]\n",
    "                .head(10))\n",
    "losers  = (units.sort_values(\"ratio_actual_expected\", ascending=True)\n",
    "                [[\"entity\",\"population_2020\",\"total_usd\",\"expected_total_usd\",\n",
    "                  \"ratio_actual_expected\",\"deviation_pct\"]]\n",
    "                .head(10))\n",
    "\n",
    "display(winners)\n",
    "display(losers)\n"
   ]
  },
  {
   "cell_type": "code",
   "execution_count": 22,
   "id": "793d16bb",
   "metadata": {},
   "outputs": [
    {
     "data": {
      "text/plain": [
       "winner_label\n",
       "Biden 2020         26\n",
       "Trump 2020         25\n",
       "N/A (Territory)     5\n",
       "Name: count, dtype: int64"
      ]
     },
     "execution_count": 22,
     "metadata": {},
     "output_type": "execute_result"
    }
   ],
   "source": [
    "\n",
    "units[\"winner_label\"] = np.select(\n",
    "    [\n",
    "        (units[\"is_state_like\"] == True) & (units[\"biden_win_2020\"] == True),\n",
    "        (units[\"is_state_like\"] == True) & (units[\"biden_win_2020\"] == False),\n",
    "        (units[\"is_state_like\"] == False)\n",
    "    ],\n",
    "    [\"Biden 2020\", \"Trump 2020\", \"N/A (Territory)\"],\n",
    "    default=\"N/A (Unknown)\"\n",
    ")\n",
    "\n",
    "units[\"winner_label\"].value_counts(dropna=False)\n"
   ]
  },
  {
   "cell_type": "code",
   "execution_count": null,
   "id": "fffb261e",
   "metadata": {},
   "outputs": [
    {
     "data": {
      "application/vnd.plotly.v1+json": {
       "config": {
        "plotlyServerURL": "https://plot.ly"
       },
       "data": [
        {
         "hovertemplate": "<b>%{hovertext}</b><br><br>2020 Election Winner=Trump<br>Entity Type=State/Territory<br>Population (2020)=%{x}<br>Actual vs. Expected Funding Ratio=%{y:.2f}<extra></extra>",
         "hovertext": [
          "ALASKA",
          "WYOMING",
          "MONTANA",
          "NORTH DAKOTA",
          "SOUTH DAKOTA",
          "WEST VIRGINIA",
          "ARKANSAS",
          "LOUISIANA",
          "KENTUCKY",
          "MISSISSIPPI",
          "IOWA",
          "OKLAHOMA",
          "NEBRASKA",
          "IDAHO",
          "MISSOURI",
          "ALABAMA",
          "OHIO",
          "UTAH",
          "TENNESSEE",
          "KANSAS",
          "INDIANA",
          "TEXAS",
          "SOUTH CAROLINA",
          "NORTH CAROLINA",
          "FLORIDA"
         ],
         "legendgroup": "Trump, State/Territory",
         "marker": {
          "color": "red",
          "symbol": "circle"
         },
         "mode": "markers",
         "name": "Trump, State/Territory",
         "orientation": "v",
         "showlegend": true,
         "type": "scatter",
         "x": {
          "bdata": "AAAAAJ5hJkEAAAAAppohQQAAAABBizBBAAAAAKzGJ0EAAAAAFg8rQQAAAAC0XjtBAAAAAOL5RkEAAABAl8RRQQAAAAA7MFFBAAAAgL+XRkEAAACAMFdIQQAAAIAcNU5BAAAAACDuPUEAAAAAAhA8QQAAAECoeldBAAAAwIUqU0EAAAAAc4FmQQAAAADg9UhBAAAAAN5cWkEAAAAADGpGQQAAAAB+4llBAAAAEJrLe0EAAABAdoZTQQAAAIBb6WNBAAAAsFiKdEE=",
          "dtype": "f8"
         },
         "xaxis": "x",
         "y": {
          "bdata": "XoYjjZd0IUAQW4OuJ5cbQAmnbNy9DxVACvzZjIn5D0B9oYAIi0oEQKgsyM/L3P4//JDIJDG8+T88gJQHoo35P141Qg8n9fc/FBMaPY1/9T9BPU1SdtL0PwUSIO8CRvQ/94Y5DDlY8j8Wtur/eg/yP3Ibv6/HFvE/DDzMkP2G8D9BU55N9vbuP6/tcwYhde4/1HlKVHGj7T/Sp/NIuEPsP9izuzwBves/1wnH46T46j8nNdu0MODoP0mjccni3Oc/XNJ+NXgT5T8=",
          "dtype": "f8"
         },
         "yaxis": "y"
        },
        {
         "hovertemplate": "<b>%{hovertext}</b><br><br>2020 Election Winner=Biden<br>Entity Type=State/Territory<br>Population (2020)=%{x}<br>Actual vs. Expected Funding Ratio=%{y:.2f}<extra></extra>",
         "hovertext": [
          "DISTRICT OF COLUMBIA",
          "VERMONT",
          "NEW MEXICO",
          "RHODE ISLAND",
          "MAINE",
          "DELAWARE",
          "CONNECTICUT",
          "HAWAII",
          "ILLINOIS",
          "PENNSYLVANIA",
          "COLORADO",
          "NEW JERSEY",
          "NEVADA",
          "NEW HAMPSHIRE",
          "OREGON",
          "VIRGINIA",
          "WASHINGTON",
          "MICHIGAN",
          "MASSACHUSETTS",
          "NEW YORK",
          "ARIZONA",
          "WISCONSIN",
          "MINNESOTA",
          "GEORGIA",
          "CALIFORNIA",
          "MARYLAND"
         ],
         "legendgroup": "Biden, State/Territory",
         "marker": {
          "color": "blue",
          "symbol": "circle"
         },
         "mode": "markers",
         "name": "Biden, State/Territory",
         "orientation": "v",
         "showlegend": true,
         "type": "scatter",
         "x": {
          "bdata": "AAAAABILJUEAAAAACqAjQQAAAADJJ0BBAAAAAKO+MEEAAAAAt8k0QQAAAAD4NS5BAAAAANyCS0EAAAAApzQ2QQAAAIAbcGhBAAAAgPnMaEEAAACAZAZWQQAAAECkt2FBAAAAALOvR0EAAAAA+QQ1QQAAAADyKVBBAAAAIIx2YEEAAABAsGRdQQAAAGCSOGNBAAAAQCfRWkEAAAAQ8kNzQQAAAIDjR1tBAAAAgJV7VkEAAACAv8RVQQAAAIBsbmRBAAAAeHHagkEAAAAAcpBXQQ==",
          "dtype": "f8"
         },
         "xaxis": "x",
         "y": {
          "bdata": "HtqH5eYTBkAWz5y5h1YCQAnlsBg1/gBARzzn+NC++z9Wvb/5T1n2P2fLovQCJfY/D51wrKUw8z8xLpRDHwXzP3iwisGTJfI/mXzEniM+8T+DhqNDg67uP62qVfbUZO4/F/pY4BJQ7j/gxtMHZDbuP/YmjsCADO4/xxeqfX/c7D+ZuD+V67zsP2oDfgjHkOw/PiT5WVRZ7D9F1xhBdK3rP2QderfHF+s/z01y5MJM6j/ynGapTzHqPz2ssKf31uk/3FXSfCjD6T/KVIO4VjLoPw==",
          "dtype": "f8"
         },
         "yaxis": "y"
        }
       ],
       "layout": {
        "annotations": [
         {
          "showarrow": false,
          "text": "Proportional Funding = 1.0",
          "x": 1,
          "xanchor": "right",
          "xref": "x domain",
          "y": 1,
          "yanchor": "bottom",
          "yref": "y"
         }
        ],
        "height": 800,
        "legend": {
         "bgcolor": "rgba(255, 255, 255, 0.7)",
         "bordercolor": "black",
         "borderwidth": 1,
         "title": {
          "text": "Legend"
         },
         "tracegroupgap": 0,
         "x": 0.99,
         "xanchor": "right",
         "y": 0.98,
         "yanchor": "top"
        },
        "shapes": [
         {
          "line": {
           "dash": "dash"
          },
          "type": "line",
          "x0": 0,
          "x1": 1,
          "xref": "x domain",
          "y0": 1,
          "y1": 1,
          "yref": "y"
         }
        ],
        "template": {
         "data": {
          "bar": [
           {
            "error_x": {
             "color": "#2a3f5f"
            },
            "error_y": {
             "color": "#2a3f5f"
            },
            "marker": {
             "line": {
              "color": "#E5ECF6",
              "width": 0.5
             },
             "pattern": {
              "fillmode": "overlay",
              "size": 10,
              "solidity": 0.2
             }
            },
            "type": "bar"
           }
          ],
          "barpolar": [
           {
            "marker": {
             "line": {
              "color": "#E5ECF6",
              "width": 0.5
             },
             "pattern": {
              "fillmode": "overlay",
              "size": 10,
              "solidity": 0.2
             }
            },
            "type": "barpolar"
           }
          ],
          "carpet": [
           {
            "aaxis": {
             "endlinecolor": "#2a3f5f",
             "gridcolor": "white",
             "linecolor": "white",
             "minorgridcolor": "white",
             "startlinecolor": "#2a3f5f"
            },
            "baxis": {
             "endlinecolor": "#2a3f5f",
             "gridcolor": "white",
             "linecolor": "white",
             "minorgridcolor": "white",
             "startlinecolor": "#2a3f5f"
            },
            "type": "carpet"
           }
          ],
          "choropleth": [
           {
            "colorbar": {
             "outlinewidth": 0,
             "ticks": ""
            },
            "type": "choropleth"
           }
          ],
          "contour": [
           {
            "colorbar": {
             "outlinewidth": 0,
             "ticks": ""
            },
            "colorscale": [
             [
              0,
              "#0d0887"
             ],
             [
              0.1111111111111111,
              "#46039f"
             ],
             [
              0.2222222222222222,
              "#7201a8"
             ],
             [
              0.3333333333333333,
              "#9c179e"
             ],
             [
              0.4444444444444444,
              "#bd3786"
             ],
             [
              0.5555555555555556,
              "#d8576b"
             ],
             [
              0.6666666666666666,
              "#ed7953"
             ],
             [
              0.7777777777777778,
              "#fb9f3a"
             ],
             [
              0.8888888888888888,
              "#fdca26"
             ],
             [
              1,
              "#f0f921"
             ]
            ],
            "type": "contour"
           }
          ],
          "contourcarpet": [
           {
            "colorbar": {
             "outlinewidth": 0,
             "ticks": ""
            },
            "type": "contourcarpet"
           }
          ],
          "heatmap": [
           {
            "colorbar": {
             "outlinewidth": 0,
             "ticks": ""
            },
            "colorscale": [
             [
              0,
              "#0d0887"
             ],
             [
              0.1111111111111111,
              "#46039f"
             ],
             [
              0.2222222222222222,
              "#7201a8"
             ],
             [
              0.3333333333333333,
              "#9c179e"
             ],
             [
              0.4444444444444444,
              "#bd3786"
             ],
             [
              0.5555555555555556,
              "#d8576b"
             ],
             [
              0.6666666666666666,
              "#ed7953"
             ],
             [
              0.7777777777777778,
              "#fb9f3a"
             ],
             [
              0.8888888888888888,
              "#fdca26"
             ],
             [
              1,
              "#f0f921"
             ]
            ],
            "type": "heatmap"
           }
          ],
          "histogram": [
           {
            "marker": {
             "pattern": {
              "fillmode": "overlay",
              "size": 10,
              "solidity": 0.2
             }
            },
            "type": "histogram"
           }
          ],
          "histogram2d": [
           {
            "colorbar": {
             "outlinewidth": 0,
             "ticks": ""
            },
            "colorscale": [
             [
              0,
              "#0d0887"
             ],
             [
              0.1111111111111111,
              "#46039f"
             ],
             [
              0.2222222222222222,
              "#7201a8"
             ],
             [
              0.3333333333333333,
              "#9c179e"
             ],
             [
              0.4444444444444444,
              "#bd3786"
             ],
             [
              0.5555555555555556,
              "#d8576b"
             ],
             [
              0.6666666666666666,
              "#ed7953"
             ],
             [
              0.7777777777777778,
              "#fb9f3a"
             ],
             [
              0.8888888888888888,
              "#fdca26"
             ],
             [
              1,
              "#f0f921"
             ]
            ],
            "type": "histogram2d"
           }
          ],
          "histogram2dcontour": [
           {
            "colorbar": {
             "outlinewidth": 0,
             "ticks": ""
            },
            "colorscale": [
             [
              0,
              "#0d0887"
             ],
             [
              0.1111111111111111,
              "#46039f"
             ],
             [
              0.2222222222222222,
              "#7201a8"
             ],
             [
              0.3333333333333333,
              "#9c179e"
             ],
             [
              0.4444444444444444,
              "#bd3786"
             ],
             [
              0.5555555555555556,
              "#d8576b"
             ],
             [
              0.6666666666666666,
              "#ed7953"
             ],
             [
              0.7777777777777778,
              "#fb9f3a"
             ],
             [
              0.8888888888888888,
              "#fdca26"
             ],
             [
              1,
              "#f0f921"
             ]
            ],
            "type": "histogram2dcontour"
           }
          ],
          "mesh3d": [
           {
            "colorbar": {
             "outlinewidth": 0,
             "ticks": ""
            },
            "type": "mesh3d"
           }
          ],
          "parcoords": [
           {
            "line": {
             "colorbar": {
              "outlinewidth": 0,
              "ticks": ""
             }
            },
            "type": "parcoords"
           }
          ],
          "pie": [
           {
            "automargin": true,
            "type": "pie"
           }
          ],
          "scatter": [
           {
            "fillpattern": {
             "fillmode": "overlay",
             "size": 10,
             "solidity": 0.2
            },
            "type": "scatter"
           }
          ],
          "scatter3d": [
           {
            "line": {
             "colorbar": {
              "outlinewidth": 0,
              "ticks": ""
             }
            },
            "marker": {
             "colorbar": {
              "outlinewidth": 0,
              "ticks": ""
             }
            },
            "type": "scatter3d"
           }
          ],
          "scattercarpet": [
           {
            "marker": {
             "colorbar": {
              "outlinewidth": 0,
              "ticks": ""
             }
            },
            "type": "scattercarpet"
           }
          ],
          "scattergeo": [
           {
            "marker": {
             "colorbar": {
              "outlinewidth": 0,
              "ticks": ""
             }
            },
            "type": "scattergeo"
           }
          ],
          "scattergl": [
           {
            "marker": {
             "colorbar": {
              "outlinewidth": 0,
              "ticks": ""
             }
            },
            "type": "scattergl"
           }
          ],
          "scattermap": [
           {
            "marker": {
             "colorbar": {
              "outlinewidth": 0,
              "ticks": ""
             }
            },
            "type": "scattermap"
           }
          ],
          "scattermapbox": [
           {
            "marker": {
             "colorbar": {
              "outlinewidth": 0,
              "ticks": ""
             }
            },
            "type": "scattermapbox"
           }
          ],
          "scatterpolar": [
           {
            "marker": {
             "colorbar": {
              "outlinewidth": 0,
              "ticks": ""
             }
            },
            "type": "scatterpolar"
           }
          ],
          "scatterpolargl": [
           {
            "marker": {
             "colorbar": {
              "outlinewidth": 0,
              "ticks": ""
             }
            },
            "type": "scatterpolargl"
           }
          ],
          "scatterternary": [
           {
            "marker": {
             "colorbar": {
              "outlinewidth": 0,
              "ticks": ""
             }
            },
            "type": "scatterternary"
           }
          ],
          "surface": [
           {
            "colorbar": {
             "outlinewidth": 0,
             "ticks": ""
            },
            "colorscale": [
             [
              0,
              "#0d0887"
             ],
             [
              0.1111111111111111,
              "#46039f"
             ],
             [
              0.2222222222222222,
              "#7201a8"
             ],
             [
              0.3333333333333333,
              "#9c179e"
             ],
             [
              0.4444444444444444,
              "#bd3786"
             ],
             [
              0.5555555555555556,
              "#d8576b"
             ],
             [
              0.6666666666666666,
              "#ed7953"
             ],
             [
              0.7777777777777778,
              "#fb9f3a"
             ],
             [
              0.8888888888888888,
              "#fdca26"
             ],
             [
              1,
              "#f0f921"
             ]
            ],
            "type": "surface"
           }
          ],
          "table": [
           {
            "cells": {
             "fill": {
              "color": "#EBF0F8"
             },
             "line": {
              "color": "white"
             }
            },
            "header": {
             "fill": {
              "color": "#C8D4E3"
             },
             "line": {
              "color": "white"
             }
            },
            "type": "table"
           }
          ]
         },
         "layout": {
          "annotationdefaults": {
           "arrowcolor": "#2a3f5f",
           "arrowhead": 0,
           "arrowwidth": 1
          },
          "autotypenumbers": "strict",
          "coloraxis": {
           "colorbar": {
            "outlinewidth": 0,
            "ticks": ""
           }
          },
          "colorscale": {
           "diverging": [
            [
             0,
             "#8e0152"
            ],
            [
             0.1,
             "#c51b7d"
            ],
            [
             0.2,
             "#de77ae"
            ],
            [
             0.3,
             "#f1b6da"
            ],
            [
             0.4,
             "#fde0ef"
            ],
            [
             0.5,
             "#f7f7f7"
            ],
            [
             0.6,
             "#e6f5d0"
            ],
            [
             0.7,
             "#b8e186"
            ],
            [
             0.8,
             "#7fbc41"
            ],
            [
             0.9,
             "#4d9221"
            ],
            [
             1,
             "#276419"
            ]
           ],
           "sequential": [
            [
             0,
             "#0d0887"
            ],
            [
             0.1111111111111111,
             "#46039f"
            ],
            [
             0.2222222222222222,
             "#7201a8"
            ],
            [
             0.3333333333333333,
             "#9c179e"
            ],
            [
             0.4444444444444444,
             "#bd3786"
            ],
            [
             0.5555555555555556,
             "#d8576b"
            ],
            [
             0.6666666666666666,
             "#ed7953"
            ],
            [
             0.7777777777777778,
             "#fb9f3a"
            ],
            [
             0.8888888888888888,
             "#fdca26"
            ],
            [
             1,
             "#f0f921"
            ]
           ],
           "sequentialminus": [
            [
             0,
             "#0d0887"
            ],
            [
             0.1111111111111111,
             "#46039f"
            ],
            [
             0.2222222222222222,
             "#7201a8"
            ],
            [
             0.3333333333333333,
             "#9c179e"
            ],
            [
             0.4444444444444444,
             "#bd3786"
            ],
            [
             0.5555555555555556,
             "#d8576b"
            ],
            [
             0.6666666666666666,
             "#ed7953"
            ],
            [
             0.7777777777777778,
             "#fb9f3a"
            ],
            [
             0.8888888888888888,
             "#fdca26"
            ],
            [
             1,
             "#f0f921"
            ]
           ]
          },
          "colorway": [
           "#636efa",
           "#EF553B",
           "#00cc96",
           "#ab63fa",
           "#FFA15A",
           "#19d3f3",
           "#FF6692",
           "#B6E880",
           "#FF97FF",
           "#FECB52"
          ],
          "font": {
           "color": "#2a3f5f"
          },
          "geo": {
           "bgcolor": "white",
           "lakecolor": "white",
           "landcolor": "#E5ECF6",
           "showlakes": true,
           "showland": true,
           "subunitcolor": "white"
          },
          "hoverlabel": {
           "align": "left"
          },
          "hovermode": "closest",
          "mapbox": {
           "style": "light"
          },
          "paper_bgcolor": "white",
          "plot_bgcolor": "#E5ECF6",
          "polar": {
           "angularaxis": {
            "gridcolor": "white",
            "linecolor": "white",
            "ticks": ""
           },
           "bgcolor": "#E5ECF6",
           "radialaxis": {
            "gridcolor": "white",
            "linecolor": "white",
            "ticks": ""
           }
          },
          "scene": {
           "xaxis": {
            "backgroundcolor": "#E5ECF6",
            "gridcolor": "white",
            "gridwidth": 2,
            "linecolor": "white",
            "showbackground": true,
            "ticks": "",
            "zerolinecolor": "white"
           },
           "yaxis": {
            "backgroundcolor": "#E5ECF6",
            "gridcolor": "white",
            "gridwidth": 2,
            "linecolor": "white",
            "showbackground": true,
            "ticks": "",
            "zerolinecolor": "white"
           },
           "zaxis": {
            "backgroundcolor": "#E5ECF6",
            "gridcolor": "white",
            "gridwidth": 2,
            "linecolor": "white",
            "showbackground": true,
            "ticks": "",
            "zerolinecolor": "white"
           }
          },
          "shapedefaults": {
           "line": {
            "color": "#2a3f5f"
           }
          },
          "ternary": {
           "aaxis": {
            "gridcolor": "white",
            "linecolor": "white",
            "ticks": ""
           },
           "baxis": {
            "gridcolor": "white",
            "linecolor": "white",
            "ticks": ""
           },
           "bgcolor": "#E5ECF6",
           "caxis": {
            "gridcolor": "white",
            "linecolor": "white",
            "ticks": ""
           }
          },
          "title": {
           "x": 0.05
          },
          "xaxis": {
           "automargin": true,
           "gridcolor": "white",
           "linecolor": "white",
           "ticks": "",
           "title": {
            "standoff": 15
           },
           "zerolinecolor": "white",
           "zerolinewidth": 2
          },
          "yaxis": {
           "automargin": true,
           "gridcolor": "white",
           "linecolor": "white",
           "ticks": "",
           "title": {
            "standoff": 15
           },
           "zerolinecolor": "white",
           "zerolinewidth": 2
          }
         }
        },
        "title": {
         "text": "Funding Proportionality vs. Population"
        },
        "xaxis": {
         "anchor": "y",
         "domain": [
          0,
          1
         ],
         "separatethousands": true,
         "title": {
          "text": "Population (2020)"
         }
        },
        "yaxis": {
         "anchor": "x",
         "domain": [
          0,
          1
         ],
         "rangemode": "tozero",
         "ticksuffix": "×",
         "title": {
          "text": "Actual vs. Expected Funding Ratio"
         }
        }
       }
      }
     },
     "metadata": {},
     "output_type": "display_data"
    }
   ],
   "source": [
    "import plotly.express as px\n",
    "import pandas as pd\n",
    "\n",
    "# --- Assume 'units' is your DataFrame from previous steps ---\n",
    "# For this example to be runnable, I'll recreate it conceptually.\n",
    "units = pd.read_csv(path)\n",
    "units['ratio_actual_expected'] = units['per_capita_usd'] / 578.05\n",
    "units['winner_label'] = units['biden_win_2020'].map({True: 'Biden', False: 'Trump', pd.NA: 'Territory'})\n",
    "units['type'] = 'State/Territory' # A more descriptive name for the 'type' column\n",
    "\n",
    "# --- Define your color mapping ---\n",
    "color_map = {\n",
    "    'Biden': 'blue',\n",
    "    'Trump': 'red',\n",
    "    'Territory': 'green'\n",
    "}\n",
    "\n",
    "# --- Create the Polished Scatter Plot ---\n",
    "fig = px.scatter(\n",
    "    units,\n",
    "    x=\"population_2020\",\n",
    "    y=\"ratio_actual_expected\",\n",
    "    color=\"winner_label\",\n",
    "    color_discrete_map=color_map,\n",
    "    symbol=\"type\",\n",
    "    hover_name=\"entity\",\n",
    "    height=800,\n",
    "    hover_data={'ratio_actual_expected': ':.2f'},\n",
    "    # --- THIS IS THE FIX for the labels ---\n",
    "    labels={\n",
    "        \"population_2020\": \"Population (2020)\",\n",
    "        \"ratio_actual_expected\": \"Actual vs. Expected Funding Ratio\",\n",
    "        \"winner_label\": \"2020 Election Winner\", \n",
    "        \"type\": \"Entity Type\"              \n",
    "    },\n",
    "    title=\"Funding Proportionality vs. Population\"\n",
    ")\n",
    "\n",
    "# --- Add formatting and layout improvements ---\n",
    "fig.add_hline(y=1.0, line_dash=\"dash\", annotation_text=\"Proportional Funding = 1.0\")\n",
    "fig.update_xaxes(separatethousands=True)\n",
    "fig.update_yaxes(ticksuffix=\"×\", rangemode=\"tozero\")\n",
    "\n",
    "# --- Polish the legend and overall look ---\n",
    "fig.update_layout(\n",
    "    legend_title_text='Legend', # A simpler, single title for the legend\n",
    "    legend=dict(\n",
    "        x=0.99, # Position legend in the top right\n",
    "        y=0.98,\n",
    "        xanchor='right',\n",
    "        yanchor='top',\n",
    "        bgcolor='rgba(255, 255, 255, 0.7)', # Semi-transparent background\n",
    "        bordercolor='black',\n",
    "        borderwidth=1\n",
    "    )\n",
    ")\n",
    "\n",
    "fig.show()"
   ]
  },
  {
   "cell_type": "markdown",
   "id": "7c1a683c",
   "metadata": {},
   "source": [
    "* The dashed line is proportional funding (1.0×). Points above got more than population-proportional, below got less.\n",
    "\n",
    "* Clear size effect: small-population states get multiples of expected (some ~5–9×); big states cluster around 0.8–1.1×.\n",
    "\n",
    "* Variance collapses with population—huge spread for tiny states, tight around 1.0 for large ones. That screams fixed-cost / formula floors, not politics.\n",
    "\n",
    "* No clean partisan split: both colors appear above and below 1.0; the extremes are mostly small rural states (many GOP) plus DC/VT/RI on the Dem side."
   ]
  },
  {
   "cell_type": "code",
   "execution_count": null,
   "id": "777b0d40",
   "metadata": {},
   "outputs": [
    {
     "name": "stderr",
     "output_type": "stream",
     "text": [
      "C:\\Users\\farho\\AppData\\Local\\Temp\\ipykernel_93552\\1393728253.py:64: FutureWarning:\n",
      "\n",
      "Downcasting object dtype arrays on .fillna, .ffill, .bfill is deprecated and will change in a future version. Call result.infer_objects(copy=False) instead. To opt-in to the future behavior, set `pd.set_option('future.no_silent_downcasting', True)`\n",
      "\n",
      "C:\\Users\\farho\\AppData\\Local\\Temp\\ipykernel_93552\\1393728253.py:64: FutureWarning:\n",
      "\n",
      "Downcasting object dtype arrays on .fillna, .ffill, .bfill is deprecated and will change in a future version. Call result.infer_objects(copy=False) instead. To opt-in to the future behavior, set `pd.set_option('future.no_silent_downcasting', True)`\n",
      "\n"
     ]
    },
    {
     "data": {
      "image/png": "[encoded data removed]",
      "text/plain": [
       "<Figure size 1200x1080 with 2 Axes>"
      ]
     },
     "metadata": {},
     "output_type": "display_data"
    }
   ],
   "source": [
    "\n",
    "\n",
    "\n",
    "try:\n",
    "    df_iija\n",
    "except NameError:\n",
    "    df_iija = pd.read_csv(path) \n",
    "\n",
    "df = df_iija.copy()\n",
    "if \"is_state_like\" in df.columns:\n",
    "    df = df[df[\"is_state_like\"]].copy()\n",
    "\n",
    "df[\"per_capita_usd\"] = pd.to_numeric(df[\"per_capita_usd\"], errors=\"coerce\")\n",
    "df = df.dropna(subset=[\"per_capita_usd\", \"entity\"])\n",
    "\n",
    "med = df[\"per_capita_usd\"].median()\n",
    "df[\"dev\"] = df[\"per_capita_usd\"] - med\n",
    "df[\"pct\"] = 100 * df[\"dev\"] / med\n",
    "\n",
    "top = df.nlargest(10, \"dev\").sort_values(\"dev\").copy()\n",
    "bot = df.nsmallest(10, \"dev\").sort_values(\"dev\").copy()\n",
    "\n",
    "# styling constant\n",
    "BIDEN_BLUE = \"#1f77b4\"\n",
    "TRUMP_RED  = \"#d62728\"\n",
    "BAR_COLOR  = \"#4C78A8\"\n",
    "WIN_S      = 70  \n",
    "\n",
    "lim = 1.15 * max(top[\"dev\"].max(), abs(bot[\"dev\"].min()))\n",
    "fmt = FuncFormatter(lambda x, _: f\"${x:,.0f}\")\n",
    "\n",
    "plt.rcParams.update({\n",
    "    \"axes.titlesize\": 13, \"axes.labelsize\": 11,\n",
    "    \"xtick.labelsize\": 10, \"ytick.labelsize\": 10,\n",
    "    \"axes.spines.right\": False, \"axes.spines.top\": False,\n",
    "    \"figure.dpi\": 120\n",
    "})\n",
    "\n",
    "# plot\n",
    "fig = plt.figure(figsize=(10, 9), constrained_layout=True)\n",
    "gs  = fig.add_gridspec(2, 1, height_ratios=[1, 1])\n",
    "ax1 = fig.add_subplot(gs[0, 0])\n",
    "ax2 = fig.add_subplot(gs[1, 0], sharex=ax1)\n",
    "\n",
    "def panel(ax, dat, title, left_labels):\n",
    "    ax.axvline(0, color=\"black\", lw=1)\n",
    "    ax.set_xlim(-lim, lim)\n",
    "    ax.set_title(title)\n",
    "    ax.set_ylabel(\"\")\n",
    "\n",
    "    bars = ax.barh(dat[\"entity\"], dat[\"dev\"], color=BAR_COLOR)\n",
    "\n",
    "    # Y centers for each bar\n",
    "    ycenters = np.array([b.get_y() + b.get_height()/2 for b in bars])\n",
    "\n",
    "    # mask for winner\n",
    "    mask_b = dat[\"biden_win_2020\"].fillna(False).astype(bool).to_numpy()\n",
    "    yb = ycenters[mask_b]\n",
    "    yr = ycenters[~mask_b]\n",
    "\n",
    "    # winner markers next to labels \n",
    "    if yb.size:\n",
    "        ax.scatter(np.full(yb.size, 0.012), yb,\n",
    "                   transform=ax.get_yaxis_transform(),\n",
    "                   marker='o', s=WIN_S, color=BIDEN_BLUE,\n",
    "                   edgecolors='white', linewidths=0.8, zorder=3)\n",
    "    if yr.size:\n",
    "        ax.scatter(np.full(yr.size, 0.012), yr,\n",
    "                   transform=ax.get_yaxis_transform(),\n",
    "                   marker='s', s=WIN_S, color=TRUMP_RED,\n",
    "                   edgecolors='white', linewidths=0.8, zorder=3)\n",
    "\n",
    "    # value labels at bar ends\n",
    "    for b, (_, r) in zip(bars, dat.iterrows()):\n",
    "        x = b.get_width()\n",
    "        y = b.get_y() + b.get_height()/2\n",
    "        txt = f\"${r['per_capita_usd']:,.0f} ({r['pct']:+.0f}%)\"\n",
    "        ax.text(x - lim*0.01 if left_labels else x + lim*0.01,\n",
    "                y, txt, va=\"center\",\n",
    "                ha=\"right\" if left_labels else \"left\", fontsize=9)\n",
    "\n",
    "# top panel \n",
    "panel(ax1, top, \"Top 10 Above Median\", left_labels=False)\n",
    "ax1.tick_params(axis=\"x\", which=\"both\", labelbottom=False, bottom=False)\n",
    "\n",
    "# bottom panel \n",
    "panel(ax2, bot, \"Bottom 10 Below Median\", left_labels=True)\n",
    "ax2.grid(axis=\"x\", ls=\"--\", alpha=.25)\n",
    "ax2.set_xlabel(\"Deviation from National Median (USD per person)\")\n",
    "ax2.xaxis.set_major_formatter(fmt)\n",
    "\n",
    "#title\n",
    "fig.suptitle(\"IIJA Funding per Person: Top & Bottom 10 States vs U.S. Median\",\n",
    "             fontsize=16, weight=\"bold\", y=1.05)\n",
    "\n",
    "# explanation box on the top panel\n",
    "note = AnchoredText(\n",
    "    f\"Median = ${med:,.0f}\\n\"\n",
    "    \"Bars show deviation from the median.\\n\"\n",
    "    \"Bar labels show each state's\\n\"\n",
    "    \"per-person value and % versus median.\",\n",
    "    loc=\"lower right\", pad=0.4, borderpad=0.6,\n",
    "    prop={\"size\": 10, \"color\": \"dimgray\"}, frameon=True\n",
    ")\n",
    "note.patch.set_boxstyle(\"round,pad=0.4,rounding_size=0.02\")\n",
    "note.patch.set_facecolor(\"white\"); note.patch.set_edgecolor(\"#cccccc\"); note.patch.set_alpha(0.95)\n",
    "ax1.add_artist(note)\n",
    "\n",
    "# legends for winner markers\n",
    "legend_elems = [\n",
    "    Line2D([0], [0], marker='o', linestyle='none', color=BIDEN_BLUE, label='Won by Biden', markersize=7),\n",
    "    Line2D([0], [0], marker='s', linestyle='none', color=TRUMP_RED,  label='Won by Trump', markersize=7),\n",
    "]\n",
    "ax1.legend(handles=legend_elems, title=\"2020 Election Winner\", loc=\"center right\", frameon=False)\n",
    "\n",
    "\n",
    "plt.show()\n"
   ]
  },
  {
   "cell_type": "markdown",
   "id": "94cc6a2b",
   "metadata": {},
   "source": [
    "## Key findings:\n",
    "\n",
    "* Median ≈ $597/person — that’s the anchor.\n",
    "\n",
    "* As we see the distribution is right-skewed: a few small states are well over the median (AK $5,045 +745%; WY +568%; MT +410%).\n",
    "\n",
    "* Bottom side distribution is mild: big states cluster ~–20–30%; bottom is Florida $381 (–36%).\n",
    "\n",
    "* The plot doesn't have an evidence of a partisan story: both Biden and Trump won states appear in top and bottom tens.\n",
    "\n",
    "* Takeaway: per-capita IIJA fundings per states varies wildly, probably driven mostly by small-state infrastructure needs, not clear evidence of favoritism."
   ]
  },
  {
   "cell_type": "code",
   "execution_count": 159,
   "id": "41796aad",
   "metadata": {},
   "outputs": [
    {
     "data": {
      "application/vnd.plotly.v1+json": {
       "config": {
        "plotlyServerURL": "https://plot.ly",
        "scrollZoom": false
       },
       "data": [
        {
         "colorbar": {
          "len": 0.7,
          "orientation": "h",
          "ticktext": [
           "$0",
           "<b>National<br> average:<br>$578</b>",
           "$1,000",
           "$2,000",
           "$3,000",
           "$4,000",
           "$5,000"
          ],
          "tickvals": [
           0,
           578.0549573737045,
           1000,
           2000,
           3000,
           4000,
           5000
          ],
          "title": {
           "text": "Per Capita<br>Funding (USD)"
          },
          "x": 0.5,
          "xanchor": "center",
          "y": -0.1,
          "yanchor": "bottom"
         },
         "colorscale": [
          [
           0,
           "#9fb3c8"
          ],
          [
           0.3,
           "#6b8fb9"
          ],
          [
           0.6,
           "#3f6ea8"
          ],
          [
           0.85,
           "#1f4f8a"
          ],
          [
           1,
           "#0b3b75"
          ]
         ],
         "customdata": [
          [
           "ALASKA",
           "Donald Trump (2020)",
           5045.057820453209
          ],
          [
           "WYOMING",
           "Donald Trump (2020)",
           3987.164796455237
          ],
          [
           "MONTANA",
           "Donald Trump (2020)",
           3043.648689155849
          ],
          [
           "NORTH DAKOTA",
           "Donald Trump (2020)",
           2310.37589815863
          ],
          [
           "DISTRICT OF COLUMBIA",
           "Joe Biden (2020)",
           1595.2548419610032
          ],
          [
           "SOUTH DAKOTA",
           "Donald Trump (2020)",
           1466.1648623440367
          ],
          [
           "VERMONT",
           "Joe Biden (2020)",
           1325.0357266703677
          ],
          [
           "NEW MEXICO",
           "Joe Biden (2020)",
           1227.8502891587432
          ],
          [
           "WEST VIRGINIA",
           "Donald Trump (2020)",
           1115.0037129623645
          ],
          [
           "RHODE ISLAND",
           "Joe Biden (2020)",
           1002.3884182219634
          ],
          [
           "ARKANSAS",
           "Donald Trump (2020)",
           929.7618083070232
          ],
          [
           "LOUISIANA",
           "Donald Trump (2020)",
           923.1911411436878
          ],
          [
           "KENTUCKY",
           "Donald Trump (2020)",
           865.5441520730004
          ],
          [
           "MAINE",
           "Joe Biden (2020)",
           807.4230067111532
          ],
          [
           "DELAWARE",
           "Joe Biden (2020)",
           800.0420224092578
          ],
          [
           "MISSISSIPPI",
           "Donald Trump (2020)",
           776.6914228615406
          ],
          [
           "IOWA",
           "Donald Trump (2020)",
           752.264079797666
          ],
          [
           "OKLAHOMA",
           "Donald Trump (2020)",
           732.4429016559019
          ],
          [
           "CONNECTICUT",
           "Joe Biden (2020)",
           693.2997295576415
          ],
          [
           "HAWAII",
           "Joe Biden (2020)",
           687.1572373805291
          ],
          [
           "NEBRASKA",
           "Donald Trump (2020)",
           662.7567417655024
          ],
          [
           "ILLINOIS",
           "Joe Biden (2020)",
           655.6093467414811
          ],
          [
           "IDAHO",
           "Donald Trump (2020)",
           652.4909385320911
          ],
          [
           "PENNSYLVANIA",
           "Joe Biden (2020)",
           622.9475416644235
          ],
          [
           "MISSOURI",
           "Donald Trump (2020)",
           617.3929672117217
          ],
          [
           "ALABAMA",
           "Donald Trump (2020)",
           597.100598911804
          ],
          [
           "OHIO",
           "Donald Trump (2020)",
           559.3482000174923
          ],
          [
           "COLORADO",
           "Joe Biden (2020)",
           554.2359735864991
          ],
          [
           "UTAH",
           "Donald Trump (2020)",
           550.1868189909818
          ],
          [
           "NEW JERSEY",
           "Joe Biden (2020)",
           549.0368494155557
          ],
          [
           "NEVADA",
           "Joe Biden (2020)",
           547.5720975296769
          ],
          [
           "NEW HAMPSHIRE",
           "Joe Biden (2020)",
           545.7598351831432
          ],
          [
           "OREGON",
           "Joe Biden (2020)",
           542.8041166264205
          ],
          [
           "TENNESSEE",
           "Donald Trump (2020)",
           535.3907773874088
          ],
          [
           "VIRGINIA",
           "Joe Biden (2020)",
           521.3526947504301
          ],
          [
           "WASHINGTON",
           "Joe Biden (2020)",
           519.1244809890775
          ],
          [
           "MICHIGAN",
           "Joe Biden (2020)",
           516.0096458080021
          ],
          [
           "MASSACHUSETTS",
           "Joe Biden (2020)",
           512.0970845032737
          ],
          [
           "KANSAS",
           "Donald Trump (2020)",
           510.57224937710185
          ],
          [
           "INDIANA",
           "Donald Trump (2020)",
           501.06638716987095
          ],
          [
           "NEW YORK",
           "Joe Biden (2020)",
           499.9690860698762
          ],
          [
           "ARIZONA",
           "Joe Biden (2020)",
           489.4076796734448
          ],
          [
           "TEXAS",
           "Donald Trump (2020)",
           487.2106350533298
          ],
          [
           "WISCONSIN",
           "Joe Biden (2020)",
           475.0821128530412
          ],
          [
           "MINNESOTA",
           "Joe Biden (2020)",
           473.145157078935
          ],
          [
           "GEORGIA",
           "Joe Biden (2020)",
           466.7702523210618
          ],
          [
           "CALIFORNIA",
           "Joe Biden (2020)",
           465.3724574318881
          ],
          [
           "SOUTH CAROLINA",
           "Donald Trump (2020)",
           449.35697993034967
          ],
          [
           "MARYLAND",
           "Joe Biden (2020)",
           437.0895405444258
          ],
          [
           "NORTH CAROLINA",
           "Donald Trump (2020)",
           431.0597517785525
          ],
          [
           "FLORIDA",
           "Donald Trump (2020)",
           380.7191385235906
          ]
         ],
         "hovertemplate": "<b>%{customdata[0]}</b><br>Winner: %{customdata[1]}<br>Per capita: $%{customdata[2]:,.0f}<extra></extra>",
         "locationmode": "USA-states",
         "locations": [
          "AK",
          "WY",
          "MT",
          "ND",
          "DC",
          "SD",
          "VT",
          "NM",
          "WV",
          "RI",
          "AR",
          "LA",
          "KY",
          "ME",
          "DE",
          "MS",
          "IA",
          "OK",
          "CT",
          "HI",
          "NE",
          "IL",
          "ID",
          "PA",
          "MO",
          "AL",
          "OH",
          "CO",
          "UT",
          "NJ",
          "NV",
          "NH",
          "OR",
          "TN",
          "VA",
          "WA",
          "MI",
          "MA",
          "KS",
          "IN",
          "NY",
          "AZ",
          "TX",
          "WI",
          "MN",
          "GA",
          "CA",
          "SC",
          "MD",
          "NC",
          "FL"
         ],
         "marker": {
          "line": {
           "color": "white"
          }
         },
         "reversescale": false,
         "type": "choropleth",
         "z": {
          "bdata": "kztSzQ61s0B7czNgVCavQEgr/CBMx6dA4zO5dcAMokChgEr1BO2YQOufrNGo6JZATEOIlSS0lEDIgzOyZi+TQLWvVM0DbJFAB0QDextTj0DjI/QuGA6NQHkIAnWH2YxAs+xmbFoMi0Ais1dRYjuJQLFL2A9WAIlAMJC1CIhFiEAUdN7VHIKHQIv7BRCL44ZAuD2c2GWqhUCm+KsFQnmFQM1yoM4NtoRArzQv8d98hEBsXS5x7WOEQF9iuZCUd4NA9lX+yyRLg0CxYc0GzqiCQMU8Fx3JeoFA3qUeRuNRgUBPhPSafjGBQILVtHdLKIFAraDep5McgUCa73ckFA6BQCulstRu9oBAfxflTyC7gECMFKBR0kqAQH6I4+/+OIBATW8uwRMggEASdD3UxgCAQPF89u4n6X9AhDf+6w9Rf0AKEmVggT9/QAgLH9uFln5AFZfcwl5zfkBLJpFVULF9QPCsOpBSkn1ADgoZ9FIsfUDJkeyV9RV9QOJiljC2FXxAmd8Qwm5Re0As7Ee+9PB6QNiBZZeBy3dA",
          "dtype": "f8"
         }
        },
        {
         "hoverinfo": "none",
         "locationmode": "USA-states",
         "locations": [
          "AK",
          "WY",
          "MT",
          "ND",
          "DC",
          "SD",
          "VT",
          "NM",
          "WV",
          "RI",
          "AR",
          "LA",
          "KY",
          "ME",
          "DE",
          "MS",
          "IA",
          "OK",
          "CT",
          "HI",
          "NE",
          "IL",
          "ID",
          "PA",
          "MO",
          "AL",
          "OH",
          "CO",
          "UT",
          "NJ",
          "NV",
          "NH",
          "OR",
          "TN",
          "VA",
          "WA",
          "MI",
          "MA",
          "KS",
          "IN",
          "NY",
          "AZ",
          "TX",
          "WI",
          "MN",
          "GA",
          "CA",
          "SC",
          "MD",
          "NC",
          "FL"
         ],
         "mode": "text",
         "text": [
          "AK",
          "WY",
          "MT",
          "ND",
          "DC",
          "SD",
          "VT",
          "NM",
          "WV",
          "RI",
          "AR",
          "LA",
          "KY",
          "ME",
          "DE",
          "MS",
          "IA",
          "OK",
          "CT",
          "HI",
          "NE",
          "IL",
          "ID",
          "PA",
          "MO",
          "AL",
          "OH",
          "CO",
          "UT",
          "NJ",
          "NV",
          "NH",
          "OR",
          "TN",
          "VA",
          "WA",
          "MI",
          "MA",
          "KS",
          "IN",
          "NY",
          "AZ",
          "TX",
          "WI",
          "MN",
          "GA",
          "CA",
          "SC",
          "MD",
          "NC",
          "FL"
         ],
         "textfont": {
          "color": [
           "red",
           "red",
           "red",
           "red",
           "blue",
           "red",
           "blue",
           "blue",
           "red",
           "blue",
           "red",
           "red",
           "red",
           "blue",
           "blue",
           "red",
           "red",
           "red",
           "blue",
           "blue",
           "red",
           "blue",
           "red",
           "blue",
           "red",
           "red",
           "red",
           "blue",
           "red",
           "blue",
           "blue",
           "blue",
           "blue",
           "red",
           "blue",
           "blue",
           "blue",
           "blue",
           "red",
           "red",
           "blue",
           "blue",
           "red",
           "blue",
           "blue",
           "blue",
           "blue",
           "red",
           "blue",
           "red",
           "red"
          ],
          "family": "Arial, sans-serif",
          "size": 12
         },
         "type": "scattergeo"
        }
       ],
       "layout": {
        "annotations": [
         {
          "align": "right",
          "bgcolor": "rgba(255, 255, 255, 0.7)",
          "bordercolor": "rgba(0,0,0,0)",
          "font": {
           "color": "black",
           "family": "Arial, sans-serif",
           "size": 14
          },
          "showarrow": false,
          "text": "States won by D. Trump are in red<br>States won by J. Biden are in blue<br><b>Key Observations:</b><br>• The national average allocation is<br> <b>$578.05</b> per person.<br>• Funding is not equitable by population;<br> less populous states like<br>  AK, WY, and MT receive<br> the most per capita.<br>• No clear political bias is apparent,<br> with high funding<br>  in both Republican (AK, WY)<br> and Democratic (VT, RI) states.",
          "x": 1,
          "xanchor": "right",
          "xref": "paper",
          "y": 0.03,
          "yanchor": "bottom",
          "yref": "paper"
         },
         {
          "align": "left",
          "bgcolor": "rgba(255, 255, 255, 0.7)",
          "bordercolor": "rgba(0,0,0,0)",
          "font": {
           "color": "black",
           "family": "Arial, sans-serif",
           "size": 14
          },
          "showarrow": false,
          "text": "You can hover over state to see</b><br>the winner candidate,.<br>and the state's average per capita received funds<br>",
          "x": 0.75,
          "xanchor": "right",
          "xref": "paper",
          "y": 0.97,
          "yanchor": "top",
          "yref": "paper"
         }
        ],
        "geo": {
         "projection": {
          "type": "albers usa"
         },
         "scope": "usa",
         "showcoastlines": false,
         "showframe": false
        },
        "height": 850,
        "template": {
         "data": {
          "bar": [
           {
            "error_x": {
             "color": "#2a3f5f"
            },
            "error_y": {
             "color": "#2a3f5f"
            },
            "marker": {
             "line": {
              "color": "white",
              "width": 0.5
             },
             "pattern": {
              "fillmode": "overlay",
              "size": 10,
              "solidity": 0.2
             }
            },
            "type": "bar"
           }
          ],
          "barpolar": [
           {
            "marker": {
             "line": {
              "color": "white",
              "width": 0.5
             },
             "pattern": {
              "fillmode": "overlay",
              "size": 10,
              "solidity": 0.2
             }
            },
            "type": "barpolar"
           }
          ],
          "carpet": [
           {
            "aaxis": {
             "endlinecolor": "#2a3f5f",
             "gridcolor": "#C8D4E3",
             "linecolor": "#C8D4E3",
             "minorgridcolor": "#C8D4E3",
             "startlinecolor": "#2a3f5f"
            },
            "baxis": {
             "endlinecolor": "#2a3f5f",
             "gridcolor": "#C8D4E3",
             "linecolor": "#C8D4E3",
             "minorgridcolor": "#C8D4E3",
             "startlinecolor": "#2a3f5f"
            },
            "type": "carpet"
           }
          ],
          "choropleth": [
           {
            "colorbar": {
             "outlinewidth": 0,
             "ticks": ""
            },
            "type": "choropleth"
           }
          ],
          "contour": [
           {
            "colorbar": {
             "outlinewidth": 0,
             "ticks": ""
            },
            "colorscale": [
             [
              0,
              "#0d0887"
             ],
             [
              0.1111111111111111,
              "#46039f"
             ],
             [
              0.2222222222222222,
              "#7201a8"
             ],
             [
              0.3333333333333333,
              "#9c179e"
             ],
             [
              0.4444444444444444,
              "#bd3786"
             ],
             [
              0.5555555555555556,
              "#d8576b"
             ],
             [
              0.6666666666666666,
              "#ed7953"
             ],
             [
              0.7777777777777778,
              "#fb9f3a"
             ],
             [
              0.8888888888888888,
              "#fdca26"
             ],
             [
              1,
              "#f0f921"
             ]
            ],
            "type": "contour"
           }
          ],
          "contourcarpet": [
           {
            "colorbar": {
             "outlinewidth": 0,
             "ticks": ""
            },
            "type": "contourcarpet"
           }
          ],
          "heatmap": [
           {
            "colorbar": {
             "outlinewidth": 0,
             "ticks": ""
            },
            "colorscale": [
             [
              0,
              "#0d0887"
             ],
             [
              0.1111111111111111,
              "#46039f"
             ],
             [
              0.2222222222222222,
              "#7201a8"
             ],
             [
              0.3333333333333333,
              "#9c179e"
             ],
             [
              0.4444444444444444,
              "#bd3786"
             ],
             [
              0.5555555555555556,
              "#d8576b"
             ],
             [
              0.6666666666666666,
              "#ed7953"
             ],
             [
              0.7777777777777778,
              "#fb9f3a"
             ],
             [
              0.8888888888888888,
              "#fdca26"
             ],
             [
              1,
              "#f0f921"
             ]
            ],
            "type": "heatmap"
           }
          ],
          "histogram": [
           {
            "marker": {
             "pattern": {
              "fillmode": "overlay",
              "size": 10,
              "solidity": 0.2
             }
            },
            "type": "histogram"
           }
          ],
          "histogram2d": [
           {
            "colorbar": {
             "outlinewidth": 0,
             "ticks": ""
            },
            "colorscale": [
             [
              0,
              "#0d0887"
             ],
             [
              0.1111111111111111,
              "#46039f"
             ],
             [
              0.2222222222222222,
              "#7201a8"
             ],
             [
              0.3333333333333333,
              "#9c179e"
             ],
             [
              0.4444444444444444,
              "#bd3786"
             ],
             [
              0.5555555555555556,
              "#d8576b"
             ],
             [
              0.6666666666666666,
              "#ed7953"
             ],
             [
              0.7777777777777778,
              "#fb9f3a"
             ],
             [
              0.8888888888888888,
              "#fdca26"
             ],
             [
              1,
              "#f0f921"
             ]
            ],
            "type": "histogram2d"
           }
          ],
          "histogram2dcontour": [
           {
            "colorbar": {
             "outlinewidth": 0,
             "ticks": ""
            },
            "colorscale": [
             [
              0,
              "#0d0887"
             ],
             [
              0.1111111111111111,
              "#46039f"
             ],
             [
              0.2222222222222222,
              "#7201a8"
             ],
             [
              0.3333333333333333,
              "#9c179e"
             ],
             [
              0.4444444444444444,
              "#bd3786"
             ],
             [
              0.5555555555555556,
              "#d8576b"
             ],
             [
              0.6666666666666666,
              "#ed7953"
             ],
             [
              0.7777777777777778,
              "#fb9f3a"
             ],
             [
              0.8888888888888888,
              "#fdca26"
             ],
             [
              1,
              "#f0f921"
             ]
            ],
            "type": "histogram2dcontour"
           }
          ],
          "mesh3d": [
           {
            "colorbar": {
             "outlinewidth": 0,
             "ticks": ""
            },
            "type": "mesh3d"
           }
          ],
          "parcoords": [
           {
            "line": {
             "colorbar": {
              "outlinewidth": 0,
              "ticks": ""
             }
            },
            "type": "parcoords"
           }
          ],
          "pie": [
           {
            "automargin": true,
            "type": "pie"
           }
          ],
          "scatter": [
           {
            "fillpattern": {
             "fillmode": "overlay",
             "size": 10,
             "solidity": 0.2
            },
            "type": "scatter"
           }
          ],
          "scatter3d": [
           {
            "line": {
             "colorbar": {
              "outlinewidth": 0,
              "ticks": ""
             }
            },
            "marker": {
             "colorbar": {
              "outlinewidth": 0,
              "ticks": ""
             }
            },
            "type": "scatter3d"
           }
          ],
          "scattercarpet": [
           {
            "marker": {
             "colorbar": {
              "outlinewidth": 0,
              "ticks": ""
             }
            },
            "type": "scattercarpet"
           }
          ],
          "scattergeo": [
           {
            "marker": {
             "colorbar": {
              "outlinewidth": 0,
              "ticks": ""
             }
            },
            "type": "scattergeo"
           }
          ],
          "scattergl": [
           {
            "marker": {
             "colorbar": {
              "outlinewidth": 0,
              "ticks": ""
             }
            },
            "type": "scattergl"
           }
          ],
          "scattermap": [
           {
            "marker": {
             "colorbar": {
              "outlinewidth": 0,
              "ticks": ""
             }
            },
            "type": "scattermap"
           }
          ],
          "scattermapbox": [
           {
            "marker": {
             "colorbar": {
              "outlinewidth": 0,
              "ticks": ""
             }
            },
            "type": "scattermapbox"
           }
          ],
          "scatterpolar": [
           {
            "marker": {
             "colorbar": {
              "outlinewidth": 0,
              "ticks": ""
             }
            },
            "type": "scatterpolar"
           }
          ],
          "scatterpolargl": [
           {
            "marker": {
             "colorbar": {
              "outlinewidth": 0,
              "ticks": ""
             }
            },
            "type": "scatterpolargl"
           }
          ],
          "scatterternary": [
           {
            "marker": {
             "colorbar": {
              "outlinewidth": 0,
              "ticks": ""
             }
            },
            "type": "scatterternary"
           }
          ],
          "surface": [
           {
            "colorbar": {
             "outlinewidth": 0,
             "ticks": ""
            },
            "colorscale": [
             [
              0,
              "#0d0887"
             ],
             [
              0.1111111111111111,
              "#46039f"
             ],
             [
              0.2222222222222222,
              "#7201a8"
             ],
             [
              0.3333333333333333,
              "#9c179e"
             ],
             [
              0.4444444444444444,
              "#bd3786"
             ],
             [
              0.5555555555555556,
              "#d8576b"
             ],
             [
              0.6666666666666666,
              "#ed7953"
             ],
             [
              0.7777777777777778,
              "#fb9f3a"
             ],
             [
              0.8888888888888888,
              "#fdca26"
             ],
             [
              1,
              "#f0f921"
             ]
            ],
            "type": "surface"
           }
          ],
          "table": [
           {
            "cells": {
             "fill": {
              "color": "#EBF0F8"
             },
             "line": {
              "color": "white"
             }
            },
            "header": {
             "fill": {
              "color": "#C8D4E3"
             },
             "line": {
              "color": "white"
             }
            },
            "type": "table"
           }
          ]
         },
         "layout": {
          "annotationdefaults": {
           "arrowcolor": "#2a3f5f",
           "arrowhead": 0,
           "arrowwidth": 1
          },
          "autotypenumbers": "strict",
          "coloraxis": {
           "colorbar": {
            "outlinewidth": 0,
            "ticks": ""
           }
          },
          "colorscale": {
           "diverging": [
            [
             0,
             "#8e0152"
            ],
            [
             0.1,
             "#c51b7d"
            ],
            [
             0.2,
             "#de77ae"
            ],
            [
             0.3,
             "#f1b6da"
            ],
            [
             0.4,
             "#fde0ef"
            ],
            [
             0.5,
             "#f7f7f7"
            ],
            [
             0.6,
             "#e6f5d0"
            ],
            [
             0.7,
             "#b8e186"
            ],
            [
             0.8,
             "#7fbc41"
            ],
            [
             0.9,
             "#4d9221"
            ],
            [
             1,
             "#276419"
            ]
           ],
           "sequential": [
            [
             0,
             "#0d0887"
            ],
            [
             0.1111111111111111,
             "#46039f"
            ],
            [
             0.2222222222222222,
             "#7201a8"
            ],
            [
             0.3333333333333333,
             "#9c179e"
            ],
            [
             0.4444444444444444,
             "#bd3786"
            ],
            [
             0.5555555555555556,
             "#d8576b"
            ],
            [
             0.6666666666666666,
             "#ed7953"
            ],
            [
             0.7777777777777778,
             "#fb9f3a"
            ],
            [
             0.8888888888888888,
             "#fdca26"
            ],
            [
             1,
             "#f0f921"
            ]
           ],
           "sequentialminus": [
            [
             0,
             "#0d0887"
            ],
            [
             0.1111111111111111,
             "#46039f"
            ],
            [
             0.2222222222222222,
             "#7201a8"
            ],
            [
             0.3333333333333333,
             "#9c179e"
            ],
            [
             0.4444444444444444,
             "#bd3786"
            ],
            [
             0.5555555555555556,
             "#d8576b"
            ],
            [
             0.6666666666666666,
             "#ed7953"
            ],
            [
             0.7777777777777778,
             "#fb9f3a"
            ],
            [
             0.8888888888888888,
             "#fdca26"
            ],
            [
             1,
             "#f0f921"
            ]
           ]
          },
          "colorway": [
           "#636efa",
           "#EF553B",
           "#00cc96",
           "#ab63fa",
           "#FFA15A",
           "#19d3f3",
           "#FF6692",
           "#B6E880",
           "#FF97FF",
           "#FECB52"
          ],
          "font": {
           "color": "#2a3f5f"
          },
          "geo": {
           "bgcolor": "white",
           "lakecolor": "white",
           "landcolor": "white",
           "showlakes": true,
           "showland": true,
           "subunitcolor": "#C8D4E3"
          },
          "hoverlabel": {
           "align": "left"
          },
          "hovermode": "closest",
          "mapbox": {
           "style": "light"
          },
          "paper_bgcolor": "white",
          "plot_bgcolor": "white",
          "polar": {
           "angularaxis": {
            "gridcolor": "#EBF0F8",
            "linecolor": "#EBF0F8",
            "ticks": ""
           },
           "bgcolor": "white",
           "radialaxis": {
            "gridcolor": "#EBF0F8",
            "linecolor": "#EBF0F8",
            "ticks": ""
           }
          },
          "scene": {
           "xaxis": {
            "backgroundcolor": "white",
            "gridcolor": "#DFE8F3",
            "gridwidth": 2,
            "linecolor": "#EBF0F8",
            "showbackground": true,
            "ticks": "",
            "zerolinecolor": "#EBF0F8"
           },
           "yaxis": {
            "backgroundcolor": "white",
            "gridcolor": "#DFE8F3",
            "gridwidth": 2,
            "linecolor": "#EBF0F8",
            "showbackground": true,
            "ticks": "",
            "zerolinecolor": "#EBF0F8"
           },
           "zaxis": {
            "backgroundcolor": "white",
            "gridcolor": "#DFE8F3",
            "gridwidth": 2,
            "linecolor": "#EBF0F8",
            "showbackground": true,
            "ticks": "",
            "zerolinecolor": "#EBF0F8"
           }
          },
          "shapedefaults": {
           "line": {
            "color": "#2a3f5f"
           }
          },
          "ternary": {
           "aaxis": {
            "gridcolor": "#DFE8F3",
            "linecolor": "#A2B1C6",
            "ticks": ""
           },
           "baxis": {
            "gridcolor": "#DFE8F3",
            "linecolor": "#A2B1C6",
            "ticks": ""
           },
           "bgcolor": "white",
           "caxis": {
            "gridcolor": "#DFE8F3",
            "linecolor": "#A2B1C6",
            "ticks": ""
           }
          },
          "title": {
           "x": 0.05
          },
          "xaxis": {
           "automargin": true,
           "gridcolor": "#EBF0F8",
           "linecolor": "#EBF0F8",
           "ticks": "",
           "title": {
            "standoff": 15
           },
           "zerolinecolor": "#EBF0F8",
           "zerolinewidth": 2
          },
          "yaxis": {
           "automargin": true,
           "gridcolor": "#EBF0F8",
           "linecolor": "#EBF0F8",
           "ticks": "",
           "title": {
            "standoff": 15
           },
           "zerolinecolor": "#EBF0F8",
           "zerolinewidth": 2
          }
         }
        },
        "title": {
         "text": "Variation in IIJA Funding per Person, by State<br><sup>USD per resident; darker color is equal to more fundings per capita than national average</sup>",
         "x": 0.02,
         "xanchor": "left"
        },
        "width": 1400
       }
      }
     },
     "metadata": {},
     "output_type": "display_data"
    },
    {
     "ename": "ValueError",
     "evalue": "\nImage export using the \"kaleido\" engine requires the Kaleido package,\nwhich can be installed using pip:\n\n    $ pip install --upgrade kaleido\n",
     "output_type": "error",
     "traceback": [
      "\u001b[31m---------------------------------------------------------------------------\u001b[39m",
      "\u001b[31mValueError\u001b[39m                                Traceback (most recent call last)",
      "\u001b[36mCell\u001b[39m\u001b[36m \u001b[39m\u001b[32mIn[159]\u001b[39m\u001b[32m, line 149\u001b[39m\n\u001b[32m    101\u001b[39m fig.update_layout(\n\u001b[32m    102\u001b[39m     title=\u001b[38;5;28mdict\u001b[39m(\n\u001b[32m    103\u001b[39m         text=\u001b[33m\"\u001b[39m\u001b[33mVariation in IIJA Funding per Person, by State\u001b[39m\u001b[33m\"\u001b[39m\n\u001b[32m   (...)\u001b[39m\u001b[32m    145\u001b[39m \n\u001b[32m    146\u001b[39m )\n\u001b[32m    148\u001b[39m fig.show(config={\u001b[33m'\u001b[39m\u001b[33mscrollZoom\u001b[39m\u001b[33m'\u001b[39m: \u001b[38;5;28;01mFalse\u001b[39;00m})\n\u001b[32m--> \u001b[39m\u001b[32m149\u001b[39m \u001b[43mfig\u001b[49m\u001b[43m.\u001b[49m\u001b[43mwrite_image\u001b[49m\u001b[43m(\u001b[49m\u001b[33;43m\"\u001b[39;49m\u001b[33;43mmap.png\u001b[39;49m\u001b[33;43m\"\u001b[39;49m\u001b[43m,\u001b[49m\u001b[43m \u001b[49m\u001b[43mscale\u001b[49m\u001b[43m=\u001b[49m\u001b[32;43m2\u001b[39;49m\u001b[43m)\u001b[49m          \u001b[38;5;66;03m# static fallback\u001b[39;00m\n\u001b[32m    150\u001b[39m \u001b[38;5;28;01mfrom\u001b[39;00m\u001b[38;5;250m \u001b[39m\u001b[34;01mIPython\u001b[39;00m\u001b[34;01m.\u001b[39;00m\u001b[34;01mdisplay\u001b[39;00m\u001b[38;5;250m \u001b[39m\u001b[38;5;28;01mimport\u001b[39;00m Image, display\n\u001b[32m    151\u001b[39m display(Image(\u001b[33m\"\u001b[39m\u001b[33mmap.png\u001b[39m\u001b[33m\"\u001b[39m))                    \u001b[38;5;66;03m# embeds the PNG in the notebook\u001b[39;00m\n",
      "\u001b[36mFile \u001b[39m\u001b[32mc:\\Users\\farho\\anaconda3\\envs\\stl-recsys\\Lib\\site-packages\\plotly\\basedatatypes.py:3895\u001b[39m, in \u001b[36mBaseFigure.write_image\u001b[39m\u001b[34m(self, *args, **kwargs)\u001b[39m\n\u001b[32m   3891\u001b[39m     \u001b[38;5;28;01mif\u001b[39;00m kwargs.get(\u001b[33m\"\u001b[39m\u001b[33mengine\u001b[39m\u001b[33m\"\u001b[39m, \u001b[38;5;28;01mNone\u001b[39;00m):\n\u001b[32m   3892\u001b[39m         warnings.warn(\n\u001b[32m   3893\u001b[39m             ENGINE_PARAM_DEPRECATION_MSG, \u001b[38;5;167;01mDeprecationWarning\u001b[39;00m, stacklevel=\u001b[32m2\u001b[39m\n\u001b[32m   3894\u001b[39m         )\n\u001b[32m-> \u001b[39m\u001b[32m3895\u001b[39m \u001b[38;5;28;01mreturn\u001b[39;00m \u001b[43mpio\u001b[49m\u001b[43m.\u001b[49m\u001b[43mwrite_image\u001b[49m\u001b[43m(\u001b[49m\u001b[38;5;28;43mself\u001b[39;49m\u001b[43m,\u001b[49m\u001b[43m \u001b[49m\u001b[43m*\u001b[49m\u001b[43margs\u001b[49m\u001b[43m,\u001b[49m\u001b[43m \u001b[49m\u001b[43m*\u001b[49m\u001b[43m*\u001b[49m\u001b[43mkwargs\u001b[49m\u001b[43m)\u001b[49m\n",
      "\u001b[36mFile \u001b[39m\u001b[32mc:\\Users\\farho\\anaconda3\\envs\\stl-recsys\\Lib\\site-packages\\plotly\\io\\_kaleido.py:510\u001b[39m, in \u001b[36mwrite_image\u001b[39m\u001b[34m(fig, file, format, scale, width, height, validate, engine)\u001b[39m\n\u001b[32m    506\u001b[39m \u001b[38;5;28mformat\u001b[39m = infer_format(path, \u001b[38;5;28mformat\u001b[39m)\n\u001b[32m    508\u001b[39m \u001b[38;5;66;03m# Request image\u001b[39;00m\n\u001b[32m    509\u001b[39m \u001b[38;5;66;03m# Do this first so we don't create a file if image conversion fails\u001b[39;00m\n\u001b[32m--> \u001b[39m\u001b[32m510\u001b[39m img_data = \u001b[43mto_image\u001b[49m\u001b[43m(\u001b[49m\n\u001b[32m    511\u001b[39m \u001b[43m    \u001b[49m\u001b[43mfig\u001b[49m\u001b[43m,\u001b[49m\n\u001b[32m    512\u001b[39m \u001b[43m    \u001b[49m\u001b[38;5;28;43mformat\u001b[39;49m\u001b[43m=\u001b[49m\u001b[38;5;28;43mformat\u001b[39;49m\u001b[43m,\u001b[49m\n\u001b[32m    513\u001b[39m \u001b[43m    \u001b[49m\u001b[43mscale\u001b[49m\u001b[43m=\u001b[49m\u001b[43mscale\u001b[49m\u001b[43m,\u001b[49m\n\u001b[32m    514\u001b[39m \u001b[43m    \u001b[49m\u001b[43mwidth\u001b[49m\u001b[43m=\u001b[49m\u001b[43mwidth\u001b[49m\u001b[43m,\u001b[49m\n\u001b[32m    515\u001b[39m \u001b[43m    \u001b[49m\u001b[43mheight\u001b[49m\u001b[43m=\u001b[49m\u001b[43mheight\u001b[49m\u001b[43m,\u001b[49m\n\u001b[32m    516\u001b[39m \u001b[43m    \u001b[49m\u001b[43mvalidate\u001b[49m\u001b[43m=\u001b[49m\u001b[43mvalidate\u001b[49m\u001b[43m,\u001b[49m\n\u001b[32m    517\u001b[39m \u001b[43m    \u001b[49m\u001b[43mengine\u001b[49m\u001b[43m=\u001b[49m\u001b[43mengine\u001b[49m\u001b[43m,\u001b[49m\n\u001b[32m    518\u001b[39m \u001b[43m\u001b[49m\u001b[43m)\u001b[49m\n\u001b[32m    520\u001b[39m \u001b[38;5;66;03m# Open file\u001b[39;00m\n\u001b[32m    521\u001b[39m \u001b[38;5;28;01mif\u001b[39;00m path \u001b[38;5;129;01mis\u001b[39;00m \u001b[38;5;28;01mNone\u001b[39;00m:\n\u001b[32m    522\u001b[39m     \u001b[38;5;66;03m# We previously failed to make sense of `file` as a pathlib object.\u001b[39;00m\n\u001b[32m    523\u001b[39m     \u001b[38;5;66;03m# Attempt to write to `file` as an open file descriptor.\u001b[39;00m\n",
      "\u001b[36mFile \u001b[39m\u001b[32mc:\\Users\\farho\\anaconda3\\envs\\stl-recsys\\Lib\\site-packages\\plotly\\io\\_kaleido.py:345\u001b[39m, in \u001b[36mto_image\u001b[39m\u001b[34m(fig, format, width, height, scale, validate, engine)\u001b[39m\n\u001b[32m    343\u001b[39m     \u001b[38;5;66;03m# Raise informative error message if Kaleido is not installed\u001b[39;00m\n\u001b[32m    344\u001b[39m     \u001b[38;5;28;01mif\u001b[39;00m \u001b[38;5;129;01mnot\u001b[39;00m kaleido_available():\n\u001b[32m--> \u001b[39m\u001b[32m345\u001b[39m         \u001b[38;5;28;01mraise\u001b[39;00m \u001b[38;5;167;01mValueError\u001b[39;00m(\n\u001b[32m    346\u001b[39m \u001b[38;5;250m            \u001b[39m\u001b[33;03m\"\"\"\u001b[39;00m\n\u001b[32m    347\u001b[39m \u001b[33;03mImage export using the \"kaleido\" engine requires the Kaleido package,\u001b[39;00m\n\u001b[32m    348\u001b[39m \u001b[33;03mwhich can be installed using pip:\u001b[39;00m\n\u001b[32m    349\u001b[39m \n\u001b[32m    350\u001b[39m \u001b[33;03m    $ pip install --upgrade kaleido\u001b[39;00m\n\u001b[32m    351\u001b[39m \u001b[33;03m\"\"\"\u001b[39;00m\n\u001b[32m    352\u001b[39m         )\n\u001b[32m    354\u001b[39m     \u001b[38;5;66;03m# Convert figure to dict (and validate if requested)\u001b[39;00m\n\u001b[32m    355\u001b[39m     fig_dict = validate_coerce_fig_to_dict(fig, validate)\n",
      "\u001b[31mValueError\u001b[39m: \nImage export using the \"kaleido\" engine requires the Kaleido package,\nwhich can be installed using pip:\n\n    $ pip install --upgrade kaleido\n"
     ]
    }
   ],
   "source": [
    "pio.renderers.default = \"plotly_mimetype\"\n",
    "df = pd.read_csv(path)\n",
    "\n",
    "state_codes = {\n",
    "    'ALABAMA': 'AL', 'ALASKA': 'AK', 'ARIZONA': 'AZ', 'ARKANSAS': 'AR', 'CALIFORNIA': 'CA',\n",
    "    'COLORADO': 'CO', 'CONNECTICUT': 'CT', 'DELAWARE': 'DE', 'FLORIDA': 'FL', 'GEORGIA': 'GA',\n",
    "    'HAWAII': 'HI', 'IDAHO': 'ID', 'ILLINOIS': 'IL', 'INDIANA': 'IN', 'IOWA': 'IA',\n",
    "    'KANSAS': 'KS', 'KENTUCKY': 'KY', 'LOUISIANA': 'LA', 'MAINE': 'ME', 'MARYLAND': 'MD',\n",
    "    'MASSACHUSETTS': 'MA', 'MICHIGAN': 'MI', 'MINNESOTA': 'MN', 'MISSISSIPPI': 'MS',\n",
    "    'MISSOURI': 'MO', 'MONTANA': 'MT', 'NEBRASKA': 'NE', 'NEVADA': 'NV', 'NEW HAMPSHIRE': 'NH',\n",
    "    'NEW JERSEY': 'NJ', 'NEW MEXICO': 'NM', 'NEW YORK': 'NY', 'NORTH CAROLINA': 'NC',\n",
    "    'NORTH DAKOTA': 'ND', 'OHIO': 'OH', 'OKLAHOMA': 'OK', 'OREGON': 'OR', 'PENNSYLVANIA': 'PA',\n",
    "    'RHODE ISLAND': 'RI', 'SOUTH CAROLINA': 'SC', 'SOUTH DAKOTA': 'SD', 'TENNESSEE': 'TN',\n",
    "    'TEXAS': 'TX', 'UTAH': 'UT', 'VERMONT': 'VT', 'VIRGINIA': 'VA', 'WASHINGTON': 'WA',\n",
    "    'WEST VIRGINIA': 'WV', 'WISCONSIN': 'WI', 'WYOMING': 'WY', 'DISTRICT OF COLUMBIA': 'DC'\n",
    "}\n",
    "df['state_code'] = df['entity'].apply(lambda x: state_codes.get(x.upper()))\n",
    "df_states = df.dropna(subset=['state_code']).copy()\n",
    "df_states['win_color'] = df_states['biden_win_2020'].map({True: 'blue', False: 'red'})\n",
    "\n",
    "df_states['winner'] = np.where(df_states['biden_win_2020'],\n",
    "                               'Joe Biden (2020)', 'Donald Trump (2020)')\n",
    "\n",
    "national_avg = df_states['total_usd'].sum() / df_states['population_2020'].sum()\n",
    "\n",
    "#list of tick valueson the colorbar\n",
    "tick_values = list(np.arange(0, 5001, 1000)) #ticks every $1000\n",
    "tick_values.append(national_avg)\n",
    "tick_values = sorted(list(set(tick_values))) \n",
    "\n",
    "#text labels for tick values\n",
    "tick_labels = []\n",
    "for val in tick_values:\n",
    "    if abs(val - national_avg) < 1: \n",
    "        #bolded label for the average\n",
    "        tick_labels.append(f\"<b>National<br> average:<br>${val:,.0f}</b>\")\n",
    "    else:\n",
    "        tick_labels.append(f\"${val:,.0f}\")\n",
    "\n",
    "\n",
    "fig = go.Figure()\n",
    "\n",
    "# choropleth map layer\n",
    "dark_blues = [\n",
    "    [0.00, '#9fb3c8'],  \n",
    "    [0.30, '#6b8fb9'],\n",
    "    [0.60, '#3f6ea8'],\n",
    "    [0.85, '#1f4f8a'],\n",
    "    [1.00, '#0b3b75']   \n",
    "]\n",
    "fig.add_trace(go.Choropleth(\n",
    "    locations=df_states['state_code'],\n",
    "    z=df_states['per_capita_usd'],\n",
    "    locationmode='USA-states',\n",
    "    colorscale=dark_blues,\n",
    "    reversescale=False,\n",
    "    marker_line_color='white',\n",
    "    colorbar=dict(\n",
    "        title='Per Capita<br>Funding (USD)',\n",
    "        orientation='h',\n",
    "        x=0.5,\n",
    "        xanchor='center',\n",
    "        y=-0.1,\n",
    "        yanchor='bottom',\n",
    "        len=0.7, \n",
    "        \n",
    "        tickvals=tick_values,\n",
    "        ticktext=tick_labels\n",
    "    )\n",
    "))\n",
    "\n",
    "fig.update_traces(\n",
    "    selector=dict(type='choropleth'),\n",
    "    customdata=np.column_stack([\n",
    "        df_states['entity'],\n",
    "        df_states['winner'],\n",
    "        df_states['per_capita_usd']\n",
    "    ]),\n",
    "    hovertemplate=(\n",
    "        \"<b>%{customdata[0]}</b><br>\"\n",
    "        \"Winner: %{customdata[1]}<br>\"\n",
    "        \"Per capita: $%{customdata[2]:,.0f}\"\n",
    "        \"<extra></extra>\"\n",
    "    )\n",
    ")\n",
    "#text layer on top of the map\n",
    "fig.add_scattergeo(\n",
    "    locationmode = 'USA-states',\n",
    "    locations = df_states['state_code'],\n",
    "    text = df_states['state_code'],\n",
    "    mode = 'text',\n",
    "    hoverinfo='none',\n",
    "    textfont = {\n",
    "        'color': df_states['win_color'],\n",
    "        'size': 12,\n",
    "        'family': 'Arial, sans-serif'\n",
    "    }\n",
    ")\n",
    "\n",
    "#layout for a clean, minimal look\n",
    "fig.update_layout(\n",
    "    title=dict(\n",
    "        text=\"Variation in IIJA Funding per Person, by State\"\n",
    "         \"<br><sup>USD per resident; darker color is equal to more fundings per capita than national average</sup>\",\n",
    "        x=0.02, xanchor=\"left\"\n",
    "    ),\n",
    "    geo_scope='usa',\n",
    "    template='plotly_white',\n",
    "    height=850, width=1400,\n",
    "    geo=dict(showframe=False, showcoastlines=False, projection_type='albers usa'),\n",
    "   \n",
    "    annotations=[\n",
    "        go.layout.Annotation(\n",
    "            showarrow=False,\n",
    "            text=\n",
    "                 \"States won by D. Trump are in red<br>\"\n",
    "                 \"States won by J. Biden are in blue<br>\"\n",
    "                 f\"<b>Key Observations:</b><br>\" +\n",
    "                 f\"• The national average allocation is<br> <b>${national_avg:,.2f}</b> per person.<br>\" +\n",
    "                 \"• Funding is not equitable by population;<br> less populous states like<br>\" +\n",
    "                 \"  AK, WY, and MT receive<br> the most per capita.<br>\" +\n",
    "                 \"• No clear political bias is apparent,<br> with high funding<br>\" +\n",
    "                 \"  in both Republican (AK, WY)<br> and Democratic (VT, RI) states.\",\n",
    "            align='right', x=1, xanchor='right', y=0.03, yanchor='bottom',\n",
    "            xref=\"paper\", yref=\"paper\",\n",
    "            bgcolor=\"rgba(255, 255, 255, 0.7)\", bordercolor='rgba(0,0,0,0)',\n",
    "            font=dict(family=\"Arial, sans-serif\", size=14, color=\"black\")\n",
    "        ),\n",
    "        go.layout.Annotation(\n",
    "            showarrow=False,\n",
    "            text=(\n",
    "                 f\"You can hover over state to see</b><br>\"\n",
    "                 f\"the winner candidate,.<br>\"\n",
    "                 \"and the state's average per capita received funds<br>\"\n",
    "                 \n",
    "            ),\n",
    "            align='left', x=0.75, xanchor='right',\n",
    "            y=0.97, yanchor='top',           \n",
    "            xref=\"paper\", yref=\"paper\",\n",
    "            bgcolor=\"rgba(255, 255, 255, 0.7)\", bordercolor='rgba(0,0,0,0)',\n",
    "            font=dict(family=\"Arial, sans-serif\", size=14, color=\"black\")\n",
    "        )\n",
    "    ]\n",
    "\n",
    "    \n",
    ")\n",
    "\n",
    "fig.show(config={'scrollZoom': False})\n",
    "fig.write_image(\"map.png\", scale=2)          # static fallback\n",
    "from IPython.display import Image, display\n",
    "display(Image(\"map.png\"))                    # embeds the PNG in the notebook\n",
    "# Optional: also save an interactive copy to link from README\n",
    "fig.write_html(\"map.html\", include_plotlyjs=\"cdn\")"
   ]
  },
  {
   "cell_type": "markdown",
   "id": "e7bd5721",
   "metadata": {},
   "source": [
    "### Where is the money going?\n",
    "\n",
    "This map gives a view of the funding. Here’s how to read it:\n",
    "\n",
    "* **The color** of the state shows how much funding it got per person. The \"Per Capita Funding\" bar on the bottom shows different colors as amount increases.\n",
    "* **The text** on each state is its two-letter code.\n",
    "* **The color of the text** shows the 2020 election result: **blue** for states Biden won, and **red** for states Trump won.\n",
    "\n",
    "We can see that many of the states with the highest per-person funding are less-populated states in the West and Northeast, and each of these states won by D. Trump."
   ]
  },
  {
   "cell_type": "code",
   "execution_count": 25,
   "id": "6b63bcb3",
   "metadata": {},
   "outputs": [
    {
     "data": {
      "image/png": "[encoded data removed]",
      "text/plain": [
       "<Figure size 1400x600 with 1 Axes>"
      ]
     },
     "metadata": {},
     "output_type": "display_data"
    }
   ],
   "source": [
    "biden_states = df_states[df_states['biden_win_2020'] == True]\n",
    "trump_states = df_states[df_states['biden_win_2020'] == False]\n",
    "biden_total_pop = biden_states['population_2020'].sum()\n",
    "biden_total_funding = biden_states['total_usd'].sum()\n",
    "biden_weighted_avg = biden_total_funding / biden_total_pop\n",
    "trump_total_pop = trump_states['population_2020'].sum()\n",
    "trump_total_funding = trump_states['total_usd'].sum()\n",
    "trump_weighted_avg = trump_total_funding / trump_total_pop\n",
    "num_biden_states = len(biden_states)\n",
    "num_trump_states = len(trump_states)\n",
    "\n",
    "biden_label = f\"States Won by Biden\\n({num_biden_states} states | Pop: {biden_total_pop/1e6:.1f}M | Aid: ${biden_total_funding/1e9:.1f}B)\"\n",
    "trump_label = f\"States Won by Trump\\n({num_trump_states} states | Pop: {trump_total_pop/1e6:.1f}M | Aid: ${trump_total_funding/1e9:.1f}B)\"\n",
    "national_label = \"National Average\"\n",
    "national_avg_per_capita = df_states['total_usd'].sum() / df_states['population_2020'].sum()\n",
    "\n",
    "\n",
    "plot_data = {\n",
    "    'Group': [biden_label, national_label, trump_label],\n",
    "    'Value': [biden_weighted_avg, national_avg_per_capita, trump_weighted_avg]\n",
    "}\n",
    "plot_df = pd.DataFrame(plot_data)\n",
    "\n",
    "# creating chart\n",
    "fig, ax = plt.subplots(figsize=(14, 6)) \n",
    "palette_colors = {biden_label: '#1F77B4', national_label: 'grey', trump_label: '#DE3533'}\n",
    "sns.barplot(x='Group', y='Value', data=plot_df, hue='Group', palette=palette_colors, legend=False, ax=ax, edgecolor=\"none\")\n",
    "\n",
    "for bar in ax.patches:\n",
    "    ax.text(bar.get_x() + bar.get_width() / 2, bar.get_height(), f\"${bar.get_height():,.0f}\",\n",
    "            ha=\"center\", va=\"bottom\", fontsize=12, fontweight='bold', color='black')\n",
    "\n",
    "formatter = FuncFormatter(lambda y, _: f'${int(y):,}')\n",
    "ax.yaxis.set_major_formatter(formatter)\n",
    "fig.suptitle(\"Per Person Funding Doesn't Show Political Bias\", fontsize=18, fontweight='bold', ha='center')\n",
    "ax.set_title(\"This chart is a weighted average, which compares how fair is funding by counting people, not states.\", fontsize=12, color='gray', pad=10)\n",
    "ax.set_ylabel(\"Funding Per Person (USD)\", fontsize=12, color='gray')\n",
    "ax.set_xlabel(\"\")\n",
    "ax.tick_params(axis='y', colors='gray')\n",
    "ax.tick_params(axis='x', colors='black', labelsize=11)\n",
    "sns.despine(left=True)\n",
    "ax.tick_params(axis='y', length=0)\n",
    "\n",
    "#explanatory text box\n",
    "explanation_text = (\n",
    "    r\"$\\bf{Key\\ Finding:}$\" + \"\\n\"\n",
    "    r\"This chart tells the most accurate story.\" + \"\\n\\n\"\n",
    "    r\"It calculates a 'weighted', which means\" + \"\\n\"\n",
    "    r\"it counts funding available for every \" + r\"$\\it{person}$\" + \",\\n\"\n",
    "    r\"not every state\" + \".\" + \"\\n\\n\"\n",
    "    \"Because the 'Biden States' group has a much larger\\n\"\n",
    "    \"total population, this method provides the fairest\\n\"\n",
    "    \"comparison and shows that funding per person\\n\"\n",
    "    \"is very similar between the two groups.\"\n",
    ")\n",
    "fig.text(0.78, 0.5, explanation_text, ha='left', va='center', fontsize=11,\n",
    "         bbox=dict(boxstyle='round,pad=0.5', fc='aliceblue', ec='grey', lw=1))\n",
    "\n",
    "plt.subplots_adjust(right=0.75)\n",
    "plt.tight_layout(rect=[0, 0.05, 0.8, 0.95]) \n",
    "plt.show()"
   ]
  },
  {
   "cell_type": "markdown",
   "id": "cadd49ee",
   "metadata": {},
   "source": [
    "### How the \"Weighted Average\" is Calculated\n",
    "\n",
    "This chart gives an answer to our main question: *\"Is the funding equitable based on population, or is there a political bias?\"*\n",
    "\n",
    "The calculation is a **weighted average**, which is the fairest way to compare the two groups of states won by each candidate. Instead of every state getting an equal vote, every *person* gets an equal vote. This means states with larger populations have a proportionally larger impact on the final average.\n",
    "\n",
    "\n",
    "\n",
    "#### The Formula\n",
    "\n",
    "The formula is the total sum of money given to a group of states, divided by the total number of people living in that group of states.\n",
    "\n",
    "**Weighted Average** = (Total Funding for All States in the Group) / (Total Population of All States in the Group)\n",
    "\n",
    "\n",
    "\n",
    "#### A Quick Example\n",
    "\n",
    "Let's look at a simplified \"Trump won states\" group with just two states:\n",
    "\n",
    "* **Wyoming:** Population 0.6M, Funding \\$2.3B (\\~**\\$3,987** per person)\n",
    "* **Texas:** Population 29M, Funding \\$13B (\\~**\\$448** per person)\n",
    "\n",
    "A *simple average* would be `($3987 + $448) / 2 = $2,217`, which is very high.\n",
    "\n",
    "But the **weighted average** correctly accounts for the huge population of Texas:\n",
    "\n",
    "* **Total Funding:** \\$2.3B + \\$13B = \\$15.3B\n",
    "* **Total Population:** 0.6M + 29M = 29.6M\n",
    "* **Result:** `\\$15.3B / 29.6M =` **\\$517** per person.\n",
    "\n",
    "As we can see, the large population of Texas pulls the average much closer to its own per-capita number. This is a much more accurate reflection of the average person in this group.\n",
    "\n",
    "\n",
    "\n",
    "#### The Code\n",
    "\n",
    "In our Python script, this is calculated in three steps:\n",
    "\n",
    "```python\n",
    "# 1. Sum the total funding for the group\n",
    "trump_total_funding = trump_states['total_usd'].sum()\n",
    "\n",
    "# 2. Sum the total population for the group\n",
    "trump_total_pop = trump_states['population_2020'].sum()\n",
    "\n",
    "# 3. Divide the two sums\n",
    "trump_weighted_avg = trump_total_funding / trump_total_pop"
   ]
  },
  {
   "cell_type": "code",
   "execution_count": null,
   "id": "928590ec",
   "metadata": {},
   "outputs": [
    {
     "data": {
      "image/png": "[encoded data removed]",
      "text/plain": [
       "<Figure size 1400x600 with 1 Axes>"
      ]
     },
     "metadata": {},
     "output_type": "display_data"
    }
   ],
   "source": [
    "biden_states = df_states[df_states['biden_win_2020'] == True]\n",
    "trump_states = df_states[df_states['biden_win_2020'] == False]\n",
    "biden_simple_avg = biden_states['per_capita_usd'].mean()\n",
    "trump_simple_avg = trump_states['per_capita_usd'].mean()\n",
    "\n",
    "#data for plotting\n",
    "plot_data = {\n",
    "    'Group': [f\"States Won by Biden\\n({len(biden_states)} states)\", f\"States Won by Trump\\n({len(trump_states)} states)\"],\n",
    "    'Value': [biden_simple_avg, trump_simple_avg]\n",
    "}\n",
    "plot_df = pd.DataFrame(plot_data)\n",
    "\n",
    "#creating chart\n",
    "fig, ax = plt.subplots(figsize=(14, 6)) \n",
    "palette_colors = {plot_df.iloc[0,0]: '#1F77B4', plot_df.iloc[1,0]: '#DE3533'}\n",
    "sns.barplot(x='Group', y='Value', data=plot_df, hue='Group', palette=palette_colors, legend=False, ax=ax, edgecolor=\"none\")\n",
    "\n",
    "for bar in ax.patches:\n",
    "    ax.text(bar.get_x() + bar.get_width() / 2, bar.get_height(), f\"${bar.get_height():,.0f}\",\n",
    "            ha=\"center\", va=\"bottom\", fontsize=12, fontweight='bold', color='black')\n",
    "\n",
    "formatter = FuncFormatter(lambda y, _: f'${int(y):,}')\n",
    "ax.yaxis.set_major_formatter(formatter)\n",
    "fig.suptitle(\"Comparison of State Averages\", fontsize=18, fontweight='bold', ha='center')\n",
    "ax.set_title(\"This chart uses a simple average, where each state gets one count, regardless of population.\", fontsize=12, color='gray', pad=10)\n",
    "ax.set_ylabel(\"Average Per-Capita Funding per State (USD)\", fontsize=12, color='gray')\n",
    "ax.set_xlabel(\"\")\n",
    "ax.tick_params(axis='y', colors='gray')\n",
    "ax.tick_params(axis='x', colors='black', labelsize=12)\n",
    "sns.despine(left=True)\n",
    "ax.tick_params(axis='y', length=0)\n",
    "\n",
    "#the explanatory text box\n",
    "explanation_text = (\n",
    "    r\"$\\bf{Key\\ Finding:}$\" + \"\\n\"\n",
    "    r\"This chart shows how $\\it{outliers}$ can skew an average.\" + \"\\n\\n\"\n",
    "    \"The 'Trump States' group includes several states with\\n\"\n",
    "    \"very low populations but extremely high funding per\\n\"\n",
    "    \"person. In a simple average, these states have the\\n\"\n",
    "    \"same 'vote' as high-population states.\\n\\n\"\n",
    "    r\"$\\bf{Example\\ Outliers:}$\" + \"\\n\"\n",
    "    r\" • \" + r\"$\\bf{Alaska:}$\" + r\" \\$5,045 per person\" + \"\\n\"\n",
    "    r\" • \" + r\"$\\bf{Wyoming:}$\" + r\" \\$3,987 per person\" + \"\\n\"\n",
    "    r\" • \" + r\"$\\bf{Florida:}$\" + r\" \\$406 per person\" + \"\\n\\n\"\n",
    "    \"These outliers pull the simple average for their group\\n\"\n",
    "    \"much higher.\"\n",
    ")\n",
    "# position the text on the right side of the figure\n",
    "fig.text(0.78, 0.5, explanation_text, ha='left', va='center', fontsize=11,\n",
    "         bbox=dict(boxstyle='round,pad=0.5', fc='aliceblue', ec='grey', lw=1))\n",
    "\n",
    "# adjust the plot to make space for the text\n",
    "plt.subplots_adjust(right=0.75)\n",
    "plt.tight_layout(rect=[0, 0, 0.8, 0.95]) \n",
    "plt.show()\n"
   ]
  },
  {
   "cell_type": "markdown",
   "id": "fc932c2e",
   "metadata": {},
   "source": [
    "### How the \"Simple Average\" for Each Side is Calculated\n",
    "\n",
    "This chart answers a different question: \"If you pick a state at random from each group, what's its *typical* per-capita funding?\"\n",
    "\n",
    "The calculation is a **simple average**, where every state gets one count, regardless of its population.\n",
    "\n",
    "\n",
    "\n",
    "#### The Formula\n",
    "\n",
    "The formula is just like a simple average we'd do for any list of numbers:\n",
    "\n",
    "**Simple Average** = (Sum of the Per-Capita Funding for Every State in the Group) / (Total Number of States in the Group)\n",
    "\n",
    "\n",
    "#### A Quick Example (Why the Trump States' Average is So High)\n",
    "\n",
    "The simple average can be heavily skewed by **outliers**. Let's look at just three states won by Trump:\n",
    "\n",
    "* **Alaska:** \\$5,045 per person\n",
    "* **Wyoming:** \\$3,987 per person\n",
    "* **Florida:** \\$406 per person\n",
    "\n",
    "The simple average for just these three is: `($5,045 + $3,987 + $406) / 3 = $3,146`.\n",
    "\n",
    "As you can see, the two low-population states with huge funding numbers pull the average way up. Florida's much larger population doesn't give it any extra weight in this calculation.\n",
    "\n",
    "\n",
    "\n",
    "#### The Code\n",
    "\n",
    "In Python script, this formula is calculated in this line:\n",
    "\n",
    "```python\n",
    "# simple average for the 'per_capita_usd' column\n",
    "trump_simple_avg = trump_states['per_capita_usd'].mean()"
   ]
  },
  {
   "cell_type": "markdown",
   "id": "74e848a9",
   "metadata": {},
   "source": [
    "## Conclusions\n",
    "\n",
    "Our analysis of the Infrastructure Investment and Jobs Act (IIJA) funding set out to answer two main questions. Based on the data, we can draw two clear conclusions:\n",
    "\n",
    "\n",
    "\n",
    "### 1. The funding is **not equitable** based on population.\n",
    "\n",
    "Our analysis, particularly the choropleth map, showed a clear and significant pattern: **less populous states receive substantially more funding per capita than more populous states.** This suggests that the IIJA funding formula is based on factors other than just population, likely guaranteeing a baseline of funding for each state to address critical infrastructure needs regardless of its size.\n",
    "\n",
    "\n",
    "\n",
    "### 2. The allocation **does not show evidence of political bias**.\n",
    "\n",
    "We investigated whether the funding favored states based on the 2020 presidential election results and found no evidence to support this idea.\n",
    "\n",
    "* **The Fairest Measure:** The most accurate way to compare the two groups is by using a **weighted average**, which counts the funding available per person.\n",
    "* **The Key Finding:** On a per-person basis, states won by Trump actually received slightly more funding (**\\$627 per person**) than states won by Biden (**\\$542 per person**).\n",
    "\n",
    "This result directly contradicts the idea that the allocation was politically motivated to favor the current administration. The primary driver for high per-capita funding appears to be low population, not politics.\n",
    "\n",
    "\n",
    "### 3. Further analysis\n",
    "There is a chance that this research's findings could be misleading if fundings were distributed without favoritism. To get a better answer, the research has to be done accounting actual states infrastracture needs (e.g. states highway miles to be repaired, broadband internet coverage, public transit & passenger/freight rail needs and other infrastrucure parts covered by IJAA )"
   ]
  }
 ],
 "metadata": {
  "kernelspec": {
   "display_name": "stl-recsys",
   "language": "python",
   "name": "python3"
  },
  "language_info": {
   "codemirror_mode": {
    "name": "ipython",
    "version": 3
   },
   "file_extension": ".py",
   "mimetype": "text/x-python",
   "name": "python",
   "nbconvert_exporter": "python",
   "pygments_lexer": "ipython3",
   "version": "3.11.13"
  }
 },
 "nbformat": 4,
 "nbformat_minor": 5
}
