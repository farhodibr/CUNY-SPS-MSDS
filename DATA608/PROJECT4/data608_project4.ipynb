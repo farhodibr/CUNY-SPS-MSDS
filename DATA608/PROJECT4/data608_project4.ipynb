{
 "cells": [
  {
   "cell_type": "markdown",
   "id": "c9027d17",
   "metadata": {},
   "source": [
    "DATA608 Project 4: Do Bigger Job Markets Pay More?\n",
    "\n",
    "Farhod Ibragimov.\n",
    "\n",
    "## Introduction\n",
    "\n",
    "I looked at how salaries and job counts changed for data-related roles across the United States between 2021 and 2024.\n",
    "The dataset comes from the U.S. Bureau of Labor Statistics (BLS) and includes jobs like\n",
    " * Data Scientist\n",
    " * Statistician\n",
    " * Operations Research Analyst \n",
    " * Database Administrator \n",
    " * Database Architect\n",
    " * Computer & Information Research Scientist.\n",
    "\n",
    "The big question for me was simple but tricky:\n",
    "\n",
    "* “Do states with more data jobs actually pay more, or do they just hire more people at lower pay?”\n",
    "\n",
    "At first we would assume bigger markets equal to higher salaries. But the more I looked, the less that held up. The truth seems more mixed — pay doesn’t just follow headcount. Some states with huge data demand actually sit below the national median, while smaller research-heavy states quietly lead in wages. So, maybe the “hot” job markets aren’t not the best places to look for jobs as they look."
   ]
  },
  {
   "cell_type": "markdown",
   "id": "2d58b7e3",
   "metadata": {},
   "source": [
    "## Part 1. EDA\n",
    "In this section i did data preparation and analysis. I wouldn't go into details of EDA, since this project focused on data visualisation."
   ]
  },
  {
   "cell_type": "code",
   "execution_count": 1,
   "id": "4d832652",
   "metadata": {},
   "outputs": [],
   "source": [
    "import pandas as pd\n",
    "import matplotlib.pyplot as plt\n",
    "import seaborn as sns\n",
    "import matplotlib as mpl\n",
    "import plotly.express as px\n",
    "import numpy as np\n",
    "\n",
    "pd.set_option('display.max_columns', None)"
   ]
  },
  {
   "cell_type": "code",
   "execution_count": 2,
   "id": "2b4cb1e2",
   "metadata": {},
   "outputs": [],
   "source": [
    "jobs24_df = pd.read_excel(\"https://github.com/farhodibr/CUNY-SPS-MSDS/raw/main/DATA608/PROJECT4/state_M2024_dl.xlsx\")\n",
    "jobs23_df = pd.read_excel(\"https://github.com/farhodibr/CUNY-SPS-MSDS/raw/main/DATA608/PROJECT4/state_M2023_dl.xlsx\")\n",
    "jobs22_df = pd.read_excel(\"https://github.com/farhodibr/CUNY-SPS-MSDS/raw/main/DATA608/PROJECT4/state_M2022_dl.xlsx\")\n",
    "jobs21_df = pd.read_excel(\"https://github.com/farhodibr/CUNY-SPS-MSDS/raw/main/DATA608/PROJECT4/state_M2021_dl.xlsx\")\n",
    "jobs20_df = pd.read_excel(\"https://github.com/farhodibr/CUNY-SPS-MSDS/raw/main/DATA608/PROJECT4/state_M2020_dl.xlsx\")\n",
    "\n",
    "# jobs24_df = pd.read_excel(r\"C:\\Users\\farho\\OneDrive\\CUNY_MSDS\\DATA608\\PROJECT4\\oesm24st\\state_M2024_dl.xlsx\")\n",
    "# jobs23_df = pd.read_excel(r\"C:\\Users\\farho\\OneDrive\\CUNY_MSDS\\DATA608\\PROJECT4\\oesm23st\\state_M2023_dl.xlsx\")\n",
    "# jobs22_df = pd.read_excel(r\"C:\\Users\\farho\\OneDrive\\CUNY_MSDS\\DATA608\\PROJECT4\\oesm22st\\state_M2022_dl.xlsx\")\n",
    "# jobs21_df = pd.read_excel(r\"C:\\Users\\farho\\OneDrive\\CUNY_MSDS\\DATA608\\PROJECT4\\oesm21st\\state_M2021_dl.xlsx\")\n",
    "# jobs20_df = pd.read_excel(r\"C:\\Users\\farho\\OneDrive\\CUNY_MSDS\\DATA608\\PROJECT4\\oesm21st\\state_M2020_dl.xlsx\")"
   ]
  },
  {
   "cell_type": "code",
   "execution_count": null,
   "id": "0b96102e",
   "metadata": {},
   "outputs": [],
   "source": [
    "jobs24_df.info()\n",
    "jobs24_df.head()"
   ]
  },
  {
   "cell_type": "code",
   "execution_count": 57,
   "id": "4126c419",
   "metadata": {},
   "outputs": [
    {
     "name": "stdout",
     "output_type": "stream",
     "text": [
      "<class 'pandas.core.frame.DataFrame'>\n",
      "RangeIndex: 37676 entries, 0 to 37675\n",
      "Data columns (total 32 columns):\n",
      " #   Column        Non-Null Count  Dtype  \n",
      "---  ------        --------------  -----  \n",
      " 0   AREA          37676 non-null  int64  \n",
      " 1   AREA_TITLE    37676 non-null  object \n",
      " 2   AREA_TYPE     37676 non-null  int64  \n",
      " 3   PRIM_STATE    37676 non-null  object \n",
      " 4   NAICS         37676 non-null  int64  \n",
      " 5   NAICS_TITLE   37676 non-null  object \n",
      " 6   I_GROUP       37676 non-null  object \n",
      " 7   OWN_CODE      37676 non-null  int64  \n",
      " 8   OCC_CODE      37676 non-null  object \n",
      " 9   OCC_TITLE     37676 non-null  object \n",
      " 10  O_GROUP       37676 non-null  object \n",
      " 11  TOT_EMP       37676 non-null  object \n",
      " 12  EMP_PRSE      37676 non-null  object \n",
      " 13  JOBS_1000     37676 non-null  object \n",
      " 14  LOC_QUOTIENT  37676 non-null  object \n",
      " 15  PCT_TOTAL     0 non-null      float64\n",
      " 16  PCT_RPT       0 non-null      float64\n",
      " 17  H_MEAN        37676 non-null  object \n",
      " 18  A_MEAN        37676 non-null  object \n",
      " 19  MEAN_PRSE     37676 non-null  object \n",
      " 20  H_PCT10       37676 non-null  object \n",
      " 21  H_PCT25       37676 non-null  object \n",
      " 22  H_MEDIAN      37676 non-null  object \n",
      " 23  H_PCT75       37676 non-null  object \n",
      " 24  H_PCT90       37676 non-null  object \n",
      " 25  A_PCT10       37676 non-null  object \n",
      " 26  A_PCT25       37676 non-null  object \n",
      " 27  A_MEDIAN      37676 non-null  object \n",
      " 28  A_PCT75       37676 non-null  object \n",
      " 29  A_PCT90       37676 non-null  object \n",
      " 30  ANNUAL        2642 non-null   object \n",
      " 31  HOURLY        159 non-null    object \n",
      "dtypes: float64(2), int64(4), object(26)\n",
      "memory usage: 9.2+ MB\n"
     ]
    },
    {
     "data": {
      "text/html": [
       "<div>\n",
       "<style scoped>\n",
       "    .dataframe tbody tr th:only-of-type {\n",
       "        vertical-align: middle;\n",
       "    }\n",
       "\n",
       "    .dataframe tbody tr th {\n",
       "        vertical-align: top;\n",
       "    }\n",
       "\n",
       "    .dataframe thead th {\n",
       "        text-align: right;\n",
       "    }\n",
       "</style>\n",
       "<table border=\"1\" class=\"dataframe\">\n",
       "  <thead>\n",
       "    <tr style=\"text-align: right;\">\n",
       "      <th></th>\n",
       "      <th>AREA</th>\n",
       "      <th>AREA_TITLE</th>\n",
       "      <th>AREA_TYPE</th>\n",
       "      <th>PRIM_STATE</th>\n",
       "      <th>NAICS</th>\n",
       "      <th>NAICS_TITLE</th>\n",
       "      <th>I_GROUP</th>\n",
       "      <th>OWN_CODE</th>\n",
       "      <th>OCC_CODE</th>\n",
       "      <th>OCC_TITLE</th>\n",
       "      <th>O_GROUP</th>\n",
       "      <th>TOT_EMP</th>\n",
       "      <th>EMP_PRSE</th>\n",
       "      <th>JOBS_1000</th>\n",
       "      <th>LOC_QUOTIENT</th>\n",
       "      <th>PCT_TOTAL</th>\n",
       "      <th>PCT_RPT</th>\n",
       "      <th>H_MEAN</th>\n",
       "      <th>A_MEAN</th>\n",
       "      <th>MEAN_PRSE</th>\n",
       "      <th>H_PCT10</th>\n",
       "      <th>H_PCT25</th>\n",
       "      <th>H_MEDIAN</th>\n",
       "      <th>H_PCT75</th>\n",
       "      <th>H_PCT90</th>\n",
       "      <th>A_PCT10</th>\n",
       "      <th>A_PCT25</th>\n",
       "      <th>A_MEDIAN</th>\n",
       "      <th>A_PCT75</th>\n",
       "      <th>A_PCT90</th>\n",
       "      <th>ANNUAL</th>\n",
       "      <th>HOURLY</th>\n",
       "    </tr>\n",
       "  </thead>\n",
       "  <tbody>\n",
       "    <tr>\n",
       "      <th>0</th>\n",
       "      <td>1</td>\n",
       "      <td>Alabama</td>\n",
       "      <td>2</td>\n",
       "      <td>AL</td>\n",
       "      <td>0</td>\n",
       "      <td>Cross-industry</td>\n",
       "      <td>cross-industry</td>\n",
       "      <td>1235</td>\n",
       "      <td>00-0000</td>\n",
       "      <td>All Occupations</td>\n",
       "      <td>total</td>\n",
       "      <td>2053090</td>\n",
       "      <td>0</td>\n",
       "      <td>1000</td>\n",
       "      <td>1</td>\n",
       "      <td>NaN</td>\n",
       "      <td>NaN</td>\n",
       "      <td>25.67</td>\n",
       "      <td>53400</td>\n",
       "      <td>0.2</td>\n",
       "      <td>10.87</td>\n",
       "      <td>14.22</td>\n",
       "      <td>19.88</td>\n",
       "      <td>30.09</td>\n",
       "      <td>46.18</td>\n",
       "      <td>22620</td>\n",
       "      <td>29580</td>\n",
       "      <td>41350</td>\n",
       "      <td>62580</td>\n",
       "      <td>96050</td>\n",
       "      <td>NaN</td>\n",
       "      <td>NaN</td>\n",
       "    </tr>\n",
       "    <tr>\n",
       "      <th>1</th>\n",
       "      <td>1</td>\n",
       "      <td>Alabama</td>\n",
       "      <td>2</td>\n",
       "      <td>AL</td>\n",
       "      <td>0</td>\n",
       "      <td>Cross-industry</td>\n",
       "      <td>cross-industry</td>\n",
       "      <td>1235</td>\n",
       "      <td>11-0000</td>\n",
       "      <td>Management Occupations</td>\n",
       "      <td>major</td>\n",
       "      <td>105580</td>\n",
       "      <td>0.8</td>\n",
       "      <td>51.424</td>\n",
       "      <td>0.74</td>\n",
       "      <td>NaN</td>\n",
       "      <td>NaN</td>\n",
       "      <td>56.21</td>\n",
       "      <td>116920</td>\n",
       "      <td>0.5</td>\n",
       "      <td>24.38</td>\n",
       "      <td>35.18</td>\n",
       "      <td>47.95</td>\n",
       "      <td>67.22</td>\n",
       "      <td>95.44</td>\n",
       "      <td>50710</td>\n",
       "      <td>73180</td>\n",
       "      <td>99740</td>\n",
       "      <td>139810</td>\n",
       "      <td>198520</td>\n",
       "      <td>NaN</td>\n",
       "      <td>NaN</td>\n",
       "    </tr>\n",
       "    <tr>\n",
       "      <th>2</th>\n",
       "      <td>1</td>\n",
       "      <td>Alabama</td>\n",
       "      <td>2</td>\n",
       "      <td>AL</td>\n",
       "      <td>0</td>\n",
       "      <td>Cross-industry</td>\n",
       "      <td>cross-industry</td>\n",
       "      <td>1235</td>\n",
       "      <td>11-1011</td>\n",
       "      <td>Chief Executives</td>\n",
       "      <td>detailed</td>\n",
       "      <td>720</td>\n",
       "      <td>6.8</td>\n",
       "      <td>0.348</td>\n",
       "      <td>0.25</td>\n",
       "      <td>NaN</td>\n",
       "      <td>NaN</td>\n",
       "      <td>106.26</td>\n",
       "      <td>221030</td>\n",
       "      <td>5.8</td>\n",
       "      <td>31.59</td>\n",
       "      <td>59.6</td>\n",
       "      <td>79.48</td>\n",
       "      <td>102.01</td>\n",
       "      <td>#</td>\n",
       "      <td>65700</td>\n",
       "      <td>123960</td>\n",
       "      <td>165320</td>\n",
       "      <td>212180</td>\n",
       "      <td>#</td>\n",
       "      <td>NaN</td>\n",
       "      <td>NaN</td>\n",
       "    </tr>\n",
       "    <tr>\n",
       "      <th>3</th>\n",
       "      <td>1</td>\n",
       "      <td>Alabama</td>\n",
       "      <td>2</td>\n",
       "      <td>AL</td>\n",
       "      <td>0</td>\n",
       "      <td>Cross-industry</td>\n",
       "      <td>cross-industry</td>\n",
       "      <td>1235</td>\n",
       "      <td>11-1021</td>\n",
       "      <td>General and Operations Managers</td>\n",
       "      <td>detailed</td>\n",
       "      <td>34450</td>\n",
       "      <td>2.7</td>\n",
       "      <td>16.781</td>\n",
       "      <td>0.73</td>\n",
       "      <td>NaN</td>\n",
       "      <td>NaN</td>\n",
       "      <td>62.17</td>\n",
       "      <td>129310</td>\n",
       "      <td>1.1</td>\n",
       "      <td>23.11</td>\n",
       "      <td>34.74</td>\n",
       "      <td>49.67</td>\n",
       "      <td>78.25</td>\n",
       "      <td>112.54</td>\n",
       "      <td>48080</td>\n",
       "      <td>72260</td>\n",
       "      <td>103320</td>\n",
       "      <td>162760</td>\n",
       "      <td>234080</td>\n",
       "      <td>NaN</td>\n",
       "      <td>NaN</td>\n",
       "    </tr>\n",
       "    <tr>\n",
       "      <th>4</th>\n",
       "      <td>1</td>\n",
       "      <td>Alabama</td>\n",
       "      <td>2</td>\n",
       "      <td>AL</td>\n",
       "      <td>0</td>\n",
       "      <td>Cross-industry</td>\n",
       "      <td>cross-industry</td>\n",
       "      <td>1235</td>\n",
       "      <td>11-1031</td>\n",
       "      <td>Legislators</td>\n",
       "      <td>detailed</td>\n",
       "      <td>1140</td>\n",
       "      <td>9.1</td>\n",
       "      <td>0.555</td>\n",
       "      <td>2.6</td>\n",
       "      <td>NaN</td>\n",
       "      <td>NaN</td>\n",
       "      <td>*</td>\n",
       "      <td>33690</td>\n",
       "      <td>5.1</td>\n",
       "      <td>*</td>\n",
       "      <td>*</td>\n",
       "      <td>*</td>\n",
       "      <td>*</td>\n",
       "      <td>*</td>\n",
       "      <td>18320</td>\n",
       "      <td>19670</td>\n",
       "      <td>24470</td>\n",
       "      <td>45050</td>\n",
       "      <td>55070</td>\n",
       "      <td>True</td>\n",
       "      <td>NaN</td>\n",
       "    </tr>\n",
       "  </tbody>\n",
       "</table>\n",
       "</div>"
      ],
      "text/plain": [
       "   AREA AREA_TITLE  AREA_TYPE PRIM_STATE  NAICS     NAICS_TITLE  \\\n",
       "0     1    Alabama          2         AL      0  Cross-industry   \n",
       "1     1    Alabama          2         AL      0  Cross-industry   \n",
       "2     1    Alabama          2         AL      0  Cross-industry   \n",
       "3     1    Alabama          2         AL      0  Cross-industry   \n",
       "4     1    Alabama          2         AL      0  Cross-industry   \n",
       "\n",
       "          I_GROUP  OWN_CODE OCC_CODE                        OCC_TITLE  \\\n",
       "0  cross-industry      1235  00-0000                  All Occupations   \n",
       "1  cross-industry      1235  11-0000           Management Occupations   \n",
       "2  cross-industry      1235  11-1011                 Chief Executives   \n",
       "3  cross-industry      1235  11-1021  General and Operations Managers   \n",
       "4  cross-industry      1235  11-1031                      Legislators   \n",
       "\n",
       "    O_GROUP  TOT_EMP EMP_PRSE JOBS_1000 LOC_QUOTIENT  PCT_TOTAL  PCT_RPT  \\\n",
       "0     total  2053090        0      1000            1        NaN      NaN   \n",
       "1     major   105580      0.8    51.424         0.74        NaN      NaN   \n",
       "2  detailed      720      6.8     0.348         0.25        NaN      NaN   \n",
       "3  detailed    34450      2.7    16.781         0.73        NaN      NaN   \n",
       "4  detailed     1140      9.1     0.555          2.6        NaN      NaN   \n",
       "\n",
       "   H_MEAN  A_MEAN MEAN_PRSE H_PCT10 H_PCT25 H_MEDIAN H_PCT75 H_PCT90 A_PCT10  \\\n",
       "0   25.67   53400       0.2   10.87   14.22    19.88   30.09   46.18   22620   \n",
       "1   56.21  116920       0.5   24.38   35.18    47.95   67.22   95.44   50710   \n",
       "2  106.26  221030       5.8   31.59    59.6    79.48  102.01       #   65700   \n",
       "3   62.17  129310       1.1   23.11   34.74    49.67   78.25  112.54   48080   \n",
       "4       *   33690       5.1       *       *        *       *       *   18320   \n",
       "\n",
       "  A_PCT25 A_MEDIAN A_PCT75 A_PCT90 ANNUAL HOURLY  \n",
       "0   29580    41350   62580   96050    NaN    NaN  \n",
       "1   73180    99740  139810  198520    NaN    NaN  \n",
       "2  123960   165320  212180       #    NaN    NaN  \n",
       "3   72260   103320  162760  234080    NaN    NaN  \n",
       "4   19670    24470   45050   55070   True    NaN  "
      ]
     },
     "execution_count": 57,
     "metadata": {},
     "output_type": "execute_result"
    }
   ],
   "source": [
    "jobs23_df.info()\n",
    "jobs23_df.head()"
   ]
  },
  {
   "cell_type": "code",
   "execution_count": 58,
   "id": "a0563192",
   "metadata": {},
   "outputs": [
    {
     "name": "stdout",
     "output_type": "stream",
     "text": [
      "<class 'pandas.core.frame.DataFrame'>\n",
      "RangeIndex: 37569 entries, 0 to 37568\n",
      "Data columns (total 32 columns):\n",
      " #   Column        Non-Null Count  Dtype  \n",
      "---  ------        --------------  -----  \n",
      " 0   AREA          37569 non-null  int64  \n",
      " 1   AREA_TITLE    37569 non-null  object \n",
      " 2   AREA_TYPE     37569 non-null  int64  \n",
      " 3   PRIM_STATE    37569 non-null  object \n",
      " 4   NAICS         37569 non-null  int64  \n",
      " 5   NAICS_TITLE   37569 non-null  object \n",
      " 6   I_GROUP       37569 non-null  object \n",
      " 7   OWN_CODE      37569 non-null  int64  \n",
      " 8   OCC_CODE      37569 non-null  object \n",
      " 9   OCC_TITLE     37569 non-null  object \n",
      " 10  O_GROUP       37569 non-null  object \n",
      " 11  TOT_EMP       37569 non-null  object \n",
      " 12  EMP_PRSE      37569 non-null  object \n",
      " 13  JOBS_1000     37569 non-null  object \n",
      " 14  LOC_QUOTIENT  37569 non-null  object \n",
      " 15  PCT_TOTAL     0 non-null      float64\n",
      " 16  PCT_RPT       0 non-null      float64\n",
      " 17  H_MEAN        37569 non-null  object \n",
      " 18  A_MEAN        37569 non-null  object \n",
      " 19  MEAN_PRSE     37569 non-null  object \n",
      " 20  H_PCT10       37569 non-null  object \n",
      " 21  H_PCT25       37569 non-null  object \n",
      " 22  H_MEDIAN      37569 non-null  object \n",
      " 23  H_PCT75       37569 non-null  object \n",
      " 24  H_PCT90       37569 non-null  object \n",
      " 25  A_PCT10       37569 non-null  object \n",
      " 26  A_PCT25       37569 non-null  object \n",
      " 27  A_MEDIAN      37569 non-null  object \n",
      " 28  A_PCT75       37569 non-null  object \n",
      " 29  A_PCT90       37569 non-null  object \n",
      " 30  ANNUAL        2611 non-null   object \n",
      " 31  HOURLY        161 non-null    object \n",
      "dtypes: float64(2), int64(4), object(26)\n",
      "memory usage: 9.2+ MB\n"
     ]
    },
    {
     "data": {
      "text/html": [
       "<div>\n",
       "<style scoped>\n",
       "    .dataframe tbody tr th:only-of-type {\n",
       "        vertical-align: middle;\n",
       "    }\n",
       "\n",
       "    .dataframe tbody tr th {\n",
       "        vertical-align: top;\n",
       "    }\n",
       "\n",
       "    .dataframe thead th {\n",
       "        text-align: right;\n",
       "    }\n",
       "</style>\n",
       "<table border=\"1\" class=\"dataframe\">\n",
       "  <thead>\n",
       "    <tr style=\"text-align: right;\">\n",
       "      <th></th>\n",
       "      <th>AREA</th>\n",
       "      <th>AREA_TITLE</th>\n",
       "      <th>AREA_TYPE</th>\n",
       "      <th>PRIM_STATE</th>\n",
       "      <th>NAICS</th>\n",
       "      <th>NAICS_TITLE</th>\n",
       "      <th>I_GROUP</th>\n",
       "      <th>OWN_CODE</th>\n",
       "      <th>OCC_CODE</th>\n",
       "      <th>OCC_TITLE</th>\n",
       "      <th>O_GROUP</th>\n",
       "      <th>TOT_EMP</th>\n",
       "      <th>EMP_PRSE</th>\n",
       "      <th>JOBS_1000</th>\n",
       "      <th>LOC_QUOTIENT</th>\n",
       "      <th>PCT_TOTAL</th>\n",
       "      <th>PCT_RPT</th>\n",
       "      <th>H_MEAN</th>\n",
       "      <th>A_MEAN</th>\n",
       "      <th>MEAN_PRSE</th>\n",
       "      <th>H_PCT10</th>\n",
       "      <th>H_PCT25</th>\n",
       "      <th>H_MEDIAN</th>\n",
       "      <th>H_PCT75</th>\n",
       "      <th>H_PCT90</th>\n",
       "      <th>A_PCT10</th>\n",
       "      <th>A_PCT25</th>\n",
       "      <th>A_MEDIAN</th>\n",
       "      <th>A_PCT75</th>\n",
       "      <th>A_PCT90</th>\n",
       "      <th>ANNUAL</th>\n",
       "      <th>HOURLY</th>\n",
       "    </tr>\n",
       "  </thead>\n",
       "  <tbody>\n",
       "    <tr>\n",
       "      <th>0</th>\n",
       "      <td>1</td>\n",
       "      <td>Alabama</td>\n",
       "      <td>2</td>\n",
       "      <td>AL</td>\n",
       "      <td>0</td>\n",
       "      <td>Cross-industry</td>\n",
       "      <td>cross-industry</td>\n",
       "      <td>1235</td>\n",
       "      <td>00-0000</td>\n",
       "      <td>All Occupations</td>\n",
       "      <td>total</td>\n",
       "      <td>2004000</td>\n",
       "      <td>0</td>\n",
       "      <td>1000</td>\n",
       "      <td>1</td>\n",
       "      <td>NaN</td>\n",
       "      <td>NaN</td>\n",
       "      <td>24.34</td>\n",
       "      <td>50620</td>\n",
       "      <td>0.2</td>\n",
       "      <td>10.38</td>\n",
       "      <td>13.48</td>\n",
       "      <td>18.5</td>\n",
       "      <td>28.94</td>\n",
       "      <td>43.25</td>\n",
       "      <td>21580</td>\n",
       "      <td>28030</td>\n",
       "      <td>38470</td>\n",
       "      <td>60190</td>\n",
       "      <td>89950</td>\n",
       "      <td>NaN</td>\n",
       "      <td>NaN</td>\n",
       "    </tr>\n",
       "    <tr>\n",
       "      <th>1</th>\n",
       "      <td>1</td>\n",
       "      <td>Alabama</td>\n",
       "      <td>2</td>\n",
       "      <td>AL</td>\n",
       "      <td>0</td>\n",
       "      <td>Cross-industry</td>\n",
       "      <td>cross-industry</td>\n",
       "      <td>1235</td>\n",
       "      <td>11-0000</td>\n",
       "      <td>Management Occupations</td>\n",
       "      <td>major</td>\n",
       "      <td>104280</td>\n",
       "      <td>1</td>\n",
       "      <td>52.034</td>\n",
       "      <td>0.78</td>\n",
       "      <td>NaN</td>\n",
       "      <td>NaN</td>\n",
       "      <td>53.13</td>\n",
       "      <td>110500</td>\n",
       "      <td>0.8</td>\n",
       "      <td>22.92</td>\n",
       "      <td>31.83</td>\n",
       "      <td>46.12</td>\n",
       "      <td>63.53</td>\n",
       "      <td>86.89</td>\n",
       "      <td>47680</td>\n",
       "      <td>66210</td>\n",
       "      <td>95940</td>\n",
       "      <td>132150</td>\n",
       "      <td>180730</td>\n",
       "      <td>NaN</td>\n",
       "      <td>NaN</td>\n",
       "    </tr>\n",
       "    <tr>\n",
       "      <th>2</th>\n",
       "      <td>1</td>\n",
       "      <td>Alabama</td>\n",
       "      <td>2</td>\n",
       "      <td>AL</td>\n",
       "      <td>0</td>\n",
       "      <td>Cross-industry</td>\n",
       "      <td>cross-industry</td>\n",
       "      <td>1235</td>\n",
       "      <td>11-1011</td>\n",
       "      <td>Chief Executives</td>\n",
       "      <td>detailed</td>\n",
       "      <td>710</td>\n",
       "      <td>13.4</td>\n",
       "      <td>0.355</td>\n",
       "      <td>0.26</td>\n",
       "      <td>NaN</td>\n",
       "      <td>NaN</td>\n",
       "      <td>91.67</td>\n",
       "      <td>190680</td>\n",
       "      <td>4.6</td>\n",
       "      <td>24.48</td>\n",
       "      <td>52.15</td>\n",
       "      <td>65.83</td>\n",
       "      <td>90.64</td>\n",
       "      <td>#</td>\n",
       "      <td>50920</td>\n",
       "      <td>108470</td>\n",
       "      <td>136930</td>\n",
       "      <td>188530</td>\n",
       "      <td>#</td>\n",
       "      <td>NaN</td>\n",
       "      <td>NaN</td>\n",
       "    </tr>\n",
       "    <tr>\n",
       "      <th>3</th>\n",
       "      <td>1</td>\n",
       "      <td>Alabama</td>\n",
       "      <td>2</td>\n",
       "      <td>AL</td>\n",
       "      <td>0</td>\n",
       "      <td>Cross-industry</td>\n",
       "      <td>cross-industry</td>\n",
       "      <td>1235</td>\n",
       "      <td>11-1021</td>\n",
       "      <td>General and Operations Managers</td>\n",
       "      <td>detailed</td>\n",
       "      <td>36550</td>\n",
       "      <td>2.7</td>\n",
       "      <td>18.239</td>\n",
       "      <td>0.8</td>\n",
       "      <td>NaN</td>\n",
       "      <td>NaN</td>\n",
       "      <td>58</td>\n",
       "      <td>120640</td>\n",
       "      <td>1.9</td>\n",
       "      <td>21.41</td>\n",
       "      <td>31.39</td>\n",
       "      <td>47.17</td>\n",
       "      <td>71.64</td>\n",
       "      <td>105.19</td>\n",
       "      <td>44530</td>\n",
       "      <td>65280</td>\n",
       "      <td>98120</td>\n",
       "      <td>149010</td>\n",
       "      <td>218800</td>\n",
       "      <td>NaN</td>\n",
       "      <td>NaN</td>\n",
       "    </tr>\n",
       "    <tr>\n",
       "      <th>4</th>\n",
       "      <td>1</td>\n",
       "      <td>Alabama</td>\n",
       "      <td>2</td>\n",
       "      <td>AL</td>\n",
       "      <td>0</td>\n",
       "      <td>Cross-industry</td>\n",
       "      <td>cross-industry</td>\n",
       "      <td>1235</td>\n",
       "      <td>11-1031</td>\n",
       "      <td>Legislators</td>\n",
       "      <td>detailed</td>\n",
       "      <td>930</td>\n",
       "      <td>8.4</td>\n",
       "      <td>0.464</td>\n",
       "      <td>1.6</td>\n",
       "      <td>NaN</td>\n",
       "      <td>NaN</td>\n",
       "      <td>*</td>\n",
       "      <td>30000</td>\n",
       "      <td>3.2</td>\n",
       "      <td>*</td>\n",
       "      <td>*</td>\n",
       "      <td>*</td>\n",
       "      <td>*</td>\n",
       "      <td>*</td>\n",
       "      <td>17080</td>\n",
       "      <td>18130</td>\n",
       "      <td>20320</td>\n",
       "      <td>35730</td>\n",
       "      <td>57060</td>\n",
       "      <td>True</td>\n",
       "      <td>NaN</td>\n",
       "    </tr>\n",
       "  </tbody>\n",
       "</table>\n",
       "</div>"
      ],
      "text/plain": [
       "   AREA AREA_TITLE  AREA_TYPE PRIM_STATE  NAICS     NAICS_TITLE  \\\n",
       "0     1    Alabama          2         AL      0  Cross-industry   \n",
       "1     1    Alabama          2         AL      0  Cross-industry   \n",
       "2     1    Alabama          2         AL      0  Cross-industry   \n",
       "3     1    Alabama          2         AL      0  Cross-industry   \n",
       "4     1    Alabama          2         AL      0  Cross-industry   \n",
       "\n",
       "          I_GROUP  OWN_CODE OCC_CODE                        OCC_TITLE  \\\n",
       "0  cross-industry      1235  00-0000                  All Occupations   \n",
       "1  cross-industry      1235  11-0000           Management Occupations   \n",
       "2  cross-industry      1235  11-1011                 Chief Executives   \n",
       "3  cross-industry      1235  11-1021  General and Operations Managers   \n",
       "4  cross-industry      1235  11-1031                      Legislators   \n",
       "\n",
       "    O_GROUP  TOT_EMP EMP_PRSE JOBS_1000 LOC_QUOTIENT  PCT_TOTAL  PCT_RPT  \\\n",
       "0     total  2004000        0      1000            1        NaN      NaN   \n",
       "1     major   104280        1    52.034         0.78        NaN      NaN   \n",
       "2  detailed      710     13.4     0.355         0.26        NaN      NaN   \n",
       "3  detailed    36550      2.7    18.239          0.8        NaN      NaN   \n",
       "4  detailed      930      8.4     0.464          1.6        NaN      NaN   \n",
       "\n",
       "  H_MEAN  A_MEAN MEAN_PRSE H_PCT10 H_PCT25 H_MEDIAN H_PCT75 H_PCT90 A_PCT10  \\\n",
       "0  24.34   50620       0.2   10.38   13.48     18.5   28.94   43.25   21580   \n",
       "1  53.13  110500       0.8   22.92   31.83    46.12   63.53   86.89   47680   \n",
       "2  91.67  190680       4.6   24.48   52.15    65.83   90.64       #   50920   \n",
       "3     58  120640       1.9   21.41   31.39    47.17   71.64  105.19   44530   \n",
       "4      *   30000       3.2       *       *        *       *       *   17080   \n",
       "\n",
       "  A_PCT25 A_MEDIAN A_PCT75 A_PCT90 ANNUAL HOURLY  \n",
       "0   28030    38470   60190   89950    NaN    NaN  \n",
       "1   66210    95940  132150  180730    NaN    NaN  \n",
       "2  108470   136930  188530       #    NaN    NaN  \n",
       "3   65280    98120  149010  218800    NaN    NaN  \n",
       "4   18130    20320   35730   57060   True    NaN  "
      ]
     },
     "execution_count": 58,
     "metadata": {},
     "output_type": "execute_result"
    }
   ],
   "source": [
    "jobs22_df.info()\n",
    "jobs22_df.head()"
   ]
  },
  {
   "cell_type": "code",
   "execution_count": 59,
   "id": "4a0f13bf",
   "metadata": {},
   "outputs": [
    {
     "name": "stdout",
     "output_type": "stream",
     "text": [
      "<class 'pandas.core.frame.DataFrame'>\n",
      "RangeIndex: 37580 entries, 0 to 37579\n",
      "Data columns (total 32 columns):\n",
      " #   Column        Non-Null Count  Dtype  \n",
      "---  ------        --------------  -----  \n",
      " 0   AREA          37580 non-null  int64  \n",
      " 1   AREA_TITLE    37580 non-null  object \n",
      " 2   AREA_TYPE     37580 non-null  int64  \n",
      " 3   PRIM_STATE    37580 non-null  object \n",
      " 4   NAICS         37580 non-null  int64  \n",
      " 5   NAICS_TITLE   37580 non-null  object \n",
      " 6   I_GROUP       37580 non-null  object \n",
      " 7   OWN_CODE      37580 non-null  int64  \n",
      " 8   OCC_CODE      37580 non-null  object \n",
      " 9   OCC_TITLE     37580 non-null  object \n",
      " 10  O_GROUP       37580 non-null  object \n",
      " 11  TOT_EMP       37580 non-null  object \n",
      " 12  EMP_PRSE      37580 non-null  object \n",
      " 13  JOBS_1000     37580 non-null  object \n",
      " 14  LOC_QUOTIENT  37580 non-null  object \n",
      " 15  PCT_TOTAL     0 non-null      float64\n",
      " 16  PCT_RPT       0 non-null      float64\n",
      " 17  H_MEAN        37580 non-null  object \n",
      " 18  A_MEAN        37580 non-null  object \n",
      " 19  MEAN_PRSE     37580 non-null  object \n",
      " 20  H_PCT10       37580 non-null  object \n",
      " 21  H_PCT25       37580 non-null  object \n",
      " 22  H_MEDIAN      37580 non-null  object \n",
      " 23  H_PCT75       37580 non-null  object \n",
      " 24  H_PCT90       37580 non-null  object \n",
      " 25  A_PCT10       37580 non-null  object \n",
      " 26  A_PCT25       37580 non-null  object \n",
      " 27  A_MEDIAN      37580 non-null  object \n",
      " 28  A_PCT75       37580 non-null  object \n",
      " 29  A_PCT90       37580 non-null  object \n",
      " 30  ANNUAL        2627 non-null   object \n",
      " 31  HOURLY        135 non-null    object \n",
      "dtypes: float64(2), int64(4), object(26)\n",
      "memory usage: 9.2+ MB\n"
     ]
    },
    {
     "data": {
      "text/html": [
       "<div>\n",
       "<style scoped>\n",
       "    .dataframe tbody tr th:only-of-type {\n",
       "        vertical-align: middle;\n",
       "    }\n",
       "\n",
       "    .dataframe tbody tr th {\n",
       "        vertical-align: top;\n",
       "    }\n",
       "\n",
       "    .dataframe thead th {\n",
       "        text-align: right;\n",
       "    }\n",
       "</style>\n",
       "<table border=\"1\" class=\"dataframe\">\n",
       "  <thead>\n",
       "    <tr style=\"text-align: right;\">\n",
       "      <th></th>\n",
       "      <th>AREA</th>\n",
       "      <th>AREA_TITLE</th>\n",
       "      <th>AREA_TYPE</th>\n",
       "      <th>PRIM_STATE</th>\n",
       "      <th>NAICS</th>\n",
       "      <th>NAICS_TITLE</th>\n",
       "      <th>I_GROUP</th>\n",
       "      <th>OWN_CODE</th>\n",
       "      <th>OCC_CODE</th>\n",
       "      <th>OCC_TITLE</th>\n",
       "      <th>O_GROUP</th>\n",
       "      <th>TOT_EMP</th>\n",
       "      <th>EMP_PRSE</th>\n",
       "      <th>JOBS_1000</th>\n",
       "      <th>LOC_QUOTIENT</th>\n",
       "      <th>PCT_TOTAL</th>\n",
       "      <th>PCT_RPT</th>\n",
       "      <th>H_MEAN</th>\n",
       "      <th>A_MEAN</th>\n",
       "      <th>MEAN_PRSE</th>\n",
       "      <th>H_PCT10</th>\n",
       "      <th>H_PCT25</th>\n",
       "      <th>H_MEDIAN</th>\n",
       "      <th>H_PCT75</th>\n",
       "      <th>H_PCT90</th>\n",
       "      <th>A_PCT10</th>\n",
       "      <th>A_PCT25</th>\n",
       "      <th>A_MEDIAN</th>\n",
       "      <th>A_PCT75</th>\n",
       "      <th>A_PCT90</th>\n",
       "      <th>ANNUAL</th>\n",
       "      <th>HOURLY</th>\n",
       "    </tr>\n",
       "  </thead>\n",
       "  <tbody>\n",
       "    <tr>\n",
       "      <th>0</th>\n",
       "      <td>1</td>\n",
       "      <td>Alabama</td>\n",
       "      <td>2</td>\n",
       "      <td>AL</td>\n",
       "      <td>0</td>\n",
       "      <td>Cross-industry</td>\n",
       "      <td>cross-industry</td>\n",
       "      <td>1235</td>\n",
       "      <td>00-0000</td>\n",
       "      <td>All Occupations</td>\n",
       "      <td>total</td>\n",
       "      <td>1928110</td>\n",
       "      <td>0</td>\n",
       "      <td>1000</td>\n",
       "      <td>1</td>\n",
       "      <td>NaN</td>\n",
       "      <td>NaN</td>\n",
       "      <td>23.13</td>\n",
       "      <td>48110</td>\n",
       "      <td>0.2</td>\n",
       "      <td>8.96</td>\n",
       "      <td>11.89</td>\n",
       "      <td>17.91</td>\n",
       "      <td>28.68</td>\n",
       "      <td>39.79</td>\n",
       "      <td>18630</td>\n",
       "      <td>24720</td>\n",
       "      <td>37250</td>\n",
       "      <td>59660</td>\n",
       "      <td>82760</td>\n",
       "      <td>NaN</td>\n",
       "      <td>NaN</td>\n",
       "    </tr>\n",
       "    <tr>\n",
       "      <th>1</th>\n",
       "      <td>1</td>\n",
       "      <td>Alabama</td>\n",
       "      <td>2</td>\n",
       "      <td>AL</td>\n",
       "      <td>0</td>\n",
       "      <td>Cross-industry</td>\n",
       "      <td>cross-industry</td>\n",
       "      <td>1235</td>\n",
       "      <td>11-0000</td>\n",
       "      <td>Management Occupations</td>\n",
       "      <td>major</td>\n",
       "      <td>96070</td>\n",
       "      <td>1.3</td>\n",
       "      <td>49.827</td>\n",
       "      <td>0.79</td>\n",
       "      <td>NaN</td>\n",
       "      <td>NaN</td>\n",
       "      <td>51.06</td>\n",
       "      <td>106210</td>\n",
       "      <td>0.6</td>\n",
       "      <td>22.55</td>\n",
       "      <td>30.19</td>\n",
       "      <td>45.51</td>\n",
       "      <td>61.25</td>\n",
       "      <td>87.58</td>\n",
       "      <td>46900</td>\n",
       "      <td>62790</td>\n",
       "      <td>94650</td>\n",
       "      <td>127400</td>\n",
       "      <td>182160</td>\n",
       "      <td>NaN</td>\n",
       "      <td>NaN</td>\n",
       "    </tr>\n",
       "    <tr>\n",
       "      <th>2</th>\n",
       "      <td>1</td>\n",
       "      <td>Alabama</td>\n",
       "      <td>2</td>\n",
       "      <td>AL</td>\n",
       "      <td>0</td>\n",
       "      <td>Cross-industry</td>\n",
       "      <td>cross-industry</td>\n",
       "      <td>1235</td>\n",
       "      <td>11-1011</td>\n",
       "      <td>Chief Executives</td>\n",
       "      <td>detailed</td>\n",
       "      <td>690</td>\n",
       "      <td>11.4</td>\n",
       "      <td>0.359</td>\n",
       "      <td>0.25</td>\n",
       "      <td>NaN</td>\n",
       "      <td>NaN</td>\n",
       "      <td>72.24</td>\n",
       "      <td>150260</td>\n",
       "      <td>4.8</td>\n",
       "      <td>28.46</td>\n",
       "      <td>45.36</td>\n",
       "      <td>61.14</td>\n",
       "      <td>82.09</td>\n",
       "      <td>#</td>\n",
       "      <td>59190</td>\n",
       "      <td>94360</td>\n",
       "      <td>127170</td>\n",
       "      <td>170750</td>\n",
       "      <td>#</td>\n",
       "      <td>NaN</td>\n",
       "      <td>NaN</td>\n",
       "    </tr>\n",
       "    <tr>\n",
       "      <th>3</th>\n",
       "      <td>1</td>\n",
       "      <td>Alabama</td>\n",
       "      <td>2</td>\n",
       "      <td>AL</td>\n",
       "      <td>0</td>\n",
       "      <td>Cross-industry</td>\n",
       "      <td>cross-industry</td>\n",
       "      <td>1235</td>\n",
       "      <td>11-1021</td>\n",
       "      <td>General and Operations Managers</td>\n",
       "      <td>detailed</td>\n",
       "      <td>34370</td>\n",
       "      <td>2.7</td>\n",
       "      <td>17.824</td>\n",
       "      <td>0.84</td>\n",
       "      <td>NaN</td>\n",
       "      <td>NaN</td>\n",
       "      <td>54.5</td>\n",
       "      <td>113350</td>\n",
       "      <td>0.9</td>\n",
       "      <td>22.22</td>\n",
       "      <td>29.93</td>\n",
       "      <td>46.28</td>\n",
       "      <td>68.75</td>\n",
       "      <td>#</td>\n",
       "      <td>46220</td>\n",
       "      <td>62260</td>\n",
       "      <td>96270</td>\n",
       "      <td>143000</td>\n",
       "      <td>#</td>\n",
       "      <td>NaN</td>\n",
       "      <td>NaN</td>\n",
       "    </tr>\n",
       "    <tr>\n",
       "      <th>4</th>\n",
       "      <td>1</td>\n",
       "      <td>Alabama</td>\n",
       "      <td>2</td>\n",
       "      <td>AL</td>\n",
       "      <td>0</td>\n",
       "      <td>Cross-industry</td>\n",
       "      <td>cross-industry</td>\n",
       "      <td>1235</td>\n",
       "      <td>11-1031</td>\n",
       "      <td>Legislators</td>\n",
       "      <td>detailed</td>\n",
       "      <td>1030</td>\n",
       "      <td>10</td>\n",
       "      <td>0.535</td>\n",
       "      <td>1.69</td>\n",
       "      <td>NaN</td>\n",
       "      <td>NaN</td>\n",
       "      <td>*</td>\n",
       "      <td>28520</td>\n",
       "      <td>4.5</td>\n",
       "      <td>*</td>\n",
       "      <td>*</td>\n",
       "      <td>*</td>\n",
       "      <td>*</td>\n",
       "      <td>*</td>\n",
       "      <td>16930</td>\n",
       "      <td>17310</td>\n",
       "      <td>17840</td>\n",
       "      <td>31300</td>\n",
       "      <td>56420</td>\n",
       "      <td>True</td>\n",
       "      <td>NaN</td>\n",
       "    </tr>\n",
       "  </tbody>\n",
       "</table>\n",
       "</div>"
      ],
      "text/plain": [
       "   AREA AREA_TITLE  AREA_TYPE PRIM_STATE  NAICS     NAICS_TITLE  \\\n",
       "0     1    Alabama          2         AL      0  Cross-industry   \n",
       "1     1    Alabama          2         AL      0  Cross-industry   \n",
       "2     1    Alabama          2         AL      0  Cross-industry   \n",
       "3     1    Alabama          2         AL      0  Cross-industry   \n",
       "4     1    Alabama          2         AL      0  Cross-industry   \n",
       "\n",
       "          I_GROUP  OWN_CODE OCC_CODE                        OCC_TITLE  \\\n",
       "0  cross-industry      1235  00-0000                  All Occupations   \n",
       "1  cross-industry      1235  11-0000           Management Occupations   \n",
       "2  cross-industry      1235  11-1011                 Chief Executives   \n",
       "3  cross-industry      1235  11-1021  General and Operations Managers   \n",
       "4  cross-industry      1235  11-1031                      Legislators   \n",
       "\n",
       "    O_GROUP  TOT_EMP EMP_PRSE JOBS_1000 LOC_QUOTIENT  PCT_TOTAL  PCT_RPT  \\\n",
       "0     total  1928110        0      1000            1        NaN      NaN   \n",
       "1     major    96070      1.3    49.827         0.79        NaN      NaN   \n",
       "2  detailed      690     11.4     0.359         0.25        NaN      NaN   \n",
       "3  detailed    34370      2.7    17.824         0.84        NaN      NaN   \n",
       "4  detailed     1030       10     0.535         1.69        NaN      NaN   \n",
       "\n",
       "  H_MEAN  A_MEAN MEAN_PRSE H_PCT10 H_PCT25 H_MEDIAN H_PCT75 H_PCT90 A_PCT10  \\\n",
       "0  23.13   48110       0.2    8.96   11.89    17.91   28.68   39.79   18630   \n",
       "1  51.06  106210       0.6   22.55   30.19    45.51   61.25   87.58   46900   \n",
       "2  72.24  150260       4.8   28.46   45.36    61.14   82.09       #   59190   \n",
       "3   54.5  113350       0.9   22.22   29.93    46.28   68.75       #   46220   \n",
       "4      *   28520       4.5       *       *        *       *       *   16930   \n",
       "\n",
       "  A_PCT25 A_MEDIAN A_PCT75 A_PCT90 ANNUAL HOURLY  \n",
       "0   24720    37250   59660   82760    NaN    NaN  \n",
       "1   62790    94650  127400  182160    NaN    NaN  \n",
       "2   94360   127170  170750       #    NaN    NaN  \n",
       "3   62260    96270  143000       #    NaN    NaN  \n",
       "4   17310    17840   31300   56420   True    NaN  "
      ]
     },
     "execution_count": 59,
     "metadata": {},
     "output_type": "execute_result"
    }
   ],
   "source": [
    "jobs21_df.info()\n",
    "jobs21_df.head()"
   ]
  },
  {
   "cell_type": "code",
   "execution_count": 60,
   "id": "48aa8c72",
   "metadata": {},
   "outputs": [
    {
     "name": "stdout",
     "output_type": "stream",
     "text": [
      "<class 'pandas.core.frame.DataFrame'>\n",
      "RangeIndex: 36085 entries, 0 to 36084\n",
      "Data columns (total 31 columns):\n",
      " #   Column        Non-Null Count  Dtype  \n",
      "---  ------        --------------  -----  \n",
      " 0   AREA          36085 non-null  int64  \n",
      " 1   AREA_TITLE    36085 non-null  object \n",
      " 2   AREA_TYPE     36085 non-null  int64  \n",
      " 3   PRIM_STATE    36085 non-null  object \n",
      " 4   NAICS         36085 non-null  int64  \n",
      " 5   NAICS_TITLE   36085 non-null  object \n",
      " 6   I_GROUP       36085 non-null  object \n",
      " 7   OWN_CODE      36085 non-null  int64  \n",
      " 8   OCC_CODE      36085 non-null  object \n",
      " 9   OCC_TITLE     36085 non-null  object \n",
      " 10  O_GROUP       36085 non-null  object \n",
      " 11  TOT_EMP       36085 non-null  object \n",
      " 12  EMP_PRSE      36085 non-null  object \n",
      " 13  JOBS_1000     36085 non-null  object \n",
      " 14  LOC_QUOTIENT  36085 non-null  object \n",
      " 15  PCT_TOTAL     0 non-null      float64\n",
      " 16  H_MEAN        36085 non-null  object \n",
      " 17  A_MEAN        36085 non-null  object \n",
      " 18  MEAN_PRSE     36085 non-null  object \n",
      " 19  H_PCT10       36085 non-null  object \n",
      " 20  H_PCT25       36085 non-null  object \n",
      " 21  H_MEDIAN      36085 non-null  object \n",
      " 22  H_PCT75       36085 non-null  object \n",
      " 23  H_PCT90       36085 non-null  object \n",
      " 24  A_PCT10       36085 non-null  object \n",
      " 25  A_PCT25       36085 non-null  object \n",
      " 26  A_MEDIAN      36085 non-null  object \n",
      " 27  A_PCT75       36085 non-null  object \n",
      " 28  A_PCT90       36085 non-null  object \n",
      " 29  ANNUAL        2605 non-null   object \n",
      " 30  HOURLY        145 non-null    object \n",
      "dtypes: float64(1), int64(4), object(26)\n",
      "memory usage: 8.5+ MB\n"
     ]
    },
    {
     "data": {
      "text/html": [
       "<div>\n",
       "<style scoped>\n",
       "    .dataframe tbody tr th:only-of-type {\n",
       "        vertical-align: middle;\n",
       "    }\n",
       "\n",
       "    .dataframe tbody tr th {\n",
       "        vertical-align: top;\n",
       "    }\n",
       "\n",
       "    .dataframe thead th {\n",
       "        text-align: right;\n",
       "    }\n",
       "</style>\n",
       "<table border=\"1\" class=\"dataframe\">\n",
       "  <thead>\n",
       "    <tr style=\"text-align: right;\">\n",
       "      <th></th>\n",
       "      <th>AREA</th>\n",
       "      <th>AREA_TITLE</th>\n",
       "      <th>AREA_TYPE</th>\n",
       "      <th>PRIM_STATE</th>\n",
       "      <th>NAICS</th>\n",
       "      <th>NAICS_TITLE</th>\n",
       "      <th>I_GROUP</th>\n",
       "      <th>OWN_CODE</th>\n",
       "      <th>OCC_CODE</th>\n",
       "      <th>OCC_TITLE</th>\n",
       "      <th>O_GROUP</th>\n",
       "      <th>TOT_EMP</th>\n",
       "      <th>EMP_PRSE</th>\n",
       "      <th>JOBS_1000</th>\n",
       "      <th>LOC_QUOTIENT</th>\n",
       "      <th>PCT_TOTAL</th>\n",
       "      <th>H_MEAN</th>\n",
       "      <th>A_MEAN</th>\n",
       "      <th>MEAN_PRSE</th>\n",
       "      <th>H_PCT10</th>\n",
       "      <th>H_PCT25</th>\n",
       "      <th>H_MEDIAN</th>\n",
       "      <th>H_PCT75</th>\n",
       "      <th>H_PCT90</th>\n",
       "      <th>A_PCT10</th>\n",
       "      <th>A_PCT25</th>\n",
       "      <th>A_MEDIAN</th>\n",
       "      <th>A_PCT75</th>\n",
       "      <th>A_PCT90</th>\n",
       "      <th>ANNUAL</th>\n",
       "      <th>HOURLY</th>\n",
       "    </tr>\n",
       "  </thead>\n",
       "  <tbody>\n",
       "    <tr>\n",
       "      <th>0</th>\n",
       "      <td>1</td>\n",
       "      <td>Alabama</td>\n",
       "      <td>2</td>\n",
       "      <td>AL</td>\n",
       "      <td>0</td>\n",
       "      <td>Cross-industry</td>\n",
       "      <td>cross-industry</td>\n",
       "      <td>1235</td>\n",
       "      <td>00-0000</td>\n",
       "      <td>All Occupations</td>\n",
       "      <td>total</td>\n",
       "      <td>1903210</td>\n",
       "      <td>0.5</td>\n",
       "      <td>1000</td>\n",
       "      <td>1</td>\n",
       "      <td>NaN</td>\n",
       "      <td>22.52</td>\n",
       "      <td>46840</td>\n",
       "      <td>0.6</td>\n",
       "      <td>8.98</td>\n",
       "      <td>11.57</td>\n",
       "      <td>17.43</td>\n",
       "      <td>27.39</td>\n",
       "      <td>41.07</td>\n",
       "      <td>18690</td>\n",
       "      <td>24060</td>\n",
       "      <td>36250</td>\n",
       "      <td>56980</td>\n",
       "      <td>85430</td>\n",
       "      <td>NaN</td>\n",
       "      <td>NaN</td>\n",
       "    </tr>\n",
       "    <tr>\n",
       "      <th>1</th>\n",
       "      <td>1</td>\n",
       "      <td>Alabama</td>\n",
       "      <td>2</td>\n",
       "      <td>AL</td>\n",
       "      <td>0</td>\n",
       "      <td>Cross-industry</td>\n",
       "      <td>cross-industry</td>\n",
       "      <td>1235</td>\n",
       "      <td>11-0000</td>\n",
       "      <td>Management Occupations</td>\n",
       "      <td>major</td>\n",
       "      <td>87110</td>\n",
       "      <td>1.2</td>\n",
       "      <td>45.772</td>\n",
       "      <td>0.8</td>\n",
       "      <td>NaN</td>\n",
       "      <td>52.9</td>\n",
       "      <td>110040</td>\n",
       "      <td>0.7</td>\n",
       "      <td>22.95</td>\n",
       "      <td>32.37</td>\n",
       "      <td>45.73</td>\n",
       "      <td>64.58</td>\n",
       "      <td>91.89</td>\n",
       "      <td>47740</td>\n",
       "      <td>67330</td>\n",
       "      <td>95120</td>\n",
       "      <td>134320</td>\n",
       "      <td>191130</td>\n",
       "      <td>NaN</td>\n",
       "      <td>NaN</td>\n",
       "    </tr>\n",
       "    <tr>\n",
       "      <th>2</th>\n",
       "      <td>1</td>\n",
       "      <td>Alabama</td>\n",
       "      <td>2</td>\n",
       "      <td>AL</td>\n",
       "      <td>0</td>\n",
       "      <td>Cross-industry</td>\n",
       "      <td>cross-industry</td>\n",
       "      <td>1235</td>\n",
       "      <td>11-1011</td>\n",
       "      <td>Chief Executives</td>\n",
       "      <td>detailed</td>\n",
       "      <td>1160</td>\n",
       "      <td>8.9</td>\n",
       "      <td>0.608</td>\n",
       "      <td>0.42</td>\n",
       "      <td>NaN</td>\n",
       "      <td>84.09</td>\n",
       "      <td>174910</td>\n",
       "      <td>3.8</td>\n",
       "      <td>23.79</td>\n",
       "      <td>47.08</td>\n",
       "      <td>77.55</td>\n",
       "      <td>#</td>\n",
       "      <td>#</td>\n",
       "      <td>49480</td>\n",
       "      <td>97930</td>\n",
       "      <td>161290</td>\n",
       "      <td>#</td>\n",
       "      <td>#</td>\n",
       "      <td>NaN</td>\n",
       "      <td>NaN</td>\n",
       "    </tr>\n",
       "    <tr>\n",
       "      <th>3</th>\n",
       "      <td>1</td>\n",
       "      <td>Alabama</td>\n",
       "      <td>2</td>\n",
       "      <td>AL</td>\n",
       "      <td>0</td>\n",
       "      <td>Cross-industry</td>\n",
       "      <td>cross-industry</td>\n",
       "      <td>1235</td>\n",
       "      <td>11-1021</td>\n",
       "      <td>General and Operations Managers</td>\n",
       "      <td>detailed</td>\n",
       "      <td>31170</td>\n",
       "      <td>2</td>\n",
       "      <td>16.377</td>\n",
       "      <td>0.97</td>\n",
       "      <td>NaN</td>\n",
       "      <td>58.56</td>\n",
       "      <td>121800</td>\n",
       "      <td>1</td>\n",
       "      <td>23.09</td>\n",
       "      <td>32.57</td>\n",
       "      <td>48.64</td>\n",
       "      <td>73.58</td>\n",
       "      <td>#</td>\n",
       "      <td>48030</td>\n",
       "      <td>67740</td>\n",
       "      <td>101170</td>\n",
       "      <td>153050</td>\n",
       "      <td>#</td>\n",
       "      <td>NaN</td>\n",
       "      <td>NaN</td>\n",
       "    </tr>\n",
       "    <tr>\n",
       "      <th>4</th>\n",
       "      <td>1</td>\n",
       "      <td>Alabama</td>\n",
       "      <td>2</td>\n",
       "      <td>AL</td>\n",
       "      <td>0</td>\n",
       "      <td>Cross-industry</td>\n",
       "      <td>cross-industry</td>\n",
       "      <td>1235</td>\n",
       "      <td>11-1031</td>\n",
       "      <td>Legislators</td>\n",
       "      <td>detailed</td>\n",
       "      <td>1150</td>\n",
       "      <td>6.7</td>\n",
       "      <td>0.604</td>\n",
       "      <td>1.64</td>\n",
       "      <td>NaN</td>\n",
       "      <td>*</td>\n",
       "      <td>28840</td>\n",
       "      <td>5.1</td>\n",
       "      <td>*</td>\n",
       "      <td>*</td>\n",
       "      <td>*</td>\n",
       "      <td>*</td>\n",
       "      <td>*</td>\n",
       "      <td>16220</td>\n",
       "      <td>17190</td>\n",
       "      <td>18820</td>\n",
       "      <td>27920</td>\n",
       "      <td>55970</td>\n",
       "      <td>True</td>\n",
       "      <td>NaN</td>\n",
       "    </tr>\n",
       "  </tbody>\n",
       "</table>\n",
       "</div>"
      ],
      "text/plain": [
       "   AREA AREA_TITLE  AREA_TYPE PRIM_STATE  NAICS     NAICS_TITLE  \\\n",
       "0     1    Alabama          2         AL      0  Cross-industry   \n",
       "1     1    Alabama          2         AL      0  Cross-industry   \n",
       "2     1    Alabama          2         AL      0  Cross-industry   \n",
       "3     1    Alabama          2         AL      0  Cross-industry   \n",
       "4     1    Alabama          2         AL      0  Cross-industry   \n",
       "\n",
       "          I_GROUP  OWN_CODE OCC_CODE                        OCC_TITLE  \\\n",
       "0  cross-industry      1235  00-0000                  All Occupations   \n",
       "1  cross-industry      1235  11-0000           Management Occupations   \n",
       "2  cross-industry      1235  11-1011                 Chief Executives   \n",
       "3  cross-industry      1235  11-1021  General and Operations Managers   \n",
       "4  cross-industry      1235  11-1031                      Legislators   \n",
       "\n",
       "    O_GROUP  TOT_EMP EMP_PRSE JOBS_1000 LOC_QUOTIENT  PCT_TOTAL H_MEAN  \\\n",
       "0     total  1903210      0.5      1000            1        NaN  22.52   \n",
       "1     major    87110      1.2    45.772          0.8        NaN   52.9   \n",
       "2  detailed     1160      8.9     0.608         0.42        NaN  84.09   \n",
       "3  detailed    31170        2    16.377         0.97        NaN  58.56   \n",
       "4  detailed     1150      6.7     0.604         1.64        NaN      *   \n",
       "\n",
       "   A_MEAN MEAN_PRSE H_PCT10 H_PCT25 H_MEDIAN H_PCT75 H_PCT90 A_PCT10 A_PCT25  \\\n",
       "0   46840       0.6    8.98   11.57    17.43   27.39   41.07   18690   24060   \n",
       "1  110040       0.7   22.95   32.37    45.73   64.58   91.89   47740   67330   \n",
       "2  174910       3.8   23.79   47.08    77.55       #       #   49480   97930   \n",
       "3  121800         1   23.09   32.57    48.64   73.58       #   48030   67740   \n",
       "4   28840       5.1       *       *        *       *       *   16220   17190   \n",
       "\n",
       "  A_MEDIAN A_PCT75 A_PCT90 ANNUAL HOURLY  \n",
       "0    36250   56980   85430    NaN    NaN  \n",
       "1    95120  134320  191130    NaN    NaN  \n",
       "2   161290       #       #    NaN    NaN  \n",
       "3   101170  153050       #    NaN    NaN  \n",
       "4    18820   27920   55970   True    NaN  "
      ]
     },
     "execution_count": 60,
     "metadata": {},
     "output_type": "execute_result"
    }
   ],
   "source": [
    "jobs20_df.info()\n",
    "jobs20_df.head()\n"
   ]
  },
  {
   "cell_type": "code",
   "execution_count": 61,
   "id": "735f3da7",
   "metadata": {},
   "outputs": [],
   "source": [
    "def select_occ_codes(df, occ_codes = ['15-2051', '15-2041', '15-2051.01', \n",
    "                                      '15-2041', '15-2031', '15-1242', \n",
    "                                      '15-1243', '15-1211', '15-1221',\n",
    "                                      '15-2099', '', '', '', '']):\n",
    "    selected_jobs_df = df[df['OCC_CODE'].isin(occ_codes)]\n",
    "    selected_jobs_df = selected_jobs_df[['AREA', 'AREA_TITLE',\t'AREA_TYPE', 'PRIM_STATE',\n",
    "                                         'NAICS','NAICS_TITLE','I_GROUP',\t'OWN_CODE',\t\n",
    "                                         'OCC_CODE',\t'OCC_TITLE','O_GROUP',\t'TOT_EMP', \n",
    "                                         'JOBS_1000', 'H_MEAN','A_MEAN']]\n",
    "    cols = ['AREA', 'AREA_TYPE', 'TOT_EMP', 'JOBS_1000', 'H_MEAN','A_MEAN']\n",
    "\n",
    "    for col in cols:\n",
    "        selected_jobs_df[col] = pd.to_numeric(selected_jobs_df[col], errors='coerce').astype('float')\n",
    "    selected_jobs_df.columns = selected_jobs_df.columns.str.lower()\n",
    "    return selected_jobs_df\n",
    "\n",
    "\n",
    "\n",
    "\n"
   ]
  },
  {
   "cell_type": "code",
   "execution_count": 62,
   "id": "c762589e",
   "metadata": {},
   "outputs": [
    {
     "name": "stdout",
     "output_type": "stream",
     "text": [
      "<class 'pandas.core.frame.DataFrame'>\n",
      "Index: 366 entries, 68 to 37450\n",
      "Data columns (total 15 columns):\n",
      " #   Column       Non-Null Count  Dtype  \n",
      "---  ------       --------------  -----  \n",
      " 0   area         366 non-null    float64\n",
      " 1   area_title   366 non-null    object \n",
      " 2   area_type    366 non-null    float64\n",
      " 3   prim_state   366 non-null    object \n",
      " 4   naics        366 non-null    int64  \n",
      " 5   naics_title  366 non-null    object \n",
      " 6   i_group      366 non-null    object \n",
      " 7   own_code     366 non-null    int64  \n",
      " 8   occ_code     366 non-null    object \n",
      " 9   occ_title    366 non-null    object \n",
      " 10  o_group      366 non-null    object \n",
      " 11  tot_emp      354 non-null    float64\n",
      " 12  jobs_1000    354 non-null    float64\n",
      " 13  h_mean       361 non-null    float64\n",
      " 14  a_mean       361 non-null    float64\n",
      "dtypes: float64(6), int64(2), object(7)\n",
      "memory usage: 45.8+ KB\n"
     ]
    }
   ],
   "source": [
    "data_jobs24_df = select_occ_codes(jobs24_df)\n",
    "data_jobs23_df = select_occ_codes(jobs23_df)\n",
    "data_jobs22_df = select_occ_codes(jobs22_df)\n",
    "data_jobs21_df = select_occ_codes(jobs21_df)\n",
    "data_jobs20_df = select_occ_codes(jobs20_df)\n",
    "\n",
    "data_jobs24_df.info()"
   ]
  },
  {
   "cell_type": "code",
   "execution_count": 63,
   "id": "3453cbf8",
   "metadata": {},
   "outputs": [
    {
     "data": {
      "text/plain": [
       "occ_code\n",
       "15-1211    53\n",
       "15-1242    52\n",
       "15-2051    52\n",
       "15-1243    51\n",
       "15-2031    50\n",
       "15-2041    48\n",
       "15-1221    40\n",
       "15-2099    20\n",
       "Name: count, dtype: int64"
      ]
     },
     "execution_count": 63,
     "metadata": {},
     "output_type": "execute_result"
    }
   ],
   "source": [
    "data_jobs24_df.occ_code.value_counts()"
   ]
  },
  {
   "cell_type": "code",
   "execution_count": 64,
   "id": "48bfe7a2",
   "metadata": {},
   "outputs": [
    {
     "data": {
      "text/html": [
       "<div>\n",
       "<style scoped>\n",
       "    .dataframe tbody tr th:only-of-type {\n",
       "        vertical-align: middle;\n",
       "    }\n",
       "\n",
       "    .dataframe tbody tr th {\n",
       "        vertical-align: top;\n",
       "    }\n",
       "\n",
       "    .dataframe thead th {\n",
       "        text-align: right;\n",
       "    }\n",
       "</style>\n",
       "<table border=\"1\" class=\"dataframe\">\n",
       "  <thead>\n",
       "    <tr style=\"text-align: right;\">\n",
       "      <th></th>\n",
       "      <th>area</th>\n",
       "      <th>area_title</th>\n",
       "      <th>area_type</th>\n",
       "      <th>prim_state</th>\n",
       "      <th>naics</th>\n",
       "      <th>naics_title</th>\n",
       "      <th>i_group</th>\n",
       "      <th>own_code</th>\n",
       "      <th>occ_code</th>\n",
       "      <th>occ_title</th>\n",
       "      <th>o_group</th>\n",
       "      <th>tot_emp</th>\n",
       "      <th>jobs_1000</th>\n",
       "      <th>h_mean</th>\n",
       "      <th>a_mean</th>\n",
       "    </tr>\n",
       "  </thead>\n",
       "  <tbody>\n",
       "    <tr>\n",
       "      <th>68</th>\n",
       "      <td>1.0</td>\n",
       "      <td>Alabama</td>\n",
       "      <td>2.0</td>\n",
       "      <td>AL</td>\n",
       "      <td>0</td>\n",
       "      <td>Cross-industry</td>\n",
       "      <td>cross-industry</td>\n",
       "      <td>1235</td>\n",
       "      <td>15-1211</td>\n",
       "      <td>Computer Systems Analysts</td>\n",
       "      <td>detailed</td>\n",
       "      <td>6830.0</td>\n",
       "      <td>3.268</td>\n",
       "      <td>54.06</td>\n",
       "      <td>112430.0</td>\n",
       "    </tr>\n",
       "    <tr>\n",
       "      <th>70</th>\n",
       "      <td>1.0</td>\n",
       "      <td>Alabama</td>\n",
       "      <td>2.0</td>\n",
       "      <td>AL</td>\n",
       "      <td>0</td>\n",
       "      <td>Cross-industry</td>\n",
       "      <td>cross-industry</td>\n",
       "      <td>1235</td>\n",
       "      <td>15-1221</td>\n",
       "      <td>Computer and Information Research Scientists</td>\n",
       "      <td>detailed</td>\n",
       "      <td>540.0</td>\n",
       "      <td>0.258</td>\n",
       "      <td>52.41</td>\n",
       "      <td>109020.0</td>\n",
       "    </tr>\n",
       "    <tr>\n",
       "      <th>74</th>\n",
       "      <td>1.0</td>\n",
       "      <td>Alabama</td>\n",
       "      <td>2.0</td>\n",
       "      <td>AL</td>\n",
       "      <td>0</td>\n",
       "      <td>Cross-industry</td>\n",
       "      <td>cross-industry</td>\n",
       "      <td>1235</td>\n",
       "      <td>15-1242</td>\n",
       "      <td>Database Administrators</td>\n",
       "      <td>detailed</td>\n",
       "      <td>1990.0</td>\n",
       "      <td>0.953</td>\n",
       "      <td>44.68</td>\n",
       "      <td>92930.0</td>\n",
       "    </tr>\n",
       "    <tr>\n",
       "      <th>75</th>\n",
       "      <td>1.0</td>\n",
       "      <td>Alabama</td>\n",
       "      <td>2.0</td>\n",
       "      <td>AL</td>\n",
       "      <td>0</td>\n",
       "      <td>Cross-industry</td>\n",
       "      <td>cross-industry</td>\n",
       "      <td>1235</td>\n",
       "      <td>15-1243</td>\n",
       "      <td>Database Architects</td>\n",
       "      <td>detailed</td>\n",
       "      <td>310.0</td>\n",
       "      <td>0.147</td>\n",
       "      <td>56.50</td>\n",
       "      <td>117510.0</td>\n",
       "    </tr>\n",
       "    <tr>\n",
       "      <th>84</th>\n",
       "      <td>1.0</td>\n",
       "      <td>Alabama</td>\n",
       "      <td>2.0</td>\n",
       "      <td>AL</td>\n",
       "      <td>0</td>\n",
       "      <td>Cross-industry</td>\n",
       "      <td>cross-industry</td>\n",
       "      <td>1235</td>\n",
       "      <td>15-2031</td>\n",
       "      <td>Operations Research Analysts</td>\n",
       "      <td>detailed</td>\n",
       "      <td>500.0</td>\n",
       "      <td>0.241</td>\n",
       "      <td>56.91</td>\n",
       "      <td>118370.0</td>\n",
       "    </tr>\n",
       "  </tbody>\n",
       "</table>\n",
       "</div>"
      ],
      "text/plain": [
       "    area area_title  area_type prim_state  naics     naics_title  \\\n",
       "68   1.0    Alabama        2.0         AL      0  Cross-industry   \n",
       "70   1.0    Alabama        2.0         AL      0  Cross-industry   \n",
       "74   1.0    Alabama        2.0         AL      0  Cross-industry   \n",
       "75   1.0    Alabama        2.0         AL      0  Cross-industry   \n",
       "84   1.0    Alabama        2.0         AL      0  Cross-industry   \n",
       "\n",
       "           i_group  own_code occ_code  \\\n",
       "68  cross-industry      1235  15-1211   \n",
       "70  cross-industry      1235  15-1221   \n",
       "74  cross-industry      1235  15-1242   \n",
       "75  cross-industry      1235  15-1243   \n",
       "84  cross-industry      1235  15-2031   \n",
       "\n",
       "                                       occ_title   o_group  tot_emp  \\\n",
       "68                     Computer Systems Analysts  detailed   6830.0   \n",
       "70  Computer and Information Research Scientists  detailed    540.0   \n",
       "74                       Database Administrators  detailed   1990.0   \n",
       "75                           Database Architects  detailed    310.0   \n",
       "84                  Operations Research Analysts  detailed    500.0   \n",
       "\n",
       "    jobs_1000  h_mean    a_mean  \n",
       "68      3.268   54.06  112430.0  \n",
       "70      0.258   52.41  109020.0  \n",
       "74      0.953   44.68   92930.0  \n",
       "75      0.147   56.50  117510.0  \n",
       "84      0.241   56.91  118370.0  "
      ]
     },
     "execution_count": 64,
     "metadata": {},
     "output_type": "execute_result"
    }
   ],
   "source": [
    "data_jobs24_df.head()"
   ]
  },
  {
   "cell_type": "code",
   "execution_count": 65,
   "id": "60774415",
   "metadata": {},
   "outputs": [
    {
     "data": {
      "text/html": [
       "<div>\n",
       "<style scoped>\n",
       "    .dataframe tbody tr th:only-of-type {\n",
       "        vertical-align: middle;\n",
       "    }\n",
       "\n",
       "    .dataframe tbody tr th {\n",
       "        vertical-align: top;\n",
       "    }\n",
       "\n",
       "    .dataframe thead th {\n",
       "        text-align: right;\n",
       "    }\n",
       "</style>\n",
       "<table border=\"1\" class=\"dataframe\">\n",
       "  <thead>\n",
       "    <tr style=\"text-align: right;\">\n",
       "      <th></th>\n",
       "      <th>area</th>\n",
       "      <th>area_title</th>\n",
       "      <th>prim_state</th>\n",
       "      <th>occ_code</th>\n",
       "      <th>occ_title</th>\n",
       "      <th>o_group</th>\n",
       "      <th>tot_emp_24</th>\n",
       "      <th>jobs_1000_24</th>\n",
       "      <th>h_mean_24</th>\n",
       "      <th>a_mean_24</th>\n",
       "    </tr>\n",
       "  </thead>\n",
       "  <tbody>\n",
       "    <tr>\n",
       "      <th>68</th>\n",
       "      <td>1.0</td>\n",
       "      <td>Alabama</td>\n",
       "      <td>AL</td>\n",
       "      <td>15-1211</td>\n",
       "      <td>Computer Systems Analysts</td>\n",
       "      <td>detailed</td>\n",
       "      <td>6830.0</td>\n",
       "      <td>3.268</td>\n",
       "      <td>54.06</td>\n",
       "      <td>112430.0</td>\n",
       "    </tr>\n",
       "    <tr>\n",
       "      <th>70</th>\n",
       "      <td>1.0</td>\n",
       "      <td>Alabama</td>\n",
       "      <td>AL</td>\n",
       "      <td>15-1221</td>\n",
       "      <td>Computer and Information Research Scientists</td>\n",
       "      <td>detailed</td>\n",
       "      <td>540.0</td>\n",
       "      <td>0.258</td>\n",
       "      <td>52.41</td>\n",
       "      <td>109020.0</td>\n",
       "    </tr>\n",
       "    <tr>\n",
       "      <th>74</th>\n",
       "      <td>1.0</td>\n",
       "      <td>Alabama</td>\n",
       "      <td>AL</td>\n",
       "      <td>15-1242</td>\n",
       "      <td>Database Administrators</td>\n",
       "      <td>detailed</td>\n",
       "      <td>1990.0</td>\n",
       "      <td>0.953</td>\n",
       "      <td>44.68</td>\n",
       "      <td>92930.0</td>\n",
       "    </tr>\n",
       "    <tr>\n",
       "      <th>75</th>\n",
       "      <td>1.0</td>\n",
       "      <td>Alabama</td>\n",
       "      <td>AL</td>\n",
       "      <td>15-1243</td>\n",
       "      <td>Database Architects</td>\n",
       "      <td>detailed</td>\n",
       "      <td>310.0</td>\n",
       "      <td>0.147</td>\n",
       "      <td>56.50</td>\n",
       "      <td>117510.0</td>\n",
       "    </tr>\n",
       "    <tr>\n",
       "      <th>84</th>\n",
       "      <td>1.0</td>\n",
       "      <td>Alabama</td>\n",
       "      <td>AL</td>\n",
       "      <td>15-2031</td>\n",
       "      <td>Operations Research Analysts</td>\n",
       "      <td>detailed</td>\n",
       "      <td>500.0</td>\n",
       "      <td>0.241</td>\n",
       "      <td>56.91</td>\n",
       "      <td>118370.0</td>\n",
       "    </tr>\n",
       "    <tr>\n",
       "      <th>...</th>\n",
       "      <td>...</td>\n",
       "      <td>...</td>\n",
       "      <td>...</td>\n",
       "      <td>...</td>\n",
       "      <td>...</td>\n",
       "      <td>...</td>\n",
       "      <td>...</td>\n",
       "      <td>...</td>\n",
       "      <td>...</td>\n",
       "      <td>...</td>\n",
       "    </tr>\n",
       "    <tr>\n",
       "      <th>36902</th>\n",
       "      <td>72.0</td>\n",
       "      <td>Puerto Rico</td>\n",
       "      <td>PR</td>\n",
       "      <td>15-1243</td>\n",
       "      <td>Database Architects</td>\n",
       "      <td>detailed</td>\n",
       "      <td>80.0</td>\n",
       "      <td>0.088</td>\n",
       "      <td>37.58</td>\n",
       "      <td>78160.0</td>\n",
       "    </tr>\n",
       "    <tr>\n",
       "      <th>36911</th>\n",
       "      <td>72.0</td>\n",
       "      <td>Puerto Rico</td>\n",
       "      <td>PR</td>\n",
       "      <td>15-2031</td>\n",
       "      <td>Operations Research Analysts</td>\n",
       "      <td>detailed</td>\n",
       "      <td>60.0</td>\n",
       "      <td>0.061</td>\n",
       "      <td>33.19</td>\n",
       "      <td>69040.0</td>\n",
       "    </tr>\n",
       "    <tr>\n",
       "      <th>36912</th>\n",
       "      <td>72.0</td>\n",
       "      <td>Puerto Rico</td>\n",
       "      <td>PR</td>\n",
       "      <td>15-2041</td>\n",
       "      <td>Statisticians</td>\n",
       "      <td>detailed</td>\n",
       "      <td>380.0</td>\n",
       "      <td>0.405</td>\n",
       "      <td>23.71</td>\n",
       "      <td>49310.0</td>\n",
       "    </tr>\n",
       "    <tr>\n",
       "      <th>36913</th>\n",
       "      <td>72.0</td>\n",
       "      <td>Puerto Rico</td>\n",
       "      <td>PR</td>\n",
       "      <td>15-2051</td>\n",
       "      <td>Data Scientists</td>\n",
       "      <td>detailed</td>\n",
       "      <td>120.0</td>\n",
       "      <td>0.122</td>\n",
       "      <td>34.79</td>\n",
       "      <td>72370.0</td>\n",
       "    </tr>\n",
       "    <tr>\n",
       "      <th>37450</th>\n",
       "      <td>78.0</td>\n",
       "      <td>Virgin Islands</td>\n",
       "      <td>VI</td>\n",
       "      <td>15-1211</td>\n",
       "      <td>Computer Systems Analysts</td>\n",
       "      <td>detailed</td>\n",
       "      <td>50.0</td>\n",
       "      <td>1.327</td>\n",
       "      <td>31.50</td>\n",
       "      <td>65530.0</td>\n",
       "    </tr>\n",
       "  </tbody>\n",
       "</table>\n",
       "<p>366 rows × 10 columns</p>\n",
       "</div>"
      ],
      "text/plain": [
       "       area      area_title prim_state occ_code  \\\n",
       "68      1.0         Alabama         AL  15-1211   \n",
       "70      1.0         Alabama         AL  15-1221   \n",
       "74      1.0         Alabama         AL  15-1242   \n",
       "75      1.0         Alabama         AL  15-1243   \n",
       "84      1.0         Alabama         AL  15-2031   \n",
       "...     ...             ...        ...      ...   \n",
       "36902  72.0     Puerto Rico         PR  15-1243   \n",
       "36911  72.0     Puerto Rico         PR  15-2031   \n",
       "36912  72.0     Puerto Rico         PR  15-2041   \n",
       "36913  72.0     Puerto Rico         PR  15-2051   \n",
       "37450  78.0  Virgin Islands         VI  15-1211   \n",
       "\n",
       "                                          occ_title   o_group  tot_emp_24  \\\n",
       "68                        Computer Systems Analysts  detailed      6830.0   \n",
       "70     Computer and Information Research Scientists  detailed       540.0   \n",
       "74                          Database Administrators  detailed      1990.0   \n",
       "75                              Database Architects  detailed       310.0   \n",
       "84                     Operations Research Analysts  detailed       500.0   \n",
       "...                                             ...       ...         ...   \n",
       "36902                           Database Architects  detailed        80.0   \n",
       "36911                  Operations Research Analysts  detailed        60.0   \n",
       "36912                                 Statisticians  detailed       380.0   \n",
       "36913                               Data Scientists  detailed       120.0   \n",
       "37450                     Computer Systems Analysts  detailed        50.0   \n",
       "\n",
       "       jobs_1000_24  h_mean_24  a_mean_24  \n",
       "68            3.268      54.06   112430.0  \n",
       "70            0.258      52.41   109020.0  \n",
       "74            0.953      44.68    92930.0  \n",
       "75            0.147      56.50   117510.0  \n",
       "84            0.241      56.91   118370.0  \n",
       "...             ...        ...        ...  \n",
       "36902         0.088      37.58    78160.0  \n",
       "36911         0.061      33.19    69040.0  \n",
       "36912         0.405      23.71    49310.0  \n",
       "36913         0.122      34.79    72370.0  \n",
       "37450         1.327      31.50    65530.0  \n",
       "\n",
       "[366 rows x 10 columns]"
      ]
     },
     "metadata": {},
     "output_type": "display_data"
    }
   ],
   "source": [
    "def rename_cols(df, year):\n",
    "    df = df[['area', 'area_title','prim_state', 'occ_code', 'occ_title', 'o_group', 'tot_emp','jobs_1000',\t'h_mean',\t'a_mean']]\n",
    "    df  = df.rename(columns={'tot_emp':f'tot_emp_{year}',\n",
    "                            'jobs_1000':f'jobs_1000_{year}',\n",
    "                                'h_mean':f'h_mean_{year}',\n",
    "                                'a_mean':f'a_mean_{year}'})\n",
    "    return df\n",
    "\n",
    "data_jobs24_df = rename_cols(data_jobs24_df, 24)\n",
    "display(data_jobs24_df)"
   ]
  },
  {
   "cell_type": "code",
   "execution_count": 66,
   "id": "33df83ba",
   "metadata": {},
   "outputs": [],
   "source": [
    "data_jobs20_df = rename_cols(data_jobs20_df, 20)\n",
    "data_jobs21_df = rename_cols(data_jobs21_df, 21)\n",
    "data_jobs22_df = rename_cols(data_jobs22_df, 22)\n",
    "data_jobs23_df = rename_cols(data_jobs23_df, 23)\n"
   ]
  },
  {
   "cell_type": "code",
   "execution_count": 67,
   "id": "3d1e0285",
   "metadata": {},
   "outputs": [
    {
     "data": {
      "text/html": [
       "<div>\n",
       "<style scoped>\n",
       "    .dataframe tbody tr th:only-of-type {\n",
       "        vertical-align: middle;\n",
       "    }\n",
       "\n",
       "    .dataframe tbody tr th {\n",
       "        vertical-align: top;\n",
       "    }\n",
       "\n",
       "    .dataframe thead th {\n",
       "        text-align: right;\n",
       "    }\n",
       "</style>\n",
       "<table border=\"1\" class=\"dataframe\">\n",
       "  <thead>\n",
       "    <tr style=\"text-align: right;\">\n",
       "      <th></th>\n",
       "      <th>area</th>\n",
       "      <th>area_title</th>\n",
       "      <th>prim_state</th>\n",
       "      <th>occ_code</th>\n",
       "      <th>occ_title</th>\n",
       "      <th>o_group</th>\n",
       "      <th>tot_emp_24</th>\n",
       "      <th>jobs_1000_24</th>\n",
       "      <th>h_mean_24</th>\n",
       "      <th>a_mean_24</th>\n",
       "    </tr>\n",
       "  </thead>\n",
       "  <tbody>\n",
       "    <tr>\n",
       "      <th>68</th>\n",
       "      <td>1.0</td>\n",
       "      <td>Alabama</td>\n",
       "      <td>AL</td>\n",
       "      <td>15-1211</td>\n",
       "      <td>Computer Systems Analysts</td>\n",
       "      <td>detailed</td>\n",
       "      <td>6830.0</td>\n",
       "      <td>3.268</td>\n",
       "      <td>54.06</td>\n",
       "      <td>112430.0</td>\n",
       "    </tr>\n",
       "    <tr>\n",
       "      <th>70</th>\n",
       "      <td>1.0</td>\n",
       "      <td>Alabama</td>\n",
       "      <td>AL</td>\n",
       "      <td>15-1221</td>\n",
       "      <td>Computer and Information Research Scientists</td>\n",
       "      <td>detailed</td>\n",
       "      <td>540.0</td>\n",
       "      <td>0.258</td>\n",
       "      <td>52.41</td>\n",
       "      <td>109020.0</td>\n",
       "    </tr>\n",
       "    <tr>\n",
       "      <th>74</th>\n",
       "      <td>1.0</td>\n",
       "      <td>Alabama</td>\n",
       "      <td>AL</td>\n",
       "      <td>15-1242</td>\n",
       "      <td>Database Administrators</td>\n",
       "      <td>detailed</td>\n",
       "      <td>1990.0</td>\n",
       "      <td>0.953</td>\n",
       "      <td>44.68</td>\n",
       "      <td>92930.0</td>\n",
       "    </tr>\n",
       "    <tr>\n",
       "      <th>75</th>\n",
       "      <td>1.0</td>\n",
       "      <td>Alabama</td>\n",
       "      <td>AL</td>\n",
       "      <td>15-1243</td>\n",
       "      <td>Database Architects</td>\n",
       "      <td>detailed</td>\n",
       "      <td>310.0</td>\n",
       "      <td>0.147</td>\n",
       "      <td>56.50</td>\n",
       "      <td>117510.0</td>\n",
       "    </tr>\n",
       "    <tr>\n",
       "      <th>84</th>\n",
       "      <td>1.0</td>\n",
       "      <td>Alabama</td>\n",
       "      <td>AL</td>\n",
       "      <td>15-2031</td>\n",
       "      <td>Operations Research Analysts</td>\n",
       "      <td>detailed</td>\n",
       "      <td>500.0</td>\n",
       "      <td>0.241</td>\n",
       "      <td>56.91</td>\n",
       "      <td>118370.0</td>\n",
       "    </tr>\n",
       "  </tbody>\n",
       "</table>\n",
       "</div>"
      ],
      "text/plain": [
       "    area area_title prim_state occ_code  \\\n",
       "68   1.0    Alabama         AL  15-1211   \n",
       "70   1.0    Alabama         AL  15-1221   \n",
       "74   1.0    Alabama         AL  15-1242   \n",
       "75   1.0    Alabama         AL  15-1243   \n",
       "84   1.0    Alabama         AL  15-2031   \n",
       "\n",
       "                                       occ_title   o_group  tot_emp_24  \\\n",
       "68                     Computer Systems Analysts  detailed      6830.0   \n",
       "70  Computer and Information Research Scientists  detailed       540.0   \n",
       "74                       Database Administrators  detailed      1990.0   \n",
       "75                           Database Architects  detailed       310.0   \n",
       "84                  Operations Research Analysts  detailed       500.0   \n",
       "\n",
       "    jobs_1000_24  h_mean_24  a_mean_24  \n",
       "68         3.268      54.06   112430.0  \n",
       "70         0.258      52.41   109020.0  \n",
       "74         0.953      44.68    92930.0  \n",
       "75         0.147      56.50   117510.0  \n",
       "84         0.241      56.91   118370.0  "
      ]
     },
     "execution_count": 67,
     "metadata": {},
     "output_type": "execute_result"
    }
   ],
   "source": [
    "data_jobs24_df.head()"
   ]
  },
  {
   "cell_type": "code",
   "execution_count": 68,
   "id": "6906edd4",
   "metadata": {},
   "outputs": [
    {
     "data": {
      "text/html": [
       "<div>\n",
       "<style scoped>\n",
       "    .dataframe tbody tr th:only-of-type {\n",
       "        vertical-align: middle;\n",
       "    }\n",
       "\n",
       "    .dataframe tbody tr th {\n",
       "        vertical-align: top;\n",
       "    }\n",
       "\n",
       "    .dataframe thead th {\n",
       "        text-align: right;\n",
       "    }\n",
       "</style>\n",
       "<table border=\"1\" class=\"dataframe\">\n",
       "  <thead>\n",
       "    <tr style=\"text-align: right;\">\n",
       "      <th></th>\n",
       "      <th>area</th>\n",
       "      <th>area_title</th>\n",
       "      <th>prim_state</th>\n",
       "      <th>occ_code</th>\n",
       "      <th>occ_title</th>\n",
       "      <th>o_group</th>\n",
       "      <th>tot_emp_20</th>\n",
       "      <th>jobs_1000_20</th>\n",
       "      <th>h_mean_20</th>\n",
       "      <th>a_mean_20</th>\n",
       "      <th>tot_emp_21</th>\n",
       "      <th>jobs_1000_21</th>\n",
       "      <th>h_mean_21</th>\n",
       "      <th>a_mean_21</th>\n",
       "      <th>tot_emp_22</th>\n",
       "      <th>jobs_1000_22</th>\n",
       "      <th>h_mean_22</th>\n",
       "      <th>a_mean_22</th>\n",
       "      <th>tot_emp_23</th>\n",
       "      <th>jobs_1000_23</th>\n",
       "      <th>h_mean_23</th>\n",
       "      <th>a_mean_23</th>\n",
       "      <th>tot_emp_24</th>\n",
       "      <th>jobs_1000_24</th>\n",
       "      <th>h_mean_24</th>\n",
       "      <th>a_mean_24</th>\n",
       "    </tr>\n",
       "  </thead>\n",
       "  <tbody>\n",
       "    <tr>\n",
       "      <th>0</th>\n",
       "      <td>1.0</td>\n",
       "      <td>Alabama</td>\n",
       "      <td>AL</td>\n",
       "      <td>15-1211</td>\n",
       "      <td>Computer Systems Analysts</td>\n",
       "      <td>detailed</td>\n",
       "      <td>4900.0</td>\n",
       "      <td>2.574</td>\n",
       "      <td>44.97</td>\n",
       "      <td>93530.0</td>\n",
       "      <td>4360.0</td>\n",
       "      <td>2.261</td>\n",
       "      <td>49.56</td>\n",
       "      <td>103080.0</td>\n",
       "      <td>4880.0</td>\n",
       "      <td>2.436</td>\n",
       "      <td>52.43</td>\n",
       "      <td>109060.0</td>\n",
       "      <td>5950.0</td>\n",
       "      <td>2.897</td>\n",
       "      <td>52.18</td>\n",
       "      <td>108520.0</td>\n",
       "      <td>6830.0</td>\n",
       "      <td>3.268</td>\n",
       "      <td>54.06</td>\n",
       "      <td>112430.0</td>\n",
       "    </tr>\n",
       "    <tr>\n",
       "      <th>1</th>\n",
       "      <td>1.0</td>\n",
       "      <td>Alabama</td>\n",
       "      <td>AL</td>\n",
       "      <td>15-1221</td>\n",
       "      <td>Computer and Information Research Scientists</td>\n",
       "      <td>detailed</td>\n",
       "      <td>380.0</td>\n",
       "      <td>0.201</td>\n",
       "      <td>60.84</td>\n",
       "      <td>126550.0</td>\n",
       "      <td>210.0</td>\n",
       "      <td>0.108</td>\n",
       "      <td>56.92</td>\n",
       "      <td>118390.0</td>\n",
       "      <td>NaN</td>\n",
       "      <td>NaN</td>\n",
       "      <td>48.65</td>\n",
       "      <td>101190.0</td>\n",
       "      <td>480.0</td>\n",
       "      <td>0.235</td>\n",
       "      <td>50.66</td>\n",
       "      <td>105360.0</td>\n",
       "      <td>540.0</td>\n",
       "      <td>0.258</td>\n",
       "      <td>52.41</td>\n",
       "      <td>109020.0</td>\n",
       "    </tr>\n",
       "    <tr>\n",
       "      <th>2</th>\n",
       "      <td>1.0</td>\n",
       "      <td>Alabama</td>\n",
       "      <td>AL</td>\n",
       "      <td>15-1242</td>\n",
       "      <td>Database Administrators</td>\n",
       "      <td>detailed</td>\n",
       "      <td>NaN</td>\n",
       "      <td>NaN</td>\n",
       "      <td>NaN</td>\n",
       "      <td>NaN</td>\n",
       "      <td>2210.0</td>\n",
       "      <td>1.149</td>\n",
       "      <td>39.78</td>\n",
       "      <td>82730.0</td>\n",
       "      <td>1740.0</td>\n",
       "      <td>0.868</td>\n",
       "      <td>41.87</td>\n",
       "      <td>87090.0</td>\n",
       "      <td>1550.0</td>\n",
       "      <td>0.756</td>\n",
       "      <td>43.03</td>\n",
       "      <td>89510.0</td>\n",
       "      <td>1990.0</td>\n",
       "      <td>0.953</td>\n",
       "      <td>44.68</td>\n",
       "      <td>92930.0</td>\n",
       "    </tr>\n",
       "    <tr>\n",
       "      <th>3</th>\n",
       "      <td>1.0</td>\n",
       "      <td>Alabama</td>\n",
       "      <td>AL</td>\n",
       "      <td>15-1243</td>\n",
       "      <td>Database Architects</td>\n",
       "      <td>detailed</td>\n",
       "      <td>NaN</td>\n",
       "      <td>NaN</td>\n",
       "      <td>NaN</td>\n",
       "      <td>NaN</td>\n",
       "      <td>360.0</td>\n",
       "      <td>0.186</td>\n",
       "      <td>59.50</td>\n",
       "      <td>123770.0</td>\n",
       "      <td>310.0</td>\n",
       "      <td>0.156</td>\n",
       "      <td>57.50</td>\n",
       "      <td>119590.0</td>\n",
       "      <td>310.0</td>\n",
       "      <td>0.149</td>\n",
       "      <td>55.00</td>\n",
       "      <td>114400.0</td>\n",
       "      <td>310.0</td>\n",
       "      <td>0.147</td>\n",
       "      <td>56.50</td>\n",
       "      <td>117510.0</td>\n",
       "    </tr>\n",
       "    <tr>\n",
       "      <th>4</th>\n",
       "      <td>1.0</td>\n",
       "      <td>Alabama</td>\n",
       "      <td>AL</td>\n",
       "      <td>15-2031</td>\n",
       "      <td>Operations Research Analysts</td>\n",
       "      <td>detailed</td>\n",
       "      <td>560.0</td>\n",
       "      <td>0.292</td>\n",
       "      <td>49.09</td>\n",
       "      <td>102100.0</td>\n",
       "      <td>550.0</td>\n",
       "      <td>0.285</td>\n",
       "      <td>50.53</td>\n",
       "      <td>105110.0</td>\n",
       "      <td>510.0</td>\n",
       "      <td>0.257</td>\n",
       "      <td>52.48</td>\n",
       "      <td>109160.0</td>\n",
       "      <td>570.0</td>\n",
       "      <td>0.280</td>\n",
       "      <td>54.04</td>\n",
       "      <td>112400.0</td>\n",
       "      <td>500.0</td>\n",
       "      <td>0.241</td>\n",
       "      <td>56.91</td>\n",
       "      <td>118370.0</td>\n",
       "    </tr>\n",
       "    <tr>\n",
       "      <th>...</th>\n",
       "      <td>...</td>\n",
       "      <td>...</td>\n",
       "      <td>...</td>\n",
       "      <td>...</td>\n",
       "      <td>...</td>\n",
       "      <td>...</td>\n",
       "      <td>...</td>\n",
       "      <td>...</td>\n",
       "      <td>...</td>\n",
       "      <td>...</td>\n",
       "      <td>...</td>\n",
       "      <td>...</td>\n",
       "      <td>...</td>\n",
       "      <td>...</td>\n",
       "      <td>...</td>\n",
       "      <td>...</td>\n",
       "      <td>...</td>\n",
       "      <td>...</td>\n",
       "      <td>...</td>\n",
       "      <td>...</td>\n",
       "      <td>...</td>\n",
       "      <td>...</td>\n",
       "      <td>...</td>\n",
       "      <td>...</td>\n",
       "      <td>...</td>\n",
       "      <td>...</td>\n",
       "    </tr>\n",
       "    <tr>\n",
       "      <th>378</th>\n",
       "      <td>72.0</td>\n",
       "      <td>Puerto Rico</td>\n",
       "      <td>PR</td>\n",
       "      <td>15-1243</td>\n",
       "      <td>Database Architects</td>\n",
       "      <td>detailed</td>\n",
       "      <td>NaN</td>\n",
       "      <td>NaN</td>\n",
       "      <td>NaN</td>\n",
       "      <td>NaN</td>\n",
       "      <td>40.0</td>\n",
       "      <td>0.052</td>\n",
       "      <td>35.80</td>\n",
       "      <td>74470.0</td>\n",
       "      <td>70.0</td>\n",
       "      <td>0.073</td>\n",
       "      <td>33.66</td>\n",
       "      <td>70010.0</td>\n",
       "      <td>100.0</td>\n",
       "      <td>0.104</td>\n",
       "      <td>35.38</td>\n",
       "      <td>73590.0</td>\n",
       "      <td>80.0</td>\n",
       "      <td>0.088</td>\n",
       "      <td>37.58</td>\n",
       "      <td>78160.0</td>\n",
       "    </tr>\n",
       "    <tr>\n",
       "      <th>379</th>\n",
       "      <td>72.0</td>\n",
       "      <td>Puerto Rico</td>\n",
       "      <td>PR</td>\n",
       "      <td>15-2031</td>\n",
       "      <td>Operations Research Analysts</td>\n",
       "      <td>detailed</td>\n",
       "      <td>40.0</td>\n",
       "      <td>0.044</td>\n",
       "      <td>34.74</td>\n",
       "      <td>72250.0</td>\n",
       "      <td>NaN</td>\n",
       "      <td>NaN</td>\n",
       "      <td>NaN</td>\n",
       "      <td>NaN</td>\n",
       "      <td>30.0</td>\n",
       "      <td>0.037</td>\n",
       "      <td>34.91</td>\n",
       "      <td>72620.0</td>\n",
       "      <td>NaN</td>\n",
       "      <td>NaN</td>\n",
       "      <td>29.89</td>\n",
       "      <td>62160.0</td>\n",
       "      <td>60.0</td>\n",
       "      <td>0.061</td>\n",
       "      <td>33.19</td>\n",
       "      <td>69040.0</td>\n",
       "    </tr>\n",
       "    <tr>\n",
       "      <th>380</th>\n",
       "      <td>72.0</td>\n",
       "      <td>Puerto Rico</td>\n",
       "      <td>PR</td>\n",
       "      <td>15-2041</td>\n",
       "      <td>Statisticians</td>\n",
       "      <td>detailed</td>\n",
       "      <td>210.0</td>\n",
       "      <td>0.259</td>\n",
       "      <td>17.92</td>\n",
       "      <td>37260.0</td>\n",
       "      <td>300.0</td>\n",
       "      <td>0.356</td>\n",
       "      <td>19.54</td>\n",
       "      <td>40640.0</td>\n",
       "      <td>250.0</td>\n",
       "      <td>0.283</td>\n",
       "      <td>20.20</td>\n",
       "      <td>42020.0</td>\n",
       "      <td>240.0</td>\n",
       "      <td>0.255</td>\n",
       "      <td>20.98</td>\n",
       "      <td>43640.0</td>\n",
       "      <td>380.0</td>\n",
       "      <td>0.405</td>\n",
       "      <td>23.71</td>\n",
       "      <td>49310.0</td>\n",
       "    </tr>\n",
       "    <tr>\n",
       "      <th>381</th>\n",
       "      <td>72.0</td>\n",
       "      <td>Puerto Rico</td>\n",
       "      <td>PR</td>\n",
       "      <td>15-2051</td>\n",
       "      <td>Data Scientists</td>\n",
       "      <td>detailed</td>\n",
       "      <td>NaN</td>\n",
       "      <td>NaN</td>\n",
       "      <td>NaN</td>\n",
       "      <td>NaN</td>\n",
       "      <td>NaN</td>\n",
       "      <td>NaN</td>\n",
       "      <td>NaN</td>\n",
       "      <td>NaN</td>\n",
       "      <td>70.0</td>\n",
       "      <td>0.081</td>\n",
       "      <td>31.21</td>\n",
       "      <td>64910.0</td>\n",
       "      <td>90.0</td>\n",
       "      <td>0.097</td>\n",
       "      <td>34.65</td>\n",
       "      <td>72070.0</td>\n",
       "      <td>120.0</td>\n",
       "      <td>0.122</td>\n",
       "      <td>34.79</td>\n",
       "      <td>72370.0</td>\n",
       "    </tr>\n",
       "    <tr>\n",
       "      <th>382</th>\n",
       "      <td>78.0</td>\n",
       "      <td>Virgin Islands</td>\n",
       "      <td>VI</td>\n",
       "      <td>15-1211</td>\n",
       "      <td>Computer Systems Analysts</td>\n",
       "      <td>detailed</td>\n",
       "      <td>NaN</td>\n",
       "      <td>NaN</td>\n",
       "      <td>27.15</td>\n",
       "      <td>56470.0</td>\n",
       "      <td>40.0</td>\n",
       "      <td>1.212</td>\n",
       "      <td>29.46</td>\n",
       "      <td>61280.0</td>\n",
       "      <td>50.0</td>\n",
       "      <td>1.406</td>\n",
       "      <td>29.98</td>\n",
       "      <td>62370.0</td>\n",
       "      <td>40.0</td>\n",
       "      <td>1.208</td>\n",
       "      <td>29.96</td>\n",
       "      <td>62320.0</td>\n",
       "      <td>50.0</td>\n",
       "      <td>1.327</td>\n",
       "      <td>31.50</td>\n",
       "      <td>65530.0</td>\n",
       "    </tr>\n",
       "  </tbody>\n",
       "</table>\n",
       "<p>383 rows × 26 columns</p>\n",
       "</div>"
      ],
      "text/plain": [
       "     area      area_title prim_state occ_code  \\\n",
       "0     1.0         Alabama         AL  15-1211   \n",
       "1     1.0         Alabama         AL  15-1221   \n",
       "2     1.0         Alabama         AL  15-1242   \n",
       "3     1.0         Alabama         AL  15-1243   \n",
       "4     1.0         Alabama         AL  15-2031   \n",
       "..    ...             ...        ...      ...   \n",
       "378  72.0     Puerto Rico         PR  15-1243   \n",
       "379  72.0     Puerto Rico         PR  15-2031   \n",
       "380  72.0     Puerto Rico         PR  15-2041   \n",
       "381  72.0     Puerto Rico         PR  15-2051   \n",
       "382  78.0  Virgin Islands         VI  15-1211   \n",
       "\n",
       "                                        occ_title   o_group  tot_emp_20  \\\n",
       "0                       Computer Systems Analysts  detailed      4900.0   \n",
       "1    Computer and Information Research Scientists  detailed       380.0   \n",
       "2                         Database Administrators  detailed         NaN   \n",
       "3                             Database Architects  detailed         NaN   \n",
       "4                    Operations Research Analysts  detailed       560.0   \n",
       "..                                            ...       ...         ...   \n",
       "378                           Database Architects  detailed         NaN   \n",
       "379                  Operations Research Analysts  detailed        40.0   \n",
       "380                                 Statisticians  detailed       210.0   \n",
       "381                               Data Scientists  detailed         NaN   \n",
       "382                     Computer Systems Analysts  detailed         NaN   \n",
       "\n",
       "     jobs_1000_20  h_mean_20  a_mean_20  tot_emp_21  jobs_1000_21  h_mean_21  \\\n",
       "0           2.574      44.97    93530.0      4360.0         2.261      49.56   \n",
       "1           0.201      60.84   126550.0       210.0         0.108      56.92   \n",
       "2             NaN        NaN        NaN      2210.0         1.149      39.78   \n",
       "3             NaN        NaN        NaN       360.0         0.186      59.50   \n",
       "4           0.292      49.09   102100.0       550.0         0.285      50.53   \n",
       "..            ...        ...        ...         ...           ...        ...   \n",
       "378           NaN        NaN        NaN        40.0         0.052      35.80   \n",
       "379         0.044      34.74    72250.0         NaN           NaN        NaN   \n",
       "380         0.259      17.92    37260.0       300.0         0.356      19.54   \n",
       "381           NaN        NaN        NaN         NaN           NaN        NaN   \n",
       "382           NaN      27.15    56470.0        40.0         1.212      29.46   \n",
       "\n",
       "     a_mean_21  tot_emp_22  jobs_1000_22  h_mean_22  a_mean_22  tot_emp_23  \\\n",
       "0     103080.0      4880.0         2.436      52.43   109060.0      5950.0   \n",
       "1     118390.0         NaN           NaN      48.65   101190.0       480.0   \n",
       "2      82730.0      1740.0         0.868      41.87    87090.0      1550.0   \n",
       "3     123770.0       310.0         0.156      57.50   119590.0       310.0   \n",
       "4     105110.0       510.0         0.257      52.48   109160.0       570.0   \n",
       "..         ...         ...           ...        ...        ...         ...   \n",
       "378    74470.0        70.0         0.073      33.66    70010.0       100.0   \n",
       "379        NaN        30.0         0.037      34.91    72620.0         NaN   \n",
       "380    40640.0       250.0         0.283      20.20    42020.0       240.0   \n",
       "381        NaN        70.0         0.081      31.21    64910.0        90.0   \n",
       "382    61280.0        50.0         1.406      29.98    62370.0        40.0   \n",
       "\n",
       "     jobs_1000_23  h_mean_23  a_mean_23  tot_emp_24  jobs_1000_24  h_mean_24  \\\n",
       "0           2.897      52.18   108520.0      6830.0         3.268      54.06   \n",
       "1           0.235      50.66   105360.0       540.0         0.258      52.41   \n",
       "2           0.756      43.03    89510.0      1990.0         0.953      44.68   \n",
       "3           0.149      55.00   114400.0       310.0         0.147      56.50   \n",
       "4           0.280      54.04   112400.0       500.0         0.241      56.91   \n",
       "..            ...        ...        ...         ...           ...        ...   \n",
       "378         0.104      35.38    73590.0        80.0         0.088      37.58   \n",
       "379           NaN      29.89    62160.0        60.0         0.061      33.19   \n",
       "380         0.255      20.98    43640.0       380.0         0.405      23.71   \n",
       "381         0.097      34.65    72070.0       120.0         0.122      34.79   \n",
       "382         1.208      29.96    62320.0        50.0         1.327      31.50   \n",
       "\n",
       "     a_mean_24  \n",
       "0     112430.0  \n",
       "1     109020.0  \n",
       "2      92930.0  \n",
       "3     117510.0  \n",
       "4     118370.0  \n",
       "..         ...  \n",
       "378    78160.0  \n",
       "379    69040.0  \n",
       "380    49310.0  \n",
       "381    72370.0  \n",
       "382    65530.0  \n",
       "\n",
       "[383 rows x 26 columns]"
      ]
     },
     "metadata": {},
     "output_type": "display_data"
    }
   ],
   "source": [
    "data_jobs_merged_df = (\n",
    "    data_jobs20_df\n",
    "    .merge(data_jobs21_df, how='outer')\n",
    "    .merge(data_jobs22_df, how='outer')\n",
    "    .merge(data_jobs23_df, how='outer')\n",
    "    .merge(data_jobs24_df, how='outer')\n",
    ")\n",
    "display(data_jobs_merged_df)\n",
    " "
   ]
  },
  {
   "cell_type": "code",
   "execution_count": 69,
   "id": "9e920a82",
   "metadata": {},
   "outputs": [
    {
     "name": "stdout",
     "output_type": "stream",
     "text": [
      "<class 'pandas.core.frame.DataFrame'>\n",
      "RangeIndex: 383 entries, 0 to 382\n",
      "Data columns (total 26 columns):\n",
      " #   Column        Non-Null Count  Dtype  \n",
      "---  ------        --------------  -----  \n",
      " 0   area          383 non-null    float64\n",
      " 1   area_title    383 non-null    object \n",
      " 2   prim_state    383 non-null    object \n",
      " 3   occ_code      383 non-null    object \n",
      " 4   occ_title     383 non-null    object \n",
      " 5   o_group       383 non-null    object \n",
      " 6   tot_emp_20    192 non-null    float64\n",
      " 7   jobs_1000_20  192 non-null    float64\n",
      " 8   h_mean_20     189 non-null    float64\n",
      " 9   a_mean_20     189 non-null    float64\n",
      " 10  tot_emp_21    351 non-null    float64\n",
      " 11  jobs_1000_21  351 non-null    float64\n",
      " 12  h_mean_21     353 non-null    float64\n",
      " 13  a_mean_21     353 non-null    float64\n",
      " 14  tot_emp_22    348 non-null    float64\n",
      " 15  jobs_1000_22  348 non-null    float64\n",
      " 16  h_mean_22     353 non-null    float64\n",
      " 17  a_mean_22     353 non-null    float64\n",
      " 18  tot_emp_23    359 non-null    float64\n",
      " 19  jobs_1000_23  359 non-null    float64\n",
      " 20  h_mean_23     368 non-null    float64\n",
      " 21  a_mean_23     368 non-null    float64\n",
      " 22  tot_emp_24    354 non-null    float64\n",
      " 23  jobs_1000_24  354 non-null    float64\n",
      " 24  h_mean_24     361 non-null    float64\n",
      " 25  a_mean_24     361 non-null    float64\n",
      "dtypes: float64(21), object(5)\n",
      "memory usage: 77.9+ KB\n"
     ]
    },
    {
     "data": {
      "text/html": [
       "<div>\n",
       "<style scoped>\n",
       "    .dataframe tbody tr th:only-of-type {\n",
       "        vertical-align: middle;\n",
       "    }\n",
       "\n",
       "    .dataframe tbody tr th {\n",
       "        vertical-align: top;\n",
       "    }\n",
       "\n",
       "    .dataframe thead th {\n",
       "        text-align: right;\n",
       "    }\n",
       "</style>\n",
       "<table border=\"1\" class=\"dataframe\">\n",
       "  <thead>\n",
       "    <tr style=\"text-align: right;\">\n",
       "      <th></th>\n",
       "      <th>area</th>\n",
       "      <th>area_title</th>\n",
       "      <th>prim_state</th>\n",
       "      <th>occ_code</th>\n",
       "      <th>occ_title</th>\n",
       "      <th>o_group</th>\n",
       "      <th>tot_emp_20</th>\n",
       "      <th>jobs_1000_20</th>\n",
       "      <th>h_mean_20</th>\n",
       "      <th>a_mean_20</th>\n",
       "      <th>tot_emp_21</th>\n",
       "      <th>jobs_1000_21</th>\n",
       "      <th>h_mean_21</th>\n",
       "      <th>a_mean_21</th>\n",
       "      <th>tot_emp_22</th>\n",
       "      <th>jobs_1000_22</th>\n",
       "      <th>h_mean_22</th>\n",
       "      <th>a_mean_22</th>\n",
       "      <th>tot_emp_23</th>\n",
       "      <th>jobs_1000_23</th>\n",
       "      <th>h_mean_23</th>\n",
       "      <th>a_mean_23</th>\n",
       "      <th>tot_emp_24</th>\n",
       "      <th>jobs_1000_24</th>\n",
       "      <th>h_mean_24</th>\n",
       "      <th>a_mean_24</th>\n",
       "    </tr>\n",
       "  </thead>\n",
       "  <tbody>\n",
       "    <tr>\n",
       "      <th>0</th>\n",
       "      <td>1.0</td>\n",
       "      <td>Alabama</td>\n",
       "      <td>AL</td>\n",
       "      <td>15-1211</td>\n",
       "      <td>Computer Systems Analysts</td>\n",
       "      <td>detailed</td>\n",
       "      <td>4900.0</td>\n",
       "      <td>2.574</td>\n",
       "      <td>44.97</td>\n",
       "      <td>93530.0</td>\n",
       "      <td>4360.0</td>\n",
       "      <td>2.261</td>\n",
       "      <td>49.56</td>\n",
       "      <td>103080.0</td>\n",
       "      <td>4880.0</td>\n",
       "      <td>2.436</td>\n",
       "      <td>52.43</td>\n",
       "      <td>109060.0</td>\n",
       "      <td>5950.0</td>\n",
       "      <td>2.897</td>\n",
       "      <td>52.18</td>\n",
       "      <td>108520.0</td>\n",
       "      <td>6830.0</td>\n",
       "      <td>3.268</td>\n",
       "      <td>54.06</td>\n",
       "      <td>112430.0</td>\n",
       "    </tr>\n",
       "    <tr>\n",
       "      <th>1</th>\n",
       "      <td>1.0</td>\n",
       "      <td>Alabama</td>\n",
       "      <td>AL</td>\n",
       "      <td>15-1221</td>\n",
       "      <td>Computer and Information Research Scientists</td>\n",
       "      <td>detailed</td>\n",
       "      <td>380.0</td>\n",
       "      <td>0.201</td>\n",
       "      <td>60.84</td>\n",
       "      <td>126550.0</td>\n",
       "      <td>210.0</td>\n",
       "      <td>0.108</td>\n",
       "      <td>56.92</td>\n",
       "      <td>118390.0</td>\n",
       "      <td>NaN</td>\n",
       "      <td>NaN</td>\n",
       "      <td>48.65</td>\n",
       "      <td>101190.0</td>\n",
       "      <td>480.0</td>\n",
       "      <td>0.235</td>\n",
       "      <td>50.66</td>\n",
       "      <td>105360.0</td>\n",
       "      <td>540.0</td>\n",
       "      <td>0.258</td>\n",
       "      <td>52.41</td>\n",
       "      <td>109020.0</td>\n",
       "    </tr>\n",
       "    <tr>\n",
       "      <th>2</th>\n",
       "      <td>1.0</td>\n",
       "      <td>Alabama</td>\n",
       "      <td>AL</td>\n",
       "      <td>15-1242</td>\n",
       "      <td>Database Administrators</td>\n",
       "      <td>detailed</td>\n",
       "      <td>NaN</td>\n",
       "      <td>NaN</td>\n",
       "      <td>NaN</td>\n",
       "      <td>NaN</td>\n",
       "      <td>2210.0</td>\n",
       "      <td>1.149</td>\n",
       "      <td>39.78</td>\n",
       "      <td>82730.0</td>\n",
       "      <td>1740.0</td>\n",
       "      <td>0.868</td>\n",
       "      <td>41.87</td>\n",
       "      <td>87090.0</td>\n",
       "      <td>1550.0</td>\n",
       "      <td>0.756</td>\n",
       "      <td>43.03</td>\n",
       "      <td>89510.0</td>\n",
       "      <td>1990.0</td>\n",
       "      <td>0.953</td>\n",
       "      <td>44.68</td>\n",
       "      <td>92930.0</td>\n",
       "    </tr>\n",
       "    <tr>\n",
       "      <th>3</th>\n",
       "      <td>1.0</td>\n",
       "      <td>Alabama</td>\n",
       "      <td>AL</td>\n",
       "      <td>15-1243</td>\n",
       "      <td>Database Architects</td>\n",
       "      <td>detailed</td>\n",
       "      <td>NaN</td>\n",
       "      <td>NaN</td>\n",
       "      <td>NaN</td>\n",
       "      <td>NaN</td>\n",
       "      <td>360.0</td>\n",
       "      <td>0.186</td>\n",
       "      <td>59.50</td>\n",
       "      <td>123770.0</td>\n",
       "      <td>310.0</td>\n",
       "      <td>0.156</td>\n",
       "      <td>57.50</td>\n",
       "      <td>119590.0</td>\n",
       "      <td>310.0</td>\n",
       "      <td>0.149</td>\n",
       "      <td>55.00</td>\n",
       "      <td>114400.0</td>\n",
       "      <td>310.0</td>\n",
       "      <td>0.147</td>\n",
       "      <td>56.50</td>\n",
       "      <td>117510.0</td>\n",
       "    </tr>\n",
       "    <tr>\n",
       "      <th>4</th>\n",
       "      <td>1.0</td>\n",
       "      <td>Alabama</td>\n",
       "      <td>AL</td>\n",
       "      <td>15-2031</td>\n",
       "      <td>Operations Research Analysts</td>\n",
       "      <td>detailed</td>\n",
       "      <td>560.0</td>\n",
       "      <td>0.292</td>\n",
       "      <td>49.09</td>\n",
       "      <td>102100.0</td>\n",
       "      <td>550.0</td>\n",
       "      <td>0.285</td>\n",
       "      <td>50.53</td>\n",
       "      <td>105110.0</td>\n",
       "      <td>510.0</td>\n",
       "      <td>0.257</td>\n",
       "      <td>52.48</td>\n",
       "      <td>109160.0</td>\n",
       "      <td>570.0</td>\n",
       "      <td>0.280</td>\n",
       "      <td>54.04</td>\n",
       "      <td>112400.0</td>\n",
       "      <td>500.0</td>\n",
       "      <td>0.241</td>\n",
       "      <td>56.91</td>\n",
       "      <td>118370.0</td>\n",
       "    </tr>\n",
       "  </tbody>\n",
       "</table>\n",
       "</div>"
      ],
      "text/plain": [
       "   area area_title prim_state occ_code  \\\n",
       "0   1.0    Alabama         AL  15-1211   \n",
       "1   1.0    Alabama         AL  15-1221   \n",
       "2   1.0    Alabama         AL  15-1242   \n",
       "3   1.0    Alabama         AL  15-1243   \n",
       "4   1.0    Alabama         AL  15-2031   \n",
       "\n",
       "                                      occ_title   o_group  tot_emp_20  \\\n",
       "0                     Computer Systems Analysts  detailed      4900.0   \n",
       "1  Computer and Information Research Scientists  detailed       380.0   \n",
       "2                       Database Administrators  detailed         NaN   \n",
       "3                           Database Architects  detailed         NaN   \n",
       "4                  Operations Research Analysts  detailed       560.0   \n",
       "\n",
       "   jobs_1000_20  h_mean_20  a_mean_20  tot_emp_21  jobs_1000_21  h_mean_21  \\\n",
       "0         2.574      44.97    93530.0      4360.0         2.261      49.56   \n",
       "1         0.201      60.84   126550.0       210.0         0.108      56.92   \n",
       "2           NaN        NaN        NaN      2210.0         1.149      39.78   \n",
       "3           NaN        NaN        NaN       360.0         0.186      59.50   \n",
       "4         0.292      49.09   102100.0       550.0         0.285      50.53   \n",
       "\n",
       "   a_mean_21  tot_emp_22  jobs_1000_22  h_mean_22  a_mean_22  tot_emp_23  \\\n",
       "0   103080.0      4880.0         2.436      52.43   109060.0      5950.0   \n",
       "1   118390.0         NaN           NaN      48.65   101190.0       480.0   \n",
       "2    82730.0      1740.0         0.868      41.87    87090.0      1550.0   \n",
       "3   123770.0       310.0         0.156      57.50   119590.0       310.0   \n",
       "4   105110.0       510.0         0.257      52.48   109160.0       570.0   \n",
       "\n",
       "   jobs_1000_23  h_mean_23  a_mean_23  tot_emp_24  jobs_1000_24  h_mean_24  \\\n",
       "0         2.897      52.18   108520.0      6830.0         3.268      54.06   \n",
       "1         0.235      50.66   105360.0       540.0         0.258      52.41   \n",
       "2         0.756      43.03    89510.0      1990.0         0.953      44.68   \n",
       "3         0.149      55.00   114400.0       310.0         0.147      56.50   \n",
       "4         0.280      54.04   112400.0       500.0         0.241      56.91   \n",
       "\n",
       "   a_mean_24  \n",
       "0   112430.0  \n",
       "1   109020.0  \n",
       "2    92930.0  \n",
       "3   117510.0  \n",
       "4   118370.0  "
      ]
     },
     "execution_count": 69,
     "metadata": {},
     "output_type": "execute_result"
    }
   ],
   "source": [
    "data_jobs_merged_df.to_csv('data_jobs_merged_df.csv', index='False')\n",
    "data_jobs_merged_df.info()\n",
    "data_jobs_merged_df.head()"
   ]
  },
  {
   "cell_type": "code",
   "execution_count": 70,
   "id": "e0a71cf7",
   "metadata": {},
   "outputs": [
    {
     "data": {
      "text/plain": [
       "array(['Database Administrators', 'Database Architects',\n",
       "       'Operations Research Analysts', 'Statisticians', 'Data Scientists'],\n",
       "      dtype=object)"
      ]
     },
     "execution_count": 70,
     "metadata": {},
     "output_type": "execute_result"
    }
   ],
   "source": [
    "data_jobs_merged_df.isna().sum()\n",
    "data_jobs_merged_df = data_jobs_merged_df[~data_jobs_merged_df['occ_title'].isin(['Computer Systems Analysts', 'Mathematical Science Occupations, All Other', 'Computer and Information Research Scientists'])]\n",
    "data_jobs_merged_df.occ_title.unique()"
   ]
  },
  {
   "cell_type": "code",
   "execution_count": 71,
   "id": "d9dc6662",
   "metadata": {},
   "outputs": [
    {
     "data": {
      "text/plain": [
       "area_title\n",
       "Alabama       5\n",
       "Alaska        5\n",
       "Arizona       5\n",
       "Arkansas      5\n",
       "California    5\n",
       "Name: occ_title, dtype: int64"
      ]
     },
     "execution_count": 71,
     "metadata": {},
     "output_type": "execute_result"
    }
   ],
   "source": [
    "df_count = data_jobs_merged_df.groupby('area_title')['occ_title'].count()\n",
    "df_count.head()"
   ]
  },
  {
   "cell_type": "code",
   "execution_count": 72,
   "id": "4e44b59e",
   "metadata": {},
   "outputs": [
    {
     "data": {
      "text/html": [
       "<div>\n",
       "<style scoped>\n",
       "    .dataframe tbody tr th:only-of-type {\n",
       "        vertical-align: middle;\n",
       "    }\n",
       "\n",
       "    .dataframe tbody tr th {\n",
       "        vertical-align: top;\n",
       "    }\n",
       "\n",
       "    .dataframe thead th {\n",
       "        text-align: right;\n",
       "    }\n",
       "</style>\n",
       "<table border=\"1\" class=\"dataframe\">\n",
       "  <thead>\n",
       "    <tr style=\"text-align: right;\">\n",
       "      <th></th>\n",
       "      <th>occ_title</th>\n",
       "      <th>a_mean_20</th>\n",
       "      <th>a_mean_21</th>\n",
       "      <th>a_mean_22</th>\n",
       "      <th>a_mean_23</th>\n",
       "      <th>a_mean_24</th>\n",
       "    </tr>\n",
       "  </thead>\n",
       "  <tbody>\n",
       "    <tr>\n",
       "      <th>0</th>\n",
       "      <td>Database Administrators</td>\n",
       "      <td>NaN</td>\n",
       "      <td>90149.23</td>\n",
       "      <td>95223.73</td>\n",
       "      <td>97760.77</td>\n",
       "      <td>99210.96</td>\n",
       "    </tr>\n",
       "    <tr>\n",
       "      <th>1</th>\n",
       "      <td>Database Architects</td>\n",
       "      <td>NaN</td>\n",
       "      <td>111584.58</td>\n",
       "      <td>121681.49</td>\n",
       "      <td>126080.00</td>\n",
       "      <td>130272.29</td>\n",
       "    </tr>\n",
       "    <tr>\n",
       "      <th>2</th>\n",
       "      <td>Operations Research Analysts</td>\n",
       "      <td>85588.60</td>\n",
       "      <td>85422.55</td>\n",
       "      <td>87358.63</td>\n",
       "      <td>90896.40</td>\n",
       "      <td>94032.40</td>\n",
       "    </tr>\n",
       "    <tr>\n",
       "      <th>3</th>\n",
       "      <td>Statisticians</td>\n",
       "      <td>86784.47</td>\n",
       "      <td>88477.45</td>\n",
       "      <td>92629.57</td>\n",
       "      <td>96014.80</td>\n",
       "      <td>98981.25</td>\n",
       "    </tr>\n",
       "    <tr>\n",
       "      <th>4</th>\n",
       "      <td>Data Scientists</td>\n",
       "      <td>NaN</td>\n",
       "      <td>97807.55</td>\n",
       "      <td>102146.40</td>\n",
       "      <td>109313.08</td>\n",
       "      <td>110152.55</td>\n",
       "    </tr>\n",
       "  </tbody>\n",
       "</table>\n",
       "</div>"
      ],
      "text/plain": [
       "                      occ_title  a_mean_20  a_mean_21  a_mean_22  a_mean_23  \\\n",
       "0       Database Administrators        NaN   90149.23   95223.73   97760.77   \n",
       "1           Database Architects        NaN  111584.58  121681.49  126080.00   \n",
       "2  Operations Research Analysts   85588.60   85422.55   87358.63   90896.40   \n",
       "3                 Statisticians   86784.47   88477.45   92629.57   96014.80   \n",
       "4               Data Scientists        NaN   97807.55  102146.40  109313.08   \n",
       "\n",
       "   a_mean_24  \n",
       "0   99210.96  \n",
       "1  130272.29  \n",
       "2   94032.40  \n",
       "3   98981.25  \n",
       "4  110152.55  "
      ]
     },
     "metadata": {},
     "output_type": "display_data"
    },
    {
     "name": "stdout",
     "output_type": "stream",
     "text": [
      "<class 'pandas.core.frame.DataFrame'>\n",
      "RangeIndex: 5 entries, 0 to 4\n",
      "Data columns (total 6 columns):\n",
      " #   Column     Non-Null Count  Dtype  \n",
      "---  ------     --------------  -----  \n",
      " 0   occ_title  5 non-null      object \n",
      " 1   a_mean_20  2 non-null      float64\n",
      " 2   a_mean_21  5 non-null      float64\n",
      " 3   a_mean_22  5 non-null      float64\n",
      " 4   a_mean_23  5 non-null      float64\n",
      " 5   a_mean_24  5 non-null      float64\n",
      "dtypes: float64(5), object(1)\n",
      "memory usage: 372.0+ bytes\n"
     ]
    }
   ],
   "source": [
    "occ_values = data_jobs_merged_df['occ_title'].unique()\n",
    "#print(occ_values)\n",
    "\n",
    "def get_title_mean_salary(df):\n",
    "    mean_salaries = []\n",
    "    \n",
    "    for title in occ_values:\n",
    "        title_db = df[df['occ_title'] == title]\n",
    "        salary_mean_cols = title_db.filter(like='a_mean')\n",
    "        dba_mean = salary_mean_cols.mean(axis=0)\n",
    "        dba_mean['occ_title'] = title\n",
    "\n",
    "        mean_salaries.append(dba_mean)\n",
    "\n",
    "    mean_salaries = pd.DataFrame(mean_salaries).set_index('occ_title').round(2)\n",
    "    return mean_salaries\n",
    "\n",
    "mean_salaries = get_title_mean_salary(data_jobs_merged_df)\n",
    "#display(data_scientists_db)\n",
    "\n",
    "mean_salaries = mean_salaries.reset_index(drop=False)\n",
    "display(mean_salaries)\n",
    "mean_salaries.info()"
   ]
  },
  {
   "cell_type": "code",
   "execution_count": 112,
   "id": "31a09c93",
   "metadata": {},
   "outputs": [
    {
     "data": {
      "text/html": [
       "<div>\n",
       "<style scoped>\n",
       "    .dataframe tbody tr th:only-of-type {\n",
       "        vertical-align: middle;\n",
       "    }\n",
       "\n",
       "    .dataframe tbody tr th {\n",
       "        vertical-align: top;\n",
       "    }\n",
       "\n",
       "    .dataframe thead th {\n",
       "        text-align: right;\n",
       "    }\n",
       "</style>\n",
       "<table border=\"1\" class=\"dataframe\">\n",
       "  <thead>\n",
       "    <tr style=\"text-align: right;\">\n",
       "      <th></th>\n",
       "      <th>occ_title</th>\n",
       "      <th>year</th>\n",
       "      <th>salary</th>\n",
       "    </tr>\n",
       "  </thead>\n",
       "  <tbody>\n",
       "    <tr>\n",
       "      <th>5</th>\n",
       "      <td>Database Administrators</td>\n",
       "      <td>2021</td>\n",
       "      <td>90149.23</td>\n",
       "    </tr>\n",
       "    <tr>\n",
       "      <th>6</th>\n",
       "      <td>Database Architects</td>\n",
       "      <td>2021</td>\n",
       "      <td>111584.58</td>\n",
       "    </tr>\n",
       "    <tr>\n",
       "      <th>7</th>\n",
       "      <td>Operations Research Analysts</td>\n",
       "      <td>2021</td>\n",
       "      <td>85422.55</td>\n",
       "    </tr>\n",
       "    <tr>\n",
       "      <th>8</th>\n",
       "      <td>Statisticians</td>\n",
       "      <td>2021</td>\n",
       "      <td>88477.45</td>\n",
       "    </tr>\n",
       "    <tr>\n",
       "      <th>9</th>\n",
       "      <td>Data Scientists</td>\n",
       "      <td>2021</td>\n",
       "      <td>97807.55</td>\n",
       "    </tr>\n",
       "  </tbody>\n",
       "</table>\n",
       "</div>"
      ],
      "text/plain": [
       "                      occ_title  year     salary\n",
       "5       Database Administrators  2021   90149.23\n",
       "6           Database Architects  2021  111584.58\n",
       "7  Operations Research Analysts  2021   85422.55\n",
       "8                 Statisticians  2021   88477.45\n",
       "9               Data Scientists  2021   97807.55"
      ]
     },
     "execution_count": 112,
     "metadata": {},
     "output_type": "execute_result"
    }
   ],
   "source": [
    "mean_salaries_melted = mean_salaries.melt(id_vars='occ_title', var_name='year', value_name='salary')\n",
    "mean_salaries_melted['year'] = mean_salaries_melted['year'].str.extract('(\\d+)$').astype(int)\n",
    "mean_salaries_melted['year'] = mean_salaries_melted['year'] + 2000\n",
    "mean_salaries_melted  = mean_salaries_melted[mean_salaries_melted['year'] != 2020]\n",
    "mean_salaries_melted.head()"
   ]
  },
  {
   "cell_type": "code",
   "execution_count": 74,
   "id": "84cdb04b",
   "metadata": {},
   "outputs": [
    {
     "data": {
      "text/html": [
       "<div>\n",
       "<style scoped>\n",
       "    .dataframe tbody tr th:only-of-type {\n",
       "        vertical-align: middle;\n",
       "    }\n",
       "\n",
       "    .dataframe tbody tr th {\n",
       "        vertical-align: top;\n",
       "    }\n",
       "\n",
       "    .dataframe thead th {\n",
       "        text-align: right;\n",
       "    }\n",
       "</style>\n",
       "<table border=\"1\" class=\"dataframe\">\n",
       "  <thead>\n",
       "    <tr style=\"text-align: right;\">\n",
       "      <th></th>\n",
       "      <th>tot_emp_20</th>\n",
       "      <th>tot_emp_21</th>\n",
       "      <th>tot_emp_22</th>\n",
       "      <th>tot_emp_23</th>\n",
       "      <th>tot_emp_24</th>\n",
       "    </tr>\n",
       "    <tr>\n",
       "      <th>occ_title</th>\n",
       "      <th></th>\n",
       "      <th></th>\n",
       "      <th></th>\n",
       "      <th></th>\n",
       "      <th></th>\n",
       "    </tr>\n",
       "  </thead>\n",
       "  <tbody>\n",
       "    <tr>\n",
       "      <th>Database Administrators</th>\n",
       "      <td>0.0</td>\n",
       "      <td>86100.0</td>\n",
       "      <td>80590.0</td>\n",
       "      <td>76430.0</td>\n",
       "      <td>73330.0</td>\n",
       "    </tr>\n",
       "    <tr>\n",
       "      <th>Database Architects</th>\n",
       "      <td>0.0</td>\n",
       "      <td>50300.0</td>\n",
       "      <td>59690.0</td>\n",
       "      <td>59740.0</td>\n",
       "      <td>64430.0</td>\n",
       "    </tr>\n",
       "    <tr>\n",
       "      <th>Operations Research Analysts</th>\n",
       "      <td>96200.0</td>\n",
       "      <td>82150.0</td>\n",
       "      <td>105130.0</td>\n",
       "      <td>117860.0</td>\n",
       "      <td>107770.0</td>\n",
       "    </tr>\n",
       "    <tr>\n",
       "      <th>Statisticians</th>\n",
       "      <td>38300.0</td>\n",
       "      <td>31580.0</td>\n",
       "      <td>30510.0</td>\n",
       "      <td>29710.0</td>\n",
       "      <td>29110.0</td>\n",
       "    </tr>\n",
       "    <tr>\n",
       "      <th>Data Scientists</th>\n",
       "      <td>0.0</td>\n",
       "      <td>104390.0</td>\n",
       "      <td>150200.0</td>\n",
       "      <td>192450.0</td>\n",
       "      <td>234350.0</td>\n",
       "    </tr>\n",
       "  </tbody>\n",
       "</table>\n",
       "</div>"
      ],
      "text/plain": [
       "                              tot_emp_20  tot_emp_21  tot_emp_22  tot_emp_23  \\\n",
       "occ_title                                                                      \n",
       "Database Administrators              0.0     86100.0     80590.0     76430.0   \n",
       "Database Architects                  0.0     50300.0     59690.0     59740.0   \n",
       "Operations Research Analysts     96200.0     82150.0    105130.0    117860.0   \n",
       "Statisticians                    38300.0     31580.0     30510.0     29710.0   \n",
       "Data Scientists                      0.0    104390.0    150200.0    192450.0   \n",
       "\n",
       "                              tot_emp_24  \n",
       "occ_title                                 \n",
       "Database Administrators          73330.0  \n",
       "Database Architects              64430.0  \n",
       "Operations Research Analysts    107770.0  \n",
       "Statisticians                    29110.0  \n",
       "Data Scientists                 234350.0  "
      ]
     },
     "metadata": {},
     "output_type": "display_data"
    }
   ],
   "source": [
    "def get_title_jobs_totals(df):\n",
    "    total_jobs = []\n",
    "\n",
    "    for title in occ_values:\n",
    "        title_df =  df[df['occ_title'] == title]\n",
    "        jobs_cols_df = title_df.filter(like='tot_emp')\n",
    "        jobs_totals = jobs_cols_df.sum(axis=0)\n",
    "        jobs_totals['occ_title'] = title\n",
    "\n",
    "        total_jobs.append(jobs_totals)\n",
    "\n",
    "    total_jobs_df = pd.DataFrame(total_jobs).set_index('occ_title')\n",
    "    return total_jobs_df\n",
    "\n",
    "totals_jobs_df = get_title_jobs_totals(data_jobs_merged_df)\n",
    "display(totals_jobs_df)\n"
   ]
  },
  {
   "cell_type": "code",
   "execution_count": 75,
   "id": "9053d52a",
   "metadata": {},
   "outputs": [
    {
     "data": {
      "text/html": [
       "<div>\n",
       "<style scoped>\n",
       "    .dataframe tbody tr th:only-of-type {\n",
       "        vertical-align: middle;\n",
       "    }\n",
       "\n",
       "    .dataframe tbody tr th {\n",
       "        vertical-align: top;\n",
       "    }\n",
       "\n",
       "    .dataframe thead th {\n",
       "        text-align: right;\n",
       "    }\n",
       "</style>\n",
       "<table border=\"1\" class=\"dataframe\">\n",
       "  <thead>\n",
       "    <tr style=\"text-align: right;\">\n",
       "      <th></th>\n",
       "      <th>tot_emp_20</th>\n",
       "      <th>tot_emp_21</th>\n",
       "      <th>tot_emp_22</th>\n",
       "      <th>tot_emp_23</th>\n",
       "      <th>tot_emp_24</th>\n",
       "    </tr>\n",
       "    <tr>\n",
       "      <th>area_title</th>\n",
       "      <th></th>\n",
       "      <th></th>\n",
       "      <th></th>\n",
       "      <th></th>\n",
       "      <th></th>\n",
       "    </tr>\n",
       "  </thead>\n",
       "  <tbody>\n",
       "    <tr>\n",
       "      <th>Alabama</th>\n",
       "      <td>770.0</td>\n",
       "      <td>3820.0</td>\n",
       "      <td>2740.0</td>\n",
       "      <td>3760.0</td>\n",
       "      <td>4620.0</td>\n",
       "    </tr>\n",
       "    <tr>\n",
       "      <th>Alaska</th>\n",
       "      <td>190.0</td>\n",
       "      <td>450.0</td>\n",
       "      <td>450.0</td>\n",
       "      <td>480.0</td>\n",
       "      <td>460.0</td>\n",
       "    </tr>\n",
       "    <tr>\n",
       "      <th>Arizona</th>\n",
       "      <td>2210.0</td>\n",
       "      <td>7020.0</td>\n",
       "      <td>8930.0</td>\n",
       "      <td>9400.0</td>\n",
       "      <td>8790.0</td>\n",
       "    </tr>\n",
       "    <tr>\n",
       "      <th>Arkansas</th>\n",
       "      <td>740.0</td>\n",
       "      <td>1650.0</td>\n",
       "      <td>920.0</td>\n",
       "      <td>1250.0</td>\n",
       "      <td>1540.0</td>\n",
       "    </tr>\n",
       "    <tr>\n",
       "      <th>California</th>\n",
       "      <td>13850.0</td>\n",
       "      <td>44050.0</td>\n",
       "      <td>53710.0</td>\n",
       "      <td>70310.0</td>\n",
       "      <td>64900.0</td>\n",
       "    </tr>\n",
       "  </tbody>\n",
       "</table>\n",
       "</div>"
      ],
      "text/plain": [
       "            tot_emp_20  tot_emp_21  tot_emp_22  tot_emp_23  tot_emp_24\n",
       "area_title                                                            \n",
       "Alabama          770.0      3820.0      2740.0      3760.0      4620.0\n",
       "Alaska           190.0       450.0       450.0       480.0       460.0\n",
       "Arizona         2210.0      7020.0      8930.0      9400.0      8790.0\n",
       "Arkansas         740.0      1650.0       920.0      1250.0      1540.0\n",
       "California     13850.0     44050.0     53710.0     70310.0     64900.0"
      ]
     },
     "execution_count": 75,
     "metadata": {},
     "output_type": "execute_result"
    }
   ],
   "source": [
    "total_jobs_states_df = data_jobs_merged_df.groupby('area_title')[['tot_emp_20', 'tot_emp_21', 'tot_emp_22', 'tot_emp_23', 'tot_emp_24' ]].agg('sum')\n",
    "\n",
    "#total_jobs_states_df.head()\n",
    "#total_jobs_states_df.info()\n",
    "total_jobs_states_df.head()"
   ]
  },
  {
   "cell_type": "code",
   "execution_count": 76,
   "id": "21c0f6a6",
   "metadata": {},
   "outputs": [
    {
     "data": {
      "text/html": [
       "<div>\n",
       "<style scoped>\n",
       "    .dataframe tbody tr th:only-of-type {\n",
       "        vertical-align: middle;\n",
       "    }\n",
       "\n",
       "    .dataframe tbody tr th {\n",
       "        vertical-align: top;\n",
       "    }\n",
       "\n",
       "    .dataframe thead th {\n",
       "        text-align: right;\n",
       "    }\n",
       "</style>\n",
       "<table border=\"1\" class=\"dataframe\">\n",
       "  <thead>\n",
       "    <tr style=\"text-align: right;\">\n",
       "      <th></th>\n",
       "      <th>tot_emp_20</th>\n",
       "      <th>tot_emp_21</th>\n",
       "      <th>tot_emp_22</th>\n",
       "      <th>tot_emp_23</th>\n",
       "      <th>tot_emp_24</th>\n",
       "      <th>tot_emp_change</th>\n",
       "    </tr>\n",
       "    <tr>\n",
       "      <th>area_title</th>\n",
       "      <th></th>\n",
       "      <th></th>\n",
       "      <th></th>\n",
       "      <th></th>\n",
       "      <th></th>\n",
       "      <th></th>\n",
       "    </tr>\n",
       "  </thead>\n",
       "  <tbody>\n",
       "    <tr>\n",
       "      <th>Alabama</th>\n",
       "      <td>770.0</td>\n",
       "      <td>3820.0</td>\n",
       "      <td>2740.0</td>\n",
       "      <td>3760.0</td>\n",
       "      <td>4620.0</td>\n",
       "      <td>3850.0</td>\n",
       "    </tr>\n",
       "    <tr>\n",
       "      <th>Alaska</th>\n",
       "      <td>190.0</td>\n",
       "      <td>450.0</td>\n",
       "      <td>450.0</td>\n",
       "      <td>480.0</td>\n",
       "      <td>460.0</td>\n",
       "      <td>270.0</td>\n",
       "    </tr>\n",
       "    <tr>\n",
       "      <th>Arizona</th>\n",
       "      <td>2210.0</td>\n",
       "      <td>7020.0</td>\n",
       "      <td>8930.0</td>\n",
       "      <td>9400.0</td>\n",
       "      <td>8790.0</td>\n",
       "      <td>6580.0</td>\n",
       "    </tr>\n",
       "    <tr>\n",
       "      <th>Arkansas</th>\n",
       "      <td>740.0</td>\n",
       "      <td>1650.0</td>\n",
       "      <td>920.0</td>\n",
       "      <td>1250.0</td>\n",
       "      <td>1540.0</td>\n",
       "      <td>800.0</td>\n",
       "    </tr>\n",
       "    <tr>\n",
       "      <th>California</th>\n",
       "      <td>13850.0</td>\n",
       "      <td>44050.0</td>\n",
       "      <td>53710.0</td>\n",
       "      <td>70310.0</td>\n",
       "      <td>64900.0</td>\n",
       "      <td>51050.0</td>\n",
       "    </tr>\n",
       "  </tbody>\n",
       "</table>\n",
       "</div>"
      ],
      "text/plain": [
       "            tot_emp_20  tot_emp_21  tot_emp_22  tot_emp_23  tot_emp_24  \\\n",
       "area_title                                                               \n",
       "Alabama          770.0      3820.0      2740.0      3760.0      4620.0   \n",
       "Alaska           190.0       450.0       450.0       480.0       460.0   \n",
       "Arizona         2210.0      7020.0      8930.0      9400.0      8790.0   \n",
       "Arkansas         740.0      1650.0       920.0      1250.0      1540.0   \n",
       "California     13850.0     44050.0     53710.0     70310.0     64900.0   \n",
       "\n",
       "            tot_emp_change  \n",
       "area_title                  \n",
       "Alabama             3850.0  \n",
       "Alaska               270.0  \n",
       "Arizona             6580.0  \n",
       "Arkansas             800.0  \n",
       "California         51050.0  "
      ]
     },
     "execution_count": 76,
     "metadata": {},
     "output_type": "execute_result"
    }
   ],
   "source": [
    "total_jobs_states_df['tot_emp_change'] = total_jobs_states_df.apply(lambda x: x['tot_emp_24'] - x['tot_emp_20'], axis=1)\n",
    "total_jobs_states_df.head()"
   ]
  },
  {
   "cell_type": "code",
   "execution_count": 77,
   "id": "1737ef56",
   "metadata": {},
   "outputs": [],
   "source": [
    "\n",
    "mpl.rcParams['axes.spines.top'] = False\n",
    "mpl.rcParams['axes.spines.right'] = False\n",
    "mpl.rcParams['axes.edgecolor'] = 'grey'\n",
    "mpl.rcParams['xtick.color'] = 'grey'\n",
    "mpl.rcParams['ytick.color'] = 'grey'\n",
    "plt.rcParams['axes.grid'] = False\n",
    "sns.set_style(\"white\")\n"
   ]
  },
  {
   "cell_type": "markdown",
   "id": "75a3a4d5",
   "metadata": {},
   "source": [
    "## Part 2. What charts show us about Data related jobs market trends?"
   ]
  },
  {
   "cell_type": "markdown",
   "id": "87c7698c",
   "metadata": {},
   "source": [
    "### Salary Growth Over Time (2021–2024)"
   ]
  },
  {
   "cell_type": "code",
   "execution_count": 122,
   "id": "d13ad344",
   "metadata": {},
   "outputs": [
    {
     "data": {
      "image/png": "[encoded data removed]",
      "text/plain": [
       "<Figure size 1400x700 with 1 Axes>"
      ]
     },
     "metadata": {},
     "output_type": "display_data"
    }
   ],
   "source": [
    "fig, ax = plt.subplots(figsize=(14, 7))\n",
    "\n",
    "# --- Plot each job category ---\n",
    "for name, group in mean_salaries_melted.groupby('occ_title'):\n",
    "    ax.plot(group['year'], group['salary'], marker='o', label=name)\n",
    "\n",
    "# --- Styling ---\n",
    "ax.legend(bbox_to_anchor=(1.05, 1), loc='upper left')\n",
    "plt.title('Average Pay Progression for U.S. Data Roles (2020–2024)')\n",
    "plt.xlabel('Year')\n",
    "plt.ylabel('Average Annual Salary ($)')\n",
    "plt.xticks(sorted(mean_salaries_melted['year'].unique().astype(int)))\n",
    "ax.spines['top'].set_visible(False)\n",
    "ax.spines['right'].set_visible(False)\n",
    "ax.spines['left'].set_color('grey')\n",
    "ax.spines['bottom'].set_color('grey')\n",
    "\n",
    "# --- Add salary labels (start and end) ---\n",
    "offset = 2000  # vertical offset between labels to avoid overlap\n",
    "for occ in mean_salaries_melted['occ_title'].unique():\n",
    "    subset = mean_salaries_melted[mean_salaries_melted['occ_title'] == occ]\n",
    "    subset = subset.sort_values('year')\n",
    "\n",
    "    # safely get start and end points\n",
    "    if subset.shape[0] > 0:\n",
    "        x_start, y_start = subset.iloc[0]['year'], subset.iloc[0]['salary']\n",
    "        x_end, y_end = subset.iloc[-1]['year'], subset.iloc[-1]['salary']\n",
    "\n",
    "        ax.text(x_start - 0.05, y_start - 0.1, f\"${y_start:,.0f}\",\n",
    "                va='top', ha='right', fontsize=9, color='black')\n",
    "        ax.text(x_end + 0.05, y_end + 0.1, f\"${y_end:,.0f}\",\n",
    "                va='bottom', ha='left', fontsize=9, color='black')\n",
    "\n",
    "# --- Add a little padding so labels don't touch axes ---\n",
    "plt.xlim(mean_salaries_melted['year'].min() - 0.5, mean_salaries_melted['year'].max() + 0.5)\n",
    "plt.ylim(mean_salaries_melted['salary'].min() - 4000, mean_salaries_melted['salary'].max() + 8000)\n",
    "\n",
    "plt.tight_layout()\n",
    "plt.show()\n"
   ]
  },
  {
   "cell_type": "markdown",
   "id": "fc7b0cbf",
   "metadata": {},
   "source": [
    "I looked at how pay evolved for each role year by year.\n",
    "Each line shows the average salary from 2020 through 2024, and I labeled the starting and ending points to show how each changed.\n",
    "\n",
    "Almost every data job saw a steady climb — Data Scientists and Database Architects led the pack, crossing well over $110K by 2024.\n",
    "Statisticians rose slower but steady, while Database Administrators stayed relatively flat, maybe signaling more competition or automation.\n",
    "The small year-to-year jumps reflect market maturity — not a bubble, just stable demand. \n",
    "\n",
    "Overall, the direction’s consistent: upward.\n"
   ]
  },
  {
   "cell_type": "markdown",
   "id": "137af095",
   "metadata": {},
   "source": [
    "## Interactive Occupation View"
   ]
  },
  {
   "cell_type": "code",
   "execution_count": null,
   "id": "67f51d28",
   "metadata": {},
   "outputs": [
    {
     "data": {
      "application/vnd.plotly.v1+json": {
       "config": {
        "plotlyServerURL": "https://plot.ly"
       },
       "data": [
        {
         "customdata": [
          [
           "Database Administrators",
           "AL",
           92930,
           1990
          ],
          [
           "Database Administrators",
           "AK",
           96600,
           90
          ],
          [
           "Database Administrators",
           "AZ",
           97340,
           1330
          ],
          [
           "Database Administrators",
           "AR",
           82780,
           600
          ],
          [
           "Database Administrators",
           "CA",
           119060,
           8360
          ],
          [
           "Database Administrators",
           "CO",
           115970,
           1400
          ],
          [
           "Database Administrators",
           "CT",
           103400,
           770
          ],
          [
           "Database Administrators",
           "DE",
           105850,
           730
          ],
          [
           "Database Administrators",
           "DC",
           120470,
           550
          ],
          [
           "Database Administrators",
           "FL",
           102900,
           4080
          ],
          [
           "Database Administrators",
           "GA",
           105590,
           3020
          ],
          [
           "Database Administrators",
           "HI",
           97380,
           110
          ],
          [
           "Database Administrators",
           "ID",
           88440,
           160
          ],
          [
           "Database Administrators",
           "IL",
           107750,
           2290
          ],
          [
           "Database Administrators",
           "IN",
           85480,
           1180
          ],
          [
           "Database Administrators",
           "IA",
           101500,
           380
          ],
          [
           "Database Administrators",
           "KS",
           118250,
           560
          ],
          [
           "Database Administrators",
           "KY",
           86490,
           770
          ],
          [
           "Database Administrators",
           "LA",
           89230,
           240
          ],
          [
           "Database Administrators",
           "ME",
           82210,
           230
          ],
          [
           "Database Administrators",
           "MD",
           124430,
           2640
          ],
          [
           "Database Administrators",
           "MA",
           112090,
           1940
          ],
          [
           "Database Administrators",
           "MI",
           97660,
           1190
          ],
          [
           "Database Administrators",
           "MN",
           101010,
           970
          ],
          [
           "Database Administrators",
           "MS",
           84830,
           230
          ],
          [
           "Database Administrators",
           "MO",
           94990,
           1400
          ],
          [
           "Database Administrators",
           "MT",
           83070,
           240
          ],
          [
           "Database Administrators",
           "NE",
           96080,
           540
          ],
          [
           "Database Administrators",
           "NV",
           87960,
           470
          ],
          [
           "Database Administrators",
           "NH",
           109190,
           230
          ],
          [
           "Database Administrators",
           "NJ",
           126670,
           2060
          ],
          [
           "Database Administrators",
           "NM",
           94480,
           520
          ],
          [
           "Database Administrators",
           "NY",
           113070,
           3680
          ],
          [
           "Database Administrators",
           "NC",
           106140,
           1990
          ],
          [
           "Database Administrators",
           "ND",
           85950,
           90
          ],
          [
           "Database Administrators",
           "OH",
           96400,
           1770
          ],
          [
           "Database Administrators",
           "OK",
           87430,
           660
          ],
          [
           "Database Administrators",
           "OR",
           105050,
           930
          ],
          [
           "Database Administrators",
           "PA",
           105100,
           5000
          ],
          [
           "Database Administrators",
           "RI",
           104100,
           320
          ],
          [
           "Database Administrators",
           "SC",
           99890,
           660
          ],
          [
           "Database Administrators",
           "SD",
           87610,
           150
          ],
          [
           "Database Administrators",
           "TN",
           100650,
           1440
          ],
          [
           "Database Administrators",
           "TX",
           109330,
           6110
          ],
          [
           "Database Administrators",
           "UT",
           105050,
           800
          ],
          [
           "Database Administrators",
           "VT",
           99980,
           120
          ],
          [
           "Database Administrators",
           "VA",
           113810,
           4210
          ],
          [
           "Database Administrators",
           "WA",
           118000,
           2190
          ],
          [
           "Database Administrators",
           "WV",
           73530,
           230
          ],
          [
           "Database Administrators",
           "WI",
           104550,
           1380
          ],
          [
           "Database Administrators",
           "WY",
           73300,
           100
          ],
          [
           "Database Administrators",
           "PR",
           57950,
           230
          ]
         ],
         "hovertemplate": "<b>%{customdata[0]}</b><br>State: %{customdata[1]}<br>Salary: <b>$%{customdata[2]:,.0f}</b><br>Employment: %{customdata[3]:,.0f}<extra></extra>",
         "marker": {
          "color": "rgb(102,194,165)",
          "line": {
           "color": "white",
           "width": 1
          },
          "size": 9,
          "symbol": "circle"
         },
         "mode": "markers+text",
         "name": "Database Administrators",
         "textposition": "top center",
         "type": "scatter",
         "x": {
          "bdata": "AAAAAAAYn0AAAAAAAIBWQAAAAAAAyJRAAAAAAADAgkAAAAAAAFTAQAAAAAAA4JVAAAAAAAAQiEAAAAAAANCGQAAAAAAAMIFAAAAAAADgr0AAAAAAAJinQAAAAAAAgFtAAAAAAAAAZEAAAAAAAOShQAAAAAAAcJJAAAAAAADAd0AAAAAAAICBQAAAAAAAEIhAAAAAAAAAbkAAAAAAAMBsQAAAAAAAoKRAAAAAAABQnkAAAAAAAJiSQAAAAAAAUI5AAAAAAADAbEAAAAAAAOCVQAAAAAAAAG5AAAAAAADggEAAAAAAAGB9QAAAAAAAwGxAAAAAAAAYoEAAAAAAAECAQAAAAAAAwKxAAAAAAAAYn0AAAAAAAIBWQAAAAAAAqJtAAAAAAACghEAAAAAAABCNQAAAAAAAiLNAAAAAAAAAdEAAAAAAAKCEQAAAAAAAwGJAAAAAAACAlkAAAAAAAN63QAAAAAAAAIlAAAAAAAAAXkAAAAAAAHKwQAAAAAAAHKFAAAAAAADAbEAAAAAAAJCVQAAAAAAAAFlAAAAAAADAbEA=",
          "dtype": "f8"
         },
         "y": {
          "bdata": "AAAAACCw9kAAAAAAgJX3QAAAAADAw/dAAAAAAMA19EAAAAAAQBH9QAAAAAAgUPxAAAAAAIA++UAAAAAAoNf5QAAAAABgaf1AAAAAAEAf+UAAAAAAYMf5QAAAAABAxvdAAAAAAICX9UAAAAAAYE76QAAAAACA3vRAAAAAAMDH+EAAAAAAoN78QAAAAACgHfVAAAAAAODI9UAAAAAAIBL0QAAAAADgYP5AAAAAAKBd+0AAAAAAwNf3QAAAAAAgqfhAAAAAAOC19EAAAAAA4DD3QAAAAADgR/RAAAAAAAB190AAAAAAgHn1QAAAAABgqPpAAAAAAODs/kAAAAAAABH3QAAAAADgmvtAAAAAAMDp+UAAAAAA4Pv0QAAAAAAAifdAAAAAAGBY9UAAAAAAoKX5QAAAAADAqPlAAAAAAEBq+UAAAAAAIGP4QAAAAACgY/VAAAAAAKCS+EAAAAAAILH6QAAAAACgpflAAAAAAMBo+EAAAAAAIMn7QAAAAAAAz/xAAAAAAKDz8UAAAAAAYIb5QAAAAABA5fFAAAAAAMBL7EA=",
          "dtype": "f8"
         }
        },
        {
         "customdata": [
          [
           "Database Architects",
           "AL",
           117510,
           310
          ],
          [
           "Database Architects",
           "AK",
           111570,
           40
          ],
          [
           "Database Architects",
           "AZ",
           135080,
           850
          ],
          [
           "Database Architects",
           "AR",
           109380,
           330
          ],
          [
           "Database Architects",
           "CA",
           162820,
           5850
          ],
          [
           "Database Architects",
           "CO",
           152940,
           2140
          ],
          [
           "Database Architects",
           "CT",
           147910,
           700
          ],
          [
           "Database Architects",
           "DC",
           158550,
           800
          ],
          [
           "Database Architects",
           "FL",
           138280,
           2040
          ],
          [
           "Database Architects",
           "GA",
           141590,
           2930
          ],
          [
           "Database Architects",
           "HI",
           150190,
           70
          ],
          [
           "Database Architects",
           "ID",
           130240,
           350
          ],
          [
           "Database Architects",
           "IL",
           136370,
           1460
          ],
          [
           "Database Architects",
           "IN",
           132150,
           670
          ],
          [
           "Database Architects",
           "IA",
           124910,
           280
          ],
          [
           "Database Architects",
           "KS",
           124980,
           390
          ],
          [
           "Database Architects",
           "KY",
           110400,
           510
          ],
          [
           "Database Architects",
           "ME",
           134200,
           250
          ],
          [
           "Database Architects",
           "MD",
           143020,
           1420
          ],
          [
           "Database Architects",
           "MA",
           161000,
           1720
          ],
          [
           "Database Architects",
           "MI",
           117600,
           1150
          ],
          [
           "Database Architects",
           "MN",
           127730,
           910
          ],
          [
           "Database Architects",
           "MS",
           92400,
           110
          ],
          [
           "Database Architects",
           "MO",
           112730,
           1840
          ],
          [
           "Database Architects",
           "MT",
           124500,
           50
          ],
          [
           "Database Architects",
           "NE",
           129750,
           590
          ],
          [
           "Database Architects",
           "NV",
           124010,
           320
          ],
          [
           "Database Architects",
           "NJ",
           144260,
           2530
          ],
          [
           "Database Architects",
           "NM",
           117620,
           130
          ],
          [
           "Database Architects",
           "NY",
           137840,
           4180
          ],
          [
           "Database Architects",
           "NC",
           129750,
           4060
          ],
          [
           "Database Architects",
           "ND",
           112830,
           50
          ],
          [
           "Database Architects",
           "OH",
           133170,
           2230
          ],
          [
           "Database Architects",
           "OK",
           133880,
           730
          ],
          [
           "Database Architects",
           "OR",
           147530,
           710
          ],
          [
           "Database Architects",
           "PA",
           130130,
           2240
          ],
          [
           "Database Architects",
           "RI",
           149350,
           190
          ],
          [
           "Database Architects",
           "SC",
           128340,
           730
          ],
          [
           "Database Architects",
           "SD",
           121220,
           60
          ],
          [
           "Database Architects",
           "TN",
           125840,
           680
          ],
          [
           "Database Architects",
           "TX",
           136930,
           6330
          ],
          [
           "Database Architects",
           "UT",
           134470,
           630
          ],
          [
           "Database Architects",
           "WA",
           147540,
           2490
          ],
          [
           "Database Architects",
           "WV",
           132690,
           270
          ],
          [
           "Database Architects",
           "WI",
           140770,
           360
          ],
          [
           "Database Architects",
           "WY",
           68880,
           130
          ],
          [
           "Database Architects",
           "PR",
           78160,
           80
          ]
         ],
         "hovertemplate": "<b>%{customdata[0]}</b><br>State: %{customdata[1]}<br>Salary: <b>$%{customdata[2]:,.0f}</b><br>Employment: %{customdata[3]:,.0f}<extra></extra>",
         "marker": {
          "color": "rgb(252,141,98)",
          "line": {
           "color": "white",
           "width": 1
          },
          "size": 9,
          "symbol": "diamond"
         },
         "mode": "markers+text",
         "name": "Database Architects",
         "textposition": "top center",
         "type": "scatter",
         "x": {
          "bdata": "AAAAAABgc0AAAAAAAABEQAAAAAAAkIpAAAAAAACgdEAAAAAAANq2QAAAAAAAuKBAAAAAAADghUAAAAAAAACJQAAAAAAA4J9AAAAAAADkpkAAAAAAAIBRQAAAAAAA4HVAAAAAAADQlkAAAAAAAPCEQAAAAAAAgHFAAAAAAABgeEAAAAAAAOB/QAAAAAAAQG9AAAAAAAAwlkAAAAAAAOCaQAAAAAAA+JFAAAAAAABwjEAAAAAAAIBbQAAAAAAAwJxAAAAAAAAASUAAAAAAAHCCQAAAAAAAAHRAAAAAAADEo0AAAAAAAEBgQAAAAAAAVLBAAAAAAAC4r0AAAAAAAABJQAAAAAAAbKFAAAAAAADQhkAAAAAAADCGQAAAAAAAgKFAAAAAAADAZ0AAAAAAANCGQAAAAAAAAE5AAAAAAABAhUAAAAAAALq4QAAAAAAAsINAAAAAAAB0o0AAAAAAAOBwQAAAAAAAgHZAAAAAAABAYEAAAAAAAABUQA==",
          "dtype": "f8"
         },
         "y": {
          "bdata": "AAAAAGCw/EAAAAAAID37QAAAAABAfQBBAAAAAEC0+kAAAAAAIOADQQAAAABgqwJBAAAAADAOAkEAAAAAsFoDQQAAAABA4QBBAAAAALBIAUEAAAAAcFUCQQAAAAAAzP9AAAAAAJClAEEAAAAAsCEAQQAAAADgfv5AAAAAAECD/kAAAAAAAPT6QAAAAADAYQBBAAAAAGB1AUEAAAAAQKcDQQAAAAAAtvxAAAAAACAv/0AAAAAAAI/2QAAAAACghftAAAAAAEBl/kAAAAAAYK3/QAAAAACgRv5AAAAAACCcAUEAAAAAQLf8QAAAAACA0wBBAAAAAGCt/0AAAAAA4Iv7QAAAAACQQQBBAAAAAMBXAEEAAAAAUAICQQAAAAAgxf9AAAAAADA7AkEAAAAAQFX/QAAAAABAmP1AAAAAAAC5/kAAAAAAELcAQQAAAAAwagBBAAAAAKACAkEAAAAAkDIAQQAAAAAQLwFBAAAAAADR8EAAAAAAABXzQA==",
          "dtype": "f8"
         }
        },
        {
         "customdata": [
          [
           "Operations Research Analysts",
           "AL",
           118370,
           500
          ],
          [
           "Operations Research Analysts",
           "AK",
           102840,
           60
          ],
          [
           "Operations Research Analysts",
           "AZ",
           86510,
           2170
          ],
          [
           "Operations Research Analysts",
           "AR",
           75670,
           140
          ],
          [
           "Operations Research Analysts",
           "CA",
           108220,
           11030
          ],
          [
           "Operations Research Analysts",
           "CO",
           109360,
           910
          ],
          [
           "Operations Research Analysts",
           "CT",
           96720,
           1020
          ],
          [
           "Operations Research Analysts",
           "DE",
           103380,
           600
          ],
          [
           "Operations Research Analysts",
           "DC",
           123890,
           2190
          ],
          [
           "Operations Research Analysts",
           "FL",
           84420,
           8230
          ],
          [
           "Operations Research Analysts",
           "GA",
           81560,
           4450
          ],
          [
           "Operations Research Analysts",
           "HI",
           100090,
           110
          ],
          [
           "Operations Research Analysts",
           "ID",
           86030,
           500
          ],
          [
           "Operations Research Analysts",
           "IL",
           110230,
           5020
          ],
          [
           "Operations Research Analysts",
           "IN",
           92040,
           1660
          ],
          [
           "Operations Research Analysts",
           "IA",
           89480,
           350
          ],
          [
           "Operations Research Analysts",
           "KS",
           99860,
           550
          ],
          [
           "Operations Research Analysts",
           "KY",
           88980,
           920
          ],
          [
           "Operations Research Analysts",
           "LA",
           70970,
           730
          ],
          [
           "Operations Research Analysts",
           "ME",
           94740,
           360
          ],
          [
           "Operations Research Analysts",
           "MD",
           106230,
           4280
          ],
          [
           "Operations Research Analysts",
           "MA",
           98830,
           4860
          ],
          [
           "Operations Research Analysts",
           "MI",
           95200,
           1050
          ],
          [
           "Operations Research Analysts",
           "MN",
           97620,
           1300
          ],
          [
           "Operations Research Analysts",
           "MS",
           86390,
           130
          ],
          [
           "Operations Research Analysts",
           "MO",
           66330,
           2010
          ],
          [
           "Operations Research Analysts",
           "MT",
           75230,
           160
          ],
          [
           "Operations Research Analysts",
           "NE",
           96790,
           290
          ],
          [
           "Operations Research Analysts",
           "NV",
           93880,
           350
          ],
          [
           "Operations Research Analysts",
           "NH",
           92380,
           230
          ],
          [
           "Operations Research Analysts",
           "NJ",
           111990,
           2630
          ],
          [
           "Operations Research Analysts",
           "NM",
           91340,
           500
          ],
          [
           "Operations Research Analysts",
           "NY",
           117110,
           6020
          ],
          [
           "Operations Research Analysts",
           "NC",
           98910,
           2520
          ],
          [
           "Operations Research Analysts",
           "ND",
           81460,
           140
          ],
          [
           "Operations Research Analysts",
           "OH",
           101160,
           2970
          ],
          [
           "Operations Research Analysts",
           "OK",
           63790,
           1510
          ],
          [
           "Operations Research Analysts",
           "OR",
           101650,
           2590
          ],
          [
           "Operations Research Analysts",
           "PA",
           85490,
           3030
          ],
          [
           "Operations Research Analysts",
           "RI",
           109570,
           270
          ],
          [
           "Operations Research Analysts",
           "SC",
           82120,
           1210
          ],
          [
           "Operations Research Analysts",
           "TN",
           83020,
           1240
          ],
          [
           "Operations Research Analysts",
           "TX",
           101100,
           12240
          ],
          [
           "Operations Research Analysts",
           "UT",
           84840,
           1090
          ],
          [
           "Operations Research Analysts",
           "VT",
           104040,
           120
          ],
          [
           "Operations Research Analysts",
           "VA",
           122680,
           6320
          ],
          [
           "Operations Research Analysts",
           "WA",
           105680,
           2850
          ],
          [
           "Operations Research Analysts",
           "WV",
           75510,
           220
          ],
          [
           "Operations Research Analysts",
           "WI",
           78880,
           4080
          ],
          [
           "Operations Research Analysts",
           "PR",
           69040,
           60
          ]
         ],
         "hovertemplate": "<b>%{customdata[0]}</b><br>State: %{customdata[1]}<br>Salary: <b>$%{customdata[2]:,.0f}</b><br>Employment: %{customdata[3]:,.0f}<extra></extra>",
         "marker": {
          "color": "rgb(141,160,203)",
          "line": {
           "color": "white",
           "width": 1
          },
          "size": 9,
          "symbol": "square"
         },
         "mode": "markers+text",
         "name": "Operations Research Analysts",
         "textposition": "top center",
         "type": "scatter",
         "x": {
          "bdata": "AAAAAABAf0AAAAAAAABOQAAAAAAA9KBAAAAAAACAYUAAAAAAAIvFQAAAAAAAcIxAAAAAAADgj0AAAAAAAMCCQAAAAAAAHKFAAAAAAAATwEAAAAAAAGKxQAAAAAAAgFtAAAAAAABAf0AAAAAAAJyzQAAAAAAA8JlAAAAAAADgdUAAAAAAADCBQAAAAAAAwIxAAAAAAADQhkAAAAAAAIB2QAAAAAAAuLBAAAAAAAD8skAAAAAAAGiQQAAAAAAAUJRAAAAAAABAYEAAAAAAAGifQAAAAAAAAGRAAAAAAAAgckAAAAAAAOB1QAAAAAAAwGxAAAAAAACMpEAAAAAAAEB/QAAAAAAAhLdAAAAAAACwo0AAAAAAAIBhQAAAAAAANKdAAAAAAACYl0AAAAAAADykQAAAAAAArKdAAAAAAADgcEAAAAAAAOiSQAAAAAAAYJNAAAAAAADox0AAAAAAAAiRQAAAAAAAAF5AAAAAAACwuEAAAAAAAESmQAAAAAAAgGtAAAAAAADgr0AAAAAAAABOQA==",
          "dtype": "f8"
         },
         "y": {
          "bdata": "AAAAACDm/EAAAAAAgBv5QAAAAADgHvVAAAAAAGB58kAAAAAAwGv6QAAAAAAAs/pAAAAAAACd90AAAAAAQD35QAAAAAAgP/5AAAAAAECc9EAAAAAAgOnzQAAAAACgb/hAAAAAAOAA9UAAAAAAYOn6QAAAAACAePZAAAAAAIDY9UAAAAAAQGH4QAAAAABAufVAAAAAAKBT8UAAAAAAQCH3QAAAAABg7/lAAAAAAOAg+EAAAAAAAD73QAAAAABA1fdAAAAAAGAX9UAAAAAAoDHwQAAAAADgXfJAAAAAAGCh90AAAAAAgOv2QAAAAADAjfZAAAAAAGBX+0AAAAAAwEz2QAAAAABgl/xAAAAAAOAl+EAAAAAAQOPzQAAAAACAsvhAAAAAAMAl70AAAAAAINH4QAAAAAAg3/RAAAAAACDA+kAAAAAAgAz0QAAAAADARPRAAAAAAMCu+EAAAAAAgLb0QAAAAACAZvlAAAAAAIDz/UAAAAAAAM35QAAAAABgb/JAAAAAAABC80AAAAAAANvwQA==",
          "dtype": "f8"
         }
        },
        {
         "customdata": [
          [
           "Statisticians",
           "AL",
           76870,
           200
          ],
          [
           "Statisticians",
           "AK",
           90500,
           60
          ],
          [
           "Statisticians",
           "AZ",
           102090,
           360
          ],
          [
           "Statisticians",
           "CA",
           130530,
           2810
          ],
          [
           "Statisticians",
           "CO",
           105110,
           920
          ],
          [
           "Statisticians",
           "CT",
           100840,
           320
          ],
          [
           "Statisticians",
           "DE",
           124240,
           90
          ],
          [
           "Statisticians",
           "DC",
           132570,
           610
          ],
          [
           "Statisticians",
           "FL",
           116860,
           620
          ],
          [
           "Statisticians",
           "GA",
           114320,
           550
          ],
          [
           "Statisticians",
           "HI",
           84230,
           90
          ],
          [
           "Statisticians",
           "IL",
           121380,
           490
          ],
          [
           "Statisticians",
           "IN",
           110060,
           240
          ],
          [
           "Statisticians",
           "IA",
           90270,
           280
          ],
          [
           "Statisticians",
           "KS",
           101930,
           50
          ],
          [
           "Statisticians",
           "KY",
           107160,
           90
          ],
          [
           "Statisticians",
           "LA",
           78310,
           60
          ],
          [
           "Statisticians",
           "ME",
           85590,
           60
          ],
          [
           "Statisticians",
           "MD",
           127740,
           3070
          ],
          [
           "Statisticians",
           "MA",
           108850,
           1990
          ],
          [
           "Statisticians",
           "MI",
           104340,
           590
          ],
          [
           "Statisticians",
           "MN",
           90810,
           1010
          ],
          [
           "Statisticians",
           "MS",
           65930,
           70
          ],
          [
           "Statisticians",
           "MO",
           76080,
           550
          ],
          [
           "Statisticians",
           "MT",
           86570,
           50
          ],
          [
           "Statisticians",
           "NE",
           86080,
           170
          ],
          [
           "Statisticians",
           "NV",
           85630,
           60
          ],
          [
           "Statisticians",
           "NH",
           123280,
           50
          ],
          [
           "Statisticians",
           "NJ",
           114700,
           550
          ],
          [
           "Statisticians",
           "NM",
           76930,
           360
          ],
          [
           "Statisticians",
           "NY",
           147470,
           1490
          ],
          [
           "Statisticians",
           "NC",
           128280,
           1430
          ],
          [
           "Statisticians",
           "ND",
           81580,
           40
          ],
          [
           "Statisticians",
           "OH",
           91090,
           360
          ],
          [
           "Statisticians",
           "OK",
           94520,
           40
          ],
          [
           "Statisticians",
           "OR",
           94920,
           610
          ],
          [
           "Statisticians",
           "PA",
           99020,
           2190
          ],
          [
           "Statisticians",
           "RI",
           91650,
           50
          ],
          [
           "Statisticians",
           "SC",
           70160,
           310
          ],
          [
           "Statisticians",
           "TN",
           92460,
           800
          ],
          [
           "Statisticians",
           "TX",
           110910,
           1210
          ],
          [
           "Statisticians",
           "VT",
           79450,
           120
          ],
          [
           "Statisticians",
           "VA",
           111760,
           800
          ],
          [
           "Statisticians",
           "WA",
           112000,
           2520
          ],
          [
           "Statisticians",
           "WV",
           84450,
           90
          ],
          [
           "Statisticians",
           "WI",
           96200,
           250
          ],
          [
           "Statisticians",
           "PR",
           49310,
           380
          ]
         ],
         "hovertemplate": "<b>%{customdata[0]}</b><br>State: %{customdata[1]}<br>Salary: <b>$%{customdata[2]:,.0f}</b><br>Employment: %{customdata[3]:,.0f}<extra></extra>",
         "marker": {
          "color": "rgb(231,138,195)",
          "line": {
           "color": "white",
           "width": 1
          },
          "size": 9,
          "symbol": "x"
         },
         "mode": "markers+text",
         "name": "Statisticians",
         "textposition": "top center",
         "type": "scatter",
         "x": {
          "bdata": "AAAAAAAAaUAAAAAAAABOQAAAAAAAgHZAAAAAAAD0pUAAAAAAAMCMQAAAAAAAAHRAAAAAAACAVkAAAAAAABCDQAAAAAAAYINAAAAAAAAwgUAAAAAAAIBWQAAAAAAAoH5AAAAAAAAAbkAAAAAAAIBxQAAAAAAAAElAAAAAAACAVkAAAAAAAABOQAAAAAAAAE5AAAAAAAD8p0AAAAAAABifQAAAAAAAcIJAAAAAAACQj0AAAAAAAIBRQAAAAAAAMIFAAAAAAAAASUAAAAAAAEBlQAAAAAAAAE5AAAAAAAAASUAAAAAAADCBQAAAAAAAgHZAAAAAAABIl0AAAAAAAFiWQAAAAAAAAERAAAAAAACAdkAAAAAAAABEQAAAAAAAEINAAAAAAAAcoUAAAAAAAABJQAAAAAAAYHNAAAAAAAAAiUAAAAAAAOiSQAAAAAAAAF5AAAAAAAAAiUAAAAAAALCjQAAAAAAAgFZAAAAAAABAb0AAAAAAAMB3QA==",
          "dtype": "f8"
         },
         "y": {
          "bdata": "AAAAAGDE8kAAAAAAQBj2QAAAAACg7PhAAAAAACDe/0AAAAAAYKn5QAAAAACAnvhAAAAAAABV/kAAAAAA0C4AQQAAAADAh/xAAAAAAADp+0AAAAAAYJD0QAAAAABAov1AAAAAAMDe+kAAAAAA4An2QAAAAACg4vhAAAAAAIAp+kAAAAAAYB7zQAAAAABg5fRAAAAAAMAv/0AAAAAAIJP6QAAAAABAeflAAAAAAKAr9kAAAAAAoBjwQAAAAAAAk/JAAAAAAKAi9UAAAAAAAAT1QAAAAADg5/RAAAAAAAAZ/kAAAAAAwAD8QAAAAAAgyPJAAAAAAHAAAkEAAAAAgFH/QAAAAADA6vNAAAAAACA99kAAAAAAgBP3QAAAAACALPdAAAAAAMAs+EAAAAAAIGD2QAAAAAAAIfFAAAAAAMCS9kAAAAAA4BP7QAAAAACgZfNAAAAAAABJ+0AAAAAAAFj7QAAAAAAgnvRAAAAAAIB890AAAAAAwBPoQA==",
          "dtype": "f8"
         }
        },
        {
         "customdata": [
          [
           "Data Scientists",
           "AL",
           102970,
           1620
          ],
          [
           "Data Scientists",
           "AK",
           88690,
           210
          ],
          [
           "Data Scientists",
           "AZ",
           112460,
           4080
          ],
          [
           "Data Scientists",
           "AR",
           104560,
           470
          ],
          [
           "Data Scientists",
           "CA",
           155450,
           36850
          ],
          [
           "Data Scientists",
           "CO",
           118250,
           6750
          ],
          [
           "Data Scientists",
           "CT",
           120270,
           1630
          ],
          [
           "Data Scientists",
           "DC",
           148170,
           3580
          ],
          [
           "Data Scientists",
           "FL",
           117670,
           9480
          ],
          [
           "Data Scientists",
           "GA",
           111020,
           7730
          ],
          [
           "Data Scientists",
           "HI",
           124530,
           240
          ],
          [
           "Data Scientists",
           "ID",
           120410,
           980
          ],
          [
           "Data Scientists",
           "IL",
           119010,
           7390
          ],
          [
           "Data Scientists",
           "IN",
           92620,
           3120
          ],
          [
           "Data Scientists",
           "IA",
           97300,
           2330
          ],
          [
           "Data Scientists",
           "KS",
           107300,
           340
          ],
          [
           "Data Scientists",
           "KY",
           100410,
           1700
          ],
          [
           "Data Scientists",
           "LA",
           71740,
           1120
          ],
          [
           "Data Scientists",
           "ME",
           101890,
           1040
          ],
          [
           "Data Scientists",
           "MD",
           135370,
           3400
          ],
          [
           "Data Scientists",
           "MA",
           139670,
           9990
          ],
          [
           "Data Scientists",
           "MI",
           102030,
           6450
          ],
          [
           "Data Scientists",
           "MN",
           118110,
           3500
          ],
          [
           "Data Scientists",
           "MS",
           77830,
           270
          ],
          [
           "Data Scientists",
           "MO",
           95310,
           4350
          ],
          [
           "Data Scientists",
           "MT",
           111490,
           200
          ],
          [
           "Data Scientists",
           "NE",
           97720,
           1850
          ],
          [
           "Data Scientists",
           "NV",
           98820,
           1230
          ],
          [
           "Data Scientists",
           "NH",
           102230,
           870
          ],
          [
           "Data Scientists",
           "NJ",
           131800,
           5860
          ],
          [
           "Data Scientists",
           "NM",
           86520,
           510
          ],
          [
           "Data Scientists",
           "NY",
           133450,
           20070
          ],
          [
           "Data Scientists",
           "NC",
           118020,
           10140
          ],
          [
           "Data Scientists",
           "ND",
           94130,
           320
          ],
          [
           "Data Scientists",
           "OH",
           100260,
           5510
          ],
          [
           "Data Scientists",
           "OK",
           89940,
           2160
          ],
          [
           "Data Scientists",
           "OR",
           124060,
           2650
          ],
          [
           "Data Scientists",
           "PA",
           107450,
           10430
          ],
          [
           "Data Scientists",
           "RI",
           119400,
           1190
          ],
          [
           "Data Scientists",
           "SC",
           96970,
           2810
          ],
          [
           "Data Scientists",
           "SD",
           92460,
           270
          ],
          [
           "Data Scientists",
           "TN",
           114830,
           2550
          ],
          [
           "Data Scientists",
           "TX",
           114800,
           23420
          ],
          [
           "Data Scientists",
           "UT",
           119640,
           4830
          ],
          [
           "Data Scientists",
           "VT",
           119630,
           210
          ],
          [
           "Data Scientists",
           "VA",
           132230,
           6200
          ],
          [
           "Data Scientists",
           "WA",
           162730,
           7930
          ],
          [
           "Data Scientists",
           "WV",
           102770,
           220
          ],
          [
           "Data Scientists",
           "WI",
           105540,
           3640
          ],
          [
           "Data Scientists",
           "PR",
           72370,
           120
          ]
         ],
         "hovertemplate": "<b>%{customdata[0]}</b><br>State: %{customdata[1]}<br>Salary: <b>$%{customdata[2]:,.0f}</b><br>Employment: %{customdata[3]:,.0f}<extra></extra>",
         "marker": {
          "color": "rgb(166,216,84)",
          "line": {
           "color": "white",
           "width": 1
          },
          "size": 9,
          "symbol": "triangle-up"
         },
         "mode": "markers+text",
         "name": "Data Scientists",
         "textposition": "top center",
         "type": "scatter",
         "x": {
          "bdata": "AAAAAABQmUAAAAAAAEBqQAAAAAAA4K9AAAAAAABgfUAAAAAAQP7hQAAAAAAAXrpAAAAAAAB4mUAAAAAAAPirQAAAAAAAhMJAAAAAAAAyvkAAAAAAAABuQAAAAAAAoI5AAAAAAADevEAAAAAAAGCoQAAAAAAANKJAAAAAAABAdUAAAAAAAJCaQAAAAAAAgJFAAAAAAABAkEAAAAAAAJCqQAAAAAAAg8NAAAAAAAAyuUAAAAAAAFirQAAAAAAA4HBAAAAAAAD+sEAAAAAAAABpQAAAAAAA6JxAAAAAAAA4k0AAAAAAADCLQAAAAAAA5LZAAAAAAADgf0AAAAAAgJnTQAAAAAAAzsNAAAAAAAAAdEAAAAAAAIa1QAAAAAAA4KBAAAAAAAC0pEAAAAAAAF/EQAAAAAAAmJJAAAAAAAD0pUAAAAAAAOBwQAAAAAAA7KNAAAAAAADf1kAAAAAAAN6yQAAAAAAAQGpAAAAAAAA4uEAAAAAAAPq+QAAAAAAAgGtAAAAAAABwrEAAAAAAAABeQA==",
          "dtype": "f8"
         },
         "y": {
          "bdata": "AAAAAKAj+UAAAAAAIKf1QAAAAADAdPtAAAAAAACH+UAAAAAA0PkCQQAAAACg3vxAAAAAAOBc/UAAAAAAUBYCQQAAAABguvxAAAAAAMAa+0AAAAAAIGf+QAAAAACgZf1AAAAAACAO/UAAAAAAwJz2QAAAAABAwfdAAAAAAEAy+kAAAAAAoIP4QAAAAADAg/FAAAAAACDg+EAAAAAAUIYAQQAAAACwDAFBAAAAAODo+EAAAAAA4NX8QAAAAABgAPNAAAAAAOBE90AAAAAAIDj7QAAAAACA2/dAAAAAAEAg+EAAAAAAYPX4QAAAAADAFgBBAAAAAIAf9UAAAAAAUEoAQQAAAABA0PxAAAAAACD79kAAAAAAQHr4QAAAAABA9fVAAAAAAMBJ/kAAAAAAoDv6QAAAAACAJv1AAAAAAKCs90AAAAAAwJL2QAAAAADgCPxAAAAAAAAH/EAAAAAAgDX9QAAAAADgNP1AAAAAADAkAEEAAAAAUN0DQQAAAAAgF/lAAAAAAEDE+UAAAAAAIKvxQA==",
          "dtype": "f8"
         }
        }
       ],
       "layout": {
        "annotations": [
         {
          "font": {
           "color": "grey",
           "size": 12
          },
          "showarrow": false,
          "text": "Low Employment / High Pay",
          "x": 0.09,
          "xref": "x domain",
          "y": 0.97,
          "yref": "y domain"
         },
         {
          "font": {
           "color": "grey",
           "size": 12
          },
          "showarrow": false,
          "text": "High Pay / High Employment",
          "x": 0.97,
          "xref": "x domain",
          "y": 0.97,
          "yref": "y domain"
         },
         {
          "font": {
           "color": "grey",
           "size": 12
          },
          "showarrow": false,
          "text": "Low Pay / Low Employment",
          "x": 0.09,
          "xref": "x domain",
          "y": 0.03,
          "yref": "y domain"
         },
         {
          "font": {
           "color": "grey",
           "size": 12
          },
          "showarrow": false,
          "text": "High Employment / Low Pay",
          "x": 0.97,
          "xref": "x domain",
          "y": 0.03,
          "yref": "y domain"
         },
         {
          "align": "center",
          "font": {
           "color": "rgba(90,90,90,0.9)",
           "family": "Arial",
           "size": 11
          },
          "showarrow": false,
          "text": "Note: Vertical line = 60th percentile of total employment (lower vs higher demand roles); horizontal line = 60th percentile of average salary (lower vs higher pay).",
          "x": 0,
          "xref": "paper",
          "y": 1.03,
          "yref": "paper"
         }
        ],
        "font": {
         "color": "grey"
        },
        "height": 750,
        "hoverlabel": {
         "bgcolor": "white",
         "bordercolor": "lightgrey",
         "font": {
          "color": "black",
          "size": 12
         }
        },
        "legend": {
         "bgcolor": "rgba(255,255,255,0.6)",
         "bordercolor": "lightgrey",
         "borderwidth": 1,
         "orientation": "v",
         "title": {
          "text": "Occupation"
         },
         "x": 1.22,
         "xanchor": "right",
         "y": 1,
         "yanchor": "top"
        },
        "margin": {
         "b": 60,
         "l": 40,
         "r": 200,
         "t": 80
        },
        "shapes": [
         {
          "line": {
           "color": "grey",
           "dash": "dot",
           "width": 1.7
          },
          "type": "line",
          "x0": 1210,
          "x1": 1210,
          "xref": "x",
          "y0": 0,
          "y1": 1,
          "yref": "y domain"
         },
         {
          "line": {
           "color": "grey",
           "dash": "dot",
           "width": 1.7
          },
          "type": "line",
          "x0": 0,
          "x1": 1,
          "xref": "x domain",
          "y0": 110060,
          "y1": 110060,
          "yref": "y"
         }
        ],
        "showlegend": true,
        "template": {
         "data": {
          "bar": [
           {
            "error_x": {
             "color": "#2a3f5f"
            },
            "error_y": {
             "color": "#2a3f5f"
            },
            "marker": {
             "line": {
              "color": "white",
              "width": 0.5
             },
             "pattern": {
              "fillmode": "overlay",
              "size": 10,
              "solidity": 0.2
             }
            },
            "type": "bar"
           }
          ],
          "barpolar": [
           {
            "marker": {
             "line": {
              "color": "white",
              "width": 0.5
             },
             "pattern": {
              "fillmode": "overlay",
              "size": 10,
              "solidity": 0.2
             }
            },
            "type": "barpolar"
           }
          ],
          "carpet": [
           {
            "aaxis": {
             "endlinecolor": "#2a3f5f",
             "gridcolor": "#C8D4E3",
             "linecolor": "#C8D4E3",
             "minorgridcolor": "#C8D4E3",
             "startlinecolor": "#2a3f5f"
            },
            "baxis": {
             "endlinecolor": "#2a3f5f",
             "gridcolor": "#C8D4E3",
             "linecolor": "#C8D4E3",
             "minorgridcolor": "#C8D4E3",
             "startlinecolor": "#2a3f5f"
            },
            "type": "carpet"
           }
          ],
          "choropleth": [
           {
            "colorbar": {
             "outlinewidth": 0,
             "ticks": ""
            },
            "type": "choropleth"
           }
          ],
          "contour": [
           {
            "colorbar": {
             "outlinewidth": 0,
             "ticks": ""
            },
            "colorscale": [
             [
              0,
              "#0d0887"
             ],
             [
              0.1111111111111111,
              "#46039f"
             ],
             [
              0.2222222222222222,
              "#7201a8"
             ],
             [
              0.3333333333333333,
              "#9c179e"
             ],
             [
              0.4444444444444444,
              "#bd3786"
             ],
             [
              0.5555555555555556,
              "#d8576b"
             ],
             [
              0.6666666666666666,
              "#ed7953"
             ],
             [
              0.7777777777777778,
              "#fb9f3a"
             ],
             [
              0.8888888888888888,
              "#fdca26"
             ],
             [
              1,
              "#f0f921"
             ]
            ],
            "type": "contour"
           }
          ],
          "contourcarpet": [
           {
            "colorbar": {
             "outlinewidth": 0,
             "ticks": ""
            },
            "type": "contourcarpet"
           }
          ],
          "heatmap": [
           {
            "colorbar": {
             "outlinewidth": 0,
             "ticks": ""
            },
            "colorscale": [
             [
              0,
              "#0d0887"
             ],
             [
              0.1111111111111111,
              "#46039f"
             ],
             [
              0.2222222222222222,
              "#7201a8"
             ],
             [
              0.3333333333333333,
              "#9c179e"
             ],
             [
              0.4444444444444444,
              "#bd3786"
             ],
             [
              0.5555555555555556,
              "#d8576b"
             ],
             [
              0.6666666666666666,
              "#ed7953"
             ],
             [
              0.7777777777777778,
              "#fb9f3a"
             ],
             [
              0.8888888888888888,
              "#fdca26"
             ],
             [
              1,
              "#f0f921"
             ]
            ],
            "type": "heatmap"
           }
          ],
          "histogram": [
           {
            "marker": {
             "pattern": {
              "fillmode": "overlay",
              "size": 10,
              "solidity": 0.2
             }
            },
            "type": "histogram"
           }
          ],
          "histogram2d": [
           {
            "colorbar": {
             "outlinewidth": 0,
             "ticks": ""
            },
            "colorscale": [
             [
              0,
              "#0d0887"
             ],
             [
              0.1111111111111111,
              "#46039f"
             ],
             [
              0.2222222222222222,
              "#7201a8"
             ],
             [
              0.3333333333333333,
              "#9c179e"
             ],
             [
              0.4444444444444444,
              "#bd3786"
             ],
             [
              0.5555555555555556,
              "#d8576b"
             ],
             [
              0.6666666666666666,
              "#ed7953"
             ],
             [
              0.7777777777777778,
              "#fb9f3a"
             ],
             [
              0.8888888888888888,
              "#fdca26"
             ],
             [
              1,
              "#f0f921"
             ]
            ],
            "type": "histogram2d"
           }
          ],
          "histogram2dcontour": [
           {
            "colorbar": {
             "outlinewidth": 0,
             "ticks": ""
            },
            "colorscale": [
             [
              0,
              "#0d0887"
             ],
             [
              0.1111111111111111,
              "#46039f"
             ],
             [
              0.2222222222222222,
              "#7201a8"
             ],
             [
              0.3333333333333333,
              "#9c179e"
             ],
             [
              0.4444444444444444,
              "#bd3786"
             ],
             [
              0.5555555555555556,
              "#d8576b"
             ],
             [
              0.6666666666666666,
              "#ed7953"
             ],
             [
              0.7777777777777778,
              "#fb9f3a"
             ],
             [
              0.8888888888888888,
              "#fdca26"
             ],
             [
              1,
              "#f0f921"
             ]
            ],
            "type": "histogram2dcontour"
           }
          ],
          "mesh3d": [
           {
            "colorbar": {
             "outlinewidth": 0,
             "ticks": ""
            },
            "type": "mesh3d"
           }
          ],
          "parcoords": [
           {
            "line": {
             "colorbar": {
              "outlinewidth": 0,
              "ticks": ""
             }
            },
            "type": "parcoords"
           }
          ],
          "pie": [
           {
            "automargin": true,
            "type": "pie"
           }
          ],
          "scatter": [
           {
            "fillpattern": {
             "fillmode": "overlay",
             "size": 10,
             "solidity": 0.2
            },
            "type": "scatter"
           }
          ],
          "scatter3d": [
           {
            "line": {
             "colorbar": {
              "outlinewidth": 0,
              "ticks": ""
             }
            },
            "marker": {
             "colorbar": {
              "outlinewidth": 0,
              "ticks": ""
             }
            },
            "type": "scatter3d"
           }
          ],
          "scattercarpet": [
           {
            "marker": {
             "colorbar": {
              "outlinewidth": 0,
              "ticks": ""
             }
            },
            "type": "scattercarpet"
           }
          ],
          "scattergeo": [
           {
            "marker": {
             "colorbar": {
              "outlinewidth": 0,
              "ticks": ""
             }
            },
            "type": "scattergeo"
           }
          ],
          "scattergl": [
           {
            "marker": {
             "colorbar": {
              "outlinewidth": 0,
              "ticks": ""
             }
            },
            "type": "scattergl"
           }
          ],
          "scattermap": [
           {
            "marker": {
             "colorbar": {
              "outlinewidth": 0,
              "ticks": ""
             }
            },
            "type": "scattermap"
           }
          ],
          "scattermapbox": [
           {
            "marker": {
             "colorbar": {
              "outlinewidth": 0,
              "ticks": ""
             }
            },
            "type": "scattermapbox"
           }
          ],
          "scatterpolar": [
           {
            "marker": {
             "colorbar": {
              "outlinewidth": 0,
              "ticks": ""
             }
            },
            "type": "scatterpolar"
           }
          ],
          "scatterpolargl": [
           {
            "marker": {
             "colorbar": {
              "outlinewidth": 0,
              "ticks": ""
             }
            },
            "type": "scatterpolargl"
           }
          ],
          "scatterternary": [
           {
            "marker": {
             "colorbar": {
              "outlinewidth": 0,
              "ticks": ""
             }
            },
            "type": "scatterternary"
           }
          ],
          "surface": [
           {
            "colorbar": {
             "outlinewidth": 0,
             "ticks": ""
            },
            "colorscale": [
             [
              0,
              "#0d0887"
             ],
             [
              0.1111111111111111,
              "#46039f"
             ],
             [
              0.2222222222222222,
              "#7201a8"
             ],
             [
              0.3333333333333333,
              "#9c179e"
             ],
             [
              0.4444444444444444,
              "#bd3786"
             ],
             [
              0.5555555555555556,
              "#d8576b"
             ],
             [
              0.6666666666666666,
              "#ed7953"
             ],
             [
              0.7777777777777778,
              "#fb9f3a"
             ],
             [
              0.8888888888888888,
              "#fdca26"
             ],
             [
              1,
              "#f0f921"
             ]
            ],
            "type": "surface"
           }
          ],
          "table": [
           {
            "cells": {
             "fill": {
              "color": "#EBF0F8"
             },
             "line": {
              "color": "white"
             }
            },
            "header": {
             "fill": {
              "color": "#C8D4E3"
             },
             "line": {
              "color": "white"
             }
            },
            "type": "table"
           }
          ]
         },
         "layout": {
          "annotationdefaults": {
           "arrowcolor": "#2a3f5f",
           "arrowhead": 0,
           "arrowwidth": 1
          },
          "autotypenumbers": "strict",
          "coloraxis": {
           "colorbar": {
            "outlinewidth": 0,
            "ticks": ""
           }
          },
          "colorscale": {
           "diverging": [
            [
             0,
             "#8e0152"
            ],
            [
             0.1,
             "#c51b7d"
            ],
            [
             0.2,
             "#de77ae"
            ],
            [
             0.3,
             "#f1b6da"
            ],
            [
             0.4,
             "#fde0ef"
            ],
            [
             0.5,
             "#f7f7f7"
            ],
            [
             0.6,
             "#e6f5d0"
            ],
            [
             0.7,
             "#b8e186"
            ],
            [
             0.8,
             "#7fbc41"
            ],
            [
             0.9,
             "#4d9221"
            ],
            [
             1,
             "#276419"
            ]
           ],
           "sequential": [
            [
             0,
             "#0d0887"
            ],
            [
             0.1111111111111111,
             "#46039f"
            ],
            [
             0.2222222222222222,
             "#7201a8"
            ],
            [
             0.3333333333333333,
             "#9c179e"
            ],
            [
             0.4444444444444444,
             "#bd3786"
            ],
            [
             0.5555555555555556,
             "#d8576b"
            ],
            [
             0.6666666666666666,
             "#ed7953"
            ],
            [
             0.7777777777777778,
             "#fb9f3a"
            ],
            [
             0.8888888888888888,
             "#fdca26"
            ],
            [
             1,
             "#f0f921"
            ]
           ],
           "sequentialminus": [
            [
             0,
             "#0d0887"
            ],
            [
             0.1111111111111111,
             "#46039f"
            ],
            [
             0.2222222222222222,
             "#7201a8"
            ],
            [
             0.3333333333333333,
             "#9c179e"
            ],
            [
             0.4444444444444444,
             "#bd3786"
            ],
            [
             0.5555555555555556,
             "#d8576b"
            ],
            [
             0.6666666666666666,
             "#ed7953"
            ],
            [
             0.7777777777777778,
             "#fb9f3a"
            ],
            [
             0.8888888888888888,
             "#fdca26"
            ],
            [
             1,
             "#f0f921"
            ]
           ]
          },
          "colorway": [
           "#636efa",
           "#EF553B",
           "#00cc96",
           "#ab63fa",
           "#FFA15A",
           "#19d3f3",
           "#FF6692",
           "#B6E880",
           "#FF97FF",
           "#FECB52"
          ],
          "font": {
           "color": "#2a3f5f"
          },
          "geo": {
           "bgcolor": "white",
           "lakecolor": "white",
           "landcolor": "white",
           "showlakes": true,
           "showland": true,
           "subunitcolor": "#C8D4E3"
          },
          "hoverlabel": {
           "align": "left"
          },
          "hovermode": "closest",
          "mapbox": {
           "style": "light"
          },
          "paper_bgcolor": "white",
          "plot_bgcolor": "white",
          "polar": {
           "angularaxis": {
            "gridcolor": "#EBF0F8",
            "linecolor": "#EBF0F8",
            "ticks": ""
           },
           "bgcolor": "white",
           "radialaxis": {
            "gridcolor": "#EBF0F8",
            "linecolor": "#EBF0F8",
            "ticks": ""
           }
          },
          "scene": {
           "xaxis": {
            "backgroundcolor": "white",
            "gridcolor": "#DFE8F3",
            "gridwidth": 2,
            "linecolor": "#EBF0F8",
            "showbackground": true,
            "ticks": "",
            "zerolinecolor": "#EBF0F8"
           },
           "yaxis": {
            "backgroundcolor": "white",
            "gridcolor": "#DFE8F3",
            "gridwidth": 2,
            "linecolor": "#EBF0F8",
            "showbackground": true,
            "ticks": "",
            "zerolinecolor": "#EBF0F8"
           },
           "zaxis": {
            "backgroundcolor": "white",
            "gridcolor": "#DFE8F3",
            "gridwidth": 2,
            "linecolor": "#EBF0F8",
            "showbackground": true,
            "ticks": "",
            "zerolinecolor": "#EBF0F8"
           }
          },
          "shapedefaults": {
           "line": {
            "color": "#2a3f5f"
           }
          },
          "ternary": {
           "aaxis": {
            "gridcolor": "#DFE8F3",
            "linecolor": "#A2B1C6",
            "ticks": ""
           },
           "baxis": {
            "gridcolor": "#DFE8F3",
            "linecolor": "#A2B1C6",
            "ticks": ""
           },
           "bgcolor": "white",
           "caxis": {
            "gridcolor": "#DFE8F3",
            "linecolor": "#A2B1C6",
            "ticks": ""
           }
          },
          "title": {
           "x": 0.05
          },
          "xaxis": {
           "automargin": true,
           "gridcolor": "#EBF0F8",
           "linecolor": "#EBF0F8",
           "ticks": "",
           "title": {
            "standoff": 15
           },
           "zerolinecolor": "#EBF0F8",
           "zerolinewidth": 2
          },
          "yaxis": {
           "automargin": true,
           "gridcolor": "#EBF0F8",
           "linecolor": "#EBF0F8",
           "ticks": "",
           "title": {
            "standoff": 15
           },
           "zerolinecolor": "#EBF0F8",
           "zerolinewidth": 2
          }
         }
        },
        "title": {
         "text": "Mapping Data Jobs by Pay and Market Size — A Quadrant View (2024)"
        },
        "updatemenus": [
         {
          "active": 0,
          "bgcolor": "rgba(255,255,255,0.8)",
          "bordercolor": "lightgrey",
          "buttons": [
           {
            "args": [
             {
              "text": [
               null,
               null,
               null,
               null,
               null
              ],
              "visible": [
               true,
               true,
               true,
               true,
               true
              ]
             },
             {
              "title": "Do Bigger Job Markets Pay More? (All Occupations)"
             }
            ],
            "label": "Show All",
            "method": "update"
           },
           {
            "args": [
             {
              "text": [
               [
                "AL",
                "AK",
                "AZ",
                "AR",
                "CA",
                "CO",
                "CT",
                "DE",
                "DC",
                "FL",
                "GA",
                "HI",
                "ID",
                "IL",
                "IN",
                "IA",
                "KS",
                "KY",
                "LA",
                "ME",
                "MD",
                "MA",
                "MI",
                "MN",
                "MS",
                "MO",
                "MT",
                "NE",
                "NV",
                "NH",
                "NJ",
                "NM",
                "NY",
                "NC",
                "ND",
                "OH",
                "OK",
                "OR",
                "PA",
                "RI",
                "SC",
                "SD",
                "TN",
                "TX",
                "UT",
                "VT",
                "VA",
                "WA",
                "WV",
                "WI",
                "WY",
                "PR"
               ],
               null,
               null,
               null,
               null
              ],
              "visible": [
               true,
               false,
               false,
               false,
               false
              ]
             },
             {
              "title": "“Where’s the Best States to Work? Quadrants of Pay and Demand in Database Administrators position"
             }
            ],
            "label": "Database Administrators",
            "method": "update"
           },
           {
            "args": [
             {
              "text": [
               null,
               [
                "AL",
                "AK",
                "AZ",
                "AR",
                "CA",
                "CO",
                "CT",
                "DC",
                "FL",
                "GA",
                "HI",
                "ID",
                "IL",
                "IN",
                "IA",
                "KS",
                "KY",
                "ME",
                "MD",
                "MA",
                "MI",
                "MN",
                "MS",
                "MO",
                "MT",
                "NE",
                "NV",
                "NJ",
                "NM",
                "NY",
                "NC",
                "ND",
                "OH",
                "OK",
                "OR",
                "PA",
                "RI",
                "SC",
                "SD",
                "TN",
                "TX",
                "UT",
                "WA",
                "WV",
                "WI",
                "WY",
                "PR"
               ],
               null,
               null,
               null
              ],
              "visible": [
               false,
               true,
               false,
               false,
               false
              ]
             },
             {
              "title": "“Where’s the Best States to Work? Quadrants of Pay and Demand in Database Architects position"
             }
            ],
            "label": "Database Architects",
            "method": "update"
           },
           {
            "args": [
             {
              "text": [
               null,
               null,
               [
                "AL",
                "AK",
                "AZ",
                "AR",
                "CA",
                "CO",
                "CT",
                "DE",
                "DC",
                "FL",
                "GA",
                "HI",
                "ID",
                "IL",
                "IN",
                "IA",
                "KS",
                "KY",
                "LA",
                "ME",
                "MD",
                "MA",
                "MI",
                "MN",
                "MS",
                "MO",
                "MT",
                "NE",
                "NV",
                "NH",
                "NJ",
                "NM",
                "NY",
                "NC",
                "ND",
                "OH",
                "OK",
                "OR",
                "PA",
                "RI",
                "SC",
                "TN",
                "TX",
                "UT",
                "VT",
                "VA",
                "WA",
                "WV",
                "WI",
                "PR"
               ],
               null,
               null
              ],
              "visible": [
               false,
               false,
               true,
               false,
               false
              ]
             },
             {
              "title": "“Where’s the Best States to Work? Quadrants of Pay and Demand in Operations Research Analysts position"
             }
            ],
            "label": "Operations Research Analysts",
            "method": "update"
           },
           {
            "args": [
             {
              "text": [
               null,
               null,
               null,
               [
                "AL",
                "AK",
                "AZ",
                "CA",
                "CO",
                "CT",
                "DE",
                "DC",
                "FL",
                "GA",
                "HI",
                "IL",
                "IN",
                "IA",
                "KS",
                "KY",
                "LA",
                "ME",
                "MD",
                "MA",
                "MI",
                "MN",
                "MS",
                "MO",
                "MT",
                "NE",
                "NV",
                "NH",
                "NJ",
                "NM",
                "NY",
                "NC",
                "ND",
                "OH",
                "OK",
                "OR",
                "PA",
                "RI",
                "SC",
                "TN",
                "TX",
                "VT",
                "VA",
                "WA",
                "WV",
                "WI",
                "PR"
               ],
               null
              ],
              "visible": [
               false,
               false,
               false,
               true,
               false
              ]
             },
             {
              "title": "“Where’s the Best States to Work? Quadrants of Pay and Demand in Statisticians position"
             }
            ],
            "label": "Statisticians",
            "method": "update"
           },
           {
            "args": [
             {
              "text": [
               null,
               null,
               null,
               null,
               [
                "AL",
                "AK",
                "AZ",
                "AR",
                "CA",
                "CO",
                "CT",
                "DC",
                "FL",
                "GA",
                "HI",
                "ID",
                "IL",
                "IN",
                "IA",
                "KS",
                "KY",
                "LA",
                "ME",
                "MD",
                "MA",
                "MI",
                "MN",
                "MS",
                "MO",
                "MT",
                "NE",
                "NV",
                "NH",
                "NJ",
                "NM",
                "NY",
                "NC",
                "ND",
                "OH",
                "OK",
                "OR",
                "PA",
                "RI",
                "SC",
                "SD",
                "TN",
                "TX",
                "UT",
                "VT",
                "VA",
                "WA",
                "WV",
                "WI",
                "PR"
               ]
              ],
              "visible": [
               false,
               false,
               false,
               false,
               true
              ]
             },
             {
              "title": "“Where’s the Best States to Work? Quadrants of Pay and Demand in Data Scientists position"
             }
            ],
            "label": "Data Scientists",
            "method": "update"
           }
          ],
          "x": 0.995,
          "xanchor": "left",
          "y": 0.77,
          "yanchor": "middle"
         }
        ],
        "width": 1300,
        "xaxis": {
         "showgrid": false,
         "title": {
          "text": "Total Employment (log scale)"
         },
         "type": "log"
        },
        "yaxis": {
         "showgrid": false,
         "title": {
          "text": "Average Annual Salary ($)"
         }
        }
       }
      }
     },
     "metadata": {},
     "output_type": "display_data"
    }
   ],
   "source": [
    "import plotly.express as px\n",
    "import plotly.graph_objects as go\n",
    "import numpy as np\n",
    "\n",
    "df = data_jobs_merged_df.copy()\n",
    "df = df[['area_title', 'prim_state', 'occ_title', 'a_mean_24', 'tot_emp_24']].dropna()\n",
    "\n",
    "\n",
    "x_thr = df['tot_emp_24'].quantile(0.6)\n",
    "y_thr = df['a_mean_24'].quantile(0.6)\n",
    "\n",
    "fig = go.Figure()\n",
    "\n",
    "occupations = df['occ_title'].unique()\n",
    "color_seq = px.colors.qualitative.Set2 * 3  \n",
    "symbols = ['circle', 'diamond', 'square', 'x', 'triangle-up', 'triangle-down', 'star']\n",
    "\n",
    "for i, occ in enumerate(occupations):\n",
    "    sub_df = df[df['occ_title'] == occ]\n",
    "    fig.add_scatter(\n",
    "        x=sub_df['tot_emp_24'],\n",
    "        y=sub_df['a_mean_24'],\n",
    "        mode=\"markers+text\",  \n",
    "        name=occ,\n",
    "        text=None, \n",
    "        textposition=\"top center\",\n",
    "        marker=dict(\n",
    "            size=9,\n",
    "            color=color_seq[i % len(color_seq)],\n",
    "            symbol=symbols[i % len(symbols)],\n",
    "            line=dict(width=1, color=\"white\")\n",
    "        ),\n",
    "        customdata=np.stack(\n",
    "            (sub_df['occ_title'], sub_df['prim_state'], sub_df['a_mean_24'], sub_df['tot_emp_24']),\n",
    "            axis=-1\n",
    "        ),\n",
    "        hovertemplate=\"<b>%{customdata[0]}</b><br>State: %{customdata[1]}<br>\"\n",
    "                      \"Salary: <b>$%{customdata[2]:,.0f}</b><br>\"\n",
    "                      \"Employment: %{customdata[3]:,.0f}<extra></extra>\",\n",
    "    )\n",
    "\n",
    "dropdown_buttons = []\n",
    "\n",
    "for i, occ in enumerate(occupations):\n",
    "    visible = [j == i for j in range(len(occupations))]\n",
    "    text_list = [df[df['occ_title'] == occ]['prim_state'] if j == i else None for j in range(len(occupations))]\n",
    "    dropdown_buttons.append(\n",
    "        dict(\n",
    "            method=\"update\",\n",
    "            label=occ,\n",
    "            args=[{\"visible\": visible, \"text\": text_list},\n",
    "                  {\"title\": f\"“Where’s the Best States to Work? Quadrants of Pay and Demand in {occ} position\"}]\n",
    "        )\n",
    "    )\n",
    "\n",
    "dropdown_buttons.insert(\n",
    "    0,\n",
    "    dict(\n",
    "        method=\"update\",\n",
    "        label=\"Show All\",\n",
    "        args=[\n",
    "            {\"visible\": [True] * len(occupations), \"text\": [None] * len(occupations)},\n",
    "            {\"title\": \"Do Bigger Job Markets Pay More? (All Occupations)\"}\n",
    "        ]\n",
    "    )\n",
    ")\n",
    "\n",
    "fig.update_layout(\n",
    "    updatemenus=[dict(\n",
    "        active=0,\n",
    "        buttons=dropdown_buttons,\n",
    "        x=0.995,\n",
    "        y=0.77,\n",
    "        xanchor=\"left\",\n",
    "        yanchor=\"middle\",\n",
    "        bgcolor=\"rgba(255,255,255,0.8)\",\n",
    "        bordercolor=\"lightgrey\"\n",
    "    )]\n",
    ")\n",
    "\n",
    "\n",
    "fig.add_vline(x=x_thr, line=dict(color=\"grey\", width=1.7, dash=\"dot\"))\n",
    "fig.add_hline(y=y_thr, line=dict(color=\"grey\", width=1.7, dash=\"dot\"))\n",
    "\n",
    "fig.add_annotation(xref=\"x domain\", yref=\"y domain\", x=0.09, y=0.97,\n",
    "                   text=\"Low Employment / High Pay\", showarrow=False, font=dict(color=\"grey\", size=12))\n",
    "fig.add_annotation(xref=\"x domain\", yref=\"y domain\", x=0.97, y=0.97,\n",
    "                   text=\"High Pay / High Employment\", showarrow=False, font=dict(color=\"grey\", size=12))\n",
    "fig.add_annotation(xref=\"x domain\", yref=\"y domain\", x=0.09, y=0.03,\n",
    "                   text=\"Low Pay / Low Employment\", showarrow=False, font=dict(color=\"grey\", size=12))\n",
    "fig.add_annotation(xref=\"x domain\", yref=\"y domain\", x=0.97, y=0.03,\n",
    "                   text=\"High Employment / Low Pay\", showarrow=False, font=dict(color=\"grey\", size=12))\n",
    "\n",
    "fig.add_annotation(\n",
    "    xref=\"paper\", yref=\"paper\",\n",
    "    x=0, y=1.03,\n",
    "    text=(\n",
    "        \"Note: Vertical line = 60th percentile of total employment (lower vs higher demand roles); \"\n",
    "        \"horizontal line = 60th percentile of average salary (lower vs higher pay).\"\n",
    "    ),\n",
    "    showarrow=False,\n",
    "    font=dict(size=11, color=\"rgba(90,90,90,0.9)\", family=\"Arial\"),\n",
    "    align=\"center\"\n",
    ")\n",
    "\n",
    "fig.update_xaxes(type=\"log\", title=\"Total Employment (log scale)\", showgrid=False)\n",
    "fig.update_yaxes(title=\"Average Annual Salary ($)\",showgrid=False)\n",
    "\n",
    "fig.update_layout(\n",
    "    width=1300,\n",
    "    height=750,\n",
    "    template=\"plotly_white\",\n",
    "    font=dict(color=\"grey\"),\n",
    "    showlegend=True,\n",
    "    legend_title_text=\"Occupation\",\n",
    "    title='Mapping Data Jobs by Pay and Market Size — A Quadrant View (2024)',\n",
    "    legend=dict(\n",
    "        orientation=\"v\",\n",
    "        yanchor=\"top\",\n",
    "        y=1,\n",
    "        xanchor=\"right\",\n",
    "        x=1.22,\n",
    "        bgcolor=\"rgba(255,255,255,0.6)\",\n",
    "        bordercolor=\"lightgrey\",\n",
    "        borderwidth=1\n",
    "    ),\n",
    "    margin=dict(l=40, r=200, t=80, b=60),\n",
    "    hoverlabel=dict(\n",
    "        bgcolor=\"white\",\n",
    "        font_size=12,\n",
    "        font_color=\"black\",\n",
    "        bordercolor=\"lightgrey\"\n",
    "    )\n",
    ")\n",
    "\n",
    "fig.show()\n"
   ]
  },
  {
   "cell_type": "markdown",
   "id": "ba103807",
   "metadata": {},
   "source": [
    "Next, I built an interactive scatter where you can choose each occupation separately.\n",
    "Once you pick one job (let's say, Data Scientist), you’ll see only those points — each labeled by state abbreviation for clarity.\n",
    "When you switch to “Show All,” the map resets to compare everything at once.\n",
    "\n",
    "The interesting part is how the chart behaves differently for each job.\n",
    "For Database Administrators, demand is more scattered — pay doesn’t rise much with job volume.\n",
    "But for Operations Research Analysts, it’s a tighter trend — more jobs doesn't equal to higher pay. Data Architects gets paid well above $110K in almost all states.\n",
    "That suggests some roles have stronger correlation between employment scale and pay reward, while others flatten out.\n",
    "\n",
    "The quadrant lines help us visually see this balance — a reminder that growth in headcount doesn’t guarantee higher salaries.\n"
   ]
  },
  {
   "cell_type": "code",
   "execution_count": 83,
   "id": "3e37f816",
   "metadata": {},
   "outputs": [
    {
     "data": {
      "text/html": [
       "<div>\n",
       "<style scoped>\n",
       "    .dataframe tbody tr th:only-of-type {\n",
       "        vertical-align: middle;\n",
       "    }\n",
       "\n",
       "    .dataframe tbody tr th {\n",
       "        vertical-align: top;\n",
       "    }\n",
       "\n",
       "    .dataframe thead th {\n",
       "        text-align: right;\n",
       "    }\n",
       "</style>\n",
       "<table border=\"1\" class=\"dataframe\">\n",
       "  <thead>\n",
       "    <tr style=\"text-align: right;\">\n",
       "      <th></th>\n",
       "      <th>area_title</th>\n",
       "      <th>prim_state</th>\n",
       "      <th>occ_title</th>\n",
       "      <th>a_mean_24</th>\n",
       "      <th>tot_emp_24</th>\n",
       "    </tr>\n",
       "  </thead>\n",
       "  <tbody>\n",
       "    <tr>\n",
       "      <th>2</th>\n",
       "      <td>Alabama</td>\n",
       "      <td>AL</td>\n",
       "      <td>Database Administrators</td>\n",
       "      <td>92930.0</td>\n",
       "      <td>1990.0</td>\n",
       "    </tr>\n",
       "    <tr>\n",
       "      <th>3</th>\n",
       "      <td>Alabama</td>\n",
       "      <td>AL</td>\n",
       "      <td>Database Architects</td>\n",
       "      <td>117510.0</td>\n",
       "      <td>310.0</td>\n",
       "    </tr>\n",
       "    <tr>\n",
       "      <th>4</th>\n",
       "      <td>Alabama</td>\n",
       "      <td>AL</td>\n",
       "      <td>Operations Research Analysts</td>\n",
       "      <td>118370.0</td>\n",
       "      <td>500.0</td>\n",
       "    </tr>\n",
       "    <tr>\n",
       "      <th>5</th>\n",
       "      <td>Alabama</td>\n",
       "      <td>AL</td>\n",
       "      <td>Statisticians</td>\n",
       "      <td>76870.0</td>\n",
       "      <td>200.0</td>\n",
       "    </tr>\n",
       "    <tr>\n",
       "      <th>6</th>\n",
       "      <td>Alabama</td>\n",
       "      <td>AL</td>\n",
       "      <td>Data Scientists</td>\n",
       "      <td>102970.0</td>\n",
       "      <td>1620.0</td>\n",
       "    </tr>\n",
       "  </tbody>\n",
       "</table>\n",
       "</div>"
      ],
      "text/plain": [
       "  area_title prim_state                     occ_title  a_mean_24  tot_emp_24\n",
       "2    Alabama         AL       Database Administrators    92930.0      1990.0\n",
       "3    Alabama         AL           Database Architects   117510.0       310.0\n",
       "4    Alabama         AL  Operations Research Analysts   118370.0       500.0\n",
       "5    Alabama         AL                 Statisticians    76870.0       200.0\n",
       "6    Alabama         AL               Data Scientists   102970.0      1620.0"
      ]
     },
     "execution_count": 83,
     "metadata": {},
     "output_type": "execute_result"
    }
   ],
   "source": [
    "df.head()"
   ]
  },
  {
   "cell_type": "markdown",
   "id": "b94580d3",
   "metadata": {},
   "source": [
    "## Top 10 States by Median Data Job Salary (2024)"
   ]
  },
  {
   "cell_type": "code",
   "execution_count": 123,
   "id": "db3bdd0c",
   "metadata": {},
   "outputs": [
    {
     "name": "stderr",
     "output_type": "stream",
     "text": [
      "C:\\Users\\farho\\AppData\\Local\\Temp\\ipykernel_17556\\2608961833.py:5: FutureWarning:\n",
      "\n",
      "\n",
      "\n",
      "Passing `palette` without assigning `hue` is deprecated and will be removed in v0.14.0. Assign the `y` variable to `hue` and set `legend=False` for the same effect.\n",
      "\n",
      "\n"
     ]
    },
    {
     "data": {
      "image/png": "[encoded data removed]",
      "text/plain": [
       "<Figure size 1400x600 with 1 Axes>"
      ]
     },
     "metadata": {},
     "output_type": "display_data"
    }
   ],
   "source": [
    "top_states = data_jobs_merged_df.groupby('area_title')['a_mean_24'].median().nlargest(10).index\n",
    "subset = data_jobs_merged_df[data_jobs_merged_df['area_title'].isin(top_states)]\n",
    "\n",
    "plt.figure(figsize=(14,6))\n",
    "sns.boxplot(data=subset, y='area_title', x='a_mean_24',\n",
    "            palette='YlGnBu', linewidth=1)\n",
    "plt.title(\"Top 10 States by Median Data Job Salary (2024)\", fontsize=13, weight='bold')\n",
    "plt.xlabel(\"Annual Mean Salary ($)\")\n",
    "plt.ylabel(\"\")\n",
    "plt.grid(axis='x', alpha=0.3)\n",
    "ax = plt.gca() \n",
    "\n",
    "ax.spines['top'].set_visible(False)\n",
    "ax.spines['right'].set_visible(False)\n",
    "\n",
    "ax.spines['left'].set_color('grey')\n",
    "ax.spines['bottom'].set_color('grey')\n",
    "\n",
    "ax.tick_params(colors='grey')\n",
    "plt.tight_layout()\n",
    "plt.show()\n"
   ]
  },
  {
   "cell_type": "markdown",
   "id": "84c08d7b",
   "metadata": {},
   "source": [
    "Here I looked at how much data jobs pay across the top-earning states in 2024. Each box shows the salary range (spread between lower-paid and higher-paid roles), with the line inside showing the median.\n",
    "\n",
    "A few things stand out right away:\n",
    "\n",
    "* California clearly dominates, both in median and range: meaning not only higher pay but also bigger spread between job levels. Probably because California’s data jobs include everything from startup analysts to senior AI engineers.\n",
    "\n",
    "* Washington is right behind, because of tech-heavy companies located in state paying above 140K median.\n",
    "\n",
    "* DC and Maryland pay strong too: probably because of federal data contracts and goverment research work driving those wages.\n",
    "\n",
    "* States like Florida and North Carolina are catching up, but their spreads are tighter meaning less variation.\n",
    "\n",
    "What’s interesting is that big states (CA, NY) have large salary variation, but smaller ones (like MD or VA) pay more evenly. So while tech giants drive high outliers, policy-driven or research-based states keep things consistent.\n",
    "\n",
    "This doesn’t really prove which state is best, just that where there’s tech or federal funding, data jobs tend to cluster at higher pay. But it also shows that location still matters: remote or not."
   ]
  },
  {
   "cell_type": "markdown",
   "id": "4b3161bc",
   "metadata": {},
   "source": [
    "## Distribution of Average Annual Salaries in 2024"
   ]
  },
  {
   "cell_type": "code",
   "execution_count": null,
   "id": "d94674aa",
   "metadata": {},
   "outputs": [
    {
     "data": {
      "image/png": "[encoded data removed]",
      "text/plain": [
       "<Figure size 1400x800 with 1 Axes>"
      ]
     },
     "metadata": {},
     "output_type": "display_data"
    }
   ],
   "source": [
    "plt.figure(figsize=(14, 8))\n",
    "sns.histplot(data_jobs_merged_df['a_mean_24'].dropna(), bins=25, kde=True,\n",
    "             color=\"#3277ee\", edgecolor='white', alpha=0.8)\n",
    "\n",
    "mean_val = data_jobs_merged_df['a_mean_24'].mean()\n",
    "median_val = data_jobs_merged_df['a_mean_24'].median()\n",
    "plt.axvline(mean_val, color='red', linestyle='--', lw=1.3, label=f\"Mean = ${mean_val:,.0f}\")\n",
    "plt.axvline(median_val, color='orange', linestyle='--', lw=1.3, label=f\"Median = ${median_val:,.0f}\")\n",
    "\n",
    "plt.title(\"Distribution of Average Annual Salaries (2024)\", pad=15, fontsize=13, weight='bold')\n",
    "plt.xlabel(\"Annual Mean Salary ($)\", fontsize=11)\n",
    "plt.ylabel(\"Number of Occupations\", fontsize=11)\n",
    "plt.legend(frameon=False)\n",
    "plt.grid(alpha=0.2)\n",
    "ax = plt.gca() \n",
    "\n",
    "ax.spines['top'].set_visible(False)\n",
    "ax.spines['right'].set_visible(False)\n",
    "\n",
    "ax.spines['left'].set_color('grey')\n",
    "ax.spines['bottom'].set_color('grey')\n",
    "\n",
    "ax.tick_params(colors='grey')\n",
    "plt.tight_layout()\n",
    "plt.show()"
   ]
  },
  {
   "cell_type": "markdown",
   "id": "7d27acda",
   "metadata": {},
   "source": [
    "This chart is a  summary of how data-related salaries distribute across occupations in 2024.\n",
    "It’s roughly bell-shaped but leans slightly right — meaning most jobs fall around the $90k–$115k range, with a few high-paying outliers stretching beyond $150k.\n",
    "\n",
    "You can see that the mean ($106k) is a bit higher than the median ($104k), which tells that a handful of top-earning roles (like architects or senior data scientists) are pulling the average up. In short — most data pros cluster around six-figure salaries, but there’s a long tail of very lucrative roles at the high end."
   ]
  },
  {
   "cell_type": "code",
   "execution_count": null,
   "id": "e311e4b5",
   "metadata": {},
   "outputs": [
    {
     "data": {
      "text/plain": [
       "array(['Database Administrators', 'Database Architects',\n",
       "       'Operations Research Analysts', 'Statisticians', 'Data Scientists'],\n",
       "      dtype=object)"
      ]
     },
     "execution_count": 29,
     "metadata": {},
     "output_type": "execute_result"
    }
   ],
   "source": [
    "data_jobs_merged_df.occ_title.unique()"
   ]
  },
  {
   "cell_type": "code",
   "execution_count": null,
   "id": "a9099982",
   "metadata": {},
   "outputs": [
    {
     "data": {
      "image/png": "[encoded data removed]",
      "text/plain": [
       "<Figure size 1400x700 with 1 Axes>"
      ]
     },
     "metadata": {},
     "output_type": "display_data"
    }
   ],
   "source": [
    "selected_roles = data_jobs_merged_df.occ_title.unique()\n",
    "\n",
    "subset = data_jobs_merged_df[data_jobs_merged_df['occ_title'].isin(selected_roles)]\n",
    "\n",
    "# Order by median salary for visual clarity\n",
    "order = subset.groupby('occ_title')['a_mean_24'].median().sort_values().index\n",
    "\n",
    "median_salaries = (\n",
    "    data_jobs_merged_df[data_jobs_merged_df['occ_title'].isin(selected_roles)]\n",
    "    .groupby('occ_title')['a_mean_24']\n",
    "    .median()\n",
    "    .sort_values(ascending=False)\n",
    ")\n",
    "\n",
    "plt.figure(figsize=(14,7))\n",
    "median_salaries.plot(kind='barh', color='#3277ee', edgecolor='grey')\n",
    "plt.title(\"Median Salaries of Selected Data Roles (2024)\", fontsize=13, weight='bold')\n",
    "plt.xlabel(\"Median Annual Salary ($)\")\n",
    "plt.ylabel(\"\")\n",
    "plt.gca().invert_yaxis()\n",
    "plt.grid(axis='x', alpha=0.3)\n",
    "ax = plt.gca() \n",
    "\n",
    "ax.spines['top'].set_visible(False)\n",
    "ax.spines['right'].set_visible(False)\n",
    "\n",
    "ax.spines['left'].set_color('grey')\n",
    "ax.spines['bottom'].set_color('grey')\n",
    "\n",
    "ax.tick_params(colors='grey')\n",
    "plt.tight_layout()\n",
    "plt.show()\n",
    "\n",
    "\n"
   ]
  },
  {
   "cell_type": "markdown",
   "id": "2cccda63",
   "metadata": {},
   "source": [
    "This bar chart is pretty straightforward — it compares median salaries for data roles in 2024, and you can see the clear pay trend here.\n",
    "\n",
    "Database Architects are sitting at the top, around $130K, making them the highest-paid among the group: not too surprising, since architecture jobs require to involve both technical design and infrastructure strategy. Data Scientists come next, slightly below, followed by Database Administrators and Statisticians, both hovering around the $95K–$100K range. Statisticians and Operations Research Analysts are the last ones, but still getting paid $90K average."
   ]
  },
  {
   "cell_type": "markdown",
   "id": "26482ef0",
   "metadata": {},
   "source": [
    "# Conclusion\n",
    "\n",
    "Looking across these charts, it’s clear that “data” jobs are not all the same, both in pay and how they’re spread out across states. The distribution shows most roles floating around the $100K mark, but the top of the range pushes toward $150K+, mostly pulled by big tech states like California and Washington.\n",
    "\n",
    "Among the roles, Database Architects lead all titles in this research, followed by Data Scientists, while Operations Research Analysts and Statisticians earn less, still solid, but not in the high reported jobs. The average salaries progression chart from 2021–2024 shows that salaries kept climbing, suggesting data skills stayed in demand.\n",
    "\n",
    "When we map out states, the high-pay clusters line up almost perfectly with tech-heavy regions(states like CA, WA), finance centers (NY), and policy capitals (DC and Maryland). Lower tiers still offer data jobs, but the pay gap is real.\n",
    "\n",
    "In short — data roles pay well, but the “where” and “what kind” matters a lot. It’s a reminder that not all data careers scale equally, but they all trend one way: up."
   ]
  }
 ],
 "metadata": {
  "kernelspec": {
   "display_name": "stl-recsys",
   "language": "python",
   "name": "python3"
  },
  "language_info": {
   "codemirror_mode": {
    "name": "ipython",
    "version": 3
   },
   "file_extension": ".py",
   "mimetype": "text/x-python",
   "name": "python",
   "nbconvert_exporter": "python",
   "pygments_lexer": "ipython3",
   "version": "3.11.13"
  }
 },
 "nbformat": 4,
 "nbformat_minor": 5
}
