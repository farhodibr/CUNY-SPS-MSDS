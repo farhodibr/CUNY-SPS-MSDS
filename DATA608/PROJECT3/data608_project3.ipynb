{
 "cells": [
  {
   "cell_type": "markdown",
   "id": "6c441357",
   "metadata": {},
   "source": [
    "# Abstract\n",
    "\n",
    "This project explores the association between state-level gun law strength and firearm mortality in the United States for 2023. Using publicly available mortality data and a 0–100 gun-law strength index, I merged, cleaned, and standardized the data for the 50 states (plus D.C. when available). I then created law-strength quintiles (“Very low” to “Very high”) and summarized firearm deaths (including homicides and suicides) per 100,000 population (crude rates) within and across those groups. \n",
    "\n"
   ]
  },
  {
   "cell_type": "code",
   "execution_count": 61,
   "id": "8efe8b7c",
   "metadata": {},
   "outputs": [],
   "source": [
    "import numpy as np\n",
    "import pandas as pd\n",
    "import matplotlib.pyplot as plt\n",
    "from matplotlib.transforms import Bbox\n",
    "\n",
    "import plotly.express as px\n",
    "import plotly.graph_objects as go\n",
    "from plotly.subplots import make_subplots\n",
    "from functools import reduce\n"
   ]
  },
  {
   "cell_type": "markdown",
   "id": "91db6131",
   "metadata": {},
   "source": [
    "Introduction\n",
    "\n",
    "Firearm mortality varies widely across U.S. states. Policymakers, researchers, and the public routinely ask whether differences in state gun policies are associated with differences in firearm deaths. This project evaluates that question descriptively for 2023 by combining:\n",
    "\n",
    "* Firearm mortality (crude deaths per 100,000 residents) at the state level.\n",
    "\n",
    "* Gun-law strength summarized as a 0–100 index from a public policy source (the dataset you used labels it “Strength of Gun Laws (out of 100 points)”).\n",
    "    Note: The index aggregates the presence/absence or design of multiple policies into one score; it does not measure enforcement or cultural context.\n",
    "\n",
    "The core research question is deliberately narrow and skeptical:\n",
    "\n",
    "*How do state firearm death rates relate to a law-strength index, and do patterns remain when we group states into quintiles of law strength?*\n",
    "\n",
    "I emphasize patterns, not causes. States differ on many dimensions (age structure, urbanization, income, regional culture, firearm ownership, substance use, suicide prevalence), and those factors can confound simple comparisons. Also, some states' death rates can be affected by neighboring states laws strengths."
   ]
  },
  {
   "cell_type": "code",
   "execution_count": 2,
   "id": "04530ca9",
   "metadata": {},
   "outputs": [],
   "source": [
    "cdc_df = pd.read_csv('https://raw.githubusercontent.com/farhodibr/CUNY-SPS-MSDS/refs/heads/main/DATA608/PROJECT3/Multiple%20Cause%20of%20Death%2C%202018-2023%2C%20Single%20Race.csv')\n",
    "law_rate_df = pd.read_csv('https://raw.githubusercontent.com/farhodibr/CUNY-SPS-MSDS/refs/heads/main/DATA608/PROJECT3/Everytown-gun-laws-save-lives%20(1).csv')"
   ]
  },
  {
   "cell_type": "code",
   "execution_count": 3,
   "id": "ae1c27b5",
   "metadata": {},
   "outputs": [
    {
     "data": {
      "text/html": [
       "<div>\n",
       "<style scoped>\n",
       "    .dataframe tbody tr th:only-of-type {\n",
       "        vertical-align: middle;\n",
       "    }\n",
       "\n",
       "    .dataframe tbody tr th {\n",
       "        vertical-align: top;\n",
       "    }\n",
       "\n",
       "    .dataframe thead th {\n",
       "        text-align: right;\n",
       "    }\n",
       "</style>\n",
       "<table border=\"1\" class=\"dataframe\">\n",
       "  <thead>\n",
       "    <tr style=\"text-align: right;\">\n",
       "      <th></th>\n",
       "      <th>Notes</th>\n",
       "      <th>State</th>\n",
       "      <th>State Code</th>\n",
       "      <th>Year</th>\n",
       "      <th>Year Code</th>\n",
       "      <th>Deaths</th>\n",
       "      <th>Population</th>\n",
       "      <th>Crude Rate</th>\n",
       "    </tr>\n",
       "  </thead>\n",
       "  <tbody>\n",
       "    <tr>\n",
       "      <th>0</th>\n",
       "      <td>NaN</td>\n",
       "      <td>Alabama</td>\n",
       "      <td>1.0</td>\n",
       "      <td>2022.0</td>\n",
       "      <td>2022.0</td>\n",
       "      <td>1238.0</td>\n",
       "      <td>5074296.0</td>\n",
       "      <td>24.4</td>\n",
       "    </tr>\n",
       "    <tr>\n",
       "      <th>1</th>\n",
       "      <td>NaN</td>\n",
       "      <td>Alabama</td>\n",
       "      <td>1.0</td>\n",
       "      <td>2023.0</td>\n",
       "      <td>2023.0</td>\n",
       "      <td>1251.0</td>\n",
       "      <td>5108468.0</td>\n",
       "      <td>24.5</td>\n",
       "    </tr>\n",
       "    <tr>\n",
       "      <th>2</th>\n",
       "      <td>Total</td>\n",
       "      <td>Alabama</td>\n",
       "      <td>1.0</td>\n",
       "      <td>NaN</td>\n",
       "      <td>NaN</td>\n",
       "      <td>2489.0</td>\n",
       "      <td>10182764.0</td>\n",
       "      <td>24.4</td>\n",
       "    </tr>\n",
       "    <tr>\n",
       "      <th>3</th>\n",
       "      <td>NaN</td>\n",
       "      <td>Alaska</td>\n",
       "      <td>2.0</td>\n",
       "      <td>2022.0</td>\n",
       "      <td>2022.0</td>\n",
       "      <td>155.0</td>\n",
       "      <td>733583.0</td>\n",
       "      <td>21.1</td>\n",
       "    </tr>\n",
       "    <tr>\n",
       "      <th>4</th>\n",
       "      <td>NaN</td>\n",
       "      <td>Alaska</td>\n",
       "      <td>2.0</td>\n",
       "      <td>2023.0</td>\n",
       "      <td>2023.0</td>\n",
       "      <td>167.0</td>\n",
       "      <td>733406.0</td>\n",
       "      <td>22.8</td>\n",
       "    </tr>\n",
       "    <tr>\n",
       "      <th>...</th>\n",
       "      <td>...</td>\n",
       "      <td>...</td>\n",
       "      <td>...</td>\n",
       "      <td>...</td>\n",
       "      <td>...</td>\n",
       "      <td>...</td>\n",
       "      <td>...</td>\n",
       "      <td>...</td>\n",
       "    </tr>\n",
       "    <tr>\n",
       "      <th>212</th>\n",
       "      <td>a result, users should consider that the actua...</td>\n",
       "      <td>NaN</td>\n",
       "      <td>NaN</td>\n",
       "      <td>NaN</td>\n",
       "      <td>NaN</td>\n",
       "      <td>NaN</td>\n",
       "      <td>NaN</td>\n",
       "      <td>NaN</td>\n",
       "    </tr>\n",
       "    <tr>\n",
       "      <th>213</th>\n",
       "      <td>deaths, with a crude rate of approximately 41....</td>\n",
       "      <td>NaN</td>\n",
       "      <td>NaN</td>\n",
       "      <td>NaN</td>\n",
       "      <td>NaN</td>\n",
       "      <td>NaN</td>\n",
       "      <td>NaN</td>\n",
       "      <td>NaN</td>\n",
       "    </tr>\n",
       "    <tr>\n",
       "      <th>214</th>\n",
       "      <td>100,000 population. These deaths will not be u...</td>\n",
       "      <td>NaN</td>\n",
       "      <td>NaN</td>\n",
       "      <td>NaN</td>\n",
       "      <td>NaN</td>\n",
       "      <td>NaN</td>\n",
       "      <td>NaN</td>\n",
       "      <td>NaN</td>\n",
       "    </tr>\n",
       "    <tr>\n",
       "      <th>215</th>\n",
       "      <td>6. Changes to cause of death classification af...</td>\n",
       "      <td>NaN</td>\n",
       "      <td>NaN</td>\n",
       "      <td>NaN</td>\n",
       "      <td>NaN</td>\n",
       "      <td>NaN</td>\n",
       "      <td>NaN</td>\n",
       "      <td>NaN</td>\n",
       "    </tr>\n",
       "    <tr>\n",
       "      <th>216</th>\n",
       "      <td>http://wonder.cdc.gov/wonder/help/mcd-expanded...</td>\n",
       "      <td>NaN</td>\n",
       "      <td>NaN</td>\n",
       "      <td>NaN</td>\n",
       "      <td>NaN</td>\n",
       "      <td>NaN</td>\n",
       "      <td>NaN</td>\n",
       "      <td>NaN</td>\n",
       "    </tr>\n",
       "  </tbody>\n",
       "</table>\n",
       "<p>217 rows × 8 columns</p>\n",
       "</div>"
      ],
      "text/plain": [
       "                                                 Notes    State  State Code  \\\n",
       "0                                                  NaN  Alabama         1.0   \n",
       "1                                                  NaN  Alabama         1.0   \n",
       "2                                                Total  Alabama         1.0   \n",
       "3                                                  NaN   Alaska         2.0   \n",
       "4                                                  NaN   Alaska         2.0   \n",
       "..                                                 ...      ...         ...   \n",
       "212  a result, users should consider that the actua...      NaN         NaN   \n",
       "213  deaths, with a crude rate of approximately 41....      NaN         NaN   \n",
       "214  100,000 population. These deaths will not be u...      NaN         NaN   \n",
       "215  6. Changes to cause of death classification af...      NaN         NaN   \n",
       "216  http://wonder.cdc.gov/wonder/help/mcd-expanded...      NaN         NaN   \n",
       "\n",
       "       Year  Year Code  Deaths  Population  Crude Rate  \n",
       "0    2022.0     2022.0  1238.0   5074296.0        24.4  \n",
       "1    2023.0     2023.0  1251.0   5108468.0        24.5  \n",
       "2       NaN        NaN  2489.0  10182764.0        24.4  \n",
       "3    2022.0     2022.0   155.0    733583.0        21.1  \n",
       "4    2023.0     2023.0   167.0    733406.0        22.8  \n",
       "..      ...        ...     ...         ...         ...  \n",
       "212     NaN        NaN     NaN         NaN         NaN  \n",
       "213     NaN        NaN     NaN         NaN         NaN  \n",
       "214     NaN        NaN     NaN         NaN         NaN  \n",
       "215     NaN        NaN     NaN         NaN         NaN  \n",
       "216     NaN        NaN     NaN         NaN         NaN  \n",
       "\n",
       "[217 rows x 8 columns]"
      ]
     },
     "metadata": {},
     "output_type": "display_data"
    }
   ],
   "source": [
    "display(cdc_df)"
   ]
  },
  {
   "cell_type": "code",
   "execution_count": 4,
   "id": "7d67796a",
   "metadata": {},
   "outputs": [
    {
     "data": {
      "text/html": [
       "<div>\n",
       "<style scoped>\n",
       "    .dataframe tbody tr th:only-of-type {\n",
       "        vertical-align: middle;\n",
       "    }\n",
       "\n",
       "    .dataframe tbody tr th {\n",
       "        vertical-align: top;\n",
       "    }\n",
       "\n",
       "    .dataframe thead th {\n",
       "        text-align: right;\n",
       "    }\n",
       "</style>\n",
       "<table border=\"1\" class=\"dataframe\">\n",
       "  <thead>\n",
       "    <tr style=\"text-align: right;\">\n",
       "      <th></th>\n",
       "      <th>state</th>\n",
       "      <th>year</th>\n",
       "      <th>deaths</th>\n",
       "      <th>population</th>\n",
       "      <th>crude_rate</th>\n",
       "    </tr>\n",
       "  </thead>\n",
       "  <tbody>\n",
       "    <tr>\n",
       "      <th>0</th>\n",
       "      <td>Alabama</td>\n",
       "      <td>2022</td>\n",
       "      <td>1238</td>\n",
       "      <td>5074296</td>\n",
       "      <td>24.4</td>\n",
       "    </tr>\n",
       "    <tr>\n",
       "      <th>1</th>\n",
       "      <td>Alabama</td>\n",
       "      <td>2023</td>\n",
       "      <td>1251</td>\n",
       "      <td>5108468</td>\n",
       "      <td>24.5</td>\n",
       "    </tr>\n",
       "    <tr>\n",
       "      <th>3</th>\n",
       "      <td>Alaska</td>\n",
       "      <td>2022</td>\n",
       "      <td>155</td>\n",
       "      <td>733583</td>\n",
       "      <td>21.1</td>\n",
       "    </tr>\n",
       "    <tr>\n",
       "      <th>4</th>\n",
       "      <td>Alaska</td>\n",
       "      <td>2023</td>\n",
       "      <td>167</td>\n",
       "      <td>733406</td>\n",
       "      <td>22.8</td>\n",
       "    </tr>\n",
       "    <tr>\n",
       "      <th>6</th>\n",
       "      <td>Arizona</td>\n",
       "      <td>2022</td>\n",
       "      <td>1472</td>\n",
       "      <td>7359197</td>\n",
       "      <td>20.0</td>\n",
       "    </tr>\n",
       "    <tr>\n",
       "      <th>...</th>\n",
       "      <td>...</td>\n",
       "      <td>...</td>\n",
       "      <td>...</td>\n",
       "      <td>...</td>\n",
       "      <td>...</td>\n",
       "    </tr>\n",
       "    <tr>\n",
       "      <th>145</th>\n",
       "      <td>West Virginia</td>\n",
       "      <td>2023</td>\n",
       "      <td>306</td>\n",
       "      <td>1770071</td>\n",
       "      <td>17.3</td>\n",
       "    </tr>\n",
       "    <tr>\n",
       "      <th>147</th>\n",
       "      <td>Wisconsin</td>\n",
       "      <td>2022</td>\n",
       "      <td>806</td>\n",
       "      <td>5892539</td>\n",
       "      <td>13.7</td>\n",
       "    </tr>\n",
       "    <tr>\n",
       "      <th>148</th>\n",
       "      <td>Wisconsin</td>\n",
       "      <td>2023</td>\n",
       "      <td>738</td>\n",
       "      <td>5910955</td>\n",
       "      <td>12.5</td>\n",
       "    </tr>\n",
       "    <tr>\n",
       "      <th>150</th>\n",
       "      <td>Wyoming</td>\n",
       "      <td>2022</td>\n",
       "      <td>118</td>\n",
       "      <td>581381</td>\n",
       "      <td>20.3</td>\n",
       "    </tr>\n",
       "    <tr>\n",
       "      <th>151</th>\n",
       "      <td>Wyoming</td>\n",
       "      <td>2023</td>\n",
       "      <td>126</td>\n",
       "      <td>584057</td>\n",
       "      <td>21.6</td>\n",
       "    </tr>\n",
       "  </tbody>\n",
       "</table>\n",
       "<p>102 rows × 5 columns</p>\n",
       "</div>"
      ],
      "text/plain": [
       "             state  year  deaths  population  crude_rate\n",
       "0          Alabama  2022    1238     5074296        24.4\n",
       "1          Alabama  2023    1251     5108468        24.5\n",
       "3           Alaska  2022     155      733583        21.1\n",
       "4           Alaska  2023     167      733406        22.8\n",
       "6          Arizona  2022    1472     7359197        20.0\n",
       "..             ...   ...     ...         ...         ...\n",
       "145  West Virginia  2023     306     1770071        17.3\n",
       "147      Wisconsin  2022     806     5892539        13.7\n",
       "148      Wisconsin  2023     738     5910955        12.5\n",
       "150        Wyoming  2022     118      581381        20.3\n",
       "151        Wyoming  2023     126      584057        21.6\n",
       "\n",
       "[102 rows x 5 columns]"
      ]
     },
     "metadata": {},
     "output_type": "display_data"
    }
   ],
   "source": [
    "cdc_keep_cols = ['State', 'Year', 'Deaths', 'Population', 'Crude Rate']\n",
    "mask = (\n",
    "    cdc_df.State.notna() & cdc_df.Year.notna()\n",
    ")\n",
    "\n",
    "cdc_df_clean = cdc_df.loc[mask, cdc_keep_cols].copy()\n",
    "cdc_df_clean = cdc_df_clean.rename(\n",
    "    columns={'State': 'state', 'Year': 'year', 'Deaths': 'deaths', 'Population': 'population', 'Crude Rate': 'crude_rate'})\n",
    "numeric_cols = [\"year\", \"deaths\", \"population\"]\n",
    "\n",
    "cdc_df_clean[numeric_cols] = (\n",
    "    cdc_df_clean[numeric_cols]\n",
    "      .apply(pd.to_numeric, errors=\"coerce\")\n",
    "      .round()\n",
    "      .astype(\"Int64\")         \n",
    ")\n",
    "display(cdc_df_clean)"
   ]
  },
  {
   "cell_type": "code",
   "execution_count": 5,
   "id": "4ce17f51",
   "metadata": {},
   "outputs": [
    {
     "data": {
      "text/html": [
       "<div>\n",
       "<style scoped>\n",
       "    .dataframe tbody tr th:only-of-type {\n",
       "        vertical-align: middle;\n",
       "    }\n",
       "\n",
       "    .dataframe tbody tr th {\n",
       "        vertical-align: top;\n",
       "    }\n",
       "\n",
       "    .dataframe thead th {\n",
       "        text-align: right;\n",
       "    }\n",
       "</style>\n",
       "<table border=\"1\" class=\"dataframe\">\n",
       "  <thead>\n",
       "    <tr style=\"text-align: right;\">\n",
       "      <th></th>\n",
       "      <th>Series</th>\n",
       "      <th>Label</th>\n",
       "      <th>laws_strength</th>\n",
       "      <th>Gun Deaths per 100,000 Residents</th>\n",
       "    </tr>\n",
       "  </thead>\n",
       "  <tbody>\n",
       "    <tr>\n",
       "      <th>0</th>\n",
       "      <td>State</td>\n",
       "      <td>AL</td>\n",
       "      <td>12.0</td>\n",
       "      <td>25.6</td>\n",
       "    </tr>\n",
       "    <tr>\n",
       "      <th>1</th>\n",
       "      <td>State</td>\n",
       "      <td>AK</td>\n",
       "      <td>9.0</td>\n",
       "      <td>23.5</td>\n",
       "    </tr>\n",
       "    <tr>\n",
       "      <th>2</th>\n",
       "      <td>State</td>\n",
       "      <td>AZ</td>\n",
       "      <td>7.5</td>\n",
       "      <td>18.5</td>\n",
       "    </tr>\n",
       "    <tr>\n",
       "      <th>3</th>\n",
       "      <td>State</td>\n",
       "      <td>AR</td>\n",
       "      <td>4.5</td>\n",
       "      <td>21.9</td>\n",
       "    </tr>\n",
       "    <tr>\n",
       "      <th>4</th>\n",
       "      <td>State</td>\n",
       "      <td>CA</td>\n",
       "      <td>90.5</td>\n",
       "      <td>8.0</td>\n",
       "    </tr>\n",
       "  </tbody>\n",
       "</table>\n",
       "</div>"
      ],
      "text/plain": [
       "  Series Label  laws_strength  Gun Deaths per 100,000 Residents\n",
       "0  State    AL           12.0                              25.6\n",
       "1  State    AK            9.0                              23.5\n",
       "2  State    AZ            7.5                              18.5\n",
       "3  State    AR            4.5                              21.9\n",
       "4  State    CA           90.5                               8.0"
      ]
     },
     "execution_count": 5,
     "metadata": {},
     "output_type": "execute_result"
    }
   ],
   "source": [
    "law_rate_df.head()"
   ]
  },
  {
   "cell_type": "code",
   "execution_count": 6,
   "id": "1351799f",
   "metadata": {},
   "outputs": [
    {
     "data": {
      "text/html": [
       "<div>\n",
       "<style scoped>\n",
       "    .dataframe tbody tr th:only-of-type {\n",
       "        vertical-align: middle;\n",
       "    }\n",
       "\n",
       "    .dataframe tbody tr th {\n",
       "        vertical-align: top;\n",
       "    }\n",
       "\n",
       "    .dataframe thead th {\n",
       "        text-align: right;\n",
       "    }\n",
       "</style>\n",
       "<table border=\"1\" class=\"dataframe\">\n",
       "  <thead>\n",
       "    <tr style=\"text-align: right;\">\n",
       "      <th></th>\n",
       "      <th>state</th>\n",
       "      <th>state_abb</th>\n",
       "      <th>laws_strength</th>\n",
       "    </tr>\n",
       "  </thead>\n",
       "  <tbody>\n",
       "    <tr>\n",
       "      <th>0</th>\n",
       "      <td>Alabama</td>\n",
       "      <td>AL</td>\n",
       "      <td>12.0</td>\n",
       "    </tr>\n",
       "    <tr>\n",
       "      <th>1</th>\n",
       "      <td>Alaska</td>\n",
       "      <td>AK</td>\n",
       "      <td>9.0</td>\n",
       "    </tr>\n",
       "    <tr>\n",
       "      <th>2</th>\n",
       "      <td>Arizona</td>\n",
       "      <td>AZ</td>\n",
       "      <td>7.5</td>\n",
       "    </tr>\n",
       "    <tr>\n",
       "      <th>3</th>\n",
       "      <td>Arkansas</td>\n",
       "      <td>AR</td>\n",
       "      <td>4.5</td>\n",
       "    </tr>\n",
       "    <tr>\n",
       "      <th>4</th>\n",
       "      <td>California</td>\n",
       "      <td>CA</td>\n",
       "      <td>90.5</td>\n",
       "    </tr>\n",
       "  </tbody>\n",
       "</table>\n",
       "</div>"
      ],
      "text/plain": [
       "        state state_abb  laws_strength\n",
       "0     Alabama        AL           12.0\n",
       "1      Alaska        AK            9.0\n",
       "2     Arizona        AZ            7.5\n",
       "3    Arkansas        AR            4.5\n",
       "4  California        CA           90.5"
      ]
     },
     "execution_count": 6,
     "metadata": {},
     "output_type": "execute_result"
    }
   ],
   "source": [
    "law_rate_keep_cols = [\"Label\", \"laws_strength\"]\n",
    "\n",
    "mask = (\n",
    "    law_rate_df[\"Label\"].notna()\n",
    "    & law_rate_df[\"laws_strength\"].notna()\n",
    ")\n",
    "\n",
    "law_rate_df = law_rate_df.loc[mask, law_rate_keep_cols].copy()\n",
    "law_rate_df = law_rate_df.rename(columns={'Label': 'state_abb'})\n",
    "\n",
    "state_map = {\n",
    "    \"AL\":\"Alabama\",\"AK\":\"Alaska\",\"AZ\":\"Arizona\",\"AR\":\"Arkansas\",\"CA\":\"California\",\n",
    "    \"CO\":\"Colorado\",\"CT\":\"Connecticut\",\"DE\":\"Delaware\", \"District of Columbia\":\"DC\", \"FL\":\"Florida\",\"GA\":\"Georgia\",\n",
    "    \"HI\":\"Hawaii\",\"ID\":\"Idaho\",\"IL\":\"Illinois\",\"IN\":\"Indiana\",\"IA\":\"Iowa\",\n",
    "    \"KS\":\"Kansas\",\"KY\":\"Kentucky\",\"LA\":\"Louisiana\",\"ME\":\"Maine\",\"MD\":\"Maryland\",\n",
    "    \"MA\":\"Massachusetts\",\"MI\":\"Michigan\",\"MN\":\"Minnesota\",\"MS\":\"Mississippi\",\"MO\":\"Missouri\",\n",
    "    \"MT\":\"Montana\",\"NE\":\"Nebraska\",\"NV\":\"Nevada\",\"NH\":\"New Hampshire\",\"NJ\":\"New Jersey\",\n",
    "    \"NM\":\"New Mexico\",\"NY\":\"New York\",\"NC\":\"North Carolina\",\"ND\":\"North Dakota\",\"OH\":\"Ohio\",\n",
    "    \"OK\":\"Oklahoma\",\"OR\":\"Oregon\",\"PA\":\"Pennsylvania\",\"RI\":\"Rhode Island\",\"SC\":\"South Carolina\",\n",
    "    \"SD\":\"South Dakota\",\"TN\":\"Tennessee\",\"TX\":\"Texas\",\"UT\":\"Utah\",\"VT\":\"Vermont\",\n",
    "    \"VA\":\"Virginia\",\"WA\":\"Washington\",\"WV\":\"West Virginia\",\"WI\":\"Wisconsin\",\"WY\":\"Wyoming\",\n",
    "    \"DC\":\"District of Columbia\"\n",
    "}\n",
    "\n",
    "law_rate_df['state'] = (\n",
    "    law_rate_df[\"state_abb\"].astype(str).str.strip().str.upper().map(state_map)\n",
    ")\n",
    "\n",
    "col = 'state'\n",
    "law_rate_df = law_rate_df[[col] + [c for c in law_rate_df.columns if c != col]]\n",
    "law_rate_df.head()"
   ]
  },
  {
   "cell_type": "code",
   "execution_count": 7,
   "id": "f666bd7b",
   "metadata": {},
   "outputs": [
    {
     "data": {
      "text/html": [
       "<div>\n",
       "<style scoped>\n",
       "    .dataframe tbody tr th:only-of-type {\n",
       "        vertical-align: middle;\n",
       "    }\n",
       "\n",
       "    .dataframe tbody tr th {\n",
       "        vertical-align: top;\n",
       "    }\n",
       "\n",
       "    .dataframe thead th {\n",
       "        text-align: right;\n",
       "    }\n",
       "</style>\n",
       "<table border=\"1\" class=\"dataframe\">\n",
       "  <thead>\n",
       "    <tr style=\"text-align: right;\">\n",
       "      <th></th>\n",
       "      <th>state</th>\n",
       "      <th>year</th>\n",
       "      <th>deaths</th>\n",
       "      <th>population</th>\n",
       "      <th>crude_rate</th>\n",
       "    </tr>\n",
       "  </thead>\n",
       "  <tbody>\n",
       "    <tr>\n",
       "      <th>0</th>\n",
       "      <td>Alabama</td>\n",
       "      <td>2022</td>\n",
       "      <td>1238</td>\n",
       "      <td>5074296</td>\n",
       "      <td>24.4</td>\n",
       "    </tr>\n",
       "    <tr>\n",
       "      <th>3</th>\n",
       "      <td>Alaska</td>\n",
       "      <td>2022</td>\n",
       "      <td>155</td>\n",
       "      <td>733583</td>\n",
       "      <td>21.1</td>\n",
       "    </tr>\n",
       "    <tr>\n",
       "      <th>6</th>\n",
       "      <td>Arizona</td>\n",
       "      <td>2022</td>\n",
       "      <td>1472</td>\n",
       "      <td>7359197</td>\n",
       "      <td>20.0</td>\n",
       "    </tr>\n",
       "    <tr>\n",
       "      <th>9</th>\n",
       "      <td>Arkansas</td>\n",
       "      <td>2022</td>\n",
       "      <td>631</td>\n",
       "      <td>3045637</td>\n",
       "      <td>20.7</td>\n",
       "    </tr>\n",
       "    <tr>\n",
       "      <th>12</th>\n",
       "      <td>California</td>\n",
       "      <td>2022</td>\n",
       "      <td>3365</td>\n",
       "      <td>39029342</td>\n",
       "      <td>8.6</td>\n",
       "    </tr>\n",
       "  </tbody>\n",
       "</table>\n",
       "</div>"
      ],
      "text/plain": [
       "         state  year  deaths  population  crude_rate\n",
       "0      Alabama  2022    1238     5074296        24.4\n",
       "3       Alaska  2022     155      733583        21.1\n",
       "6      Arizona  2022    1472     7359197        20.0\n",
       "9     Arkansas  2022     631     3045637        20.7\n",
       "12  California  2022    3365    39029342         8.6"
      ]
     },
     "execution_count": 7,
     "metadata": {},
     "output_type": "execute_result"
    }
   ],
   "source": [
    "cdc_2023 = cdc_df_clean[cdc_df_clean.year == 2023].copy()\n",
    "cdc_2022 = cdc_df_clean[cdc_df_clean.year == 2022].copy()\n",
    "cdc_2023.head()\n",
    "cdc_2022.head()"
   ]
  },
  {
   "cell_type": "code",
   "execution_count": 8,
   "id": "c1e87f91",
   "metadata": {},
   "outputs": [
    {
     "data": {
      "text/html": [
       "<div>\n",
       "<style scoped>\n",
       "    .dataframe tbody tr th:only-of-type {\n",
       "        vertical-align: middle;\n",
       "    }\n",
       "\n",
       "    .dataframe tbody tr th {\n",
       "        vertical-align: top;\n",
       "    }\n",
       "\n",
       "    .dataframe thead th {\n",
       "        text-align: right;\n",
       "    }\n",
       "</style>\n",
       "<table border=\"1\" class=\"dataframe\">\n",
       "  <thead>\n",
       "    <tr style=\"text-align: right;\">\n",
       "      <th></th>\n",
       "      <th>state</th>\n",
       "      <th>year</th>\n",
       "      <th>deaths</th>\n",
       "      <th>population</th>\n",
       "      <th>crude_rate</th>\n",
       "      <th>state_abb</th>\n",
       "      <th>laws_strength</th>\n",
       "    </tr>\n",
       "  </thead>\n",
       "  <tbody>\n",
       "    <tr>\n",
       "      <th>0</th>\n",
       "      <td>Alabama</td>\n",
       "      <td>2023</td>\n",
       "      <td>1251</td>\n",
       "      <td>5108468</td>\n",
       "      <td>24.5</td>\n",
       "      <td>AL</td>\n",
       "      <td>12.0</td>\n",
       "    </tr>\n",
       "    <tr>\n",
       "      <th>1</th>\n",
       "      <td>Alaska</td>\n",
       "      <td>2023</td>\n",
       "      <td>167</td>\n",
       "      <td>733406</td>\n",
       "      <td>22.8</td>\n",
       "      <td>AK</td>\n",
       "      <td>9.0</td>\n",
       "    </tr>\n",
       "    <tr>\n",
       "      <th>2</th>\n",
       "      <td>Arizona</td>\n",
       "      <td>2023</td>\n",
       "      <td>1361</td>\n",
       "      <td>7431344</td>\n",
       "      <td>18.3</td>\n",
       "      <td>AZ</td>\n",
       "      <td>7.5</td>\n",
       "    </tr>\n",
       "    <tr>\n",
       "      <th>3</th>\n",
       "      <td>Arkansas</td>\n",
       "      <td>2023</td>\n",
       "      <td>659</td>\n",
       "      <td>3067732</td>\n",
       "      <td>21.5</td>\n",
       "      <td>AR</td>\n",
       "      <td>4.5</td>\n",
       "    </tr>\n",
       "    <tr>\n",
       "      <th>4</th>\n",
       "      <td>California</td>\n",
       "      <td>2023</td>\n",
       "      <td>3074</td>\n",
       "      <td>38965193</td>\n",
       "      <td>7.9</td>\n",
       "      <td>CA</td>\n",
       "      <td>90.5</td>\n",
       "    </tr>\n",
       "  </tbody>\n",
       "</table>\n",
       "</div>"
      ],
      "text/plain": [
       "        state  year  deaths  population  crude_rate state_abb  laws_strength\n",
       "0     Alabama  2023    1251     5108468        24.5        AL           12.0\n",
       "1      Alaska  2023     167      733406        22.8        AK            9.0\n",
       "2     Arizona  2023    1361     7431344        18.3        AZ            7.5\n",
       "3    Arkansas  2023     659     3067732        21.5        AR            4.5\n",
       "4  California  2023    3074    38965193         7.9        CA           90.5"
      ]
     },
     "execution_count": 8,
     "metadata": {},
     "output_type": "execute_result"
    }
   ],
   "source": [
    "analysis_df = pd.merge(cdc_2023, law_rate_df, on='state', how='left')\n",
    "analysis_df.head()"
   ]
  },
  {
   "cell_type": "code",
   "execution_count": 57,
   "id": "49dd37af",
   "metadata": {},
   "outputs": [
    {
     "name": "stdout",
     "output_type": "stream",
     "text": [
      "45227\n"
     ]
    }
   ],
   "source": [
    "total_deaths_2023 = analysis_df.deaths.sum()\n",
    "total_deaths_2022 = cdc_2022.deaths.sum()\n",
    "print(total_deaths_2023)\n",
    "line1 = 'total amount of '\n",
    "emph = 'fatalities caused by '\n",
    "emph2 = 'guns and firearms in US'\n",
    "line2 = 'in 2023 according to CDC data'\n",
    "\n",
    "total_color = \"#2B7C84\"   \n",
    "text_color = \"#9aa0a6\"  \n",
    "emph_color = \"#2B7C84\" \n",
    "\n"
   ]
  },
  {
   "cell_type": "code",
   "execution_count": 65,
   "id": "54caea78",
   "metadata": {},
   "outputs": [
    {
     "data": {
      "image/png": "[encoded data removed]",
      "text/plain": [
       "<Figure size 480x360 with 1 Axes>"
      ]
     },
     "metadata": {},
     "output_type": "display_data"
    }
   ],
   "source": [
    "fig = plt.figure(dpi=75)\n",
    "ax = plt.axes([0,0,1,1])   # full-bleed axes\n",
    "ax.axis(\"off\")\n",
    "\n",
    "# --- your texts ---\n",
    "t1 = plt.text(0.05, 0.72, str(total_deaths_2023),\n",
    "              fontsize=47, weight='bold', color=total_color, family='DejaVu Sans')\n",
    "t2 = plt.text(0.05, 0.60, line1,\n",
    "              fontsize=20, color=text_color, family='DejaVu Sans')\n",
    "t3 = plt.text(0.05, 0.53, emph,\n",
    "              fontsize=24, color=emph_color, family='DejaVu Sans')\n",
    "t4 = plt.text(0.05, 0.46, emph2,\n",
    "              fontsize=24, color=emph_color, family='DejaVu Sans')\n",
    "t5 = plt.text(0.05, 0.39, line2,\n",
    "              fontsize=20, color=text_color, family='DejaVu Sans')\n",
    "\n",
    "# --- compute tight bbox around all texts ---\n",
    "fig.canvas.draw()\n",
    "arts   = [t1, t2, t3, t4, t5]\n",
    "bboxes = [a.get_window_extent(fig.canvas.get_renderer()) for a in arts]\n",
    "\n",
    "# union ALL bboxes in one call\n",
    "bb_px = Bbox.union(bboxes)   # <- this returns one Bbox in pixels\n",
    "\n",
    "# expand a little and convert to inches\n",
    "pad_px = 12\n",
    "bb_px = Bbox.from_extents(bb_px.x0 - pad_px, bb_px.y0 - pad_px,\n",
    "                          bb_px.x1 + pad_px, bb_px.y1 + pad_px)\n",
    "bb_in = bb_px.transformed(fig.dpi_scale_trans.inverted())\n",
    "\n",
    "fig.savefig(\"card.png\", bbox_inches=bb_in, transparent=True)\n",
    "plt.show()"
   ]
  },
  {
   "cell_type": "markdown",
   "id": "7ab04832",
   "metadata": {},
   "source": [
    "## 45,227 deaths—more than a mid-size city.\n",
    "What concrete steps would meaningfully bend this number down?"
   ]
  },
  {
   "cell_type": "code",
   "execution_count": 9,
   "id": "680d6974",
   "metadata": {},
   "outputs": [
    {
     "name": "stdout",
     "output_type": "stream",
     "text": [
      "Weighted Pearson r (laws_strength vs crude_rate): -0.774\n"
     ]
    }
   ],
   "source": [
    "x = pd.to_numeric(analysis_df.laws_strength, errors='coerce')\n",
    "y = pd.to_numeric(analysis_df.crude_rate, errors='coerce')\n",
    "w= pd.to_numeric(analysis_df.population, errors='coerce')\n",
    "\n",
    "mask= x.notna() & y.notna() & w.notna() & (w >0)\n",
    "\n",
    "xw, yw, ww = x[mask].to_numpy(), y[mask].to_numpy(), w[mask].to_numpy()\n",
    "\n",
    "mx = np.average(xw, weights=ww)\n",
    "\n",
    "my= np.average(yw, weights=ww)\n",
    "\n",
    "cov_num = np.sum(ww*(xw - mx)*(yw - my))\n",
    "\n",
    "varx_num = np.sum(ww*(xw - mx)**2)\n",
    "vary_num = np.sum(ww*(yw - my)**2)\n",
    "\n",
    "den = np.sqrt(varx_num * vary_num)\n",
    "r_w = cov_num / den if den !=0 else np.nan\n",
    "\n",
    "print(f\"Weighted Pearson r (laws_strength vs crude_rate): {r_w:.3f}\")\n",
    "\n"
   ]
  },
  {
   "cell_type": "markdown",
   "id": "425f7e20",
   "metadata": {},
   "source": [
    "## Laws versus Firearm Death Rate"
   ]
  },
  {
   "cell_type": "code",
   "execution_count": 10,
   "id": "3199cd02",
   "metadata": {},
   "outputs": [
    {
     "data": {
      "application/vnd.plotly.v1+json": {
       "config": {
        "plotlyServerURL": "https://plot.ly"
       },
       "data": [
        {
         "customdata": [
          [
           "AL",
           2023,
           1251,
           5108468
          ],
          [
           "AK",
           2023,
           167,
           733406
          ],
          [
           "AZ",
           2023,
           1361,
           7431344
          ],
          [
           "AR",
           2023,
           659,
           3067732
          ],
          [
           "CA",
           2023,
           3074,
           38965193
          ],
          [
           "CO",
           2023,
           982,
           5877610
          ],
          [
           "CT",
           2023,
           216,
           3617176
          ],
          [
           "DE",
           2023,
           119,
           1031890
          ],
          [
           "FL",
           2023,
           3163,
           22610726
          ],
          [
           "GA",
           2023,
           2008,
           11029227
          ],
          [
           "HI",
           2023,
           70,
           1435138
          ],
          [
           "ID",
           2023,
           337,
           1964726
          ],
          [
           "IL",
           2023,
           1650,
           12549689
          ],
          [
           "IN",
           2023,
           1193,
           6862199
          ],
          [
           "IA",
           2023,
           339,
           3207004
          ],
          [
           "KS",
           2023,
           459,
           2940546
          ],
          [
           "KY",
           2023,
           802,
           4526154
          ],
          [
           "LA",
           2023,
           1223,
           4573749
          ],
          [
           "ME",
           2023,
           194,
           1395722
          ],
          [
           "MD",
           2023,
           728,
           6180253
          ],
          [
           "MA",
           2023,
           268,
           7001399
          ],
          [
           "MI",
           2023,
           1354,
           10037261
          ],
          [
           "MN",
           2023,
           507,
           5737915
          ],
          [
           "MS",
           2023,
           817,
           2939690
          ],
          [
           "MO",
           2023,
           1272,
           6196156
          ],
          [
           "MT",
           2023,
           236,
           1132812
          ],
          [
           "NE",
           2023,
           199,
           1978379
          ],
          [
           "NV",
           2023,
           602,
           3194176
          ],
          [
           "NH",
           2023,
           136,
           1402054
          ],
          [
           "NJ",
           2023,
           417,
           9290841
          ],
          [
           "NM",
           2023,
           502,
           2114371
          ],
          [
           "NY",
           2023,
           921,
           19571216
          ],
          [
           "NC",
           2023,
           1727,
           10835491
          ],
          [
           "ND",
           2023,
           102,
           783926
          ],
          [
           "OH",
           2023,
           1729,
           11785935
          ],
          [
           "OK",
           2023,
           794,
           4053824
          ],
          [
           "OR",
           2023,
           623,
           4233358
          ],
          [
           "PA",
           2023,
           1770,
           12961683
          ],
          [
           "RI",
           2023,
           56,
           1095962
          ],
          [
           "SC",
           2023,
           986,
           5373555
          ],
          [
           "SD",
           2023,
           100,
           919318
          ],
          [
           "TN",
           2023,
           1545,
           7126489
          ],
          [
           "TX",
           2023,
           4403,
           30503301
          ],
          [
           "UT",
           2023,
           475,
           3417734
          ],
          [
           "VT",
           2023,
           82,
           647464
          ],
          [
           "VA",
           2023,
           1205,
           8715698
          ],
          [
           "WA",
           2023,
           1013,
           7812880
          ],
          [
           "WV",
           2023,
           306,
           1770071
          ],
          [
           "WI",
           2023,
           738,
           5910955
          ],
          [
           "WY",
           2023,
           126,
           584057
          ]
         ],
         "hovertemplate": "<b>%{hovertext}</b><br><br>Law strength (0 - 100)=%{x}<br>Firearm deaths per 100K=%{y}<br>population=%{customdata[3]:, }<br>state_abb=%{customdata[0]}<br>year=%{customdata[1]}<br>deaths=%{customdata[2]:,}<extra></extra>",
         "hovertext": [
          "Alabama",
          "Alaska",
          "Arizona",
          "Arkansas",
          "California",
          "Colorado",
          "Connecticut",
          "Delaware",
          "Florida",
          "Georgia",
          "Hawaii",
          "Idaho",
          "Illinois",
          "Indiana",
          "Iowa",
          "Kansas",
          "Kentucky",
          "Louisiana",
          "Maine",
          "Maryland",
          "Massachusetts",
          "Michigan",
          "Minnesota",
          "Mississippi",
          "Missouri",
          "Montana",
          "Nebraska",
          "Nevada",
          "New Hampshire",
          "New Jersey",
          "New Mexico",
          "New York",
          "North Carolina",
          "North Dakota",
          "Ohio",
          "Oklahoma",
          "Oregon",
          "Pennsylvania",
          "Rhode Island",
          "South Carolina",
          "South Dakota",
          "Tennessee",
          "Texas",
          "Utah",
          "Vermont",
          "Virginia",
          "Washington",
          "West Virginia",
          "Wisconsin",
          "Wyoming"
         ],
         "legendgroup": "",
         "marker": {
          "color": "#636efa",
          "size": {
           "bdata": "9PJNAN4wCwCwZHEAVM8uAMmPUgJqr1kAmDE3ANK+DwAmA1kB60qoAALmFQC2+h0AOX6/AHe1aABc7zAAgt4sAEoQRQA1ykUACkwVAJ1NXgA31WoADSiZALuNVwAq2ywAvIteAAxJEQALMB4AQL0wAMZkFQBZxI0AQ0MgABCiKgEjVqUANvYLAM/WswBA2z0AjphAAJPHxQAauRAAc/5RABYHDgDZvWwAhXHRAYYmNAAo4QkAsv2EABA3dwBXAhsAqzFaAHnpCAA=",
           "dtype": "i4"
          },
          "sizemode": "area",
          "sizeref": 22089.111678004534,
          "symbol": "circle"
         },
         "mode": "markers",
         "name": "",
         "orientation": "v",
         "showlegend": false,
         "type": "scatter",
         "x": {
          "bdata": "AAAAAAAAKEAAAAAAAAAiQAAAAAAAAB5AAAAAAAAAEkAAAAAAAKBWQAAAAAAA4FBAAAAAAABgVEAAAAAAAEBQQAAAAAAAADxAAAAAAAAAFEAAAAAAAABUQAAAAAAAAAxAAAAAAABgVUAAAAAAAAAyQAAAAAAAAC5AAAAAAAAAI0AAAAAAAAAiQAAAAAAAAClAAAAAAAAAO0AAAAAAAKBTQAAAAAAAoFVAAAAAAACAQkAAAAAAAMBKQAAAAAAAABBAAAAAAAAAIEAAAAAAAAAUQAAAAAAAgDdAAAAAAACAQkAAAAAAAAAjQAAAAAAAIFRAAAAAAAAARUAAAAAAAEBVQAAAAAAAgDhAAAAAAAAAJ0AAAAAAAAAsQAAAAAAAAB5AAAAAAABAUEAAAAAAAMBDQAAAAAAAQE5AAAAAAAAALEAAAAAAAAAWQAAAAAAAACxAAAAAAAAAK0AAAAAAAAAmQAAAAAAAgERAAAAAAACASEAAAAAAAOBRQAAAAAAAgDJAAAAAAAAAO0AAAAAAAAAaQA==",
          "dtype": "f8"
         },
         "xaxis": "x",
         "y": {
          "bdata": "AAAAAACAOEDNzMzMzMw2QM3MzMzMTDJAAAAAAACANUCamZmZmZkfQDMzMzMzszBAAAAAAAAAGEAAAAAAAAAnQAAAAAAAACxAMzMzMzMzMkCamZmZmZkTQDMzMzMzMzFAMzMzMzMzKkBmZmZmZmYxQDMzMzMzMyVAMzMzMzMzL0AzMzMzM7MxQDMzMzMzszpAzczMzMzMK0CamZmZmZknQGZmZmZmZg5AAAAAAAAAK0CamZmZmZkhQM3MzMzMzDtAAAAAAACANEDNzMzMzMw0QDMzMzMzMyRAzczMzMzMMkBmZmZmZmYjQAAAAAAAABJAMzMzMzOzN0DNzMzMzMwSQM3MzMzMzC9AAAAAAAAAKkBmZmZmZmYtQJqZmZmZmTNAZmZmZmZmLUBmZmZmZmYrQGZmZmZmZhRAzczMzMxMMkDNzMzMzMwlQDMzMzMzszVAzczMzMzMLEDNzMzMzMwrQGZmZmZmZilAmpmZmZmZK0AAAAAAAAAqQM3MzMzMTDFAAAAAAAAAKUCamZmZmZk1QA==",
          "dtype": "f8"
         },
         "yaxis": "y"
        },
        {
         "mode": "lines",
         "name": "WLS fit",
         "type": "scatter",
         "x": {
          "bdata": "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",
          "dtype": "f8"
         },
         "y": {
          "bdata": "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",
          "dtype": "f8"
         }
        }
       ],
       "layout": {
        "font": {
         "color": "gray"
        },
        "height": 750,
        "legend": {
         "itemsizing": "constant",
         "tracegroupgap": 0
        },
        "margin": {
         "t": 60
        },
        "template": {},
        "title": {
         "font": {
          "color": "gray"
         },
         "text": "Laws vs Firearm Death Rate — size ∝ population (weighted r = -0.77)"
        },
        "width": 1400,
        "xaxis": {
         "anchor": "y",
         "color": "gray",
         "domain": [
          0,
          1
         ],
         "linecolor": "gray",
         "showline": true,
         "title": {
          "text": "Law strength (0 - 100)"
         },
         "zerolinecolor": "#e6e6e6"
        },
        "yaxis": {
         "anchor": "x",
         "color": "gray",
         "domain": [
          0,
          1
         ],
         "linecolor": "gray",
         "showline": true,
         "title": {
          "text": "Firearm deaths per 100K"
         },
         "zerolinecolor": "#e6e6e6"
        }
       }
      }
     },
     "metadata": {},
     "output_type": "display_data"
    }
   ],
   "source": [
    "cols = [\"state\",\"state_abb\",\"year\",\"deaths\",\"population\",\"laws_strength\",\"crude_rate\"]\n",
    "d = analysis_df.loc[mask, cols].copy()\n",
    "\n",
    "flg = px.scatter(\n",
    "    d,\n",
    "    x= cols[5], y=cols[6],\n",
    "    size=cols[4], size_max=42,\n",
    "    hover_name=cols[0],\n",
    "    hover_data={cols[1]: True, cols[2]: True, cols[3]: ':,', cols[4]: ':, '},\n",
    "    labels={cols[5]: 'Law strength (0 - 100)', cols[6]: 'Firearm deaths per 100K'},\n",
    "    width=1400, height=750\n",
    ")\n",
    "\n",
    "flg.update_layout(\n",
    "    title=f\"Laws vs Firearm Death Rate — size ∝ population (weighted r = {r_w:.2f})\",\n",
    "    template= None,\n",
    "    font=dict(color='gray'),\n",
    "    title_font_color='gray',)\n",
    "    #legend=dict(font=dict(color='gray')))\n",
    "\n",
    "flg.update_xaxes(color='gray', showline=True, linecolor='gray',\n",
    "                 gridcolor=None, zerolinecolor=\"#e6e6e6\")\n",
    "flg.update_yaxes(color='gray', showline=True, linecolor='gray',\n",
    "                 gridcolor=None, zerolinecolor=\"#e6e6e6\")\n",
    "slope, intercept = np.polyfit(xw, yw, deg=1, w=ww)\n",
    "x_line = np.linspace(xw.min(), xw.max(), 200)\n",
    "y_line = slope*x_line + intercept\n",
    "flg.add_trace(go.Scatter(x=x_line, y=y_line, mode='lines', name='WLS fit'))\n",
    "flg.show()\n"
   ]
  },
  {
   "cell_type": "markdown",
   "id": "7cdedf9d",
   "metadata": {},
   "source": [
    "Population-weighted scatter of state gun-law strength vs. firearm mortality (2023): larger bubbles are larger states. The weighted fit (r = −0.77) indicates a strong negative association: stronger laws correlate with fewer deaths per 100k."
   ]
  },
  {
   "cell_type": "code",
   "execution_count": 11,
   "id": "f4acdd7a",
   "metadata": {},
   "outputs": [
    {
     "data": {
      "application/vnd.plotly.v1+json": {
       "config": {
        "plotlyServerURL": "https://plot.ly",
        "scrollZoom": false
       },
       "data": [
        {
         "coloraxis": "coloraxis",
         "colorscale": [
          [
           0,
           "rgb(247,251,255)"
          ],
          [
           0.125,
           "rgb(222,235,247)"
          ],
          [
           0.25,
           "rgb(198,219,239)"
          ],
          [
           0.375,
           "rgb(158,202,225)"
          ],
          [
           0.5,
           "rgb(107,174,214)"
          ],
          [
           0.625,
           "rgb(66,146,198)"
          ],
          [
           0.75,
           "rgb(33,113,181)"
          ],
          [
           0.875,
           "rgb(8,81,156)"
          ],
          [
           1,
           "rgb(8,48,107)"
          ]
         ],
         "customdata": [
          [
           "Alabama",
           12
          ],
          [
           "Alaska",
           9
          ],
          [
           "Arizona",
           7.5
          ],
          [
           "Arkansas",
           4.5
          ],
          [
           "California",
           90.5
          ],
          [
           "Colorado",
           67.5
          ],
          [
           "Connecticut",
           81.5
          ],
          [
           "Delaware",
           65
          ],
          [
           "Florida",
           28
          ],
          [
           "Georgia",
           5
          ],
          [
           "Hawaii",
           80
          ],
          [
           "Idaho",
           3.5
          ],
          [
           "Illinois",
           85.5
          ],
          [
           "Indiana",
           18
          ],
          [
           "Iowa",
           15
          ],
          [
           "Kansas",
           9.5
          ],
          [
           "Kentucky",
           9
          ],
          [
           "Louisiana",
           12.5
          ],
          [
           "Maine",
           27
          ],
          [
           "Maryland",
           78.5
          ],
          [
           "Massachusetts",
           86.5
          ],
          [
           "Michigan",
           37
          ],
          [
           "Minnesota",
           53.5
          ],
          [
           "Mississippi",
           4
          ],
          [
           "Missouri",
           8
          ],
          [
           "Montana",
           5
          ],
          [
           "Nebraska",
           23.5
          ],
          [
           "Nevada",
           37
          ],
          [
           "New Hampshire",
           9.5
          ],
          [
           "New Jersey",
           80.5
          ],
          [
           "New Mexico",
           42
          ],
          [
           "New York",
           85
          ],
          [
           "North Carolina",
           24.5
          ],
          [
           "North Dakota",
           11.5
          ],
          [
           "Ohio",
           14
          ],
          [
           "Oklahoma",
           7.5
          ],
          [
           "Oregon",
           65
          ],
          [
           "Pennsylvania",
           39.5
          ],
          [
           "Rhode Island",
           60.5
          ],
          [
           "South Carolina",
           14
          ],
          [
           "South Dakota",
           5.5
          ],
          [
           "Tennessee",
           14
          ],
          [
           "Texas",
           13.5
          ],
          [
           "Utah",
           11
          ],
          [
           "Vermont",
           41
          ],
          [
           "Virginia",
           49
          ],
          [
           "Washington",
           71.5
          ],
          [
           "West Virginia",
           18.5
          ],
          [
           "Wisconsin",
           27
          ],
          [
           "Wyoming",
           6.5
          ]
         ],
         "geo": "geo",
         "hovertemplate": "<b>%{customdata[0]} </b><br>Strength of laws: %{customdata[1]:.1f}",
         "locationmode": "USA-states",
         "locations": [
          "AL",
          "AK",
          "AZ",
          "AR",
          "CA",
          "CO",
          "CT",
          "DE",
          "FL",
          "GA",
          "HI",
          "ID",
          "IL",
          "IN",
          "IA",
          "KS",
          "KY",
          "LA",
          "ME",
          "MD",
          "MA",
          "MI",
          "MN",
          "MS",
          "MO",
          "MT",
          "NE",
          "NV",
          "NH",
          "NJ",
          "NM",
          "NY",
          "NC",
          "ND",
          "OH",
          "OK",
          "OR",
          "PA",
          "RI",
          "SC",
          "SD",
          "TN",
          "TX",
          "UT",
          "VT",
          "VA",
          "WA",
          "WV",
          "WI",
          "WY"
         ],
         "type": "choropleth",
         "z": {
          "bdata": "AAAAAAAAKEAAAAAAAAAiQAAAAAAAAB5AAAAAAAAAEkAAAAAAAKBWQAAAAAAA4FBAAAAAAABgVEAAAAAAAEBQQAAAAAAAADxAAAAAAAAAFEAAAAAAAABUQAAAAAAAAAxAAAAAAABgVUAAAAAAAAAyQAAAAAAAAC5AAAAAAAAAI0AAAAAAAAAiQAAAAAAAAClAAAAAAAAAO0AAAAAAAKBTQAAAAAAAoFVAAAAAAACAQkAAAAAAAMBKQAAAAAAAABBAAAAAAAAAIEAAAAAAAAAUQAAAAAAAgDdAAAAAAACAQkAAAAAAAAAjQAAAAAAAIFRAAAAAAAAARUAAAAAAAEBVQAAAAAAAgDhAAAAAAAAAJ0AAAAAAAAAsQAAAAAAAAB5AAAAAAABAUEAAAAAAAMBDQAAAAAAAQE5AAAAAAAAALEAAAAAAAAAWQAAAAAAAACxAAAAAAAAAK0AAAAAAAAAmQAAAAAAAgERAAAAAAACASEAAAAAAAOBRQAAAAAAAgDJAAAAAAAAAO0AAAAAAAAAaQA==",
          "dtype": "f8"
         },
         "zmax": 100,
         "zmin": 0
        },
        {
         "coloraxis": "coloraxis2",
         "colorscale": [
          [
           0,
           "rgb(255,255,255)"
          ],
          [
           0.125,
           "rgb(240,240,240)"
          ],
          [
           0.25,
           "rgb(217,217,217)"
          ],
          [
           0.375,
           "rgb(189,189,189)"
          ],
          [
           0.5,
           "rgb(150,150,150)"
          ],
          [
           0.625,
           "rgb(115,115,115)"
          ],
          [
           0.75,
           "rgb(82,82,82)"
          ],
          [
           0.875,
           "rgb(37,37,37)"
          ],
          [
           1,
           "rgb(0,0,0)"
          ]
         ],
         "customdata": [
          [
           "Alabama",
           24.5,
           5108468
          ],
          [
           "Alaska",
           22.8,
           733406
          ],
          [
           "Arizona",
           18.3,
           7431344
          ],
          [
           "Arkansas",
           21.5,
           3067732
          ],
          [
           "California",
           7.9,
           38965193
          ],
          [
           "Colorado",
           16.7,
           5877610
          ],
          [
           "Connecticut",
           6,
           3617176
          ],
          [
           "Delaware",
           11.5,
           1031890
          ],
          [
           "Florida",
           14,
           22610726
          ],
          [
           "Georgia",
           18.2,
           11029227
          ],
          [
           "Hawaii",
           4.9,
           1435138
          ],
          [
           "Idaho",
           17.2,
           1964726
          ],
          [
           "Illinois",
           13.1,
           12549689
          ],
          [
           "Indiana",
           17.4,
           6862199
          ],
          [
           "Iowa",
           10.6,
           3207004
          ],
          [
           "Kansas",
           15.6,
           2940546
          ],
          [
           "Kentucky",
           17.7,
           4526154
          ],
          [
           "Louisiana",
           26.7,
           4573749
          ],
          [
           "Maine",
           13.9,
           1395722
          ],
          [
           "Maryland",
           11.8,
           6180253
          ],
          [
           "Massachusetts",
           3.8,
           7001399
          ],
          [
           "Michigan",
           13.5,
           10037261
          ],
          [
           "Minnesota",
           8.8,
           5737915
          ],
          [
           "Mississippi",
           27.8,
           2939690
          ],
          [
           "Missouri",
           20.5,
           6196156
          ],
          [
           "Montana",
           20.8,
           1132812
          ],
          [
           "Nebraska",
           10.1,
           1978379
          ],
          [
           "Nevada",
           18.8,
           3194176
          ],
          [
           "New Hampshire",
           9.7,
           1402054
          ],
          [
           "New Jersey",
           4.5,
           9290841
          ],
          [
           "New Mexico",
           23.7,
           2114371
          ],
          [
           "New York",
           4.7,
           19571216
          ],
          [
           "North Carolina",
           15.9,
           10835491
          ],
          [
           "North Dakota",
           13,
           783926
          ],
          [
           "Ohio",
           14.7,
           11785935
          ],
          [
           "Oklahoma",
           19.6,
           4053824
          ],
          [
           "Oregon",
           14.7,
           4233358
          ],
          [
           "Pennsylvania",
           13.7,
           12961683
          ],
          [
           "Rhode Island",
           5.1,
           1095962
          ],
          [
           "South Carolina",
           18.3,
           5373555
          ],
          [
           "South Dakota",
           10.9,
           919318
          ],
          [
           "Tennessee",
           21.7,
           7126489
          ],
          [
           "Texas",
           14.4,
           30503301
          ],
          [
           "Utah",
           13.9,
           3417734
          ],
          [
           "Vermont",
           12.7,
           647464
          ],
          [
           "Virginia",
           13.8,
           8715698
          ],
          [
           "Washington",
           13,
           7812880
          ],
          [
           "West Virginia",
           17.3,
           1770071
          ],
          [
           "Wisconsin",
           12.5,
           5910955
          ],
          [
           "Wyoming",
           21.6,
           584057
          ]
         ],
         "geo": "geo2",
         "hovertemplate": "<b>%{customdata[0]} </b><br>Deaths per 100K: %{customdata[1]:.1f}</b><br>Population: %{customdata[2]:.1f} ",
         "locationmode": "USA-states",
         "locations": [
          "AL",
          "AK",
          "AZ",
          "AR",
          "CA",
          "CO",
          "CT",
          "DE",
          "FL",
          "GA",
          "HI",
          "ID",
          "IL",
          "IN",
          "IA",
          "KS",
          "KY",
          "LA",
          "ME",
          "MD",
          "MA",
          "MI",
          "MN",
          "MS",
          "MO",
          "MT",
          "NE",
          "NV",
          "NH",
          "NJ",
          "NM",
          "NY",
          "NC",
          "ND",
          "OH",
          "OK",
          "OR",
          "PA",
          "RI",
          "SC",
          "SD",
          "TN",
          "TX",
          "UT",
          "VT",
          "VA",
          "WA",
          "WV",
          "WI",
          "WY"
         ],
         "type": "choropleth",
         "z": {
          "bdata": "AAAAAACAOEDNzMzMzMw2QM3MzMzMTDJAAAAAAACANUCamZmZmZkfQDMzMzMzszBAAAAAAAAAGEAAAAAAAAAnQAAAAAAAACxAMzMzMzMzMkCamZmZmZkTQDMzMzMzMzFAMzMzMzMzKkBmZmZmZmYxQDMzMzMzMyVAMzMzMzMzL0AzMzMzM7MxQDMzMzMzszpAzczMzMzMK0CamZmZmZknQGZmZmZmZg5AAAAAAAAAK0CamZmZmZkhQM3MzMzMzDtAAAAAAACANEDNzMzMzMw0QDMzMzMzMyRAzczMzMzMMkBmZmZmZmYjQAAAAAAAABJAMzMzMzOzN0DNzMzMzMwSQM3MzMzMzC9AAAAAAAAAKkBmZmZmZmYtQJqZmZmZmTNAZmZmZmZmLUBmZmZmZmYrQGZmZmZmZhRAzczMzMxMMkDNzMzMzMwlQDMzMzMzszVAzczMzMzMLEDNzMzMzMwrQGZmZmZmZilAmpmZmZmZK0AAAAAAAAAqQM3MzMzMTDFAAAAAAAAAKUCamZmZmZk1QA==",
          "dtype": "f8"
         },
         "zmax": 27.8,
         "zmin": 3.8
        }
       ],
       "layout": {
        "annotations": [
         {
          "font": {
           "size": 16
          },
          "showarrow": false,
          "text": "Gun laws strength",
          "x": 0.24875,
          "xanchor": "center",
          "xref": "paper",
          "y": 1,
          "yanchor": "bottom",
          "yref": "paper"
         },
         {
          "font": {
           "size": 16
          },
          "showarrow": false,
          "text": "Gun death rate per 100K",
          "x": 0.75125,
          "xanchor": "center",
          "xref": "paper",
          "y": 1,
          "yanchor": "bottom",
          "yref": "paper"
         }
        ],
        "coloraxis": {
         "cmax": 100,
         "cmin": 0,
         "colorbar": {
          "len": 0.4,
          "orientation": "h",
          "thickness": 20,
          "title": {
           "text": "Laws Strength"
          },
          "x": 0.25,
          "xanchor": "center",
          "y": -0.1
         },
         "colorscale": [
          [
           0,
           "rgb(247,251,255)"
          ],
          [
           0.125,
           "rgb(222,235,247)"
          ],
          [
           0.25,
           "rgb(198,219,239)"
          ],
          [
           0.375,
           "rgb(158,202,225)"
          ],
          [
           0.5,
           "rgb(107,174,214)"
          ],
          [
           0.625,
           "rgb(66,146,198)"
          ],
          [
           0.75,
           "rgb(33,113,181)"
          ],
          [
           0.875,
           "rgb(8,81,156)"
          ],
          [
           1,
           "rgb(8,48,107)"
          ]
         ]
        },
        "coloraxis2": {
         "cmax": 27.8,
         "cmin": 3.8,
         "colorbar": {
          "len": 0.4,
          "orientation": "h",
          "thickness": 20,
          "title": {
           "text": "Deaths per 100k"
          },
          "x": 0.75,
          "xanchor": "center",
          "y": -0.1
         },
         "colorscale": [
          [
           0,
           "#fff5eb"
          ],
          [
           0.2,
           "#fff5eb"
          ],
          [
           0.2,
           "#fae2ca"
          ],
          [
           0.4,
           "#fae2ca"
          ],
          [
           0.4,
           "#edc297"
          ],
          [
           0.6,
           "#edc297"
          ],
          [
           0.6,
           "#eda566"
          ],
          [
           0.8,
           "#eda566"
          ],
          [
           0.8,
           "#ef6a32"
          ],
          [
           1,
           "#ef6a32"
          ]
         ]
        },
        "font": {
         "color": "#6e6e6e"
        },
        "geo": {
         "domain": {
          "x": [
           0,
           0.4975
          ],
          "y": [
           0,
           1
          ]
         },
         "projection": {
          "type": "albers usa"
         },
         "scope": "usa"
        },
        "geo2": {
         "domain": {
          "x": [
           0.5025,
           1
          ],
          "y": [
           0,
           1
          ]
         },
         "projection": {
          "type": "albers usa"
         },
         "scope": "usa"
        },
        "height": 550,
        "plot_bgcolor": "rgba(0,0,0,0)",
        "template": {},
        "title": {
         "font": {
          "size": 24
         },
         "text": "Gun Laws Strength versus Gun Death Rate per 100K — 2023",
         "x": 0.5,
         "xanchor": "center"
        },
        "width": 1400
       }
      }
     },
     "metadata": {},
     "output_type": "display_data"
    }
   ],
   "source": [
    "fig = make_subplots(\n",
    "    rows=1, cols=2,\n",
    "    subplot_titles=('Gun laws strength', 'Gun death rate per 100K'),\n",
    "    specs=[[{\"type\": \"choropleth\"}, {\"type\": \"choropleth\"}]],\n",
    "    horizontal_spacing=0.005\n",
    ")\n",
    "\n",
    "fig.add_trace(go.Choropleth(\n",
    "    locations=d.state_abb,\n",
    "    z=d.laws_strength,\n",
    "    locationmode=\"USA-states\",\n",
    "    colorscale='Blues',\n",
    "    zmin=0, zmax=100,\n",
    "    coloraxis=\"coloraxis\", \n",
    "    customdata=np.stack([d.state, d.laws_strength], axis=1),\n",
    "    hovertemplate='<b>%{customdata[0]} </b><br>Strength of laws: %{customdata[1]:.1f}'\n",
    "), row=1, col=1)\n",
    "\n",
    "zmin = float(d.crude_rate.min())\n",
    "zmax = float(d.crude_rate.max())\n",
    "\n",
    "\n",
    "fig.add_trace(go.Choropleth(\n",
    "    locations=d.state_abb,\n",
    "    z=d.crude_rate,\n",
    "    locationmode=\"USA-states\",\n",
    "    colorscale='Greys',\n",
    "    zmin=zmin, zmax=zmax,\n",
    "    coloraxis=\"coloraxis2\", \n",
    "    customdata=np.stack([d.state, d.crude_rate, d.population], axis=1),\n",
    "    hovertemplate='<b>%{customdata[0]} </b><br>Deaths per 100K: %{customdata[1]:.1f}</b><br>Population: %{customdata[2]:.1f} '\n",
    "), row=1, col=2)\n",
    "\n",
    "fig.update_geos(scope='usa', projection_type='albers usa', row=1,col=1)\n",
    "fig.update_geos(scope='usa', projection_type='albers usa', row=1,col=2)\n",
    "\n",
    "fig.update_layout(\n",
    "     title=dict(\n",
    "        text=\"Gun Laws Strength versus Gun Death Rate per 100K — 2023\",\n",
    "        font=dict(size=24),      \n",
    "        x=0.5, xanchor=\"center\"\n",
    "    ),\n",
    "    width = 1400, height=550,\n",
    "    template=None,\n",
    "    #paper_bgcolor=\"rgba(0,0,0,0)\",\n",
    "    plot_bgcolor=\"rgba(0,0,0,0)\",\n",
    "    font=dict(color=\"#6e6e6e\")\n",
    ")\n",
    "\n",
    "PALETTE = [\"#fff5eb\", \"#fae2ca\", \"#edc297\", \"#eda566\", \"#ef6a32\"]\n",
    "def discrete_colorscale(colors):\n",
    "    n = len(colors)\n",
    "    stops = []\n",
    "    for i, c in enumerate(colors):\n",
    "        a = i / n\n",
    "        b = (i + 1) / n\n",
    "        stops.append([a, c]); stops.append([b, c])\n",
    "    return stops\n",
    "\n",
    "cs = discrete_colorscale(PALETTE)\n",
    "\n",
    "fig.update_layout(\n",
    "\n",
    "    coloraxis=dict(\n",
    "        colorscale=\"Blues\", cmin=0, cmax=100,\n",
    "        colorbar=dict(\n",
    "            orientation=\"h\", y=-0.10, x=0.25, xanchor=\"center\",\n",
    "            len=0.40, thickness=20, title=\"Laws Strength\"\n",
    "        )\n",
    "    ),\n",
    "    coloraxis2=dict(\n",
    "        colorscale=cs, cmin=zmin, cmax=zmax,\n",
    "        colorbar=dict(\n",
    "            orientation=\"h\", y=-0.10, x=0.75, xanchor=\"center\",\n",
    "            len=0.40, thickness=20, title=\"Deaths per 100k\"\n",
    "        )\n",
    "    )\n",
    ")\n",
    "\n",
    "fig.show(config={\"scrollZoom\": False})"
   ]
  },
  {
   "cell_type": "markdown",
   "id": "4e6669a8",
   "metadata": {},
   "source": [
    "Two-map view (2023): \n",
    "\n",
    "Stronger gun-law states cluster in the Northeast and West Coast (especially California) and typically have lower firearm death rates; weaker-law states in the South (LA, MS and AL) and parts of the Mountain West show higher rates. \n",
    "\n",
    "A few low-strength states (New Hampshire, Wiconsin) still display low mortality, and the reason can be adjacent to strong-law neighbors — suggesting possible regional spillovers. "
   ]
  },
  {
   "cell_type": "code",
   "execution_count": null,
   "id": "50831805",
   "metadata": {},
   "outputs": [],
   "source": [
    "#d.head()"
   ]
  },
  {
   "cell_type": "code",
   "execution_count": 13,
   "id": "8bfd0156",
   "metadata": {},
   "outputs": [],
   "source": [
    "d[[\"year\",\"laws_strength\",\"crude_rate\",\"population\"]] = (\n",
    "    d[[\"year\",\"laws_strength\",\"crude_rate\",\"population\"]].apply(pd.to_numeric, errors=\"coerce\")\n",
    ")\n",
    "d = d.loc[d[\"year\"] == 2023].dropna(subset=[\"state_abb\",\"laws_strength\",\"crude_rate\"]).copy()\n",
    "\n",
    "labels = [\"Very low\", \"Low\", \"Moderate\", \"High\", \"Very high\"]\n",
    "d[\"tier\"] = pd.qcut(d[\"laws_strength\"], q=5, labels=labels, duplicates=\"drop\")\n",
    "\n",
    "rate_codes, rate_bins = pd.qcut(\n",
    "    d[\"crude_rate\"], q=5, labels=False, retbins=True, duplicates=\"drop\"\n",
    ")\n",
    "d[\"rate_bin\"] = (rate_codes + 1).astype(int)"
   ]
  },
  {
   "cell_type": "code",
   "execution_count": 14,
   "id": "40cc5b0c",
   "metadata": {},
   "outputs": [],
   "source": [
    "fig = make_subplots(\n",
    "    rows=len(labels), cols=1,\n",
    "    specs=[[{\"type\": \"heatmap\"}]] * len(labels),\n",
    "    subplot_titles=labels,\n",
    "    vertical_spacing=0.06\n",
    ")\n",
    "\n",
    "def discrete_colorscale(colors):\n",
    "    n = len(colors)\n",
    "    stops = []\n",
    "    for i, c in enumerate(colors):\n",
    "        a = i / n\n",
    "        b = (i + 1) / n\n",
    "        stops.append([a, c]); stops.append([b, c])\n",
    "    return stops"
   ]
  },
  {
   "cell_type": "code",
   "execution_count": 15,
   "id": "268b11c6",
   "metadata": {},
   "outputs": [],
   "source": [
    "for r, tier in enumerate(labels, start=1):\n",
    "    t = (\n",
    "        d.loc[d[\"tier\"] == tier]\n",
    "         .sort_values([\"crude_rate\", \"state_abb\"], ascending=[True, True])\n",
    "    )\n",
    "    z   = np.array([t[\"rate_bin\"].astype(float).values])\n",
    "    txt = np.array([np.char.mod('%.1f', t[\"crude_rate\"].values)])\n",
    "    hovertext = np.array([np.char.mod('%.1f', t[\"laws_strength\"].to_numpy())])  \n",
    "\n",
    "    fig.add_trace(go.Heatmap(\n",
    "        z=z,\n",
    "        x=t[\"state_abb\"].tolist(), y=[tier],\n",
    "        coloraxis=\"coloraxis\",\n",
    "        text=txt, texttemplate=\"<b>%{text}</b>\", textfont={\"color\":\"black\",\"size\":12},\n",
    "        hovertext=hovertext,\n",
    "        hovertemplate=(\n",
    "            \"<b>%{y}</b> — %{x}<br>\"\n",
    "            \"Deaths per100k: %{text}<br>\"\n",
    "            \"Laws strength: %{hovertext}<extra></extra>\"\n",
    "        ),\n",
    "        zmin=1, zmax=5\n",
    "    ), row=r, col=1\n",
    ")\n",
    "\n",
    "    fig.update_xaxes(row=r, col=1, tickangle=0, showgrid=False, zeroline=False, showline=False)"
   ]
  },
  {
   "cell_type": "code",
   "execution_count": 16,
   "id": "b4bbc33b",
   "metadata": {},
   "outputs": [
    {
     "data": {
      "application/vnd.plotly.v1+json": {
       "config": {
        "plotlyServerURL": "https://plot.ly"
       },
       "data": [
        {
         "coloraxis": "coloraxis",
         "hovertemplate": "<b>%{y}</b> — %{x}<br>Deaths per100k: %{text}<br>Laws strength: %{hovertext}<extra></extra>",
         "hovertext": [
          [
           "5.5",
           "3.5",
           "5.0",
           "7.5",
           "7.5",
           "8.0",
           "5.0",
           "4.5",
           "6.5",
           "4.0"
          ]
         ],
         "text": [
          [
           "10.9",
           "17.2",
           "18.2",
           "18.3",
           "19.6",
           "20.5",
           "20.8",
           "21.5",
           "21.6",
           "27.8"
          ]
         ],
         "textfont": {
          "color": "black",
          "size": 12
         },
         "texttemplate": "<b>%{text}</b>",
         "type": "heatmap",
         "x": [
          "SD",
          "ID",
          "GA",
          "AZ",
          "OK",
          "MO",
          "MT",
          "AR",
          "WY",
          "MS"
         ],
         "xaxis": "x",
         "xgap": 4,
         "y": [
          "Very low"
         ],
         "yaxis": "y",
         "ygap": 12,
         "z": {
          "bdata": "AAAAAAAAAEAAAAAAAAAQQAAAAAAAABBAAAAAAAAAEEAAAAAAAAAQQAAAAAAAABRAAAAAAAAAFEAAAAAAAAAUQAAAAAAAABRAAAAAAAAAFEA=",
          "dtype": "f8",
          "shape": "1, 10"
         },
         "zmax": 5,
         "zmin": 1
        },
        {
         "coloraxis": "coloraxis",
         "hovertemplate": "<b>%{y}</b> — %{x}<br>Deaths per100k: %{text}<br>Laws strength: %{hovertext}<extra></extra>",
         "hovertext": [
          [
           "9.5",
           "11.5",
           "11.0",
           "13.5",
           "14.0",
           "9.5",
           "9.0",
           "14.0",
           "14.0",
           "9.0",
           "12.0",
           "12.5"
          ]
         ],
         "text": [
          [
           "9.7",
           "13.0",
           "13.9",
           "14.4",
           "14.7",
           "15.6",
           "17.7",
           "18.3",
           "21.7",
           "22.8",
           "24.5",
           "26.7"
          ]
         ],
         "textfont": {
          "color": "black",
          "size": 12
         },
         "texttemplate": "<b>%{text}</b>",
         "type": "heatmap",
         "x": [
          "NH",
          "ND",
          "UT",
          "TX",
          "OH",
          "KS",
          "KY",
          "SC",
          "TN",
          "AK",
          "AL",
          "LA"
         ],
         "xaxis": "x2",
         "xgap": 4,
         "y": [
          "Low"
         ],
         "yaxis": "y2",
         "ygap": 12,
         "z": {
          "bdata": "AAAAAAAA8D8AAAAAAAAAQAAAAAAAAAhAAAAAAAAACEAAAAAAAAAIQAAAAAAAAAhAAAAAAAAAEEAAAAAAAAAQQAAAAAAAABRAAAAAAAAAFEAAAAAAAAAUQAAAAAAAABRA",
          "dtype": "f8",
          "shape": "1, 12"
         },
         "zmax": 5,
         "zmin": 1
        },
        {
         "coloraxis": "coloraxis",
         "hovertemplate": "<b>%{y}</b> — %{x}<br>Deaths per100k: %{text}<br>Laws strength: %{hovertext}<extra></extra>",
         "hovertext": [
          [
           "23.5",
           "15.0",
           "27.0",
           "27.0",
           "28.0",
           "24.5",
           "18.5",
           "18.0"
          ]
         ],
         "text": [
          [
           "10.1",
           "10.6",
           "12.5",
           "13.9",
           "14.0",
           "15.9",
           "17.3",
           "17.4"
          ]
         ],
         "textfont": {
          "color": "black",
          "size": 12
         },
         "texttemplate": "<b>%{text}</b>",
         "type": "heatmap",
         "x": [
          "NE",
          "IA",
          "WI",
          "ME",
          "FL",
          "NC",
          "WV",
          "IN"
         ],
         "xaxis": "x3",
         "xgap": 4,
         "y": [
          "Moderate"
         ],
         "yaxis": "y3",
         "ygap": 12,
         "z": {
          "bdata": "AAAAAAAA8D8AAAAAAAAAQAAAAAAAAABAAAAAAAAACEAAAAAAAAAIQAAAAAAAAAhAAAAAAAAAEEAAAAAAAAAQQA==",
          "dtype": "f8",
          "shape": "1, 8"
         },
         "zmax": 5,
         "zmin": 1
        },
        {
         "coloraxis": "coloraxis",
         "hovertemplate": "<b>%{y}</b> — %{x}<br>Deaths per100k: %{text}<br>Laws strength: %{hovertext}<extra></extra>",
         "hovertext": [
          [
           "60.5",
           "53.5",
           "65.0",
           "41.0",
           "37.0",
           "39.5",
           "49.0",
           "65.0",
           "37.0",
           "42.0"
          ]
         ],
         "text": [
          [
           "5.1",
           "8.8",
           "11.5",
           "12.7",
           "13.5",
           "13.7",
           "13.8",
           "14.7",
           "18.8",
           "23.7"
          ]
         ],
         "textfont": {
          "color": "black",
          "size": 12
         },
         "texttemplate": "<b>%{text}</b>",
         "type": "heatmap",
         "x": [
          "RI",
          "MN",
          "DE",
          "VT",
          "MI",
          "PA",
          "VA",
          "OR",
          "NV",
          "NM"
         ],
         "xaxis": "x4",
         "xgap": 4,
         "y": [
          "High"
         ],
         "yaxis": "y4",
         "ygap": 12,
         "z": {
          "bdata": "AAAAAAAA8D8AAAAAAADwPwAAAAAAAABAAAAAAAAAAEAAAAAAAAAAQAAAAAAAAAhAAAAAAAAACEAAAAAAAAAIQAAAAAAAABBAAAAAAAAAFEA=",
          "dtype": "f8",
          "shape": "1, 10"
         },
         "zmax": 5,
         "zmin": 1
        },
        {
         "coloraxis": "coloraxis",
         "hovertemplate": "<b>%{y}</b> — %{x}<br>Deaths per100k: %{text}<br>Laws strength: %{hovertext}<extra></extra>",
         "hovertext": [
          [
           "86.5",
           "80.5",
           "85.0",
           "80.0",
           "81.5",
           "90.5",
           "78.5",
           "71.5",
           "85.5",
           "67.5"
          ]
         ],
         "text": [
          [
           "3.8",
           "4.5",
           "4.7",
           "4.9",
           "6.0",
           "7.9",
           "11.8",
           "13.0",
           "13.1",
           "16.7"
          ]
         ],
         "textfont": {
          "color": "black",
          "size": 12
         },
         "texttemplate": "<b>%{text}</b>",
         "type": "heatmap",
         "x": [
          "MA",
          "NJ",
          "NY",
          "HI",
          "CT",
          "CA",
          "MD",
          "WA",
          "IL",
          "CO"
         ],
         "xaxis": "x5",
         "xgap": 4,
         "y": [
          "Very high"
         ],
         "yaxis": "y5",
         "ygap": 12,
         "z": {
          "bdata": "AAAAAAAA8D8AAAAAAADwPwAAAAAAAPA/AAAAAAAA8D8AAAAAAADwPwAAAAAAAPA/AAAAAAAAAEAAAAAAAAAAQAAAAAAAAABAAAAAAAAAEEA=",
          "dtype": "f8",
          "shape": "1, 10"
         },
         "zmax": 5,
         "zmin": 1
        }
       ],
       "layout": {
        "annotations": [
         {
          "font": {
           "color": "#4c4c4c",
           "size": 14
          },
          "showarrow": false,
          "text": "Very low",
          "x": -0.02,
          "xanchor": "right",
          "xref": "paper",
          "y": 0.9239999999999999,
          "yanchor": "middle",
          "yref": "paper"
         },
         {
          "font": {
           "color": "#4c4c4c",
           "size": 14
          },
          "showarrow": false,
          "text": "Low",
          "x": -0.02,
          "xanchor": "right",
          "xref": "paper",
          "y": 0.712,
          "yanchor": "middle",
          "yref": "paper"
         },
         {
          "font": {
           "color": "#4c4c4c",
           "size": 14
          },
          "showarrow": false,
          "text": "Moderate",
          "x": -0.02,
          "xanchor": "right",
          "xref": "paper",
          "y": 0.5,
          "yanchor": "middle",
          "yref": "paper"
         },
         {
          "font": {
           "color": "#4c4c4c",
           "size": 14
          },
          "showarrow": false,
          "text": "High",
          "x": -0.02,
          "xanchor": "right",
          "xref": "paper",
          "y": 0.288,
          "yanchor": "middle",
          "yref": "paper"
         },
         {
          "font": {
           "color": "#4c4c4c",
           "size": 14
          },
          "showarrow": false,
          "text": "Very high",
          "x": -0.02,
          "xanchor": "right",
          "xref": "paper",
          "y": 0.076,
          "yanchor": "middle",
          "yref": "paper"
         },
         {
          "font": {
           "color": "#4c4c4c",
           "size": 18
          },
          "showarrow": false,
          "text": "Laws strength categories",
          "textangle": -90,
          "x": -0.1,
          "xref": "paper",
          "y": 0.5,
          "yref": "paper"
         },
         {
          "align": "center",
          "font": {
           "color": "#6e6e6e",
           "size": 13
          },
          "showarrow": false,
          "text": "color: deaths per 100k population (darker = higher rates, lighter = lower rates) · rows: law-strength categories (2023)",
          "x": 0.45,
          "xref": "paper",
          "y": 1.1,
          "yref": "paper"
         }
        ],
        "coloraxis": {
         "cmax": 5,
         "cmin": 1,
         "colorbar": {
          "len": 0.6,
          "orientation": "h",
          "outlinewidth": 0,
          "thickness": 12,
          "tickmode": "array",
          "ticktext": [
           " ≤10.5",
           "10.5–13.6",
           "13.6–16.2",
           "16.2–19.8",
           "≥19.8"
          ],
          "tickvals": [
           1,
           2,
           3,
           4,
           5
          ],
          "title": {
           "text": "Deaths/100k"
          },
          "x": 0.5,
          "xanchor": "center",
          "y": -0.18
         },
         "colorscale": [
          [
           0,
           "#fff5eb"
          ],
          [
           0.2,
           "#fff5eb"
          ],
          [
           0.2,
           "#fae2ca"
          ],
          [
           0.4,
           "#fae2ca"
          ],
          [
           0.4,
           "#edc297"
          ],
          [
           0.6,
           "#edc297"
          ],
          [
           0.6,
           "#eda566"
          ],
          [
           0.8,
           "#eda566"
          ],
          [
           0.8,
           "#ef6a32"
          ],
          [
           1,
           "#ef6a32"
          ]
         ]
        },
        "font": {
         "color": "#807c7c",
         "family": "Inter, Arial, sans-serif",
         "size": 14
        },
        "height": 620,
        "margin": {
         "b": 60,
         "l": 170,
         "r": 20,
         "t": 110
        },
        "template": {
         "data": {
          "bar": [
           {
            "error_x": {
             "color": "rgb(36,36,36)"
            },
            "error_y": {
             "color": "rgb(36,36,36)"
            },
            "marker": {
             "line": {
              "color": "white",
              "width": 0.5
             },
             "pattern": {
              "fillmode": "overlay",
              "size": 10,
              "solidity": 0.2
             }
            },
            "type": "bar"
           }
          ],
          "barpolar": [
           {
            "marker": {
             "line": {
              "color": "white",
              "width": 0.5
             },
             "pattern": {
              "fillmode": "overlay",
              "size": 10,
              "solidity": 0.2
             }
            },
            "type": "barpolar"
           }
          ],
          "carpet": [
           {
            "aaxis": {
             "endlinecolor": "rgb(36,36,36)",
             "gridcolor": "white",
             "linecolor": "white",
             "minorgridcolor": "white",
             "startlinecolor": "rgb(36,36,36)"
            },
            "baxis": {
             "endlinecolor": "rgb(36,36,36)",
             "gridcolor": "white",
             "linecolor": "white",
             "minorgridcolor": "white",
             "startlinecolor": "rgb(36,36,36)"
            },
            "type": "carpet"
           }
          ],
          "choropleth": [
           {
            "colorbar": {
             "outlinewidth": 1,
             "tickcolor": "rgb(36,36,36)",
             "ticks": "outside"
            },
            "type": "choropleth"
           }
          ],
          "contour": [
           {
            "colorbar": {
             "outlinewidth": 1,
             "tickcolor": "rgb(36,36,36)",
             "ticks": "outside"
            },
            "colorscale": [
             [
              0,
              "#440154"
             ],
             [
              0.1111111111111111,
              "#482878"
             ],
             [
              0.2222222222222222,
              "#3e4989"
             ],
             [
              0.3333333333333333,
              "#31688e"
             ],
             [
              0.4444444444444444,
              "#26828e"
             ],
             [
              0.5555555555555556,
              "#1f9e89"
             ],
             [
              0.6666666666666666,
              "#35b779"
             ],
             [
              0.7777777777777778,
              "#6ece58"
             ],
             [
              0.8888888888888888,
              "#b5de2b"
             ],
             [
              1,
              "#fde725"
             ]
            ],
            "type": "contour"
           }
          ],
          "contourcarpet": [
           {
            "colorbar": {
             "outlinewidth": 1,
             "tickcolor": "rgb(36,36,36)",
             "ticks": "outside"
            },
            "type": "contourcarpet"
           }
          ],
          "heatmap": [
           {
            "colorbar": {
             "outlinewidth": 1,
             "tickcolor": "rgb(36,36,36)",
             "ticks": "outside"
            },
            "colorscale": [
             [
              0,
              "#440154"
             ],
             [
              0.1111111111111111,
              "#482878"
             ],
             [
              0.2222222222222222,
              "#3e4989"
             ],
             [
              0.3333333333333333,
              "#31688e"
             ],
             [
              0.4444444444444444,
              "#26828e"
             ],
             [
              0.5555555555555556,
              "#1f9e89"
             ],
             [
              0.6666666666666666,
              "#35b779"
             ],
             [
              0.7777777777777778,
              "#6ece58"
             ],
             [
              0.8888888888888888,
              "#b5de2b"
             ],
             [
              1,
              "#fde725"
             ]
            ],
            "type": "heatmap"
           }
          ],
          "histogram": [
           {
            "marker": {
             "line": {
              "color": "white",
              "width": 0.6
             }
            },
            "type": "histogram"
           }
          ],
          "histogram2d": [
           {
            "colorbar": {
             "outlinewidth": 1,
             "tickcolor": "rgb(36,36,36)",
             "ticks": "outside"
            },
            "colorscale": [
             [
              0,
              "#440154"
             ],
             [
              0.1111111111111111,
              "#482878"
             ],
             [
              0.2222222222222222,
              "#3e4989"
             ],
             [
              0.3333333333333333,
              "#31688e"
             ],
             [
              0.4444444444444444,
              "#26828e"
             ],
             [
              0.5555555555555556,
              "#1f9e89"
             ],
             [
              0.6666666666666666,
              "#35b779"
             ],
             [
              0.7777777777777778,
              "#6ece58"
             ],
             [
              0.8888888888888888,
              "#b5de2b"
             ],
             [
              1,
              "#fde725"
             ]
            ],
            "type": "histogram2d"
           }
          ],
          "histogram2dcontour": [
           {
            "colorbar": {
             "outlinewidth": 1,
             "tickcolor": "rgb(36,36,36)",
             "ticks": "outside"
            },
            "colorscale": [
             [
              0,
              "#440154"
             ],
             [
              0.1111111111111111,
              "#482878"
             ],
             [
              0.2222222222222222,
              "#3e4989"
             ],
             [
              0.3333333333333333,
              "#31688e"
             ],
             [
              0.4444444444444444,
              "#26828e"
             ],
             [
              0.5555555555555556,
              "#1f9e89"
             ],
             [
              0.6666666666666666,
              "#35b779"
             ],
             [
              0.7777777777777778,
              "#6ece58"
             ],
             [
              0.8888888888888888,
              "#b5de2b"
             ],
             [
              1,
              "#fde725"
             ]
            ],
            "type": "histogram2dcontour"
           }
          ],
          "mesh3d": [
           {
            "colorbar": {
             "outlinewidth": 1,
             "tickcolor": "rgb(36,36,36)",
             "ticks": "outside"
            },
            "type": "mesh3d"
           }
          ],
          "parcoords": [
           {
            "line": {
             "colorbar": {
              "outlinewidth": 1,
              "tickcolor": "rgb(36,36,36)",
              "ticks": "outside"
             }
            },
            "type": "parcoords"
           }
          ],
          "pie": [
           {
            "automargin": true,
            "type": "pie"
           }
          ],
          "scatter": [
           {
            "fillpattern": {
             "fillmode": "overlay",
             "size": 10,
             "solidity": 0.2
            },
            "type": "scatter"
           }
          ],
          "scatter3d": [
           {
            "line": {
             "colorbar": {
              "outlinewidth": 1,
              "tickcolor": "rgb(36,36,36)",
              "ticks": "outside"
             }
            },
            "marker": {
             "colorbar": {
              "outlinewidth": 1,
              "tickcolor": "rgb(36,36,36)",
              "ticks": "outside"
             }
            },
            "type": "scatter3d"
           }
          ],
          "scattercarpet": [
           {
            "marker": {
             "colorbar": {
              "outlinewidth": 1,
              "tickcolor": "rgb(36,36,36)",
              "ticks": "outside"
             }
            },
            "type": "scattercarpet"
           }
          ],
          "scattergeo": [
           {
            "marker": {
             "colorbar": {
              "outlinewidth": 1,
              "tickcolor": "rgb(36,36,36)",
              "ticks": "outside"
             }
            },
            "type": "scattergeo"
           }
          ],
          "scattergl": [
           {
            "marker": {
             "colorbar": {
              "outlinewidth": 1,
              "tickcolor": "rgb(36,36,36)",
              "ticks": "outside"
             }
            },
            "type": "scattergl"
           }
          ],
          "scattermap": [
           {
            "marker": {
             "colorbar": {
              "outlinewidth": 1,
              "tickcolor": "rgb(36,36,36)",
              "ticks": "outside"
             }
            },
            "type": "scattermap"
           }
          ],
          "scattermapbox": [
           {
            "marker": {
             "colorbar": {
              "outlinewidth": 1,
              "tickcolor": "rgb(36,36,36)",
              "ticks": "outside"
             }
            },
            "type": "scattermapbox"
           }
          ],
          "scatterpolar": [
           {
            "marker": {
             "colorbar": {
              "outlinewidth": 1,
              "tickcolor": "rgb(36,36,36)",
              "ticks": "outside"
             }
            },
            "type": "scatterpolar"
           }
          ],
          "scatterpolargl": [
           {
            "marker": {
             "colorbar": {
              "outlinewidth": 1,
              "tickcolor": "rgb(36,36,36)",
              "ticks": "outside"
             }
            },
            "type": "scatterpolargl"
           }
          ],
          "scatterternary": [
           {
            "marker": {
             "colorbar": {
              "outlinewidth": 1,
              "tickcolor": "rgb(36,36,36)",
              "ticks": "outside"
             }
            },
            "type": "scatterternary"
           }
          ],
          "surface": [
           {
            "colorbar": {
             "outlinewidth": 1,
             "tickcolor": "rgb(36,36,36)",
             "ticks": "outside"
            },
            "colorscale": [
             [
              0,
              "#440154"
             ],
             [
              0.1111111111111111,
              "#482878"
             ],
             [
              0.2222222222222222,
              "#3e4989"
             ],
             [
              0.3333333333333333,
              "#31688e"
             ],
             [
              0.4444444444444444,
              "#26828e"
             ],
             [
              0.5555555555555556,
              "#1f9e89"
             ],
             [
              0.6666666666666666,
              "#35b779"
             ],
             [
              0.7777777777777778,
              "#6ece58"
             ],
             [
              0.8888888888888888,
              "#b5de2b"
             ],
             [
              1,
              "#fde725"
             ]
            ],
            "type": "surface"
           }
          ],
          "table": [
           {
            "cells": {
             "fill": {
              "color": "rgb(237,237,237)"
             },
             "line": {
              "color": "white"
             }
            },
            "header": {
             "fill": {
              "color": "rgb(217,217,217)"
             },
             "line": {
              "color": "white"
             }
            },
            "type": "table"
           }
          ]
         },
         "layout": {
          "annotationdefaults": {
           "arrowhead": 0,
           "arrowwidth": 1
          },
          "autotypenumbers": "strict",
          "coloraxis": {
           "colorbar": {
            "outlinewidth": 1,
            "tickcolor": "rgb(36,36,36)",
            "ticks": "outside"
           }
          },
          "colorscale": {
           "diverging": [
            [
             0,
             "rgb(103,0,31)"
            ],
            [
             0.1,
             "rgb(178,24,43)"
            ],
            [
             0.2,
             "rgb(214,96,77)"
            ],
            [
             0.3,
             "rgb(244,165,130)"
            ],
            [
             0.4,
             "rgb(253,219,199)"
            ],
            [
             0.5,
             "rgb(247,247,247)"
            ],
            [
             0.6,
             "rgb(209,229,240)"
            ],
            [
             0.7,
             "rgb(146,197,222)"
            ],
            [
             0.8,
             "rgb(67,147,195)"
            ],
            [
             0.9,
             "rgb(33,102,172)"
            ],
            [
             1,
             "rgb(5,48,97)"
            ]
           ],
           "sequential": [
            [
             0,
             "#440154"
            ],
            [
             0.1111111111111111,
             "#482878"
            ],
            [
             0.2222222222222222,
             "#3e4989"
            ],
            [
             0.3333333333333333,
             "#31688e"
            ],
            [
             0.4444444444444444,
             "#26828e"
            ],
            [
             0.5555555555555556,
             "#1f9e89"
            ],
            [
             0.6666666666666666,
             "#35b779"
            ],
            [
             0.7777777777777778,
             "#6ece58"
            ],
            [
             0.8888888888888888,
             "#b5de2b"
            ],
            [
             1,
             "#fde725"
            ]
           ],
           "sequentialminus": [
            [
             0,
             "#440154"
            ],
            [
             0.1111111111111111,
             "#482878"
            ],
            [
             0.2222222222222222,
             "#3e4989"
            ],
            [
             0.3333333333333333,
             "#31688e"
            ],
            [
             0.4444444444444444,
             "#26828e"
            ],
            [
             0.5555555555555556,
             "#1f9e89"
            ],
            [
             0.6666666666666666,
             "#35b779"
            ],
            [
             0.7777777777777778,
             "#6ece58"
            ],
            [
             0.8888888888888888,
             "#b5de2b"
            ],
            [
             1,
             "#fde725"
            ]
           ]
          },
          "colorway": [
           "#1F77B4",
           "#FF7F0E",
           "#2CA02C",
           "#D62728",
           "#9467BD",
           "#8C564B",
           "#E377C2",
           "#7F7F7F",
           "#BCBD22",
           "#17BECF"
          ],
          "font": {
           "color": "rgb(36,36,36)"
          },
          "geo": {
           "bgcolor": "white",
           "lakecolor": "white",
           "landcolor": "white",
           "showlakes": true,
           "showland": true,
           "subunitcolor": "white"
          },
          "hoverlabel": {
           "align": "left"
          },
          "hovermode": "closest",
          "mapbox": {
           "style": "light"
          },
          "paper_bgcolor": "white",
          "plot_bgcolor": "white",
          "polar": {
           "angularaxis": {
            "gridcolor": "rgb(232,232,232)",
            "linecolor": "rgb(36,36,36)",
            "showgrid": false,
            "showline": true,
            "ticks": "outside"
           },
           "bgcolor": "white",
           "radialaxis": {
            "gridcolor": "rgb(232,232,232)",
            "linecolor": "rgb(36,36,36)",
            "showgrid": false,
            "showline": true,
            "ticks": "outside"
           }
          },
          "scene": {
           "xaxis": {
            "backgroundcolor": "white",
            "gridcolor": "rgb(232,232,232)",
            "gridwidth": 2,
            "linecolor": "rgb(36,36,36)",
            "showbackground": true,
            "showgrid": false,
            "showline": true,
            "ticks": "outside",
            "zeroline": false,
            "zerolinecolor": "rgb(36,36,36)"
           },
           "yaxis": {
            "backgroundcolor": "white",
            "gridcolor": "rgb(232,232,232)",
            "gridwidth": 2,
            "linecolor": "rgb(36,36,36)",
            "showbackground": true,
            "showgrid": false,
            "showline": true,
            "ticks": "outside",
            "zeroline": false,
            "zerolinecolor": "rgb(36,36,36)"
           },
           "zaxis": {
            "backgroundcolor": "white",
            "gridcolor": "rgb(232,232,232)",
            "gridwidth": 2,
            "linecolor": "rgb(36,36,36)",
            "showbackground": true,
            "showgrid": false,
            "showline": true,
            "ticks": "outside",
            "zeroline": false,
            "zerolinecolor": "rgb(36,36,36)"
           }
          },
          "shapedefaults": {
           "fillcolor": "black",
           "line": {
            "width": 0
           },
           "opacity": 0.3
          },
          "ternary": {
           "aaxis": {
            "gridcolor": "rgb(232,232,232)",
            "linecolor": "rgb(36,36,36)",
            "showgrid": false,
            "showline": true,
            "ticks": "outside"
           },
           "baxis": {
            "gridcolor": "rgb(232,232,232)",
            "linecolor": "rgb(36,36,36)",
            "showgrid": false,
            "showline": true,
            "ticks": "outside"
           },
           "bgcolor": "white",
           "caxis": {
            "gridcolor": "rgb(232,232,232)",
            "linecolor": "rgb(36,36,36)",
            "showgrid": false,
            "showline": true,
            "ticks": "outside"
           }
          },
          "title": {
           "x": 0.05
          },
          "xaxis": {
           "automargin": true,
           "gridcolor": "rgb(232,232,232)",
           "linecolor": "rgb(36,36,36)",
           "showgrid": false,
           "showline": true,
           "ticks": "outside",
           "title": {
            "standoff": 15
           },
           "zeroline": false,
           "zerolinecolor": "rgb(36,36,36)"
          },
          "yaxis": {
           "automargin": true,
           "gridcolor": "rgb(232,232,232)",
           "linecolor": "rgb(36,36,36)",
           "showgrid": false,
           "showline": true,
           "ticks": "outside",
           "title": {
            "standoff": 15
           },
           "zeroline": false,
           "zerolinecolor": "rgb(36,36,36)"
          }
         }
        },
        "title": {
         "text": "Firearm Mortality by Law-Strength Categories — 2023",
         "x": 0.5,
         "xanchor": "center"
        },
        "width": 1400,
        "xaxis": {
         "anchor": "y",
         "domain": [
          0,
          1
         ],
         "showgrid": false,
         "showline": false,
         "showticklabels": false,
         "tickangle": 0,
         "ticklen": 0,
         "ticks": "",
         "tickvals": [],
         "zeroline": false
        },
        "xaxis2": {
         "anchor": "y2",
         "domain": [
          0,
          1
         ],
         "showgrid": false,
         "showline": false,
         "showticklabels": false,
         "tickangle": 0,
         "ticklen": 0,
         "ticks": "",
         "tickvals": [],
         "zeroline": false
        },
        "xaxis3": {
         "anchor": "y3",
         "domain": [
          0,
          1
         ],
         "showgrid": false,
         "showline": false,
         "showticklabels": false,
         "tickangle": 0,
         "ticklen": 0,
         "ticks": "",
         "tickvals": [],
         "zeroline": false
        },
        "xaxis4": {
         "anchor": "y4",
         "domain": [
          0,
          1
         ],
         "showgrid": false,
         "showline": false,
         "showticklabels": false,
         "tickangle": 0,
         "ticklen": 0,
         "ticks": "",
         "tickvals": [],
         "zeroline": false
        },
        "xaxis5": {
         "anchor": "y5",
         "domain": [
          0,
          1
         ],
         "showgrid": false,
         "showline": false,
         "showticklabels": false,
         "tickangle": 0,
         "ticklen": 0,
         "ticks": "",
         "tickvals": [],
         "zeroline": false
        },
        "yaxis": {
         "anchor": "x",
         "domain": [
          0.848,
          1
         ],
         "showgrid": false,
         "showline": false,
         "showticklabels": false,
         "zeroline": false
        },
        "yaxis2": {
         "anchor": "x2",
         "domain": [
          0.6359999999999999,
          0.7879999999999999
         ],
         "showgrid": false,
         "showline": false,
         "showticklabels": false,
         "zeroline": false
        },
        "yaxis3": {
         "anchor": "x3",
         "domain": [
          0.424,
          0.576
         ],
         "showgrid": false,
         "showline": false,
         "showticklabels": false,
         "zeroline": false
        },
        "yaxis4": {
         "anchor": "x4",
         "domain": [
          0.212,
          0.364
         ],
         "showgrid": false,
         "showline": false,
         "showticklabels": false,
         "zeroline": false
        },
        "yaxis5": {
         "anchor": "x5",
         "domain": [
          0,
          0.152
         ],
         "showgrid": false,
         "showline": false,
         "showticklabels": false,
         "zeroline": false
        }
       }
      }
     },
     "metadata": {},
     "output_type": "display_data"
    }
   ],
   "source": [
    "tickvals = [1, 2, 3, 4, 5]\n",
    "fmt = lambda v: f\"{v:.1f}\"\n",
    "ticktext = [\n",
    "    f\" ≤{fmt(rate_bins[1])}\",\n",
    "    f\"{fmt(rate_bins[1])}–{fmt(rate_bins[2])}\",\n",
    "    f\"{fmt(rate_bins[2])}–{fmt(rate_bins[3])}\",\n",
    "    f\"{fmt(rate_bins[3])}–{fmt(rate_bins[4])}\",\n",
    "    f\"≥{fmt(rate_bins[4])}\",\n",
    "]\n",
    "\n",
    "\n",
    "\n",
    "fig.update_layout(\n",
    "    coloraxis=dict(\n",
    "        colorscale=cs, cmin=1, cmax=5,\n",
    "        colorbar=dict(\n",
    "            orientation=\"h\", y=-0.18, x=0.5, xanchor=\"center\",\n",
    "            len=0.60, thickness=12, title=\"Deaths/100k\",\n",
    "            tickmode=\"array\", tickvals=tickvals, ticktext=ticktext, outlinewidth=0\n",
    "        )\n",
    "    ),\n",
    "    template=\"simple_white\",\n",
    "    width=1400, height=620,\n",
    "    title=dict(text=\"Firearm Mortality by Law-Strength Categories — 2023\",\n",
    "               x=0.5, xanchor=\"center\"),\n",
    "    font=dict(family=\"Inter, Arial, sans-serif\", size=14, color=\"#807c7c\"),\n",
    "   \n",
    "    margin=dict(l=130, r=20, t=80, b=110)\n",
    ")\n",
    "\n",
    "for r in range(1, len(labels) + 1):\n",
    "    fig.update_yaxes(row=r, col=1, showticklabels=False, showgrid=False, zeroline=False, showline=False)\n",
    "fig.update_traces(selector=dict(type=\"heatmap\"), xgap=4, ygap=12)\n",
    "\n",
    "for i in range(len(labels)):\n",
    "    dom = fig.layout[f\"yaxis{i+1}\"].domain\n",
    "    fig.layout.annotations[i].update(\n",
    "        x=-0.02, y=(dom[0] + dom[1]) / 2, xanchor=\"right\", yanchor=\"middle\",\n",
    "        font=dict(size=14, color=\"#4c4c4c\")\n",
    "    )\n",
    "\n",
    "for r in range(1, len(labels) + 1):\n",
    "    fig.update_xaxes(\n",
    "        row=r, col=1,\n",
    "        showticklabels=False,   \n",
    "        ticks=\"\",              \n",
    "        ticklen=0,\n",
    "        tickvals=[]             \n",
    "    )\n",
    "\n",
    "fig.update_layout(margin=dict(b=60))\n",
    "\n",
    "fig.update_layout(margin=dict(l=170))\n",
    "\n",
    "fig.add_annotation(\n",
    "    xref=\"paper\", yref=\"paper\",\n",
    "    x=-0.10, y=0.5, showarrow=False,\n",
    "    text=\"Laws strength categories\",\n",
    "    textangle=-90,\n",
    "    font=dict(size=18, color=\"#4c4c4c\")\n",
    ")\n",
    "\n",
    "fig.update_layout(margin=dict(t=110))\n",
    "fig.add_annotation(\n",
    "    xref=\"paper\", yref=\"paper\", x=0.45, y=1.1, showarrow=False,\n",
    "    text=\"color: deaths per 100k population (darker = higher rates, lighter = lower rates) · rows: law-strength categories (2023)\",\n",
    "    align=\"center\", font=dict(size=13, color=\"#6e6e6e\")\n",
    ")\n",
    "\n",
    "\n",
    "fig.show()"
   ]
  },
  {
   "cell_type": "markdown",
   "id": "535f585e",
   "metadata": {},
   "source": [
    "This hetmap clearly shows that stricter gun laws has an effect on death rates compared to states with relaxed laws and regulations.\n",
    "\n",
    "Each row is a quintile of the gun-law strength index (Very low → Very high). Each tile is a state; color = firearm deaths per 100k (darker = higher), with the value printed on the tile."
   ]
  },
  {
   "cell_type": "markdown",
   "id": "f7048039",
   "metadata": {},
   "source": [
    "## Average law strenghes VS Average deat rates for each group"
   ]
  },
  {
   "cell_type": "code",
   "execution_count": 98,
   "id": "478f2c94",
   "metadata": {},
   "outputs": [
    {
     "data": {
      "application/vnd.plotly.v1+json": {
       "config": {
        "plotlyServerURL": "https://plot.ly"
       },
       "data": [
        {
         "base": -1,
         "hoverinfo": "skip",
         "marker": {
          "color": "#ebf0fa"
         },
         "offsetgroup": "0",
         "orientation": "h",
         "showlegend": false,
         "type": "bar",
         "x": {
          "bdata": "AAAAAAAAAEAAAAAAAAAAQAAAAAAAAABAAAAAAAAAAEAAAAAAAAAAQA==",
          "dtype": "f8"
         },
         "y": [
          "National Failures",
          "Weak Systems",
          "Missing Key Laws",
          "Making Progress",
          "National Leaders"
         ]
        },
        {
         "customdata": {
          "bdata": "zczMzMzMFkAAAAAAAEAnQAAAAAAAsDZAmpmZmZl5SEDNzMzMzCxUQA==",
          "dtype": "f8"
         },
         "hovertemplate": "%{y}<br>Avg law strength: %{customdata:.1f}<extra></extra>",
         "marker": {
          "color": "#3b6df6"
         },
         "name": "Avg law strength (scaled)",
         "offsetgroup": "0",
         "opacity": 0.9,
         "orientation": "h",
         "type": "bar",
         "x": {
          "bdata": "AAAAAAAAAIBWJWEQWDm0v8T4Q7bz/cy/7Ms/pw104r/gKv7////vvw==",
          "dtype": "f8"
         },
         "y": [
          "National Failures",
          "Weak Systems",
          "Missing Key Laws",
          "Making Progress",
          "National Leaders"
         ]
        },
        {
         "customdata": {
          "bdata": "pHA9CtejM0AAAAAAAMAxQM3MzMzM7CtAw/UoXI9CK0BI4XoUrkchQA==",
          "dtype": "f8"
         },
         "hovertemplate": "%{y}<br>Avg deaths/100k: %{customdata:.1f}<extra></extra>",
         "marker": {
          "color": "#e34234"
         },
         "name": "Avg deaths/100k (scaled)",
         "offsetgroup": "1",
         "opacity": 0.9,
         "orientation": "h",
         "type": "bar",
         "x": {
          "bdata": "bIHz////7z9/Gf0nd4DqP53bbS+f994/Dbd60GAI3T8AAAAAAAAAAA==",
          "dtype": "f8"
         },
         "y": [
          "National Failures",
          "Weak Systems",
          "Missing Key Laws",
          "Making Progress",
          "National Leaders"
         ]
        }
       ],
       "layout": {
        "annotations": [
         {
          "font": {
           "color": "#3b6df6",
           "size": 11
          },
          "showarrow": false,
          "text": "6",
          "x": -0.02,
          "xanchor": "right",
          "xref": "x",
          "y": "National Failures",
          "yanchor": "middle",
          "yref": "y"
         },
         {
          "font": {
           "color": "#e34234",
           "size": 11
          },
          "showarrow": false,
          "text": "19.6",
          "x": 1.019999999909091,
          "xanchor": "left",
          "xref": "x",
          "y": "National Failures",
          "yanchor": "middle",
          "yref": "y"
         },
         {
          "font": {
           "color": "#3b6df6",
           "size": 11
          },
          "showarrow": false,
          "text": "12",
          "x": -0.09899999999894667,
          "xanchor": "right",
          "xref": "x",
          "y": "Weak Systems",
          "yanchor": "middle",
          "yref": "y"
         },
         {
          "font": {
           "color": "#e34234",
           "size": 11
          },
          "showarrow": false,
          "text": "17.8",
          "x": 0.8481818181065289,
          "xanchor": "left",
          "xref": "x",
          "y": "Weak Systems",
          "yanchor": "middle",
          "yref": "y"
         },
         {
          "font": {
           "color": "#3b6df6",
           "size": 11
          },
          "showarrow": false,
          "text": "23",
          "x": -0.24649999999698,
          "xanchor": "right",
          "xref": "x",
          "y": "Missing Key Laws",
          "yanchor": "middle",
          "yref": "y"
         },
         {
          "font": {
           "color": "#e34234",
           "size": 11
          },
          "showarrow": false,
          "text": "14.0",
          "x": 0.5038636363196487,
          "xanchor": "left",
          "xref": "x",
          "y": "Missing Key Laws",
          "yanchor": "middle",
          "yref": "y"
         },
         {
          "font": {
           "color": "#3b6df6",
           "size": 11
          },
          "showarrow": false,
          "text": "49",
          "x": -0.5966666666589777,
          "xanchor": "right",
          "xref": "x",
          "y": "Making Progress",
          "yanchor": "middle",
          "yref": "y"
         },
         {
          "font": {
           "color": "#e34234",
           "size": 11
          },
          "showarrow": false,
          "text": "13.6",
          "x": 0.473636363595124,
          "xanchor": "left",
          "xref": "x",
          "y": "Making Progress",
          "yanchor": "middle",
          "yref": "y"
         },
         {
          "font": {
           "color": "#3b6df6",
           "size": 11
          },
          "showarrow": false,
          "text": "81",
          "x": -1.0199999999866667,
          "xanchor": "right",
          "xref": "x",
          "y": "National Leaders",
          "yanchor": "middle",
          "yref": "y"
         },
         {
          "font": {
           "color": "#e34234",
           "size": 11
          },
          "showarrow": false,
          "text": "8.6",
          "x": 0.02,
          "xanchor": "left",
          "xref": "x",
          "y": "National Leaders",
          "yanchor": "middle",
          "yref": "y"
         }
        ],
        "bargap": 0.45,
        "barmode": "overlay",
        "height": 520,
        "margin": {
         "b": 30,
         "l": 240,
         "r": 30,
         "t": 80
        },
        "plot_bgcolor": "white",
        "shapes": [
         {
          "line": {
           "color": "#bdbdbd",
           "width": 2
          },
          "opacity": 0.9,
          "type": "line",
          "x0": 0,
          "x1": 0,
          "xref": "x",
          "y0": 0,
          "y1": 1,
          "yref": "y domain"
         }
        ],
        "showlegend": false,
        "template": {
         "data": {
          "bar": [
           {
            "error_x": {
             "color": "rgb(36,36,36)"
            },
            "error_y": {
             "color": "rgb(36,36,36)"
            },
            "marker": {
             "line": {
              "color": "white",
              "width": 0.5
             },
             "pattern": {
              "fillmode": "overlay",
              "size": 10,
              "solidity": 0.2
             }
            },
            "type": "bar"
           }
          ],
          "barpolar": [
           {
            "marker": {
             "line": {
              "color": "white",
              "width": 0.5
             },
             "pattern": {
              "fillmode": "overlay",
              "size": 10,
              "solidity": 0.2
             }
            },
            "type": "barpolar"
           }
          ],
          "carpet": [
           {
            "aaxis": {
             "endlinecolor": "rgb(36,36,36)",
             "gridcolor": "white",
             "linecolor": "white",
             "minorgridcolor": "white",
             "startlinecolor": "rgb(36,36,36)"
            },
            "baxis": {
             "endlinecolor": "rgb(36,36,36)",
             "gridcolor": "white",
             "linecolor": "white",
             "minorgridcolor": "white",
             "startlinecolor": "rgb(36,36,36)"
            },
            "type": "carpet"
           }
          ],
          "choropleth": [
           {
            "colorbar": {
             "outlinewidth": 1,
             "tickcolor": "rgb(36,36,36)",
             "ticks": "outside"
            },
            "type": "choropleth"
           }
          ],
          "contour": [
           {
            "colorbar": {
             "outlinewidth": 1,
             "tickcolor": "rgb(36,36,36)",
             "ticks": "outside"
            },
            "colorscale": [
             [
              0,
              "#440154"
             ],
             [
              0.1111111111111111,
              "#482878"
             ],
             [
              0.2222222222222222,
              "#3e4989"
             ],
             [
              0.3333333333333333,
              "#31688e"
             ],
             [
              0.4444444444444444,
              "#26828e"
             ],
             [
              0.5555555555555556,
              "#1f9e89"
             ],
             [
              0.6666666666666666,
              "#35b779"
             ],
             [
              0.7777777777777778,
              "#6ece58"
             ],
             [
              0.8888888888888888,
              "#b5de2b"
             ],
             [
              1,
              "#fde725"
             ]
            ],
            "type": "contour"
           }
          ],
          "contourcarpet": [
           {
            "colorbar": {
             "outlinewidth": 1,
             "tickcolor": "rgb(36,36,36)",
             "ticks": "outside"
            },
            "type": "contourcarpet"
           }
          ],
          "heatmap": [
           {
            "colorbar": {
             "outlinewidth": 1,
             "tickcolor": "rgb(36,36,36)",
             "ticks": "outside"
            },
            "colorscale": [
             [
              0,
              "#440154"
             ],
             [
              0.1111111111111111,
              "#482878"
             ],
             [
              0.2222222222222222,
              "#3e4989"
             ],
             [
              0.3333333333333333,
              "#31688e"
             ],
             [
              0.4444444444444444,
              "#26828e"
             ],
             [
              0.5555555555555556,
              "#1f9e89"
             ],
             [
              0.6666666666666666,
              "#35b779"
             ],
             [
              0.7777777777777778,
              "#6ece58"
             ],
             [
              0.8888888888888888,
              "#b5de2b"
             ],
             [
              1,
              "#fde725"
             ]
            ],
            "type": "heatmap"
           }
          ],
          "histogram": [
           {
            "marker": {
             "line": {
              "color": "white",
              "width": 0.6
             }
            },
            "type": "histogram"
           }
          ],
          "histogram2d": [
           {
            "colorbar": {
             "outlinewidth": 1,
             "tickcolor": "rgb(36,36,36)",
             "ticks": "outside"
            },
            "colorscale": [
             [
              0,
              "#440154"
             ],
             [
              0.1111111111111111,
              "#482878"
             ],
             [
              0.2222222222222222,
              "#3e4989"
             ],
             [
              0.3333333333333333,
              "#31688e"
             ],
             [
              0.4444444444444444,
              "#26828e"
             ],
             [
              0.5555555555555556,
              "#1f9e89"
             ],
             [
              0.6666666666666666,
              "#35b779"
             ],
             [
              0.7777777777777778,
              "#6ece58"
             ],
             [
              0.8888888888888888,
              "#b5de2b"
             ],
             [
              1,
              "#fde725"
             ]
            ],
            "type": "histogram2d"
           }
          ],
          "histogram2dcontour": [
           {
            "colorbar": {
             "outlinewidth": 1,
             "tickcolor": "rgb(36,36,36)",
             "ticks": "outside"
            },
            "colorscale": [
             [
              0,
              "#440154"
             ],
             [
              0.1111111111111111,
              "#482878"
             ],
             [
              0.2222222222222222,
              "#3e4989"
             ],
             [
              0.3333333333333333,
              "#31688e"
             ],
             [
              0.4444444444444444,
              "#26828e"
             ],
             [
              0.5555555555555556,
              "#1f9e89"
             ],
             [
              0.6666666666666666,
              "#35b779"
             ],
             [
              0.7777777777777778,
              "#6ece58"
             ],
             [
              0.8888888888888888,
              "#b5de2b"
             ],
             [
              1,
              "#fde725"
             ]
            ],
            "type": "histogram2dcontour"
           }
          ],
          "mesh3d": [
           {
            "colorbar": {
             "outlinewidth": 1,
             "tickcolor": "rgb(36,36,36)",
             "ticks": "outside"
            },
            "type": "mesh3d"
           }
          ],
          "parcoords": [
           {
            "line": {
             "colorbar": {
              "outlinewidth": 1,
              "tickcolor": "rgb(36,36,36)",
              "ticks": "outside"
             }
            },
            "type": "parcoords"
           }
          ],
          "pie": [
           {
            "automargin": true,
            "type": "pie"
           }
          ],
          "scatter": [
           {
            "fillpattern": {
             "fillmode": "overlay",
             "size": 10,
             "solidity": 0.2
            },
            "type": "scatter"
           }
          ],
          "scatter3d": [
           {
            "line": {
             "colorbar": {
              "outlinewidth": 1,
              "tickcolor": "rgb(36,36,36)",
              "ticks": "outside"
             }
            },
            "marker": {
             "colorbar": {
              "outlinewidth": 1,
              "tickcolor": "rgb(36,36,36)",
              "ticks": "outside"
             }
            },
            "type": "scatter3d"
           }
          ],
          "scattercarpet": [
           {
            "marker": {
             "colorbar": {
              "outlinewidth": 1,
              "tickcolor": "rgb(36,36,36)",
              "ticks": "outside"
             }
            },
            "type": "scattercarpet"
           }
          ],
          "scattergeo": [
           {
            "marker": {
             "colorbar": {
              "outlinewidth": 1,
              "tickcolor": "rgb(36,36,36)",
              "ticks": "outside"
             }
            },
            "type": "scattergeo"
           }
          ],
          "scattergl": [
           {
            "marker": {
             "colorbar": {
              "outlinewidth": 1,
              "tickcolor": "rgb(36,36,36)",
              "ticks": "outside"
             }
            },
            "type": "scattergl"
           }
          ],
          "scattermap": [
           {
            "marker": {
             "colorbar": {
              "outlinewidth": 1,
              "tickcolor": "rgb(36,36,36)",
              "ticks": "outside"
             }
            },
            "type": "scattermap"
           }
          ],
          "scattermapbox": [
           {
            "marker": {
             "colorbar": {
              "outlinewidth": 1,
              "tickcolor": "rgb(36,36,36)",
              "ticks": "outside"
             }
            },
            "type": "scattermapbox"
           }
          ],
          "scatterpolar": [
           {
            "marker": {
             "colorbar": {
              "outlinewidth": 1,
              "tickcolor": "rgb(36,36,36)",
              "ticks": "outside"
             }
            },
            "type": "scatterpolar"
           }
          ],
          "scatterpolargl": [
           {
            "marker": {
             "colorbar": {
              "outlinewidth": 1,
              "tickcolor": "rgb(36,36,36)",
              "ticks": "outside"
             }
            },
            "type": "scatterpolargl"
           }
          ],
          "scatterternary": [
           {
            "marker": {
             "colorbar": {
              "outlinewidth": 1,
              "tickcolor": "rgb(36,36,36)",
              "ticks": "outside"
             }
            },
            "type": "scatterternary"
           }
          ],
          "surface": [
           {
            "colorbar": {
             "outlinewidth": 1,
             "tickcolor": "rgb(36,36,36)",
             "ticks": "outside"
            },
            "colorscale": [
             [
              0,
              "#440154"
             ],
             [
              0.1111111111111111,
              "#482878"
             ],
             [
              0.2222222222222222,
              "#3e4989"
             ],
             [
              0.3333333333333333,
              "#31688e"
             ],
             [
              0.4444444444444444,
              "#26828e"
             ],
             [
              0.5555555555555556,
              "#1f9e89"
             ],
             [
              0.6666666666666666,
              "#35b779"
             ],
             [
              0.7777777777777778,
              "#6ece58"
             ],
             [
              0.8888888888888888,
              "#b5de2b"
             ],
             [
              1,
              "#fde725"
             ]
            ],
            "type": "surface"
           }
          ],
          "table": [
           {
            "cells": {
             "fill": {
              "color": "rgb(237,237,237)"
             },
             "line": {
              "color": "white"
             }
            },
            "header": {
             "fill": {
              "color": "rgb(217,217,217)"
             },
             "line": {
              "color": "white"
             }
            },
            "type": "table"
           }
          ]
         },
         "layout": {
          "annotationdefaults": {
           "arrowhead": 0,
           "arrowwidth": 1
          },
          "autotypenumbers": "strict",
          "coloraxis": {
           "colorbar": {
            "outlinewidth": 1,
            "tickcolor": "rgb(36,36,36)",
            "ticks": "outside"
           }
          },
          "colorscale": {
           "diverging": [
            [
             0,
             "rgb(103,0,31)"
            ],
            [
             0.1,
             "rgb(178,24,43)"
            ],
            [
             0.2,
             "rgb(214,96,77)"
            ],
            [
             0.3,
             "rgb(244,165,130)"
            ],
            [
             0.4,
             "rgb(253,219,199)"
            ],
            [
             0.5,
             "rgb(247,247,247)"
            ],
            [
             0.6,
             "rgb(209,229,240)"
            ],
            [
             0.7,
             "rgb(146,197,222)"
            ],
            [
             0.8,
             "rgb(67,147,195)"
            ],
            [
             0.9,
             "rgb(33,102,172)"
            ],
            [
             1,
             "rgb(5,48,97)"
            ]
           ],
           "sequential": [
            [
             0,
             "#440154"
            ],
            [
             0.1111111111111111,
             "#482878"
            ],
            [
             0.2222222222222222,
             "#3e4989"
            ],
            [
             0.3333333333333333,
             "#31688e"
            ],
            [
             0.4444444444444444,
             "#26828e"
            ],
            [
             0.5555555555555556,
             "#1f9e89"
            ],
            [
             0.6666666666666666,
             "#35b779"
            ],
            [
             0.7777777777777778,
             "#6ece58"
            ],
            [
             0.8888888888888888,
             "#b5de2b"
            ],
            [
             1,
             "#fde725"
            ]
           ],
           "sequentialminus": [
            [
             0,
             "#440154"
            ],
            [
             0.1111111111111111,
             "#482878"
            ],
            [
             0.2222222222222222,
             "#3e4989"
            ],
            [
             0.3333333333333333,
             "#31688e"
            ],
            [
             0.4444444444444444,
             "#26828e"
            ],
            [
             0.5555555555555556,
             "#1f9e89"
            ],
            [
             0.6666666666666666,
             "#35b779"
            ],
            [
             0.7777777777777778,
             "#6ece58"
            ],
            [
             0.8888888888888888,
             "#b5de2b"
            ],
            [
             1,
             "#fde725"
            ]
           ]
          },
          "colorway": [
           "#1F77B4",
           "#FF7F0E",
           "#2CA02C",
           "#D62728",
           "#9467BD",
           "#8C564B",
           "#E377C2",
           "#7F7F7F",
           "#BCBD22",
           "#17BECF"
          ],
          "font": {
           "color": "rgb(36,36,36)"
          },
          "geo": {
           "bgcolor": "white",
           "lakecolor": "white",
           "landcolor": "white",
           "showlakes": true,
           "showland": true,
           "subunitcolor": "white"
          },
          "hoverlabel": {
           "align": "left"
          },
          "hovermode": "closest",
          "mapbox": {
           "style": "light"
          },
          "paper_bgcolor": "white",
          "plot_bgcolor": "white",
          "polar": {
           "angularaxis": {
            "gridcolor": "rgb(232,232,232)",
            "linecolor": "rgb(36,36,36)",
            "showgrid": false,
            "showline": true,
            "ticks": "outside"
           },
           "bgcolor": "white",
           "radialaxis": {
            "gridcolor": "rgb(232,232,232)",
            "linecolor": "rgb(36,36,36)",
            "showgrid": false,
            "showline": true,
            "ticks": "outside"
           }
          },
          "scene": {
           "xaxis": {
            "backgroundcolor": "white",
            "gridcolor": "rgb(232,232,232)",
            "gridwidth": 2,
            "linecolor": "rgb(36,36,36)",
            "showbackground": true,
            "showgrid": false,
            "showline": true,
            "ticks": "outside",
            "zeroline": false,
            "zerolinecolor": "rgb(36,36,36)"
           },
           "yaxis": {
            "backgroundcolor": "white",
            "gridcolor": "rgb(232,232,232)",
            "gridwidth": 2,
            "linecolor": "rgb(36,36,36)",
            "showbackground": true,
            "showgrid": false,
            "showline": true,
            "ticks": "outside",
            "zeroline": false,
            "zerolinecolor": "rgb(36,36,36)"
           },
           "zaxis": {
            "backgroundcolor": "white",
            "gridcolor": "rgb(232,232,232)",
            "gridwidth": 2,
            "linecolor": "rgb(36,36,36)",
            "showbackground": true,
            "showgrid": false,
            "showline": true,
            "ticks": "outside",
            "zeroline": false,
            "zerolinecolor": "rgb(36,36,36)"
           }
          },
          "shapedefaults": {
           "fillcolor": "black",
           "line": {
            "width": 0
           },
           "opacity": 0.3
          },
          "ternary": {
           "aaxis": {
            "gridcolor": "rgb(232,232,232)",
            "linecolor": "rgb(36,36,36)",
            "showgrid": false,
            "showline": true,
            "ticks": "outside"
           },
           "baxis": {
            "gridcolor": "rgb(232,232,232)",
            "linecolor": "rgb(36,36,36)",
            "showgrid": false,
            "showline": true,
            "ticks": "outside"
           },
           "bgcolor": "white",
           "caxis": {
            "gridcolor": "rgb(232,232,232)",
            "linecolor": "rgb(36,36,36)",
            "showgrid": false,
            "showline": true,
            "ticks": "outside"
           }
          },
          "title": {
           "x": 0.05
          },
          "xaxis": {
           "automargin": true,
           "gridcolor": "rgb(232,232,232)",
           "linecolor": "rgb(36,36,36)",
           "showgrid": false,
           "showline": true,
           "ticks": "outside",
           "title": {
            "standoff": 15
           },
           "zeroline": false,
           "zerolinecolor": "rgb(36,36,36)"
          },
          "yaxis": {
           "automargin": true,
           "gridcolor": "rgb(232,232,232)",
           "linecolor": "rgb(36,36,36)",
           "showgrid": false,
           "showline": true,
           "ticks": "outside",
           "title": {
            "standoff": 15
           },
           "zeroline": false,
           "zerolinecolor": "rgb(36,36,36)"
          }
         }
        },
        "title": {
         "text": "Strong Gun Laws, Fewer Deaths<br><span style='font-size:0.9em; font-weight:400; color:#6e6e6e;'>Blue bars extend left showing average law strength <br>Red bars extend right showing avg deaths per 100k<br>  </span>",
         "x": 0.03,
         "xanchor": "left"
        },
        "width": 1400,
        "xaxis": {
         "fixedrange": true,
         "mirror": false,
         "range": [
          -1.15,
          1.15
         ],
         "showgrid": false,
         "showline": false,
         "visible": false,
         "zeroline": false
        },
        "yaxis": {
         "mirror": false,
         "showgrid": false,
         "showline": false,
         "zeroline": false
        }
       }
      }
     },
     "metadata": {},
     "output_type": "display_data"
    }
   ],
   "source": [
    "d = analysis_df.copy()\n",
    "d[[\"year\",\"laws_strength\",\"crude_rate\"]] = d[[\"year\",\"laws_strength\",\"crude_rate\"]].apply(pd.to_numeric, errors=\"coerce\")\n",
    "d = d.loc[d[\"year\"]==2023, [\"state_abb\",\"laws_strength\",\"crude_rate\"]].dropna()\n",
    "\n",
    "labels = [\"Very high\",\"High\",\"Moderate\",\"Low\",\"Very low\"]  \n",
    "d[\"tier\"] = pd.qcut(d[\"laws_strength\"], q=5, labels=labels, duplicates=\"drop\")\n",
    "\n",
    "g = (d.groupby(\"tier\", observed=True)\n",
    "       .agg(avg_strength=(\"laws_strength\",\"mean\"),\n",
    "            avg_deaths=(\"crude_rate\",\"mean\"),\n",
    "            n=(\"state_abb\",\"count\"))\n",
    "       .reset_index())\n",
    "\n",
    "cat = pd.CategoricalDtype(categories=labels, ordered=True)\n",
    "g[\"tier\"] = g[\"tier\"].astype(cat)\n",
    "g = g.sort_values(\"tier\")\n",
    "\n",
    "name_map = {\n",
    "    \"Very high\":\"National Failures\",\n",
    "    \"High\":\"Weak Systems\",\n",
    "    \"Moderate\":\"Missing Key Laws\",\n",
    "    \"Low\":\"Making Progress\",\n",
    "    \"Very low\":\"National Leaders\",\n",
    "}\n",
    "\n",
    "\n",
    "g[\"display\"] = g[\"tier\"].map(name_map)\n",
    "\n",
    "s_min, s_max = g[\"avg_strength\"].min(), g[\"avg_strength\"].max()\n",
    "blue_len = (g[\"avg_strength\"] - s_min) / (s_max - s_min + 1e-9)\n",
    "\n",
    "d_min, d_max = g[\"avg_deaths\"].min(), g[\"avg_deaths\"].max()\n",
    "red_len = (g[\"avg_deaths\"] - d_min) / (d_max - d_min + 1e-9)\n",
    "\n",
    "track = np.ones(len(g))\n",
    "\n",
    "fig = go.Figure()\n",
    "\n",
    "n = len(g)\n",
    "fig.add_bar(\n",
    "    y=g[\"display\"], x=2*np.ones(n), base=-1, orientation=\"h\",\n",
    "    marker=dict(color=\"#ebf0fa\"), hoverinfo=\"skip\", showlegend=False,\n",
    "    offsetgroup=0\n",
    ")\n",
    "\n",
    "fig.add_bar(\n",
    "    y=g[\"display\"], x=-blue_len, orientation=\"h\",\n",
    "    marker=dict(color=\"#3b6df6\"), opacity=0.9,\n",
    "    name=\"Avg law strength (scaled)\",\n",
    "    hovertemplate=\"%{y}<br>Avg law strength: %{customdata:.1f}<extra></extra>\",\n",
    "    customdata=g[\"avg_strength\"],\n",
    "    offsetgroup=0\n",
    ")\n",
    "\n",
    "fig.add_bar(\n",
    "    y=g[\"display\"], x=red_len, orientation=\"h\",\n",
    "    marker=dict(color=\"#e34234\"), opacity=0.9,\n",
    "    name=\"Avg deaths/100k (scaled)\",\n",
    "    hovertemplate=\"%{y}<br>Avg deaths/100k: %{customdata:.1f}<extra></extra>\",\n",
    "    customdata=g[\"avg_deaths\"],\n",
    "    offsetgroup=1 \n",
    ")\n",
    "\n",
    "\n",
    "fig.update_layout(\n",
    "    barmode=\"overlay\", bargap=0.45, template=\"simple_white\",\n",
    "    width=1000, height=420, showlegend=False,\n",
    "    title=dict(\n",
    "        text=(\"Strong Gun Laws, Fewer Deaths\"\n",
    "              \"<br><span style='font-size:0.9em; font-weight:400; color:#6e6e6e;'>\"\n",
    "              \"Blue bars extend left showing average law strength \"\n",
    "              \"<br>Red bars extend right showing avg deaths per 100k\"\n",
    "              \"<br>  \"\n",
    "              \"</span>\"),\n",
    "        x=0.03, xanchor=\"left\"\n",
    "    ),\n",
    "    margin=dict(l=240, r=30, t=80, b=80)  \n",
    ")\n",
    "\n",
    "fig.update_xaxes(visible=False, range=[-1.05, 1.05], fixedrange=True,\n",
    "                 showline=False, mirror=False, showgrid=False, zeroline=False)\n",
    "\n",
    "fig.update_yaxes(showline=False, mirror=False, showgrid=False, zeroline=False)\n",
    "\n",
    "fig.update_layout(plot_bgcolor=\"white\")\n",
    "fig.add_vline(x=0, line_color=\"#bdbdbd\", line_width=2, opacity=0.9)\n",
    "\n",
    "pad = 0.02\n",
    "\n",
    "\n",
    "\n",
    "for y, blen, rlen, sval, dval in zip(\n",
    "        g[\"display\"], blue_len, red_len, g[\"avg_strength\"], g[\"avg_deaths\"]):\n",
    "\n",
    "    fig.add_annotation(\n",
    "        x=-(blen + pad), y=y, xref=\"x\", yref=\"y\",\n",
    "        text=f\"{sval:.0f}\", showarrow=False,\n",
    "        xanchor=\"right\", yanchor=\"middle\",\n",
    "        font=dict(color=\"#3b6df6\", size=11)\n",
    "    )\n",
    "\n",
    "    # Red label (to the right of the red bar end)\n",
    "    fig.add_annotation(\n",
    "        x=(rlen + pad), y=y, xref=\"x\", yref=\"y\",\n",
    "        text=f\"{dval:.1f}\", showarrow=False,\n",
    "        xanchor=\"left\", yanchor=\"middle\",\n",
    "        font=dict(color=\"#e34234\", size=11)\n",
    "    )\n",
    "\n",
    "    \n",
    "\n",
    "fig.update_layout(width=1400, height=520, margin=dict(l=240, r=30, t=80, b=30))\n",
    "fig.update_xaxes(visible=False, range=[-1.15, 1.15], fixedrange=True)\n",
    "#fig.update_yaxes(visible=False)\n",
    "\n",
    "fig.show()\n"
   ]
  },
  {
   "cell_type": "markdown",
   "id": "e380fcc4",
   "metadata": {},
   "source": [
    "States in stronger law tiers average lower firearm death rates; as law strength falls from “National Leaders” to “National Failures,” deaths rise from ~8.6 to ~19.6 per 100k. It’s a strong indicator that gun laws and regulations have an effect on death rates caused by guns."
   ]
  },
  {
   "cell_type": "markdown",
   "id": "f419ae38",
   "metadata": {},
   "source": [
    "## Conclusion\n",
    "Across every analysis I made, the story is consistent: states grouped into stronger law tiers have materially lower firearm death rates, and the gap is big - roughly 8–10 deaths per 100k in the strongest tier versus ~20 per 100k in the weakest. This fact is hard to ignore. Still, this is an association, built on an index and a single year; it could be shaped by ownership prevalence, suicide vs. homicide mix, urbanization, poverty, policing, trafficking from neighboring states, or simple policy lag (stronger laws may take time to bite). \n",
    "\n",
    "To see if these facts are real, next things I would do: \n",
    "* run population-weighted models with controls for ownership numbers, income, education, urban share, and region (also drug and alcohol addictions can play as a factors); \n",
    "* add trafficking factors from neighboring states and states bordering with Mexico features (weak-law neighbors); \n",
    "* split outcomes into homicide vs. suicide; \n",
    "* do a multi-year panel to capture before/after changes when states gun laws and regulations; \n",
    "\n",
    "\n",
    "The current evidence points in one direction — stronger laws align with fewer deaths."
   ]
  }
 ],
 "metadata": {
  "kernelspec": {
   "display_name": "stl-recsys",
   "language": "python",
   "name": "python3"
  },
  "language_info": {
   "codemirror_mode": {
    "name": "ipython",
    "version": 3
   },
   "file_extension": ".py",
   "mimetype": "text/x-python",
   "name": "python",
   "nbconvert_exporter": "python",
   "pygments_lexer": "ipython3",
   "version": "3.11.13"
  }
 },
 "nbformat": 4,
 "nbformat_minor": 5
}
