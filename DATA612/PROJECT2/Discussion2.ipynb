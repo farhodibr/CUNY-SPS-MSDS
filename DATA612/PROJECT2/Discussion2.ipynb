{
 "cells": [
  {
   "cell_type": "markdown",
   "id": "8fd90aa7",
   "metadata": {},
   "source": [
    "## DATA 612 Week 2 Discussion.\n",
    "Farhod Ibragimov"
   ]
  },
  {
   "cell_type": "markdown",
   "id": "c5bd4033",
   "metadata": {},
   "source": [
    "The core idea of Spotify's recommendation engine, as detailed by Johnson, is the principle of collaborative filtering, a method that makes automatic predictions about the interests of a user by collecting preferences from many users.\n",
    "Basically, Spotify used Spark and implicit ALS to handle music recommendations across billions of interactions. This was a big move at that time, especially since Hadoop couldn’t handle iterative algorithms efficiently. Spark made that possible with in-memory processing, which sped upeverything. That was nice, but not without trade-offs.\n",
    "What was interesting is how they added weights to interactions. So yeah, while the base signal is binary (listened or not), they actually give more influence to songs that are played frequently. For example, if someone listened to a Michael Jackson song 1000 times and Daft Punk once, the model doesn’t just record “1” for both — it weights the Michael Jackson row much more heavily. That changes how the RMSE (Root Mean Squared Error) is calculated during training, too — the model gets penalized more for getting the high-weighted predictions wrong.\n",
    "They’re still using an implicit feedback model, but tuning it with frequency-based weighting to make it a bit more expressive. It’s better than raw binary, but they're still missing user's full behavior. What about skip rate, playlist adds, time of day (as Netflix does). Seems like there’s still a lot of points they’re ignoring.\n",
    "Spark definitely helped them resolve the isuues from slow, disk-heavy Hadoop jobs. But Spark still has jobs fail, serialization sounds as a bit of mess, and memory issues are constant. So it’s not like Spark really solves everything. It works, but a lot of work has to be done to resolve Spark's issues.\n",
    "Another issue I've noticed is that he didn't mention \"cold start\" problems. Even today, with all AI's capabilities, the \"cold start\" problem is one of the most challenges in recommender systems. How does Spotify recommended anything to a brand new user or handle tracks with no listening history?\n",
    "Honestly, I am not very impressed with Spotify's recommender system. It feels like if I keep listening to one style, one artist, or one mood, the algorithm keeps feeding me more and more of the same. Sounds like their motto is \"if it worked before, it will work again\". But it gets boring fast. In \"Recommended for you\" section it offers most of the artists/bands I recently listened. Not much to surprise or discover new things. It’s more reinforcement than exploration."
   ]
  }
 ],
 "metadata": {
  "language_info": {
   "name": "python"
  }
 },
 "nbformat": 4,
 "nbformat_minor": 5
}
