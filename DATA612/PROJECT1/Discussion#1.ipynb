{
 "cells": [
  {
   "cell_type": "markdown",
   "id": "4e34e6d4",
   "metadata": {},
   "source": [
    "## Research Discussion Assignment 1 : \n",
    "\n",
    "Let’s take Netflix and YouTube — two very different beasts, both using recommendation systems, but with different goals and behaviors.\n",
    "\n",
    "## Netflix.\n",
    "Netflix uses a hybrid system — mostly collaborative filtering (what similar users liked), some content-based filtering (genre, actors, keywords), plus a layer of business logic. So if people who watched *Breaking Bad* also liked *Ozark*, guess what you’ll see next?\n",
    "\n",
    "They also run tons of A/B tests — different artwork, row order, etc., just to see what gets clicked more. But here’s the catch: the system isn’t purely optimizing for your taste. It pushes *Netflix Originals* even when they clearly don’t fit your history. That’s not algorithmic — that’s marketing.\n",
    "\n",
    "Does it work? Kind of. Once it knows you, the recommendations improve. But if you’re a new user or on a shared account, it’s usually off. And the heavy-handed promotion makes it hard to trust what’s genuinely tailored vs. what they just want you to click.\n",
    "\n",
    "## YouTube\n",
    "YouTube’s recommender is all about behavior. It tracks everything — watch time, clicks, likes, dislikes, comments, even how fast you bounce off a video. Behind the scenes, it runs on deep learning — sequence models that try to predict what you’ll watch next based on past behavior.\n",
    "\n",
    "It’s aggressive. One click on a certain type of video and your whole feed shifts — which honestly works great for me. But here’s the downside: it’s tuned for engagement, not accuracy. It doesn’t care if content is good, bad, or misleading — just whether you’ll keep watching. Great for deep dives (super helpful when I’m studying), but not so great for keeping a balanced feed.\n",
    "\n",
    "That said, it’s really good at figuring out what you’ll click next. Not always helpful — but very effective.\n",
    "\n",
    "Bottom Line\n",
    "Netflix tries to look curated, but it’s part algorithm, part PR.\n",
    "YouTube is raw — fully optimized for attention, no matter the consequences.\n",
    "Both are smart, but neither is exactly looking out for you.\n",
    "\n",
    "\n",
    "\n",
    "\n",
    "\n",
    "\n",
    "\n",
    "\n"
   ]
  },
  {
   "cell_type": "markdown",
   "id": "1719d8b6",
   "metadata": {},
   "source": [
    "## How Review-Bombing Exposed a Major Flaw in Goodreads’ Recommender System\n",
    "[**NBC article** on Cait Corrain and the fallout](https://www.nbcnews.com/pop-culture/author-cait-corrain-goodreads-review-bombing-allegations-fallout-rcna129134)\n",
    "\n",
    "\n",
    "Cait Corrain, a debut author, used fake Goodreads accounts to review-bomb other 2024 debut authors (mostly BIPOC) while artificially boosting her own book Crown of Starlight. She admitted to making 8 fake profiles, leaving abusive reviews on other titles, and five-starring her own — all before her book was even released.\n",
    "\n",
    "She was dropped by her publisher (Del Rey) and agent, and platforms like Illumicrate removed her book from upcoming boxes. The whole thing unraveled after users started connecting the dots and exposing the fake accounts.\n",
    "\n",
    "What’s wild is that Goodreads didn’t catch it — users did.\n",
    "\n",
    "## How this can be fixed?\n",
    "\n",
    "If one person with a handful of burner accounts can mess with ratings like that, the system’s way too easy to exploit. Here’s what I’d do:\n",
    "\n",
    "- No reviews before release unless it’s a verified ARC or purchase. Nobody needs star ratings for books nobody's read yet.\n",
    "\n",
    "- Trust scores for accounts — if you’re new, you don’t get full weight. Accounts with history and real activity should matter more.\n",
    "\n",
    "- Catch weird patterns — like a bunch of new accounts giving 1-stars to the same group of authors and 5-starring just one book? That should trigger a flag automatically.\n",
    "\n",
    "- Authors shouldn't be rating each other’s books — especially debuts in the same season. \n",
    "\n",
    "- Tell people why something’s trending — not just “4.8 stars,” but who is rating it and how legit that is.\n",
    "\n"
   ]
  },
  {
   "cell_type": "markdown",
   "id": "c80a7435",
   "metadata": {},
   "source": [
    "## The Risks Behind Recommender Systems\n",
    "Recommender systems are everywhere — Netflix, YouTube, Goodreads — and they’re powerful. But that power comes with risk, and most platforms aren’t built to handle the kind of manipulation that’s already happening.\n",
    "\n",
    "The Netflix example shows how business priorities creep into recommendations. You’re not just getting stuff you’ll like — you’re getting pushed what they want you to watch. Same with YouTube — it’s so tuned for engagement, one wrong click and your feed gets hijacked. It’s great if you want deep dives, but terrible for balanced discovery.\n",
    "\n",
    "Then there’s the Goodreads situation — straight-up abuse of the system. One author with 8 fake accounts caused real damage. If that doesn’t prove the system is easy to exploit, I don’t know what does.\n",
    "\n",
    "Bottom line: these systems look smart, but they’re easy to game. The risk isn’t just bad recommendations — it’s trust getting destroyed. If users start thinking the system’s rigged (and it kinda is), the whole thing loses credibility."
   ]
  }
 ],
 "metadata": {
  "language_info": {
   "name": "python"
  }
 },
 "nbformat": 4,
 "nbformat_minor": 5
}
