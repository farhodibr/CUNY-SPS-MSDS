{
 "cells": [
  {
   "cell_type": "markdown",
   "id": "85b5944e",
   "metadata": {},
   "source": [
    "### DATA612 Project 1.\n",
    "### Author: Farhod Ibragimov\n",
    "\n",
    "## Movie Recommender\n",
    "This notebook builds a simple **bias-based recommendation system** using movie ratings collected from my friends via a Google form. The main goal is to predict missing ratings by estimating global, user and item biases."
   ]
  },
  {
   "cell_type": "code",
   "execution_count": 93,
   "id": "b4e9bb58",
   "metadata": {},
   "outputs": [],
   "source": [
    "import pandas as pd\n",
    "import numpy as np\n",
    "import matplotlib.pyplot as plt\n",
    "from sklearn.model_selection import train_test_split\n",
    "\n",
    "\n",
    "\n"
   ]
  },
  {
   "cell_type": "code",
   "execution_count": 68,
   "id": "bc51f2e9",
   "metadata": {},
   "outputs": [],
   "source": [
    "import sys\n",
    "#!{sys.executable} -m pip show matplotlib\n"
   ]
  },
  {
   "cell_type": "code",
   "execution_count": 69,
   "id": "cbabaef0",
   "metadata": {},
   "outputs": [],
   "source": [
    "np.random.seed(123)"
   ]
  },
  {
   "cell_type": "markdown",
   "id": "300efd72",
   "metadata": {},
   "source": [
    "I will use movie ratings from the surveys completed by my friends:\n",
    "- The timestamp column is removed as it's not relevant to the analysis.\n",
    "- The Name column is set as the index for each user\n",
    "- Ratings are converted to float format."
   ]
  },
  {
   "cell_type": "code",
   "execution_count": 70,
   "id": "38ed7738",
   "metadata": {},
   "outputs": [],
   "source": [
    "movie_rating_df = pd.read_csv(\"https://raw.githubusercontent.com/farhodibr/CUNY-SPS-MSDS/refs/heads/main/DATA612/PROJECT1/movie_reviews%20-%20Form%20Responses%201%20(1).csv\")\n",
    "movie_rating_df = movie_rating_df.drop(columns=[\"Timestamp\"])\n",
    "movie_rating_df = movie_rating_df.set_index(\"Name\")\n",
    "movie_rating_df[\"Gladiator2\"] = movie_rating_df[\"Gladiator2\"].astype(float)\n"
   ]
  },
  {
   "cell_type": "code",
   "execution_count": 71,
   "id": "f36f399f",
   "metadata": {},
   "outputs": [
    {
     "name": "stdout",
     "output_type": "stream",
     "text": [
      "                      Gladiator2  Wolfs  The_Substance  Bad_Boys4  \\\n",
      "Name                                                                \n",
      "Aiuna                        1.0    NaN            5.0        2.0   \n",
      "Ilya                         3.0    3.0            3.0        3.0   \n",
      "Vadim                        1.0    NaN            3.0        1.0   \n",
      "Vladimir Storchevoy          5.0    5.0            5.0        5.0   \n",
      "Timur                        5.0    5.0            4.0        5.0   \n",
      "Gosha                        4.0    5.0            3.0        5.0   \n",
      "Bob                          3.0    5.0            4.0        NaN   \n",
      "Kirill                       4.0    4.0            NaN        5.0   \n",
      "James                        3.0    4.0            4.0        5.0   \n",
      "\n",
      "                      The_Beekeeper  Rebel_Ridge  \n",
      "Name                                              \n",
      "Aiuna                           2.0          1.0  \n",
      "Ilya                            NaN          3.0  \n",
      "Vadim                           3.0          3.0  \n",
      "Vladimir Storchevoy             4.0          4.0  \n",
      "Timur                           3.0          3.0  \n",
      "Gosha                           4.0          4.0  \n",
      "Bob                             3.0          NaN  \n",
      "Kirill                          3.0          3.0  \n",
      "James                           3.0          3.0  \n"
     ]
    }
   ],
   "source": [
    "print(movie_rating_df)"
   ]
  },
  {
   "cell_type": "code",
   "execution_count": 72,
   "id": "f188982c",
   "metadata": {},
   "outputs": [
    {
     "data": {
      "text/html": [
       "<style type=\"text/css\">\n",
       "</style>\n",
       "<table id=\"T_3e641\">\n",
       "  <caption>Movie ratings by users</caption>\n",
       "  <thead>\n",
       "    <tr>\n",
       "      <th class=\"blank level0\" >&nbsp;</th>\n",
       "      <th id=\"T_3e641_level0_col0\" class=\"col_heading level0 col0\" >Gladiator2</th>\n",
       "      <th id=\"T_3e641_level0_col1\" class=\"col_heading level0 col1\" >Wolfs</th>\n",
       "      <th id=\"T_3e641_level0_col2\" class=\"col_heading level0 col2\" >The_Substance</th>\n",
       "      <th id=\"T_3e641_level0_col3\" class=\"col_heading level0 col3\" >Bad_Boys4</th>\n",
       "      <th id=\"T_3e641_level0_col4\" class=\"col_heading level0 col4\" >The_Beekeeper</th>\n",
       "      <th id=\"T_3e641_level0_col5\" class=\"col_heading level0 col5\" >Rebel_Ridge</th>\n",
       "    </tr>\n",
       "    <tr>\n",
       "      <th class=\"index_name level0\" >Name</th>\n",
       "      <th class=\"blank col0\" >&nbsp;</th>\n",
       "      <th class=\"blank col1\" >&nbsp;</th>\n",
       "      <th class=\"blank col2\" >&nbsp;</th>\n",
       "      <th class=\"blank col3\" >&nbsp;</th>\n",
       "      <th class=\"blank col4\" >&nbsp;</th>\n",
       "      <th class=\"blank col5\" >&nbsp;</th>\n",
       "    </tr>\n",
       "  </thead>\n",
       "  <tbody>\n",
       "    <tr>\n",
       "      <th id=\"T_3e641_level0_row0\" class=\"row_heading level0 row0\" >Aiuna </th>\n",
       "      <td id=\"T_3e641_row0_col0\" class=\"data row0 col0\" >1.00</td>\n",
       "      <td id=\"T_3e641_row0_col1\" class=\"data row0 col1\" >NaN</td>\n",
       "      <td id=\"T_3e641_row0_col2\" class=\"data row0 col2\" >5.00</td>\n",
       "      <td id=\"T_3e641_row0_col3\" class=\"data row0 col3\" >2.00</td>\n",
       "      <td id=\"T_3e641_row0_col4\" class=\"data row0 col4\" >2.00</td>\n",
       "      <td id=\"T_3e641_row0_col5\" class=\"data row0 col5\" >1.00</td>\n",
       "    </tr>\n",
       "    <tr>\n",
       "      <th id=\"T_3e641_level0_row1\" class=\"row_heading level0 row1\" >Ilya</th>\n",
       "      <td id=\"T_3e641_row1_col0\" class=\"data row1 col0\" >3.00</td>\n",
       "      <td id=\"T_3e641_row1_col1\" class=\"data row1 col1\" >3.00</td>\n",
       "      <td id=\"T_3e641_row1_col2\" class=\"data row1 col2\" >3.00</td>\n",
       "      <td id=\"T_3e641_row1_col3\" class=\"data row1 col3\" >3.00</td>\n",
       "      <td id=\"T_3e641_row1_col4\" class=\"data row1 col4\" >NaN</td>\n",
       "      <td id=\"T_3e641_row1_col5\" class=\"data row1 col5\" >3.00</td>\n",
       "    </tr>\n",
       "    <tr>\n",
       "      <th id=\"T_3e641_level0_row2\" class=\"row_heading level0 row2\" >Vadim</th>\n",
       "      <td id=\"T_3e641_row2_col0\" class=\"data row2 col0\" >1.00</td>\n",
       "      <td id=\"T_3e641_row2_col1\" class=\"data row2 col1\" >NaN</td>\n",
       "      <td id=\"T_3e641_row2_col2\" class=\"data row2 col2\" >3.00</td>\n",
       "      <td id=\"T_3e641_row2_col3\" class=\"data row2 col3\" >1.00</td>\n",
       "      <td id=\"T_3e641_row2_col4\" class=\"data row2 col4\" >3.00</td>\n",
       "      <td id=\"T_3e641_row2_col5\" class=\"data row2 col5\" >3.00</td>\n",
       "    </tr>\n",
       "    <tr>\n",
       "      <th id=\"T_3e641_level0_row3\" class=\"row_heading level0 row3\" >Vladimir Storchevoy </th>\n",
       "      <td id=\"T_3e641_row3_col0\" class=\"data row3 col0\" >5.00</td>\n",
       "      <td id=\"T_3e641_row3_col1\" class=\"data row3 col1\" >5.00</td>\n",
       "      <td id=\"T_3e641_row3_col2\" class=\"data row3 col2\" >5.00</td>\n",
       "      <td id=\"T_3e641_row3_col3\" class=\"data row3 col3\" >5.00</td>\n",
       "      <td id=\"T_3e641_row3_col4\" class=\"data row3 col4\" >4.00</td>\n",
       "      <td id=\"T_3e641_row3_col5\" class=\"data row3 col5\" >4.00</td>\n",
       "    </tr>\n",
       "    <tr>\n",
       "      <th id=\"T_3e641_level0_row4\" class=\"row_heading level0 row4\" >Timur</th>\n",
       "      <td id=\"T_3e641_row4_col0\" class=\"data row4 col0\" >5.00</td>\n",
       "      <td id=\"T_3e641_row4_col1\" class=\"data row4 col1\" >5.00</td>\n",
       "      <td id=\"T_3e641_row4_col2\" class=\"data row4 col2\" >4.00</td>\n",
       "      <td id=\"T_3e641_row4_col3\" class=\"data row4 col3\" >5.00</td>\n",
       "      <td id=\"T_3e641_row4_col4\" class=\"data row4 col4\" >3.00</td>\n",
       "      <td id=\"T_3e641_row4_col5\" class=\"data row4 col5\" >3.00</td>\n",
       "    </tr>\n",
       "    <tr>\n",
       "      <th id=\"T_3e641_level0_row5\" class=\"row_heading level0 row5\" >Gosha</th>\n",
       "      <td id=\"T_3e641_row5_col0\" class=\"data row5 col0\" >4.00</td>\n",
       "      <td id=\"T_3e641_row5_col1\" class=\"data row5 col1\" >5.00</td>\n",
       "      <td id=\"T_3e641_row5_col2\" class=\"data row5 col2\" >3.00</td>\n",
       "      <td id=\"T_3e641_row5_col3\" class=\"data row5 col3\" >5.00</td>\n",
       "      <td id=\"T_3e641_row5_col4\" class=\"data row5 col4\" >4.00</td>\n",
       "      <td id=\"T_3e641_row5_col5\" class=\"data row5 col5\" >4.00</td>\n",
       "    </tr>\n",
       "    <tr>\n",
       "      <th id=\"T_3e641_level0_row6\" class=\"row_heading level0 row6\" >Bob</th>\n",
       "      <td id=\"T_3e641_row6_col0\" class=\"data row6 col0\" >3.00</td>\n",
       "      <td id=\"T_3e641_row6_col1\" class=\"data row6 col1\" >5.00</td>\n",
       "      <td id=\"T_3e641_row6_col2\" class=\"data row6 col2\" >4.00</td>\n",
       "      <td id=\"T_3e641_row6_col3\" class=\"data row6 col3\" >NaN</td>\n",
       "      <td id=\"T_3e641_row6_col4\" class=\"data row6 col4\" >3.00</td>\n",
       "      <td id=\"T_3e641_row6_col5\" class=\"data row6 col5\" >NaN</td>\n",
       "    </tr>\n",
       "    <tr>\n",
       "      <th id=\"T_3e641_level0_row7\" class=\"row_heading level0 row7\" >Kirill</th>\n",
       "      <td id=\"T_3e641_row7_col0\" class=\"data row7 col0\" >4.00</td>\n",
       "      <td id=\"T_3e641_row7_col1\" class=\"data row7 col1\" >4.00</td>\n",
       "      <td id=\"T_3e641_row7_col2\" class=\"data row7 col2\" >NaN</td>\n",
       "      <td id=\"T_3e641_row7_col3\" class=\"data row7 col3\" >5.00</td>\n",
       "      <td id=\"T_3e641_row7_col4\" class=\"data row7 col4\" >3.00</td>\n",
       "      <td id=\"T_3e641_row7_col5\" class=\"data row7 col5\" >3.00</td>\n",
       "    </tr>\n",
       "    <tr>\n",
       "      <th id=\"T_3e641_level0_row8\" class=\"row_heading level0 row8\" >James</th>\n",
       "      <td id=\"T_3e641_row8_col0\" class=\"data row8 col0\" >3.00</td>\n",
       "      <td id=\"T_3e641_row8_col1\" class=\"data row8 col1\" >4.00</td>\n",
       "      <td id=\"T_3e641_row8_col2\" class=\"data row8 col2\" >4.00</td>\n",
       "      <td id=\"T_3e641_row8_col3\" class=\"data row8 col3\" >5.00</td>\n",
       "      <td id=\"T_3e641_row8_col4\" class=\"data row8 col4\" >3.00</td>\n",
       "      <td id=\"T_3e641_row8_col5\" class=\"data row8 col5\" >3.00</td>\n",
       "    </tr>\n",
       "  </tbody>\n",
       "</table>\n"
      ],
      "text/plain": [
       "<pandas.io.formats.style.Styler at 0x208c1ae0550>"
      ]
     },
     "execution_count": 72,
     "metadata": {},
     "output_type": "execute_result"
    }
   ],
   "source": [
    "movie_rating_df.style\\\n",
    "    .set_caption(\"Movie ratings by users\")\\\n",
    "    .format(precision=2, na_rep=\"NaN\")\n",
    "    \n"
   ]
  },
  {
   "cell_type": "markdown",
   "id": "3101b14a",
   "metadata": {},
   "source": [
    "As we see some of my friends didn't rate some movies. In this project I will work to predict ratings for unrated movies using simple bias-based recommendation system."
   ]
  },
  {
   "cell_type": "markdown",
   "id": "a9f6ef60",
   "metadata": {},
   "source": [
    "## Splitting data into train and test sets\n",
    "I used a structured split instead of random sampling:\n",
    "- Every other row and every other column are selected to create the test set\n",
    "- It's simulates a controlled missing data pattern\n",
    "- Remaining values are used for train set."
   ]
  },
  {
   "cell_type": "code",
   "execution_count": 73,
   "id": "b0caa8b5",
   "metadata": {},
   "outputs": [],
   "source": [
    "mask = ~movie_rating_df.isna()\n",
    "test_mask = pd.DataFrame(False, index=mask.index, columns=mask.columns)\n",
    "\n",
    "for i, user in enumerate(movie_rating_df.index):\n",
    "    for j, item in enumerate(movie_rating_df.columns):\n",
    "        if i % 2 == 0 and j % 2 == 1 and mask.at[user, item]:\n",
    "            test_mask.at[user, item] = True\n",
    "\n",
    "train_mask = mask & ~test_mask\n",
    "train_df = movie_rating_df.where(train_mask)\n",
    "test_df = movie_rating_df.where(test_mask)\n"
   ]
  },
  {
   "cell_type": "code",
   "execution_count": 74,
   "id": "c81eedf6",
   "metadata": {},
   "outputs": [
    {
     "data": {
      "text/html": [
       "<style type=\"text/css\">\n",
       "</style>\n",
       "<table id=\"T_02230\">\n",
       "  <caption>Train set</caption>\n",
       "  <thead>\n",
       "    <tr>\n",
       "      <th class=\"blank level0\" >&nbsp;</th>\n",
       "      <th id=\"T_02230_level0_col0\" class=\"col_heading level0 col0\" >Gladiator2</th>\n",
       "      <th id=\"T_02230_level0_col1\" class=\"col_heading level0 col1\" >Wolfs</th>\n",
       "      <th id=\"T_02230_level0_col2\" class=\"col_heading level0 col2\" >The_Substance</th>\n",
       "      <th id=\"T_02230_level0_col3\" class=\"col_heading level0 col3\" >Bad_Boys4</th>\n",
       "      <th id=\"T_02230_level0_col4\" class=\"col_heading level0 col4\" >The_Beekeeper</th>\n",
       "      <th id=\"T_02230_level0_col5\" class=\"col_heading level0 col5\" >Rebel_Ridge</th>\n",
       "    </tr>\n",
       "    <tr>\n",
       "      <th class=\"index_name level0\" >Name</th>\n",
       "      <th class=\"blank col0\" >&nbsp;</th>\n",
       "      <th class=\"blank col1\" >&nbsp;</th>\n",
       "      <th class=\"blank col2\" >&nbsp;</th>\n",
       "      <th class=\"blank col3\" >&nbsp;</th>\n",
       "      <th class=\"blank col4\" >&nbsp;</th>\n",
       "      <th class=\"blank col5\" >&nbsp;</th>\n",
       "    </tr>\n",
       "  </thead>\n",
       "  <tbody>\n",
       "    <tr>\n",
       "      <th id=\"T_02230_level0_row0\" class=\"row_heading level0 row0\" >Aiuna </th>\n",
       "      <td id=\"T_02230_row0_col0\" class=\"data row0 col0\" >1.00</td>\n",
       "      <td id=\"T_02230_row0_col1\" class=\"data row0 col1\" >NaN</td>\n",
       "      <td id=\"T_02230_row0_col2\" class=\"data row0 col2\" >5.00</td>\n",
       "      <td id=\"T_02230_row0_col3\" class=\"data row0 col3\" >NaN</td>\n",
       "      <td id=\"T_02230_row0_col4\" class=\"data row0 col4\" >2.00</td>\n",
       "      <td id=\"T_02230_row0_col5\" class=\"data row0 col5\" >NaN</td>\n",
       "    </tr>\n",
       "    <tr>\n",
       "      <th id=\"T_02230_level0_row1\" class=\"row_heading level0 row1\" >Ilya</th>\n",
       "      <td id=\"T_02230_row1_col0\" class=\"data row1 col0\" >3.00</td>\n",
       "      <td id=\"T_02230_row1_col1\" class=\"data row1 col1\" >3.00</td>\n",
       "      <td id=\"T_02230_row1_col2\" class=\"data row1 col2\" >3.00</td>\n",
       "      <td id=\"T_02230_row1_col3\" class=\"data row1 col3\" >3.00</td>\n",
       "      <td id=\"T_02230_row1_col4\" class=\"data row1 col4\" >NaN</td>\n",
       "      <td id=\"T_02230_row1_col5\" class=\"data row1 col5\" >3.00</td>\n",
       "    </tr>\n",
       "    <tr>\n",
       "      <th id=\"T_02230_level0_row2\" class=\"row_heading level0 row2\" >Vadim</th>\n",
       "      <td id=\"T_02230_row2_col0\" class=\"data row2 col0\" >1.00</td>\n",
       "      <td id=\"T_02230_row2_col1\" class=\"data row2 col1\" >NaN</td>\n",
       "      <td id=\"T_02230_row2_col2\" class=\"data row2 col2\" >3.00</td>\n",
       "      <td id=\"T_02230_row2_col3\" class=\"data row2 col3\" >NaN</td>\n",
       "      <td id=\"T_02230_row2_col4\" class=\"data row2 col4\" >3.00</td>\n",
       "      <td id=\"T_02230_row2_col5\" class=\"data row2 col5\" >NaN</td>\n",
       "    </tr>\n",
       "    <tr>\n",
       "      <th id=\"T_02230_level0_row3\" class=\"row_heading level0 row3\" >Vladimir Storchevoy </th>\n",
       "      <td id=\"T_02230_row3_col0\" class=\"data row3 col0\" >5.00</td>\n",
       "      <td id=\"T_02230_row3_col1\" class=\"data row3 col1\" >5.00</td>\n",
       "      <td id=\"T_02230_row3_col2\" class=\"data row3 col2\" >5.00</td>\n",
       "      <td id=\"T_02230_row3_col3\" class=\"data row3 col3\" >5.00</td>\n",
       "      <td id=\"T_02230_row3_col4\" class=\"data row3 col4\" >4.00</td>\n",
       "      <td id=\"T_02230_row3_col5\" class=\"data row3 col5\" >4.00</td>\n",
       "    </tr>\n",
       "    <tr>\n",
       "      <th id=\"T_02230_level0_row4\" class=\"row_heading level0 row4\" >Timur</th>\n",
       "      <td id=\"T_02230_row4_col0\" class=\"data row4 col0\" >5.00</td>\n",
       "      <td id=\"T_02230_row4_col1\" class=\"data row4 col1\" >NaN</td>\n",
       "      <td id=\"T_02230_row4_col2\" class=\"data row4 col2\" >4.00</td>\n",
       "      <td id=\"T_02230_row4_col3\" class=\"data row4 col3\" >NaN</td>\n",
       "      <td id=\"T_02230_row4_col4\" class=\"data row4 col4\" >3.00</td>\n",
       "      <td id=\"T_02230_row4_col5\" class=\"data row4 col5\" >NaN</td>\n",
       "    </tr>\n",
       "    <tr>\n",
       "      <th id=\"T_02230_level0_row5\" class=\"row_heading level0 row5\" >Gosha</th>\n",
       "      <td id=\"T_02230_row5_col0\" class=\"data row5 col0\" >4.00</td>\n",
       "      <td id=\"T_02230_row5_col1\" class=\"data row5 col1\" >5.00</td>\n",
       "      <td id=\"T_02230_row5_col2\" class=\"data row5 col2\" >3.00</td>\n",
       "      <td id=\"T_02230_row5_col3\" class=\"data row5 col3\" >5.00</td>\n",
       "      <td id=\"T_02230_row5_col4\" class=\"data row5 col4\" >4.00</td>\n",
       "      <td id=\"T_02230_row5_col5\" class=\"data row5 col5\" >4.00</td>\n",
       "    </tr>\n",
       "    <tr>\n",
       "      <th id=\"T_02230_level0_row6\" class=\"row_heading level0 row6\" >Bob</th>\n",
       "      <td id=\"T_02230_row6_col0\" class=\"data row6 col0\" >3.00</td>\n",
       "      <td id=\"T_02230_row6_col1\" class=\"data row6 col1\" >NaN</td>\n",
       "      <td id=\"T_02230_row6_col2\" class=\"data row6 col2\" >4.00</td>\n",
       "      <td id=\"T_02230_row6_col3\" class=\"data row6 col3\" >NaN</td>\n",
       "      <td id=\"T_02230_row6_col4\" class=\"data row6 col4\" >3.00</td>\n",
       "      <td id=\"T_02230_row6_col5\" class=\"data row6 col5\" >NaN</td>\n",
       "    </tr>\n",
       "    <tr>\n",
       "      <th id=\"T_02230_level0_row7\" class=\"row_heading level0 row7\" >Kirill</th>\n",
       "      <td id=\"T_02230_row7_col0\" class=\"data row7 col0\" >4.00</td>\n",
       "      <td id=\"T_02230_row7_col1\" class=\"data row7 col1\" >4.00</td>\n",
       "      <td id=\"T_02230_row7_col2\" class=\"data row7 col2\" >NaN</td>\n",
       "      <td id=\"T_02230_row7_col3\" class=\"data row7 col3\" >5.00</td>\n",
       "      <td id=\"T_02230_row7_col4\" class=\"data row7 col4\" >3.00</td>\n",
       "      <td id=\"T_02230_row7_col5\" class=\"data row7 col5\" >3.00</td>\n",
       "    </tr>\n",
       "    <tr>\n",
       "      <th id=\"T_02230_level0_row8\" class=\"row_heading level0 row8\" >James</th>\n",
       "      <td id=\"T_02230_row8_col0\" class=\"data row8 col0\" >3.00</td>\n",
       "      <td id=\"T_02230_row8_col1\" class=\"data row8 col1\" >NaN</td>\n",
       "      <td id=\"T_02230_row8_col2\" class=\"data row8 col2\" >4.00</td>\n",
       "      <td id=\"T_02230_row8_col3\" class=\"data row8 col3\" >NaN</td>\n",
       "      <td id=\"T_02230_row8_col4\" class=\"data row8 col4\" >3.00</td>\n",
       "      <td id=\"T_02230_row8_col5\" class=\"data row8 col5\" >NaN</td>\n",
       "    </tr>\n",
       "  </tbody>\n",
       "</table>\n"
      ],
      "text/plain": [
       "<pandas.io.formats.style.Styler at 0x208c1ae0690>"
      ]
     },
     "execution_count": 74,
     "metadata": {},
     "output_type": "execute_result"
    }
   ],
   "source": [
    "train_df.style\\\n",
    "    .set_caption(\"Train set\")\\\n",
    "    .format(precision=2, na_rep=\"NaN\")"
   ]
  },
  {
   "cell_type": "code",
   "execution_count": 75,
   "id": "32fe1b27",
   "metadata": {},
   "outputs": [
    {
     "data": {
      "text/html": [
       "<style type=\"text/css\">\n",
       "</style>\n",
       "<table id=\"T_01aad\">\n",
       "  <caption>Test set</caption>\n",
       "  <thead>\n",
       "    <tr>\n",
       "      <th class=\"blank level0\" >&nbsp;</th>\n",
       "      <th id=\"T_01aad_level0_col0\" class=\"col_heading level0 col0\" >Gladiator2</th>\n",
       "      <th id=\"T_01aad_level0_col1\" class=\"col_heading level0 col1\" >Wolfs</th>\n",
       "      <th id=\"T_01aad_level0_col2\" class=\"col_heading level0 col2\" >The_Substance</th>\n",
       "      <th id=\"T_01aad_level0_col3\" class=\"col_heading level0 col3\" >Bad_Boys4</th>\n",
       "      <th id=\"T_01aad_level0_col4\" class=\"col_heading level0 col4\" >The_Beekeeper</th>\n",
       "      <th id=\"T_01aad_level0_col5\" class=\"col_heading level0 col5\" >Rebel_Ridge</th>\n",
       "    </tr>\n",
       "    <tr>\n",
       "      <th class=\"index_name level0\" >Name</th>\n",
       "      <th class=\"blank col0\" >&nbsp;</th>\n",
       "      <th class=\"blank col1\" >&nbsp;</th>\n",
       "      <th class=\"blank col2\" >&nbsp;</th>\n",
       "      <th class=\"blank col3\" >&nbsp;</th>\n",
       "      <th class=\"blank col4\" >&nbsp;</th>\n",
       "      <th class=\"blank col5\" >&nbsp;</th>\n",
       "    </tr>\n",
       "  </thead>\n",
       "  <tbody>\n",
       "    <tr>\n",
       "      <th id=\"T_01aad_level0_row0\" class=\"row_heading level0 row0\" >Aiuna </th>\n",
       "      <td id=\"T_01aad_row0_col0\" class=\"data row0 col0\" >NaN</td>\n",
       "      <td id=\"T_01aad_row0_col1\" class=\"data row0 col1\" >NaN</td>\n",
       "      <td id=\"T_01aad_row0_col2\" class=\"data row0 col2\" >NaN</td>\n",
       "      <td id=\"T_01aad_row0_col3\" class=\"data row0 col3\" >2.00</td>\n",
       "      <td id=\"T_01aad_row0_col4\" class=\"data row0 col4\" >NaN</td>\n",
       "      <td id=\"T_01aad_row0_col5\" class=\"data row0 col5\" >1.00</td>\n",
       "    </tr>\n",
       "    <tr>\n",
       "      <th id=\"T_01aad_level0_row1\" class=\"row_heading level0 row1\" >Ilya</th>\n",
       "      <td id=\"T_01aad_row1_col0\" class=\"data row1 col0\" >NaN</td>\n",
       "      <td id=\"T_01aad_row1_col1\" class=\"data row1 col1\" >NaN</td>\n",
       "      <td id=\"T_01aad_row1_col2\" class=\"data row1 col2\" >NaN</td>\n",
       "      <td id=\"T_01aad_row1_col3\" class=\"data row1 col3\" >NaN</td>\n",
       "      <td id=\"T_01aad_row1_col4\" class=\"data row1 col4\" >NaN</td>\n",
       "      <td id=\"T_01aad_row1_col5\" class=\"data row1 col5\" >NaN</td>\n",
       "    </tr>\n",
       "    <tr>\n",
       "      <th id=\"T_01aad_level0_row2\" class=\"row_heading level0 row2\" >Vadim</th>\n",
       "      <td id=\"T_01aad_row2_col0\" class=\"data row2 col0\" >NaN</td>\n",
       "      <td id=\"T_01aad_row2_col1\" class=\"data row2 col1\" >NaN</td>\n",
       "      <td id=\"T_01aad_row2_col2\" class=\"data row2 col2\" >NaN</td>\n",
       "      <td id=\"T_01aad_row2_col3\" class=\"data row2 col3\" >1.00</td>\n",
       "      <td id=\"T_01aad_row2_col4\" class=\"data row2 col4\" >NaN</td>\n",
       "      <td id=\"T_01aad_row2_col5\" class=\"data row2 col5\" >3.00</td>\n",
       "    </tr>\n",
       "    <tr>\n",
       "      <th id=\"T_01aad_level0_row3\" class=\"row_heading level0 row3\" >Vladimir Storchevoy </th>\n",
       "      <td id=\"T_01aad_row3_col0\" class=\"data row3 col0\" >NaN</td>\n",
       "      <td id=\"T_01aad_row3_col1\" class=\"data row3 col1\" >NaN</td>\n",
       "      <td id=\"T_01aad_row3_col2\" class=\"data row3 col2\" >NaN</td>\n",
       "      <td id=\"T_01aad_row3_col3\" class=\"data row3 col3\" >NaN</td>\n",
       "      <td id=\"T_01aad_row3_col4\" class=\"data row3 col4\" >NaN</td>\n",
       "      <td id=\"T_01aad_row3_col5\" class=\"data row3 col5\" >NaN</td>\n",
       "    </tr>\n",
       "    <tr>\n",
       "      <th id=\"T_01aad_level0_row4\" class=\"row_heading level0 row4\" >Timur</th>\n",
       "      <td id=\"T_01aad_row4_col0\" class=\"data row4 col0\" >NaN</td>\n",
       "      <td id=\"T_01aad_row4_col1\" class=\"data row4 col1\" >5.00</td>\n",
       "      <td id=\"T_01aad_row4_col2\" class=\"data row4 col2\" >NaN</td>\n",
       "      <td id=\"T_01aad_row4_col3\" class=\"data row4 col3\" >5.00</td>\n",
       "      <td id=\"T_01aad_row4_col4\" class=\"data row4 col4\" >NaN</td>\n",
       "      <td id=\"T_01aad_row4_col5\" class=\"data row4 col5\" >3.00</td>\n",
       "    </tr>\n",
       "    <tr>\n",
       "      <th id=\"T_01aad_level0_row5\" class=\"row_heading level0 row5\" >Gosha</th>\n",
       "      <td id=\"T_01aad_row5_col0\" class=\"data row5 col0\" >NaN</td>\n",
       "      <td id=\"T_01aad_row5_col1\" class=\"data row5 col1\" >NaN</td>\n",
       "      <td id=\"T_01aad_row5_col2\" class=\"data row5 col2\" >NaN</td>\n",
       "      <td id=\"T_01aad_row5_col3\" class=\"data row5 col3\" >NaN</td>\n",
       "      <td id=\"T_01aad_row5_col4\" class=\"data row5 col4\" >NaN</td>\n",
       "      <td id=\"T_01aad_row5_col5\" class=\"data row5 col5\" >NaN</td>\n",
       "    </tr>\n",
       "    <tr>\n",
       "      <th id=\"T_01aad_level0_row6\" class=\"row_heading level0 row6\" >Bob</th>\n",
       "      <td id=\"T_01aad_row6_col0\" class=\"data row6 col0\" >NaN</td>\n",
       "      <td id=\"T_01aad_row6_col1\" class=\"data row6 col1\" >5.00</td>\n",
       "      <td id=\"T_01aad_row6_col2\" class=\"data row6 col2\" >NaN</td>\n",
       "      <td id=\"T_01aad_row6_col3\" class=\"data row6 col3\" >NaN</td>\n",
       "      <td id=\"T_01aad_row6_col4\" class=\"data row6 col4\" >NaN</td>\n",
       "      <td id=\"T_01aad_row6_col5\" class=\"data row6 col5\" >NaN</td>\n",
       "    </tr>\n",
       "    <tr>\n",
       "      <th id=\"T_01aad_level0_row7\" class=\"row_heading level0 row7\" >Kirill</th>\n",
       "      <td id=\"T_01aad_row7_col0\" class=\"data row7 col0\" >NaN</td>\n",
       "      <td id=\"T_01aad_row7_col1\" class=\"data row7 col1\" >NaN</td>\n",
       "      <td id=\"T_01aad_row7_col2\" class=\"data row7 col2\" >NaN</td>\n",
       "      <td id=\"T_01aad_row7_col3\" class=\"data row7 col3\" >NaN</td>\n",
       "      <td id=\"T_01aad_row7_col4\" class=\"data row7 col4\" >NaN</td>\n",
       "      <td id=\"T_01aad_row7_col5\" class=\"data row7 col5\" >NaN</td>\n",
       "    </tr>\n",
       "    <tr>\n",
       "      <th id=\"T_01aad_level0_row8\" class=\"row_heading level0 row8\" >James</th>\n",
       "      <td id=\"T_01aad_row8_col0\" class=\"data row8 col0\" >NaN</td>\n",
       "      <td id=\"T_01aad_row8_col1\" class=\"data row8 col1\" >4.00</td>\n",
       "      <td id=\"T_01aad_row8_col2\" class=\"data row8 col2\" >NaN</td>\n",
       "      <td id=\"T_01aad_row8_col3\" class=\"data row8 col3\" >5.00</td>\n",
       "      <td id=\"T_01aad_row8_col4\" class=\"data row8 col4\" >NaN</td>\n",
       "      <td id=\"T_01aad_row8_col5\" class=\"data row8 col5\" >3.00</td>\n",
       "    </tr>\n",
       "  </tbody>\n",
       "</table>\n"
      ],
      "text/plain": [
       "<pandas.io.formats.style.Styler at 0x208c1ae07d0>"
      ]
     },
     "execution_count": 75,
     "metadata": {},
     "output_type": "execute_result"
    }
   ],
   "source": [
    "test_df.style\\\n",
    "    .set_caption(\"Test set\")\\\n",
    "    .format(precision=2, na_rep=\"NaN\")"
   ]
  },
  {
   "cell_type": "markdown",
   "id": "e4e12b46",
   "metadata": {},
   "source": [
    "## Global average rating\n",
    "Here we compute global mean rating from the training set"
   ]
  },
  {
   "cell_type": "code",
   "execution_count": 76,
   "id": "3020c6cf",
   "metadata": {},
   "outputs": [
    {
     "name": "stdout",
     "output_type": "stream",
     "text": [
      "Mean of training dataset: 3.6216216216216215\n"
     ]
    }
   ],
   "source": [
    "train_df_mean = np.nanmean(train_df)\n",
    "print(f\"Mean of training dataset: {train_df_mean}\")"
   ]
  },
  {
   "cell_type": "markdown",
   "id": "1760936b",
   "metadata": {},
   "source": [
    "This code chunk creates a prediction matrix filled entirely with the global set"
   ]
  },
  {
   "cell_type": "code",
   "execution_count": 77,
   "id": "9cd3a0c0",
   "metadata": {},
   "outputs": [],
   "source": [
    "predicted_df = pd.DataFrame(\n",
    "    np.full(train_df.shape, train_df_mean),\n",
    "    index=train_df.index,\n",
    "    columns=train_df.columns\n",
    ")"
   ]
  },
  {
   "cell_type": "markdown",
   "id": "2c634e71",
   "metadata": {},
   "source": [
    "## Root Mean Squared Error RMSE\n",
    "In the cell bellow is a reusable function to calculate Root Mean Squared Error RMSE.\n",
    "\n",
    "RMSE formula is defined as: \n",
    "\n",
    "$$\n",
    "\\text{RMSE} = \\sqrt{ \\frac{1}{n} \\sum_{i=1}^{n} (y_i - \\hat{y}_i)^2 }\n",
    "$$\n",
    "\n",
    "Where:\n",
    "\n",
    "- $y_i$: actual value (e.g., true rating)\n",
    "- $\\hat{y}_i$: predicted value from your model\n",
    "- $(y_i - \\hat{y}_i)$: error between actual and predicted\n",
    "- $(y_i - \\hat{y}_i)^2$: squared error\n",
    "- $\\sum_{i=1}^{n}$: sum over all $n$ data points\n",
    "- $\\frac{1}{n}$: average of squared errors (MSE)\n",
    "- $\\sqrt{...}$: square root to bring the error back to original scale\n",
    "\n",
    "     "
   ]
  },
  {
   "cell_type": "code",
   "execution_count": 78,
   "id": "4452caae",
   "metadata": {},
   "outputs": [],
   "source": [
    "def rmse_calc(df, predict_df):\n",
    "    actual_df = df.values.flatten()\n",
    "    predicted_df = predict_df.values.flatten()\n",
    "\n",
    "    mask = ~np.isnan(actual_df)\n",
    "    \n",
    "    squared_err = (actual_df[mask] - predicted_df[mask]) ** 2\n",
    "    mse = np.mean(squared_err)\n",
    "    rmse = round(np.sqrt(mse), 4)\n",
    "    \n",
    "    return rmse\n",
    "\n"
   ]
  },
  {
   "cell_type": "markdown",
   "id": "79298675",
   "metadata": {},
   "source": [
    "## Train RMSE using only global average"
   ]
  },
  {
   "cell_type": "code",
   "execution_count": 79,
   "id": "6b320c12",
   "metadata": {},
   "outputs": [
    {
     "name": "stdout",
     "output_type": "stream",
     "text": [
      "Trainset RMSE: 1.0488\n"
     ]
    }
   ],
   "source": [
    "train_rmse = rmse_calc(train_df, predicted_df)\n",
    "print(f\"Trainset RMSE: {train_rmse}\")"
   ]
  },
  {
   "cell_type": "markdown",
   "id": "3fa7d6bc",
   "metadata": {},
   "source": [
    "## Test RMSE using only global average"
   ]
  },
  {
   "cell_type": "code",
   "execution_count": 80,
   "id": "502553ff",
   "metadata": {},
   "outputs": [
    {
     "name": "stdout",
     "output_type": "stream",
     "text": [
      "Testset RMSE: 1.5159\n"
     ]
    }
   ],
   "source": [
    "test_rmse = rmse_calc(test_df, predicted_df)\n",
    "print(f\"Testset RMSE: {test_rmse}\")"
   ]
  },
  {
   "cell_type": "markdown",
   "id": "86180f53",
   "metadata": {},
   "source": [
    "As we see Trainset MRSE is 1.0488, and Testset has MRSE of 1.5159. We will try to improve this values using predictions with user and item biases.\n",
    "\n",
    "The bias-based model predicts each rating using:\n",
    "\n",
    "$$\n",
    "\\hat{y}_{ui} = \\mu + b_u + b_i\n",
    "$$\n",
    "\n",
    "Where:\n",
    "- $\\mu$: global average rating\n",
    "- $b_u$: bias for user $u$ (how they tend to rate compared to average)\n",
    "- $b_i$: bias for item $i$ (how the item is generally rated)"
   ]
  },
  {
   "cell_type": "markdown",
   "id": "be771e80",
   "metadata": {},
   "source": [
    "First, we need to calculate biases for each user and each movie"
   ]
  },
  {
   "cell_type": "code",
   "execution_count": 81,
   "id": "a4ddd1a1",
   "metadata": {},
   "outputs": [
    {
     "name": "stdout",
     "output_type": "stream",
     "text": [
      "Name\n",
      "Aiuna                  -0.954955\n",
      "Ilya                   -0.621622\n",
      "Vadim                  -1.288288\n",
      "Vladimir Storchevoy     1.045045\n",
      "Timur                   0.378378\n",
      "Gosha                   0.545045\n",
      "Bob                    -0.288288\n",
      "Kirill                  0.178378\n",
      "James                  -0.288288\n",
      "dtype: float64\n"
     ]
    }
   ],
   "source": [
    "users_means = train_df.mean(axis=1)\n",
    "\n",
    "users_bias = users_means - train_df_mean\n",
    "print(users_bias)"
   ]
  },
  {
   "cell_type": "code",
   "execution_count": 82,
   "id": "3c8ccf54",
   "metadata": {},
   "outputs": [
    {
     "name": "stdout",
     "output_type": "stream",
     "text": [
      "Gladiator2      -0.399399\n",
      "Wolfs            0.628378\n",
      "The_Substance    0.253378\n",
      "Bad_Boys4        0.878378\n",
      "The_Beekeeper   -0.496622\n",
      "Rebel_Ridge     -0.121622\n",
      "dtype: float64\n"
     ]
    },
    {
     "data": {
      "text/plain": [
       "pandas.core.series.Series"
      ]
     },
     "execution_count": 82,
     "metadata": {},
     "output_type": "execute_result"
    }
   ],
   "source": [
    "items_means = train_df.mean(axis=0)\n",
    "\n",
    "items_biases = items_means - train_df_mean\n",
    "print(items_biases)\n",
    "type(items_biases)"
   ]
  },
  {
   "cell_type": "markdown",
   "id": "c47e10b0",
   "metadata": {},
   "source": [
    "This code cell is a function to estimate ratings using bias-based model"
   ]
  },
  {
   "cell_type": "code",
   "execution_count": 83,
   "id": "f36cedbc",
   "metadata": {},
   "outputs": [],
   "source": [
    "def bias_predictor(df, users_bias, items_biases):\n",
    "    bias_predictor_df = pd.DataFrame(index=train_df.index, columns=train_df.columns)\n",
    "\n",
    "    for user in df.index:\n",
    "        for item in df.columns:\n",
    "            bias_predictor_df.at[user, item] = round(train_df_mean + users_bias[user] + items_biases[item], 4)\n",
    "    \n",
    "    return bias_predictor_df\n",
    "\n",
    "\n"
   ]
  },
  {
   "cell_type": "code",
   "execution_count": 84,
   "id": "adac86c6",
   "metadata": {},
   "outputs": [
    {
     "name": "stdout",
     "output_type": "stream",
     "text": [
      "                     Gladiator2   Wolfs The_Substance Bad_Boys4 The_Beekeeper  \\\n",
      "Name                                                                            \n",
      "Aiuna                    2.2673   3.295          2.92     3.545          2.17   \n",
      "Ilya                     2.6006  3.6284        3.2534    3.8784        2.5034   \n",
      "Vadim                    1.9339  2.9617        2.5867    3.2117        1.8367   \n",
      "Vladimir Storchevoy      4.2673   5.295          4.92     5.545          4.17   \n",
      "Timur                    3.6006  4.6284        4.2534    4.8784        3.5034   \n",
      "Gosha                    3.7673   4.795          4.42     5.045          3.67   \n",
      "Bob                      2.9339  3.9617        3.5867    4.2117        2.8367   \n",
      "Kirill                   3.4006  4.4284        4.0534    4.6784        3.3034   \n",
      "James                    2.9339  3.9617        3.5867    4.2117        2.8367   \n",
      "\n",
      "                     Rebel_Ridge  \n",
      "Name                              \n",
      "Aiuna                      2.545  \n",
      "Ilya                      2.8784  \n",
      "Vadim                     2.2117  \n",
      "Vladimir Storchevoy        4.545  \n",
      "Timur                     3.8784  \n",
      "Gosha                      4.045  \n",
      "Bob                       3.2117  \n",
      "Kirill                    3.6784  \n",
      "James                     3.2117  \n"
     ]
    }
   ],
   "source": [
    "train_bias_predicted_df = bias_predictor(train_df, users_bias, items_biases)\n",
    "print(train_bias_predicted_df)"
   ]
  },
  {
   "cell_type": "markdown",
   "id": "d3fe94c4",
   "metadata": {},
   "source": [
    "Here we get estimates for train set using bias-based model"
   ]
  },
  {
   "cell_type": "code",
   "execution_count": 85,
   "id": "98fbda2c",
   "metadata": {},
   "outputs": [
    {
     "name": "stdout",
     "output_type": "stream",
     "text": [
      "                     Gladiator2   Wolfs The_Substance Bad_Boys4 The_Beekeeper  \\\n",
      "Name                                                                            \n",
      "Aiuna                    2.2673   3.295          2.92     3.545          2.17   \n",
      "Ilya                     2.6006  3.6284        3.2534    3.8784        2.5034   \n",
      "Vadim                    1.9339  2.9617        2.5867    3.2117        1.8367   \n",
      "Vladimir Storchevoy      4.2673   5.295          4.92     5.545          4.17   \n",
      "Timur                    3.6006  4.6284        4.2534    4.8784        3.5034   \n",
      "Gosha                    3.7673   4.795          4.42     5.045          3.67   \n",
      "Bob                      2.9339  3.9617        3.5867    4.2117        2.8367   \n",
      "Kirill                   3.4006  4.4284        4.0534    4.6784        3.3034   \n",
      "James                    2.9339  3.9617        3.5867    4.2117        2.8367   \n",
      "\n",
      "                     Rebel_Ridge  \n",
      "Name                              \n",
      "Aiuna                      2.545  \n",
      "Ilya                      2.8784  \n",
      "Vadim                     2.2117  \n",
      "Vladimir Storchevoy        4.545  \n",
      "Timur                     3.8784  \n",
      "Gosha                      4.045  \n",
      "Bob                       3.2117  \n",
      "Kirill                    3.6784  \n",
      "James                     3.2117  \n"
     ]
    }
   ],
   "source": [
    "test_bias_predicted_df = bias_predictor(test_df, users_bias, items_biases)\n",
    "print(test_bias_predicted_df)"
   ]
  },
  {
   "cell_type": "code",
   "execution_count": 86,
   "id": "e10cdfed",
   "metadata": {},
   "outputs": [
    {
     "name": "stdout",
     "output_type": "stream",
     "text": [
      "0.6802\n"
     ]
    }
   ],
   "source": [
    "train_bias_rmse = rmse_calc(train_df, train_bias_predicted_df)\n",
    "print(train_bias_rmse)"
   ]
  },
  {
   "cell_type": "markdown",
   "id": "bff2df40",
   "metadata": {},
   "source": [
    "As we see bias-based model RMSE (0.6802) for trainset went down from global average RMSE (1.0488)"
   ]
  },
  {
   "cell_type": "code",
   "execution_count": 87,
   "id": "d268a7c8",
   "metadata": {},
   "outputs": [
    {
     "name": "stdout",
     "output_type": "stream",
     "text": [
      "1.0853\n"
     ]
    }
   ],
   "source": [
    "test_bias_rmse = rmse_calc(test_df, test_bias_predicted_df)\n",
    "print(test_bias_rmse)"
   ]
  },
  {
   "cell_type": "markdown",
   "id": "c9c229e0",
   "metadata": {},
   "source": [
    "Testset bias-based model RMSE (1.0853) also decreased compared with global average RMSE (1.5159)"
   ]
  },
  {
   "cell_type": "markdown",
   "id": "b395b0a4",
   "metadata": {},
   "source": [
    "## RMSE Improvement \n",
    "\n",
    "Here we calculate percentage improvement for RMSE of bias-based model\n"
   ]
  },
  {
   "cell_type": "code",
   "execution_count": 88,
   "id": "877ed251",
   "metadata": {},
   "outputs": [],
   "source": [
    "def improvement_percent(rmse_before, rmse_after):\n",
    "    return round((1 - rmse_after / rmse_before) * 100, 2)\n"
   ]
  },
  {
   "cell_type": "code",
   "execution_count": 89,
   "id": "6b7272f0",
   "metadata": {},
   "outputs": [
    {
     "name": "stdout",
     "output_type": "stream",
     "text": [
      "35.14\n"
     ]
    }
   ],
   "source": [
    "train_rmse_improvement = improvement_percent(train_rmse, train_bias_rmse)\n",
    "print(train_rmse_improvement)"
   ]
  },
  {
   "cell_type": "code",
   "execution_count": 90,
   "id": "f8dbe1c3",
   "metadata": {},
   "outputs": [
    {
     "name": "stdout",
     "output_type": "stream",
     "text": [
      "28.41\n"
     ]
    }
   ],
   "source": [
    "test_rmse_improvement = improvement_percent(test_rmse, test_bias_rmse)\n",
    "print(test_rmse_improvement)"
   ]
  },
  {
   "cell_type": "markdown",
   "id": "6d14431c",
   "metadata": {},
   "source": [
    "As we can see, the bias-based model improved the RMSE:\n",
    "\n",
    "- by 35.14%  on the training set \n",
    "- and by 28.41%  on the test set \n",
    "\n",
    "This demonstrates that accounting for user and item biases significantly enhances prediction accuracy compared to using the global average alone."
   ]
  },
  {
   "cell_type": "markdown",
   "id": "9768f197",
   "metadata": {},
   "source": [
    "Conclusion\n",
    "\n",
    "- The bias-based model typically improves prediction accuracy.\n",
    "- Also I tried to use the same calculations for randomly created toy dataset. I didn't get testset RMSE improvement, it is increased instead.\n"
   ]
  },
  {
   "cell_type": "markdown",
   "id": "55396bcc",
   "metadata": {},
   "source": [
    "Below is the plot to compare global average and bias-based models' RMSEs."
   ]
  },
  {
   "cell_type": "code",
   "execution_count": 95,
   "id": "bec078bf",
   "metadata": {},
   "outputs": [
    {
     "data": {
      "image/png": "[encoded data removed]",
      "text/plain": [
       "<Figure size 1000x600 with 1 Axes>"
      ]
     },
     "metadata": {},
     "output_type": "display_data"
    }
   ],
   "source": [
    "rmse_values = [train_rmse, train_bias_rmse, test_rmse, test_bias_rmse]\n",
    "labels = [\"Train (Global Avg model)\", \"Train (Bias-based Model)\", \"Test (Global Avg model)\", \"Test (Bias-based Model)\"]\n",
    "colors = ['#1f77b4', '#2ca02c', '#ff7f0e', '#d62728']\n",
    "\n",
    "\n",
    "plt.figure(figsize=(10, 6))\n",
    "bars = plt.bar(labels, rmse_values, color=colors)\n",
    "plt.title(\"RMSE Comparison: Global Average vs Bias-based Model\")\n",
    "plt.ylabel(\"RMSE\")\n",
    "plt.ylim(0, max(rmse_values) + 0.5)\n",
    "\n",
    "\n",
    "for bar in bars:\n",
    "    yval = bar.get_height()\n",
    "    plt.text(bar.get_x() + bar.get_width() / 2, yval + 0.02, f\"{yval:.2f}\", ha='center', va='bottom')\n",
    "\n",
    "plt.xticks(rotation=45)\n",
    "plt.tight_layout()\n",
    "plt.show()"
   ]
  }
 ],
 "metadata": {
  "kernelspec": {
   "display_name": "recommender_env",
   "language": "python",
   "name": "python3"
  },
  "language_info": {
   "codemirror_mode": {
    "name": "ipython",
    "version": 3
   },
   "file_extension": ".py",
   "mimetype": "text/x-python",
   "name": "python",
   "nbconvert_exporter": "python",
   "pygments_lexer": "ipython3",
   "version": "3.13.3"
  }
 },
 "nbformat": 4,
 "nbformat_minor": 5
}
