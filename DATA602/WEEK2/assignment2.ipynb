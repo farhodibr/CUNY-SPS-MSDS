{
 "cells": [
  {
   "cell_type": "markdown",
   "id": "018ab8c7",
   "metadata": {},
   "source": [
    "### DATA602. Assignmet #2.\n",
    "#### Farhod Ibragimov"
   ]
  },
  {
   "cell_type": "markdown",
   "id": "ddc5eedb",
   "metadata": {},
   "source": [
    "#### Q1. What will the following code display?\n",
    "numbers = [1, 2, 3, 4, 5]\n",
    "\n",
    "print(numbers[1:-5])\n",
    "\n",
    "Can you debug and fix the output?  The code should return the entire list"
   ]
  },
  {
   "cell_type": "code",
   "execution_count": null,
   "id": "b32011b5",
   "metadata": {},
   "outputs": [
    {
     "name": "stdout",
     "output_type": "stream",
     "text": [
      "[]\n",
      "[1, 2, 3, 4, 5]\n",
      "[1, 2, 3, 4, 5]\n"
     ]
    }
   ],
   "source": [
    "# Q1. What will the following code display?\n",
    "numbers = [1, 2, 3, 4, 5]\n",
    "print(numbers[1:-5])\n",
    "## Output: [] is empty array. It is because the range [1:-5] is going backwards because index [-5] is actually is [0] and it will not work\n",
    "\n",
    "# The right solution:\n",
    "print(numbers)\n",
    "# or\n",
    "print(numbers[:])\n",
    "## Output: [1, 2, 3, 4, 5]"
   ]
  },
  {
   "cell_type": "markdown",
   "id": "5be1ff40",
   "metadata": {},
   "source": [
    "Q2. Design a program that asks the user to enter a store’s sales for each day of the\n",
    " week. The amounts should be stored in a list. Use a loop to calculate the total sales for\n",
    " the week and display the result"
   ]
  },
  {
   "cell_type": "code",
   "execution_count": null,
   "id": "cd25afbb",
   "metadata": {},
   "outputs": [
    {
     "name": "stdout",
     "output_type": "stream",
     "text": [
      "Monday sales amount is: 15.0\n",
      "Tuesday sales amount is: 16.0\n",
      "Wednesday sales amount is: 18.0\n",
      "Thursday sales amount is: 17.0\n",
      "Friday sales amount is: 22.0\n",
      "Saturday sales amount is: 63.0\n",
      "Sunday sales amount is: 64.0\n",
      "\n",
      "Total weekly sales: 215.0\n",
      "215.0\n"
     ]
    }
   ],
   "source": [
    "\n",
    "'''\n",
    "Q2. Design a program that asks the user to enter a store’s sales for each day of the\n",
    " week. The amounts should be stored in a list. Use a loop to calculate the total sales for\n",
    " the week and display the result\n",
    " '''\n",
    "\n",
    "days = ['Monday', 'Tuesday', 'Wednesday', 'Thursday', 'Friday', \"Saturday\", 'Sunday']\n",
    "\n",
    "\n",
    "# function to enter sales for the days\n",
    "def enter_daily_sales():\n",
    "    #local var to store daily sales\n",
    "    daily_sales = []\n",
    "\n",
    "    #loop to enter sales for each day of the week\n",
    "    for day in days:\n",
    "        \n",
    "        #make sure that input are numbers\n",
    "        while True:\n",
    "            try: \n",
    "                sales = input(f'Enter sales amount for {day}')\n",
    "                sales = float(sales)\n",
    "                #append to the list\n",
    "                daily_sales.append(sales)\n",
    "                break\n",
    "\n",
    "            except ValueError:\n",
    "                print(\"Re-enter daily sales in valid numbers please\")\n",
    "\n",
    "    return daily_sales\n",
    "\n",
    "daily_report = enter_daily_sales()\n",
    "\n",
    "# this is the function to print each day's sales\n",
    "def daily_sales_report():\n",
    "\n",
    "    # iteratin through the lists and printing results\n",
    "    for i in range(len(days)):\n",
    "        print(f\"{days[i]} sales amount is: {daily_report[i]}\")\n",
    "\n",
    "daily_sales_report()\n",
    "\n",
    "# the function to calculate total weekly sales\n",
    "def total_weekly_sales():\n",
    "\n",
    "    #setting total sales\n",
    "    total_sales = 0\n",
    "\n",
    "    # looping through each day's sales and adding to amount from previous itteration\n",
    "    for sales in daily_report:\n",
    "        total_sales += sales\n",
    "    \n",
    "    print(f\"\\nTotal weekly sales: {total_sales}\")\n",
    "    return total_sales\n",
    "\n",
    "\n",
    "weekly_sales = total_weekly_sales()\n",
    "print(weekly_sales)"
   ]
  },
  {
   "cell_type": "markdown",
   "id": "d712924b",
   "metadata": {},
   "source": [
    "#### Q3. Create a list with at least 5 places you’d like to travel to.   Make sure the list isn’t in alphabetical order\n",
    " * Print your list in its original order.\n",
    " * Use the sort() function to arrange your list in order and reprint your list.\n",
    " * Use the sort(reverse=True) and reprint your list"
   ]
  },
  {
   "cell_type": "code",
   "execution_count": null,
   "id": "efd93dfd",
   "metadata": {},
   "outputs": [
    {
     "name": "stdout",
     "output_type": "stream",
     "text": [
      "['Hawaii', 'Japan', 'Alaska', 'Iceland', 'England']\n",
      "['Alaska', 'England', 'Hawaii', 'Iceland', 'Japan']\n",
      "['Japan', 'Iceland', 'Hawaii', 'England', 'Alaska']\n"
     ]
    }
   ],
   "source": [
    "# my travel bucket list\n",
    "travel_list = ['Hawaii', 'Japan', 'Alaska',  'Iceland', 'England']\n",
    "print(travel_list)\n",
    "\n",
    "# sorting in alphabetical order\n",
    "travel_list.sort()\n",
    "print(travel_list)\n",
    "\n",
    "# sorting in backwards alphabetical order\n",
    "travel_list.sort(reverse=True)\n",
    "print(travel_list)"
   ]
  },
  {
   "cell_type": "markdown",
   "id": "6ff587f7",
   "metadata": {},
   "source": [
    "Q4. Write a program that creates a dictionary containing course numbers and the room\n",
    " numbers of the rooms where the courses meet. The program should also create a\n",
    " dictionary containing course numbers and the names of the instructors that teach each\n",
    " course. After that, the program should let the user enter a course number, then it should\n",
    " display the course’s room number, instructor, and meeting time"
   ]
  },
  {
   "cell_type": "code",
   "execution_count": null,
   "id": "0fb66f75",
   "metadata": {},
   "outputs": [
    {
     "name": "stdout",
     "output_type": "stream",
     "text": [
      "{602: 101, 608: 102, 612: 103, 606: 104}\n",
      "{602: 'Nicholas Schettini', 608: 'Peter Kowalchuk', 612: 'Peter Kowalchuk', 606: 'Jason Bryer'}\n",
      "{602: '9:00 am', 608: '10:30 am', 612: '12:00 pm', 606: '3:00 pm'}\n",
      "Please enter the course in valid numbers\n",
      "Course 610 not available at this time. Please select again\n",
      "Course 604 not available at this time. Please select again\n",
      "Course 612 is in room 103 at 12:00 pm. Class tought by Professor Peter Kowalchuk\n"
     ]
    }
   ],
   "source": [
    "# list of lists with courses and rooms\n",
    "course_rooms = [[602, 101], [608, 102], [612, 103], [606, 104]]\n",
    "\n",
    "# list of lists with course's professors\n",
    "course_professors = [\n",
    "    [602, 'Nicholas Schettini'],\n",
    "    [608, 'Peter Kowalchuk'],\n",
    "    [612, 'Peter Kowalchuk'],\n",
    "    [606, 'Jason Bryer']\n",
    "]\n",
    "\n",
    "#list of lists with course's scheduled times\n",
    "course_sched = [[602, '9:00 am'], [608, '10:30 am'], [612, '12:00 pm'], [606, '3:00 pm']]\n",
    "\n",
    "# reusable function to create dictionaries from lists\n",
    "def create_dictionary(data_list):\n",
    "    new_dict = {course[0]:course[1] for course in data_list}\n",
    "\n",
    "    return new_dict\n",
    "\n",
    "# creating dictionaries\n",
    "course_rooms_dict = create_dictionary(course_rooms)\n",
    "course_professors_dict = create_dictionary(course_professors)\n",
    "course_sched_dict = create_dictionary(course_sched)\n",
    "print(course_rooms_dict)\n",
    "print(course_professors_dict)\n",
    "print(course_sched_dict)\n",
    "\n",
    "# extracting keys from dictionary\n",
    "courses = list(course_rooms_dict.keys())\n",
    "\n",
    "#course_selection = input(f\"Please select a course {courses}\")\n",
    "#print(course_selection)\n",
    "\n",
    "# asking user for course number and printing course information\n",
    "while True:\n",
    "    try:\n",
    "        course_selection = input(f\"Please select a course {courses}\")\n",
    "        course_selection = int(course_selection)\n",
    "\n",
    "        if course_selection in course_rooms_dict:\n",
    "            room = course_rooms_dict[course_selection]\n",
    "            time = course_sched_dict[course_selection]\n",
    "            professor = course_professors_dict[course_selection]\n",
    "            print(f\"Course {course_selection} is in room {room} at {time}. Class tought by Professor {professor}\")\n",
    "            break\n",
    "\n",
    "        else: \n",
    "            print(f\"Course {course_selection} not available at this time. Please select again\")\n",
    "\n",
    "    except:\n",
    "        print(\"Please enter the course in valid numbers\")\n",
    "\n",
    "\n"
   ]
  },
  {
   "cell_type": "markdown",
   "id": "d14507a8",
   "metadata": {},
   "source": [
    "#### Q5. Write a program that keeps names and email addresses in a dictionary as key-value pairs. The program should then demonstrate the four options:\n",
    " * look up a person’s email address,\n",
    " * add a new name and email address,\n",
    " * change an existing email address, and\n",
    " * delete an existing name and email address"
   ]
  },
  {
   "cell_type": "code",
   "execution_count": null,
   "id": "3a0c6491",
   "metadata": {},
   "outputs": [
    {
     "name": "stdout",
     "output_type": "stream",
     "text": [
      "User ibragimov already in database\n",
      "Current user's database {'ibragimov': 'farhodibr@somemail.com'}\n"
     ]
    }
   ],
   "source": [
    "# dictionary to keep user's data\n",
    "users_data = {'ibragimov': 'farhodibr@somemail.com'}\n",
    "\n",
    "# function to lookup the email by last name\n",
    "def lookup_email():\n",
    "    while True:    \n",
    "        name = input(\"Please enter user's last name\")\n",
    "\n",
    "        # this to make sure that user in database\n",
    "        if name in users_data:\n",
    "            email = users_data[name]\n",
    "            print(f\"{name}'s email is {email}\")\n",
    "            break\n",
    "        else:\n",
    "            print(f\"User {name} doesn't exist in database\")\n",
    "            break\n",
    "\n",
    "#lookup_email()\n",
    "\n",
    "# function to add a new user\n",
    "def add_user():\n",
    "    name = input(\"Please enter new user's last name\")\n",
    "    email = input(\"Plese enter user's email\")\n",
    "\n",
    "    #check if user exists. dictionaries doesn't allow to have identical keys\n",
    "    if name in users_data:\n",
    "        print(f\"User {name} already in database\")\n",
    "    else:\n",
    "        users_data[name] = email\n",
    "        print(f\"User {name} and email were added to hte database\")\n",
    "        print(users_data)\n",
    "\n",
    "#add_user()\n",
    "\n",
    "#function to change user's email\n",
    "def change_user_email():\n",
    "    name = input(\"Please enter user's last name you would like to change\")\n",
    "    \n",
    "    if name in users_data:\n",
    "        print(f\"User {name} exist in database\")\n",
    "        new_email = input(\"Please enter user's new email\")\n",
    "        users_data[name] = new_email\n",
    "    else:\n",
    "        print(f\"User with last name {name} is not in database\")\n",
    "\n",
    "#change_user_email()\n",
    "#print(users_data)\n",
    "\n",
    "def remove_user_data():\n",
    "    name = input(\"Please enter user's last name you would like to remove\")\n",
    "\n",
    "    if name in users_data:\n",
    "        print(f\"User {name} exist in database and will be deleted\")\n",
    "        \n",
    "        users_data.pop(name)\n",
    "    else:\n",
    "        print(f\"User with last name {name} is not in database\")\n",
    "\n",
    "#remove_user_data()\n",
    "#print(users_data)\n",
    "\n",
    "# menu to work with user's data\n",
    "def users_data_menu():\n",
    "    prompt = (\n",
    "            \"\\n*** Users database management options ***\\n\"\n",
    "            \"  1. Look up a user's email address\\n\"\n",
    "            \"  2. Add a new user and email address\\n\"\n",
    "            \"  3. Change an existing email address\\n\"\n",
    "            \"  4. Delete an existing user and email address\\n\"\n",
    "            \"  5. Exit the program\\n\"\n",
    "            \"\\nPlease make a choice: \"\n",
    "        )\n",
    "    \n",
    "    choice = input(prompt)\n",
    "\n",
    "    if choice == '1':\n",
    "        lookup_email()\n",
    "    elif choice == '2':\n",
    "        add_user()\n",
    "    elif choice == '3':\n",
    "        change_user_email()\n",
    "    elif choice== '4':\n",
    "        remove_user_data()\n",
    "    elif choice == '5':\n",
    "        print('Exiting.')\n",
    "\n",
    "users_data_menu()\n",
    "print(f\"Current user's database {users_data}\")\n",
    "\n",
    "\n",
    "    "
   ]
  }
 ],
 "metadata": {
  "kernelspec": {
   "display_name": "stl-recsys",
   "language": "python",
   "name": "python3"
  },
  "language_info": {
   "codemirror_mode": {
    "name": "ipython",
    "version": 3
   },
   "file_extension": ".py",
   "mimetype": "text/x-python",
   "name": "python",
   "nbconvert_exporter": "python",
   "pygments_lexer": "ipython3",
   "version": "3.11.13"
  }
 },
 "nbformat": 4,
 "nbformat_minor": 5
}
