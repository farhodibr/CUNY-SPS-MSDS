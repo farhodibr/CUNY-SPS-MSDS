{
 "cells": [
  {
   "cell_type": "markdown",
   "id": "c2529dba",
   "metadata": {},
   "source": [
    "## DATA602 Assignment #4\n",
    "Farhod Ibragimov"
   ]
  },
  {
   "cell_type": "code",
   "execution_count": 15,
   "id": "badf4317",
   "metadata": {},
   "outputs": [],
   "source": [
    "from copy import copy\n",
    "\n",
    "class BankAccount:\n",
    "    \"\"\"this is simple bank account operations\"\"\"\n",
    "    # attributes\n",
    "    def __init__(self, bankname = '', firstname = '', lastname = '', balance = 0):\n",
    "        self.bankname = bankname.capitalize()\n",
    "        self.firstname = firstname.capitalize()\n",
    "        self.lastname = lastname.capitalize()\n",
    "        if balance >= 0:\n",
    "            self.balance = balance\n",
    "        else:\n",
    "            print(\"Account balance cannot be negative\")\n",
    "\n",
    "    #method to check if balance is negative\n",
    "    def isNegative(self):\n",
    "        if self.balance < 0:\n",
    "            return f'Account balance is ${self.balance} negative'\n",
    "\n",
    "    #method to deposit    \n",
    "    def deposit(self, deposit):\n",
    "      \n",
    "        if deposit >0:       # to make sure deposit is not negative\n",
    "            self.balance += deposit\n",
    "            print(f'${deposit} was deposited \\nAccount new balsnce: ${self.balance}')\n",
    "            return self.balance\n",
    "        else:\n",
    "            print(\"Deposit amount cannot be negative or equal to zero. Please check the deposit amount\")\n",
    "\n",
    "    #method to withdraw        \n",
    "    def withdrawal(self, withdr):\n",
    "      \n",
    "        if withdr <= 0:   # to make sure withdrawal is not negative\n",
    "            print(\"Withdrawal cannot be negative or equal to zero. Please check the withdrawal amount\")\n",
    "\n",
    "        elif withdr > self.balance:  # checking if withdrawal not exceeding the balance\n",
    "            print(f\"Your withdrawal amount of ${withdr} exceeds the available balance ${self.balance}\")\n",
    "        else:\n",
    "            self.balance -= withdr\n",
    "            print(f\"After withdrawal in amount of ${withdr} your account balance is ${self.balance}\" )\n",
    "            return self.balance\n",
    "\n",
    "    #method to print account info    \n",
    "    def __str__(self):\n",
    "        s = f'Bank name: {self.bankname}.  First name: {self.firstname}.   Last name: {self.lastname}.   Current balance: ${self.balance}'\n",
    "        return s\n",
    "        \n"
   ]
  },
  {
   "cell_type": "code",
   "execution_count": 16,
   "id": "29d7f29e",
   "metadata": {},
   "outputs": [
    {
     "data": {
      "text/plain": [
       "'Bank name: Anybank.  First name: John.   Last name: Test.   Current balance: $50'"
      ]
     },
     "execution_count": 16,
     "metadata": {},
     "output_type": "execute_result"
    }
   ],
   "source": [
    "account = BankAccount('anybank', 'john', 'test',50)\n",
    "str(account)"
   ]
  },
  {
   "cell_type": "code",
   "execution_count": 17,
   "id": "183d52ed",
   "metadata": {},
   "outputs": [
    {
     "name": "stdout",
     "output_type": "stream",
     "text": [
      "After withdrawal in amount of $20 your account balance is $30\n",
      "Your withdrawal amount of $50 exceeds the available balance $30\n",
      "Withdrawal cannot be negative or equal to zero. Please check the withdrawal amount\n"
     ]
    }
   ],
   "source": [
    "account.withdrawal(20)\n",
    "account.withdrawal(50)\n",
    "account.withdrawal(-50)"
   ]
  },
  {
   "cell_type": "code",
   "execution_count": 18,
   "id": "8c802748",
   "metadata": {},
   "outputs": [
    {
     "name": "stdout",
     "output_type": "stream",
     "text": [
      "$100 was deposited \n",
      "Account new balsnce: $130\n",
      "Deposit amount cannot be negative or equal to zero. Please check the deposit amount\n"
     ]
    }
   ],
   "source": [
    "account.deposit(100)\n",
    "account.deposit(-100)"
   ]
  },
  {
   "cell_type": "code",
   "execution_count": 19,
   "id": "85d9abf4",
   "metadata": {},
   "outputs": [
    {
     "name": "stdout",
     "output_type": "stream",
     "text": [
      "After withdrawal in amount of $30 your account balance is $100\n"
     ]
    },
    {
     "data": {
      "text/plain": [
       "100"
      ]
     },
     "execution_count": 19,
     "metadata": {},
     "output_type": "execute_result"
    }
   ],
   "source": [
    "account.withdrawal(30)"
   ]
  },
  {
   "cell_type": "code",
   "execution_count": 20,
   "id": "5a2054d2",
   "metadata": {},
   "outputs": [
    {
     "name": "stdout",
     "output_type": "stream",
     "text": [
      "$50 was deposited \n",
      "Account new balsnce: $150\n"
     ]
    },
    {
     "data": {
      "text/plain": [
       "150"
      ]
     },
     "execution_count": 20,
     "metadata": {},
     "output_type": "execute_result"
    }
   ],
   "source": [
    "account.deposit(50)"
   ]
  },
  {
   "cell_type": "code",
   "execution_count": 21,
   "id": "a9260072",
   "metadata": {},
   "outputs": [
    {
     "data": {
      "text/plain": [
       "'Bank name: Anybank.  First name: John.   Last name: Test.   Current balance: $150'"
      ]
     },
     "execution_count": 21,
     "metadata": {},
     "output_type": "execute_result"
    }
   ],
   "source": [
    "str(account)"
   ]
  },
  {
   "cell_type": "code",
   "execution_count": null,
   "id": "426cf25f",
   "metadata": {},
   "outputs": [],
   "source": [
    "import math\n",
    "\n",
    "class Box:\n",
    "\n",
    "    \"\"\"this class creates a box from given length and width and has methods to change boxes\"\"\"\n",
    "\n",
    "    #attributes\n",
    "    def __init__(self, length = 0, width = 0):\n",
    "        if width < 0 or length < 0:\n",
    "            print(\"Dimensions cannot be negative\")\n",
    "        else:\n",
    "            self.length = length\n",
    "            self.width = width\n",
    "            self.area = 0\n",
    "            self.perimeter = 0\n",
    "        \n",
    "    #method to print dimensions using print()\n",
    "    def __str__(self):\n",
    "        s = f'Box({self.length}, {self.width})'\n",
    "        return s\n",
    "    \n",
    "    #method to print out the shape of box\n",
    "    def render(self):\n",
    "        for i in range(self.width):\n",
    "            for j in range(self.length):\n",
    "                if i == 0 or i == self.length - 1 or j == 0 or j == self.width -1:\n",
    "                    print('*', end='')\n",
    "                else:\n",
    "                    print(' ', end='')\n",
    "            print()\n",
    "\n",
    "    # !!!! method to return a NEW box object with doubled dimensions of original box !!!!\n",
    "    def double(self):\n",
    "        #self = copy(self)\n",
    "       \n",
    "        dbl_leng = self.length * 2\n",
    "        dbl_width = self.width * 2\n",
    "        self = Box(length=dbl_leng, width=dbl_width)\n",
    "        return self\n",
    "    \n",
    "    #method to invert dimensions\n",
    "    def invert(self):\n",
    "        invert_copy = Box()\n",
    "        invert_copy.length = self.width\n",
    "        invert_copy.width = self.length\n",
    "        self.length = invert_copy.length\n",
    "        self.width = invert_copy.width\n",
    "        return self\n",
    "    \n",
    "    #area of box\n",
    "    def get_area(self):\n",
    "        self.area = self.length * self.width\n",
    "        return self.area\n",
    "    \n",
    "    #perimeter of the box\n",
    "    def get_perimeter(self):\n",
    "        self.perimeter = (self.length + self.width) * 2\n",
    "        return self.perimeter\n",
    "    \n",
    "    #method to compare two boxes dimensions\n",
    "    def __eq__(self, other):\n",
    "        return (self.length == other.length) and (self.width == other.width)\n",
    "    \n",
    "    #prints dimensions\n",
    "    def print_dim(self):\n",
    "        return print(f\"Box dimensions: \\nlength = {self.length} \\nwidth = {self.width}\")\n",
    "    \n",
    "    #returns dimensins in a tuple\n",
    "    def get_dim(self):\n",
    "        return(self.length, self.width)\n",
    "    \n",
    "    #!!!!! returns NEW box with combined dimensions of two boxes  !!!!!\n",
    "    def combine(self, other):\n",
    "        combined_box = Box()\n",
    "        combined_box.length = self.length + other.length\n",
    "        combined_box.width = self.width + other.width\n",
    "\n",
    "        return combined_box\n",
    "    \n",
    "    # calculates diagonal between opposite corners (hypotinuse) using Pythogorean theorem\n",
    "    def get_hypot(self):\n",
    "\n",
    "        len_pow = math.pow(self.length, 2)\n",
    "        width_pow = math.pow(self.width, 2)\n",
    "\n",
    "        hypot = math.sqrt(len_pow + width_pow)\n",
    "\n",
    "        return hypot\n",
    "    "
   ]
  },
  {
   "cell_type": "code",
   "execution_count": 23,
   "id": "26ac4c33",
   "metadata": {},
   "outputs": [],
   "source": [
    "box1 = Box(5, 10)\n",
    "box2 = Box(3, 4)\n",
    "box3 = Box(5, 10)"
   ]
  },
  {
   "cell_type": "code",
   "execution_count": 24,
   "id": "134ea053",
   "metadata": {},
   "outputs": [
    {
     "name": "stdout",
     "output_type": "stream",
     "text": [
      "Box dimensions: \n",
      "length = 5 \n",
      "width = 10\n"
     ]
    }
   ],
   "source": [
    "box1.print_dim()"
   ]
  },
  {
   "cell_type": "code",
   "execution_count": 25,
   "id": "3c38c750",
   "metadata": {},
   "outputs": [
    {
     "name": "stdout",
     "output_type": "stream",
     "text": [
      "Box dimensions: \n",
      "length = 3 \n",
      "width = 4\n"
     ]
    }
   ],
   "source": [
    "box2.print_dim()"
   ]
  },
  {
   "cell_type": "code",
   "execution_count": 26,
   "id": "3b7955ea",
   "metadata": {},
   "outputs": [
    {
     "name": "stdout",
     "output_type": "stream",
     "text": [
      "Box dimensions: \n",
      "length = 5 \n",
      "width = 10\n"
     ]
    }
   ],
   "source": [
    "box3.print_dim()"
   ]
  },
  {
   "cell_type": "code",
   "execution_count": 27,
   "id": "dc21b4d8",
   "metadata": {},
   "outputs": [
    {
     "data": {
      "text/plain": [
       "False"
      ]
     },
     "execution_count": 27,
     "metadata": {},
     "output_type": "execute_result"
    }
   ],
   "source": [
    "box1 == box2"
   ]
  },
  {
   "cell_type": "code",
   "execution_count": 28,
   "id": "36f0f5a6",
   "metadata": {},
   "outputs": [
    {
     "data": {
      "text/plain": [
       "True"
      ]
     },
     "execution_count": 28,
     "metadata": {},
     "output_type": "execute_result"
    }
   ],
   "source": [
    "box1 == box3"
   ]
  },
  {
   "cell_type": "code",
   "execution_count": 29,
   "id": "a37d3ce7",
   "metadata": {},
   "outputs": [
    {
     "name": "stdout",
     "output_type": "stream",
     "text": [
      "Box dimensions: \n",
      "length = 10 \n",
      "width = 20\n"
     ]
    }
   ],
   "source": [
    "box_comb = box1.combine(box3)\n",
    "box_comb.print_dim()"
   ]
  },
  {
   "cell_type": "code",
   "execution_count": 30,
   "id": "f52031e2",
   "metadata": {},
   "outputs": [
    {
     "name": "stdout",
     "output_type": "stream",
     "text": [
      "Box dimensions: \n",
      "length = 6 \n",
      "width = 8\n"
     ]
    }
   ],
   "source": [
    "box_double = box2.double()\n",
    "box_double.print_dim()"
   ]
  },
  {
   "cell_type": "code",
   "execution_count": 31,
   "id": "83e930be",
   "metadata": {},
   "outputs": [
    {
     "name": "stdout",
     "output_type": "stream",
     "text": [
      "Box dimensions: \n",
      "length = 8 \n",
      "width = 14\n"
     ]
    }
   ],
   "source": [
    "box_comb1 = box2.combine(box1)\n",
    "box_comb1.print_dim()"
   ]
  }
 ],
 "metadata": {
  "kernelspec": {
   "display_name": "stl-recsys",
   "language": "python",
   "name": "python3"
  },
  "language_info": {
   "codemirror_mode": {
    "name": "ipython",
    "version": 3
   },
   "file_extension": ".py",
   "mimetype": "text/x-python",
   "name": "python",
   "nbconvert_exporter": "python",
   "pygments_lexer": "ipython3",
   "version": "3.11.13"
  }
 },
 "nbformat": 4,
 "nbformat_minor": 5
}
