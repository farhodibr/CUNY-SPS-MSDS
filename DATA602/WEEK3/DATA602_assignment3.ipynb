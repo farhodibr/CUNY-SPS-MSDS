{
 "cells": [
  {
   "cell_type": "markdown",
   "id": "125358bd",
   "metadata": {},
   "source": [
    "\n",
    "Q1: Write a program that prompts the user for a meal: breakfast, lunch, or dinner. Then using if statements and else statements print the user a message recommending a meal. For example, if the meal was breakfast, you could say something like, “How about some bacon and eggs?”\n",
    "The user may enter something else in, but you only have to respond to breakfast, lunch, or dinner.\n"
   ]
  },
  {
   "cell_type": "code",
   "execution_count": 57,
   "id": "46cc9eeb",
   "metadata": {},
   "outputs": [
    {
     "name": "stdout",
     "output_type": "stream",
     "text": [
      "Suggestion for lunch is soup and burger\n"
     ]
    }
   ],
   "source": [
    "# dictionary of choices and suggestions\n",
    "food_ideas = {'breakfast': 'scrambled eggs and coffee',\n",
    "        'lunch': 'soup and burger',\n",
    "        'dinner': 'pizza and wings'}\n",
    "\n",
    "def user_input(menu):\n",
    "\n",
    "    ''' \n",
    "    this function asks to type in one of choices \n",
    "    '''\n",
    "    # input choice\n",
    "    user_choice = input(f\"Choices: breakfast, lunch, dinner. Please type-in your choice: \")\n",
    "\n",
    "    return user_choice\n",
    "\n",
    "\n",
    "\n",
    "def idea_suggestion():\n",
    "\n",
    "    ''' \n",
    "    this function takes input from the user, and if it matches one of the keys in food_ideas returns suggestion\n",
    "    '''\n",
    "    # counter for tries\n",
    "    counter = 3\n",
    "\n",
    "    # loop for counter for tries \n",
    "    while counter > 0:\n",
    "        user_choice_input = user_input(food_ideas)\n",
    "\n",
    "        # verify input's value\n",
    "        if user_choice_input in food_ideas.keys():\n",
    "\n",
    "            # if input matches one of the keys print suggestion\n",
    "            print(f\"Suggestion for {user_choice_input} is {food_ideas[user_choice_input]}\")\n",
    "            break\n",
    "        else:\n",
    "            counter -= 1\n",
    "            if counter > 0:\n",
    "                print(f\"Sorry, your input should match one of the choices\"\n",
    "                      f\"You can try {counter} more times\")\n",
    "                \n",
    "            else:\n",
    "                print(\"Try again later\") \n",
    "\n",
    "idea_suggestion()\n",
    "\n",
    "\n",
    "    "
   ]
  },
  {
   "cell_type": "markdown",
   "id": "14e4d8ef",
   "metadata": {},
   "source": [
    "Q2: The mailroom has asked you to design a simple payroll program that calculates a student employee’s gross pay, including any overtime wages. If any employee works over 20 hours in a week, the mailroom pays them 1.5 times their regular hourly pay rate for all hours over 20. \n",
    "You should take in the user’s input for the number of hours worked, and their rate of pay.\n",
    "\n"
   ]
  },
  {
   "cell_type": "code",
   "execution_count": 62,
   "id": "500f3675",
   "metadata": {},
   "outputs": [
    {
     "name": "stdout",
     "output_type": "stream",
     "text": [
      "Payrate $20.0\n",
      "Total hours :25.0 \n",
      " Standard pay: 400.0 \n",
      "Overtime hours: 5.0 \n",
      " Overtime pay: 150.0 \n",
      "Paycheck amount is $550.0\n"
     ]
    }
   ],
   "source": [
    "\n",
    "\n",
    "def payroll_calculator():\n",
    "\n",
    "    ''' \n",
    "    this function take student's hourly rate and calculates paycheck including if overtime is occuried\n",
    "    '''\n",
    "    # enter student's hours and payrate in float\n",
    "    hours_worked = float(input(\"Please enter amount of worked hours\"))\n",
    "    hourly_pay = float(input(\"Please enter rate of pay\"))\n",
    "    print(f\"Payrate ${hourly_pay}\")\n",
    "    # amount of hours with standard payrate\n",
    "    standard_hours = 20\n",
    "    \n",
    "    # defaults for paycheck and output message\n",
    "    weekly_pay = 0\n",
    "    message = ''\n",
    "\n",
    "    # make sure values are non-negative\n",
    "    if hours_worked < 0 or hourly_pay <0:\n",
    "        message = \"Hours and payrate cannot be negative\"\n",
    "    else: # if not negative\n",
    "        if hours_worked > standard_hours:    # calculate paycheck if overtime is occured\n",
    "            \n",
    "            overtime_hours = hours_worked - standard_hours\n",
    "            ovrt_pay_hour = hourly_pay * 1.5\n",
    "            \n",
    "            std_pay_total = hourly_pay * standard_hours\n",
    "            ovrt_pay_total = overtime_hours * ovrt_pay_hour\n",
    "\n",
    "            weekly_pay = std_pay_total + ovrt_pay_total\n",
    "            message = f\"Total hours :{hours_worked} \\n Standard pay: {std_pay_total} \\nOvertime hours: {overtime_hours} \\n Overtime pay: {ovrt_pay_total} \\nPaycheck amount is ${weekly_pay}\"\n",
    "        else: # calculate regular paycheck if no overtime\n",
    "            weekly_pay = hours_worked * hourly_pay\n",
    "            message = f\"Total hours: {hours_worked} \\nPayrate: {hourly_pay} \\n Employees check is {weekly_pay}\"\n",
    "\n",
    "    return weekly_pay, message\n",
    "\n",
    "paycheck, message = payroll_calculator()\n",
    "\n",
    "#print(paycheck)\n",
    "print(message)\n",
    "\n",
    "    \n",
    "\n"
   ]
  },
  {
   "cell_type": "markdown",
   "id": "1de05785",
   "metadata": {},
   "source": [
    "Q3: Write a function named times_ten. The function should accept an argument and display the product of its argument multiplied times 10.\n"
   ]
  },
  {
   "cell_type": "code",
   "execution_count": null,
   "id": "4c577991",
   "metadata": {},
   "outputs": [
    {
     "name": "stdout",
     "output_type": "stream",
     "text": [
      "5 multiplied times 10 is equal to 50\n"
     ]
    }
   ],
   "source": [
    "def times_ten(number):\n",
    "    ''' function takes an argument and multiplies its value times 10'''\n",
    "    outcome = number * 10\n",
    "    print(f'{number} multiplied times 10 is equal to {outcome}')\n",
    "\n",
    "times_ten(5)"
   ]
  },
  {
   "cell_type": "markdown",
   "id": "cc12bc73",
   "metadata": {},
   "source": [
    "SQ4: Find the errors, debug the program, and then execute to show the output.\n",
    "\n",
    "```python\n",
    "def main()\n",
    "\n",
    "      Calories1 = input( \"How many calories are in the first food?\")\n",
    "\n",
    "      Calories2 = input( \"How many calories are in the first food?\")\n",
    "\n",
    "      showCalories(calories1, calories2)\n",
    "\n",
    "def showCalories()   \n",
    "\n",
    "   print(“The total calories you ate today”, format(calories1 + calories2,.2f))\n",
    "\n",
    "```\n",
    "In the cell below i fixed the errors and execution flow of code execution.  "
   ]
  },
  {
   "cell_type": "code",
   "execution_count": null,
   "id": "16f27f50",
   "metadata": {},
   "outputs": [
    {
     "name": "stdout",
     "output_type": "stream",
     "text": [
      "The total calories you ate today 40.00\n"
     ]
    }
   ],
   "source": [
    "def showCalories(input1, input2):   \n",
    "   \n",
    "   ''' function calculates and prints total amount of calories with two decimals '''\n",
    "\n",
    "   print(\"The total calories you ate today\", format(input1 + input2, '.2f'))\n",
    "\n",
    "def main():\n",
    "      ''' \n",
    "      function takes calories inputs and passes it to showCalories()\n",
    "\n",
    "      '''\n",
    "      \n",
    "      calories1 = int(input( \"How many calories are in the first food?\"))\n",
    "\n",
    "      calories2 = int(input( \"How many calories are in the first food?\"))\n",
    "\n",
    "      return showCalories(calories1, calories2)\n",
    "\n",
    "main()"
   ]
  },
  {
   "cell_type": "markdown",
   "id": "5f84c284",
   "metadata": {},
   "source": [
    "Q5: Write a program that uses any loop (while or for) that calculates the total of the following series of numbers:\n",
    "         1/30 + 2/29 + 3/28 ............. + 30/1\n"
   ]
  },
  {
   "cell_type": "code",
   "execution_count": null,
   "id": "88f0b560",
   "metadata": {},
   "outputs": [
    {
     "name": "stdout",
     "output_type": "stream",
     "text": [
      "[1, 2, 3, 4, 5, 6, 7, 8, 9, 10, 11, 12, 13, 14, 15, 16, 17, 18, 19, 20, 21, 22, 23, 24, 25, 26, 27, 28, 29, 30]\n",
      "[30, 29, 28, 27, 26, 25, 24, 23, 22, 21, 20, 19, 18, 17, 16, 15, 14, 13, 12, 11, 10, 9, 8, 7, 6, 5, 4, 3, 2, 1]\n",
      "(93.84460105853213, 93.84460105853213, 93.84460105853213)\n"
     ]
    }
   ],
   "source": [
    "def calculate_special(num):\n",
    "\n",
    "    ''' function uses two different methods to calculate the total of the following series of numbers:\n",
    "         1/30 + 2/29 + 3/28 ............. + 30/1, \n",
    "         and as a bonus calculation also done with numpy.\n",
    "         Each method returns same total value'''\n",
    "    \n",
    "    # creating list with lambda function\n",
    "    num_range_list = list(map(lambda x: x+1, range(num)))\n",
    "\n",
    "    # reverse of the list\n",
    "    num_range_list_reversed = num_range_list[: : -1]\n",
    "    print(num_range_list)\n",
    "    print(num_range_list_reversed)\n",
    "\n",
    "    # sum defaults\n",
    "    total = 0\n",
    "    total1 = 0\n",
    "\n",
    "    # method 1\n",
    "    for i, n in zip(num_range_list, num_range_list_reversed):\n",
    "        \n",
    "        total += i / n\n",
    "\n",
    "    # method 2\n",
    "    for i in num_range_list:\n",
    "        index = num_range_list.index(i)\n",
    "\n",
    "        total1 += i / num_range_list_reversed[index]\n",
    "\n",
    "    # method 3 with numpy\n",
    "    import numpy as np\n",
    "\n",
    "    num_range_list_np = np.array(num_range_list)\n",
    "    num_range_list_reversed_np = np.flip(num_range_list_np)\n",
    "\n",
    "    num_range_list_divided = num_range_list_np / num_range_list_reversed_np\n",
    "\n",
    "    total3 = float(np.sum(num_range_list_divided))\n",
    "    # print(num_range_list_np, num_range_list_reversed_np, num_range_list_divided)\n",
    "\n",
    "    \n",
    "\n",
    "    return total, total1, total3\n",
    "\n",
    "\n",
    "\n",
    "\n",
    "print(calculate_special(30))"
   ]
  },
  {
   "cell_type": "markdown",
   "id": "b96a20c7",
   "metadata": {},
   "source": [
    "Q6: Write a function that computes the area of a triangle given its base and height.\n",
    "\n",
    "The formula for an area of a triangle is:\n",
    "\n",
    "AREA = 1/2 * BASE * HEIGHT\n",
    "\n",
    "For example, if the base was 5 and the height was 4, the area would be 10.\n",
    "\n",
    "triangle_area(5, 4)   # should print 10\n"
   ]
  },
  {
   "cell_type": "code",
   "execution_count": null,
   "id": "038c1f9a",
   "metadata": {},
   "outputs": [
    {
     "name": "stdout",
     "output_type": "stream",
     "text": [
      "Area of trianle with base of 5 and height of 4 is equal to 10.0\n"
     ]
    }
   ],
   "source": [
    "def triangle_area(base, height):\n",
    "\n",
    "    ''' function calculates and prints area of triangle '''\n",
    "    \n",
    "    area = base * height * 1/2\n",
    "    print(f'Area of trianle with base of {base} and height of {height} is equal to {area}')\n",
    "\n",
    "triangle_area(5, 4)"
   ]
  }
 ],
 "metadata": {
  "kernelspec": {
   "display_name": "stl-recsys",
   "language": "python",
   "name": "python3"
  },
  "language_info": {
   "codemirror_mode": {
    "name": "ipython",
    "version": 3
   },
   "file_extension": ".py",
   "mimetype": "text/x-python",
   "name": "python",
   "nbconvert_exporter": "python",
   "pygments_lexer": "ipython3",
   "version": "3.11.13"
  }
 },
 "nbformat": 4,
 "nbformat_minor": 5
}
